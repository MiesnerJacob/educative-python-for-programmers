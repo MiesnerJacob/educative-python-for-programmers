{
 "cells": [
  {
   "cell_type": "markdown",
   "metadata": {},
   "source": [
    "# Polymorphism"
   ]
  },
  {
   "cell_type": "markdown",
   "metadata": {},
   "source": [
    "## What is Polymorphism?\n",
    "\n",
    "The word Polymorphism is a combination of two Greek words, Poly meaning many and Morph meaning forms.\n",
    "\n",
    "In programming, polymorphism refers to the same object exhibiting different forms and behaviors.\n",
    "\n",
    "For example, take the Shape Class. The exact shape you choose can be anything. It can be a rectangle, a circle, a polygon, or a diamond. While, these are all shapes, their properties are different. This is called polymorphism."
   ]
  },
  {
   "cell_type": "markdown",
   "metadata": {},
   "source": [
    "## Implementing Polymorphism Using Methods"
   ]
  },
  {
   "cell_type": "code",
   "execution_count": 2,
   "metadata": {},
   "outputs": [
    {
     "name": "stdout",
     "output_type": "stream",
     "text": [
      "Sides of a rectangle are 4\n",
      "Area of rectangle is: 60\n",
      "Sides of a circle are 0\n",
      "Area of circle is: 153.958\n"
     ]
    }
   ],
   "source": [
    "# Both the Recatangle and Circle class have a method for getArea that achieve the \n",
    "# same thing but go about it different ways\n",
    "\n",
    "class Rectangle():\n",
    "\n",
    "    # initializer\n",
    "    def __init__(self, width=0, height=0):\n",
    "        self.width = width\n",
    "        self.height = height\n",
    "        self.sides = 4\n",
    "\n",
    "    # method to calculate Area\n",
    "    def getArea(self):\n",
    "        return (self.width * self.height)\n",
    "\n",
    "\n",
    "class Circle():\n",
    "    # initializer\n",
    "    def __init__(self, radius=0):\n",
    "        self.radius = radius\n",
    "        self.sides = 0\n",
    "\n",
    "    # method to calculate Area\n",
    "    def getArea(self):\n",
    "        return (self.radius * self.radius * 3.142)\n",
    "\n",
    "\n",
    "shapes = [Rectangle(6, 10), Circle(7)]\n",
    "print(\"Sides of a rectangle are\", str(shapes[0].sides))\n",
    "print(\"Area of rectangle is:\", str(shapes[0].getArea()))\n",
    "\n",
    "print(\"Sides of a circle are\", str(shapes[1].sides))\n",
    "print(\"Area of circle is:\", str(shapes[1].getArea()))"
   ]
  },
  {
   "cell_type": "markdown",
   "metadata": {},
   "source": [
    "## Implementing Polymorphism Using Inheritance & Method Overriding\n",
    "\n",
    "Method overriding is the process of redefining a parent class’s method in a subclass."
   ]
  },
  {
   "cell_type": "code",
   "execution_count": 5,
   "metadata": {},
   "outputs": [
    {
     "name": "stdout",
     "output_type": "stream",
     "text": [
      "Area of rectangle is: 60\n",
      "Area of circle is: 153.958\n"
     ]
    }
   ],
   "source": [
    "# Inherit getArea function from parent class and then override it in the children classes\n",
    "\n",
    "class Shape:\n",
    "    def __init__(self):  # initializing sides of all shapes to 0\n",
    "        self.sides = 0\n",
    "\n",
    "    def getArea(self):\n",
    "        pass\n",
    "\n",
    "\n",
    "class Rectangle(Shape):  # derived from Shape class\n",
    "    # initializer\n",
    "    def __init__(self, width=0, height=0):\n",
    "        self.width = width\n",
    "        self.height = height\n",
    "        self.sides = 4\n",
    "\n",
    "    # method to calculate Area\n",
    "    def getArea(self):\n",
    "        return (self.width * self.height)\n",
    "\n",
    "\n",
    "class Circle(Shape):  # derived from Shape class\n",
    "    # initializer\n",
    "    def __init__(self, radius=0):\n",
    "        self.radius = radius\n",
    "\n",
    "    # method to calculate Area\n",
    "    def getArea(self):\n",
    "        return (self.radius * self.radius * 3.142)\n",
    "\n",
    "\n",
    "shapes = [Rectangle(6, 10), Circle(7)]\n",
    "print(\"Area of rectangle is:\", str(shapes[0].getArea()))\n",
    "print(\"Area of circle is:\", str(shapes[1].getArea()))"
   ]
  },
  {
   "cell_type": "markdown",
   "metadata": {},
   "source": [
    "## Operator Overloading"
   ]
  },
  {
   "cell_type": "code",
   "execution_count": 6,
   "metadata": {},
   "outputs": [
    {
     "name": "stdout",
     "output_type": "stream",
     "text": [
      "real of obj3: 5\n",
      "imag of obj3: 12\n",
      "real of obj4: 1\n",
      "imag of obj4: 2\n"
     ]
    }
   ],
   "source": [
    "class Com:\n",
    "    def __init__(self, real=0, imag=0):\n",
    "        self.real = real\n",
    "        self.imag = imag\n",
    "\n",
    "    def __add__(self, other):  # overloading the `+` operator\n",
    "        temp = Com(self.real + other.real, self.imag + other.imag)\n",
    "        return temp\n",
    "\n",
    "    def __sub__(self, other):  # overloading the `-` operator\n",
    "        temp = Com(self.real - other.real, self.imag - other.imag)\n",
    "        return temp\n",
    "\n",
    "\n",
    "obj1 = Com(3, 7)\n",
    "obj2 = Com(2, 5)\n",
    "\n",
    "obj3 = obj1 + obj2\n",
    "obj4 = obj1 - obj2\n",
    "\n",
    "print(\"real of obj3:\", obj3.real)\n",
    "print(\"imag of obj3:\", obj3.imag)\n",
    "print(\"real of obj4:\", obj4.real)\n",
    "print(\"imag of obj4:\", obj4.imag)"
   ]
  },
  {
   "cell_type": "markdown",
   "metadata": {},
   "source": [
    "## Implementing Polymorphism Using Duck Typing\n",
    "\n",
    "Duck typing extends the concept of dynamic typing in Python.\n",
    "\n",
    "Dynamic typing means that we can change the type of an object later in the code."
   ]
  },
  {
   "cell_type": "code",
   "execution_count": 7,
   "metadata": {},
   "outputs": [
    {
     "name": "stdout",
     "output_type": "stream",
     "text": [
      "Woof woof\n",
      "Meow meow\n"
     ]
    }
   ],
   "source": [
    "# Duck Typing Example\n",
    "\n",
    "class Dog:\n",
    "    def Speak(self):\n",
    "        print(\"Woof woof\")\n",
    "\n",
    "\n",
    "class Cat:\n",
    "    def Speak(self):\n",
    "        print(\"Meow meow\")\n",
    "\n",
    "\n",
    "class AnimalSound:\n",
    "    def Sound(self, animal):\n",
    "        animal.Speak()\n",
    "\n",
    "\n",
    "sound = AnimalSound()\n",
    "dog = Dog()\n",
    "cat = Cat()\n",
    "\n",
    "sound.Sound(dog)\n",
    "sound.Sound(cat)"
   ]
  },
  {
   "cell_type": "markdown",
   "metadata": {},
   "source": [
    "## Abstract Base Classes\n",
    "\n",
    "Abstract base classes define a set of methods and properties that a class must implement in order to be considered a duck-type instance of that class.\n",
    "\n",
    "Note: Methods with @abstractmethod decorators must be defined in the child class. Abstract methods must be defined in child classes for proper implementation of inheritance."
   ]
  },
  {
   "cell_type": "code",
   "execution_count": 11,
   "metadata": {},
   "outputs": [
    {
     "ename": "TypeError",
     "evalue": "Can't instantiate abstract class Square with abstract methods area, perimeter",
     "output_type": "error",
     "traceback": [
      "\u001b[0;31m---------------------------------------------------------------------------\u001b[0m",
      "\u001b[0;31mTypeError\u001b[0m                                 Traceback (most recent call last)",
      "\u001b[0;32m<ipython-input-11-520b9246c3c6>\u001b[0m in \u001b[0;36m<module>\u001b[0;34m\u001b[0m\n\u001b[1;32m     17\u001b[0m \u001b[0;34m\u001b[0m\u001b[0m\n\u001b[1;32m     18\u001b[0m \u001b[0;34m\u001b[0m\u001b[0m\n\u001b[0;32m---> 19\u001b[0;31m \u001b[0msquare\u001b[0m \u001b[0;34m=\u001b[0m \u001b[0mSquare\u001b[0m\u001b[0;34m(\u001b[0m\u001b[0;36m4\u001b[0m\u001b[0;34m)\u001b[0m\u001b[0;34m\u001b[0m\u001b[0;34m\u001b[0m\u001b[0m\n\u001b[0m\u001b[1;32m     20\u001b[0m \u001b[0;31m# this will code will not compile since abstarct methods have not been\u001b[0m\u001b[0;34m\u001b[0m\u001b[0;34m\u001b[0m\u001b[0;34m\u001b[0m\u001b[0m\n\u001b[1;32m     21\u001b[0m \u001b[0;31m# defined in the child class, Square\u001b[0m\u001b[0;34m\u001b[0m\u001b[0;34m\u001b[0m\u001b[0;34m\u001b[0m\u001b[0m\n",
      "\u001b[0;31mTypeError\u001b[0m: Can't instantiate abstract class Square with abstract methods area, perimeter"
     ]
    }
   ],
   "source": [
    "from abc import ABC, abstractmethod\n",
    "\n",
    "\n",
    "class Shape(ABC):  # Shape is a child class of ABC\n",
    "    @abstractmethod\n",
    "    def area(self):\n",
    "        pass\n",
    "\n",
    "    @abstractmethod\n",
    "    def perimeter(self):\n",
    "        pass\n",
    "\n",
    "\n",
    "class Square(Shape):\n",
    "    def __init__(self, length):\n",
    "        self.length = length\n",
    "\n",
    "\n",
    "square = Square(4)\n",
    "# this will code will not compile since abstarct methods have not been\n",
    "# defined in the child class, Square"
   ]
  },
  {
   "cell_type": "markdown",
   "metadata": {},
   "source": [
    "## Challenge 1: Override a Method Using the Super Function\n",
    "\n",
    "When a method in a derived class overrides a method in a base class, it is still possible to call the overridden method using the super() function.\n",
    "\n",
    "If you write super().method(), it will call the method that was defined in the superclass. You are given a partially completed code in the editor. Modify the code so that it returns the following:\n",
    "\n",
    "circle = XShape(\"Circle\")\n",
    "\n",
    "circle.getName()\n",
    "\n",
    "\"Shape, Circle\"\n",
    "\n",
    "The Shape class is already prepended in the code and it has one property, sname and one method, getName(). getName() returns sname."
   ]
  },
  {
   "cell_type": "code",
   "execution_count": 30,
   "metadata": {},
   "outputs": [
    {
     "data": {
      "text/plain": [
       "'Shape, Circle'"
      ]
     },
     "execution_count": 30,
     "metadata": {},
     "output_type": "execute_result"
    }
   ],
   "source": [
    "class Shape:\n",
    "    sname = \"Shape\"\n",
    "\n",
    "    def getName(self): \n",
    "        return self.sname\n",
    "\n",
    "\n",
    "class XShape(Shape):\n",
    "    def __init__(self, name):\n",
    "        self.xsname = name\n",
    "\n",
    "    def getName(self):  # overriden method\n",
    "        return (super().getName() + \", \" + self.xsname)\n",
    "\n",
    "circle = XShape(\"Circle\")\n",
    "circle.getName()"
   ]
  },
  {
   "cell_type": "markdown",
   "metadata": {},
   "source": [
    "## Challenge 2: Implement an Animal Class\n",
    "\n",
    "The code below has:\n",
    "\n",
    "A parent class named Animal.\n",
    "\n",
    "Inside it, define:\n",
    "* name\n",
    "* sound\n",
    "* __init__()\n",
    "* Animal_details() function\n",
    "    * It prints the name and sound of the Animal.\n",
    "* Then there are two derived classes*\n",
    "\n",
    "* Dog class\n",
    "    * Has a property family\n",
    "    * Has an initializer that calls the parent class initializer in it through super()\n",
    "    * Has an overridden method named Animal_details() which prints detail of the dog.\n",
    "\n",
    "* Sheep class\n",
    "    * Has a property color\n",
    "    * Has an initializer that calls the parent class initializer in it through super()\n",
    "    * Has an overridden method named Animal_details(), which prints detail of the sheep\n",
    "\n",
    "* The derived classes should override the Animal_details() method defined in the Animal class.\n",
    "    * The overridden method in Dog class should print the value of family as well as the name and sound.\n",
    "    * The overridden method in Sheep class should print the value of color as well as the name and sound"
   ]
  },
  {
   "cell_type": "code",
   "execution_count": 35,
   "metadata": {},
   "outputs": [
    {
     "name": "stdout",
     "output_type": "stream",
     "text": [
      "Name: Coco\n",
      "Sound: Bark!\n",
      "Family: Pug\n",
      "\n",
      "\n",
      "Name: Baba\n",
      "Sound: Baaaah!\n",
      "Color: Whilte\n"
     ]
    }
   ],
   "source": [
    "class Animal:\n",
    "    def __init__(self,name,sound):\n",
    "        self.name = name\n",
    "        self.sound = sound\n",
    "\n",
    "    def Animal_details(self):\n",
    "        print(\"Name: \" + self.name)\n",
    "        print(\"Sound: \" + self.sound)\n",
    "\n",
    "class Dog(Animal):\n",
    "    def __init__(self, name, sound, family):\n",
    "        super().__init__(name, sound)\n",
    "        self.family = family\n",
    "\n",
    "    def Animal_details(self):\n",
    "        super().Animal_details()\n",
    "        print(\"Family: \" + self.family)\n",
    "        \n",
    "\n",
    "class Sheep(Animal):\n",
    "    def __init__(self, name, sound, color):\n",
    "        super().__init__(name, sound)\n",
    "        self.color = color\n",
    "\n",
    "    def Animal_details(self):\n",
    "        super().Animal_details()\n",
    "        print(\"Color: \" + self.color)\n",
    "        \n",
    "dog = Dog(\"Coco\", \"Bark!\", \"Pug\")        \n",
    "dog.Animal_details()\n",
    "print('\\n')\n",
    "\n",
    "sheep = Sheep(\"Baba\", \"Baaaah!\", \"Whilte\")        \n",
    "sheep.Animal_details()"
   ]
  }
 ],
 "metadata": {
  "kernelspec": {
   "display_name": "Python 3",
   "language": "python",
   "name": "python3"
  },
  "language_info": {
   "codemirror_mode": {
    "name": "ipython",
    "version": 3
   },
   "file_extension": ".py",
   "mimetype": "text/x-python",
   "name": "python",
   "nbconvert_exporter": "python",
   "pygments_lexer": "ipython3",
   "version": "3.8.6"
  },
  "toc": {
   "base_numbering": 1,
   "nav_menu": {},
   "number_sections": true,
   "sideBar": true,
   "skip_h1_title": false,
   "title_cell": "Table of Contents",
   "title_sidebar": "Contents",
   "toc_cell": false,
   "toc_position": {},
   "toc_section_display": true,
   "toc_window_display": false
  }
 },
 "nbformat": 4,
 "nbformat_minor": 4
}
