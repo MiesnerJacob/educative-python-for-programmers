{
 "cells": [
  {
   "cell_type": "markdown",
   "metadata": {},
   "source": [
    "# Introduction to Object-Oriented Programming"
   ]
  },
  {
   "cell_type": "markdown",
   "metadata": {},
   "source": [
    "Object-oriented programming, also referred to as OOP, is a programming paradigm that includes, or relies, on the concept of classes and objects."
   ]
  },
  {
   "cell_type": "markdown",
   "metadata": {},
   "source": [
    "The basic idea of OOP is to divide a sophisticated program into a number of objects that talk to each other."
   ]
  },
  {
   "cell_type": "markdown",
   "metadata": {},
   "source": [
    "## Anatomy of objects and classes\n",
    "Objects may contain data in the form of fields (variables) and methods to operate on that data.\n",
    "\n",
    "Think about real-world objects around you. What are the characteristics of these objects? Take the example of a light bulb. It has a state, which means that it is either on or off. It also has a behavior, which means that when it is turned on it lights up, and when it is turned off, it does not produce any light. To conclude this, one can say:\n",
    "\n",
    "* Objects are a collection of data and their behaviors.\n",
    "\n",
    "But where do these objects come from?\n",
    "\n",
    "The answer to the above question is classes.\n",
    "\n",
    "* A class can be thought of as a blueprint for creating objects."
   ]
  },
  {
   "cell_type": "code",
   "execution_count": 2,
   "metadata": {},
   "outputs": [],
   "source": [
    "# Defining a class\n",
    "\n",
    "class CLS:\n",
    "    def __init__(self):\n",
    "        pass"
   ]
  }
 ],
 "metadata": {
  "kernelspec": {
   "display_name": "Python 3",
   "language": "python",
   "name": "python3"
  },
  "language_info": {
   "codemirror_mode": {
    "name": "ipython",
    "version": 3
   },
   "file_extension": ".py",
   "mimetype": "text/x-python",
   "name": "python",
   "nbconvert_exporter": "python",
   "pygments_lexer": "ipython3",
   "version": "3.8.6"
  },
  "toc": {
   "base_numbering": 1,
   "nav_menu": {},
   "number_sections": true,
   "sideBar": true,
   "skip_h1_title": false,
   "title_cell": "Table of Contents",
   "title_sidebar": "Contents",
   "toc_cell": false,
   "toc_position": {},
   "toc_section_display": true,
   "toc_window_display": false
  }
 },
 "nbformat": 4,
 "nbformat_minor": 4
}
