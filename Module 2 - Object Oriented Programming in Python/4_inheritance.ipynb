{
 "cells": [
  {
   "cell_type": "markdown",
   "metadata": {},
   "source": [
    "# Inheritance"
   ]
  },
  {
   "cell_type": "markdown",
   "metadata": {},
   "source": [
    "## What is Inheritance?\n",
    "\n",
    "Inheritance provides a way to create a new class from an existing class. The new class is a specialized version of the existing class such that it inherits all the non-private fields (variables) and methods of the existing class. The existing class is used as a starting point or as a base to create the new class."
   ]
  },
  {
   "cell_type": "markdown",
   "metadata": {},
   "source": [
    "## The Syntax and Terminology\n",
    "\n",
    "In inheritance, in order to create a new class based on an existing class, we use the following terminology:\n",
    "\n",
    "Parent Class (Super Class or Base Class): This class allows the reuse of its public properties in another class.\n",
    "Child Class (Sub Class or Derived Class): This class inherits or extends the superclass."
   ]
  },
  {
   "cell_type": "code",
   "execution_count": 2,
   "metadata": {},
   "outputs": [],
   "source": [
    "# Inheritance Example\n",
    "\n",
    "class ParentClass:\n",
    "    pass # attributes of the parent class\n",
    "\n",
    "\n",
    "class ChildClass(ParentClass):\n",
    "    pass # attributes of the child class"
   ]
  },
  {
   "cell_type": "code",
   "execution_count": 3,
   "metadata": {},
   "outputs": [
    {
     "name": "stdout",
     "output_type": "stream",
     "text": [
      "Manufacturer: Suzuki\n",
      "Color: Grey\n",
      "Model: 2015\n",
      "Doors: 4\n"
     ]
    }
   ],
   "source": [
    "# Example of a Car class inheriting a Vehicle class\n",
    "\n",
    "class Vehicle:\n",
    "    def __init__(self, make, color, model):\n",
    "        self.make = make\n",
    "        self.color = color\n",
    "        self.model = model\n",
    "\n",
    "    def printDetails(self):\n",
    "        print(\"Manufacturer:\", self.make)\n",
    "        print(\"Color:\", self.color)\n",
    "        print(\"Model:\", self.model)\n",
    "\n",
    "\n",
    "class Car(Vehicle):\n",
    "    def __init__(self, make, color, model, doors):\n",
    "        # calling the constructor from parent class\n",
    "        Vehicle.__init__(self, make, color, model)\n",
    "        self.doors = doors\n",
    "\n",
    "    def printCarDetails(self):\n",
    "        self.printDetails()\n",
    "        print(\"Doors:\", self.doors)\n",
    "\n",
    "\n",
    "obj1 = Car(\"Suzuki\", \"Grey\", \"2015\", 4)\n",
    "obj1.printCarDetails()"
   ]
  },
  {
   "cell_type": "markdown",
   "metadata": {},
   "source": [
    "## The Super Function\n",
    "\n",
    "The use of super() comes into play when we implement inheritance. It is used in a child class to refer to the parent class without explicitly naming it. "
   ]
  },
  {
   "cell_type": "code",
   "execution_count": 4,
   "metadata": {},
   "outputs": [
    {
     "name": "stdout",
     "output_type": "stream",
     "text": [
      "Fuel cap from the Vehicle Class: 90\n",
      "Fuel cap from the Car Class: 50\n"
     ]
    }
   ],
   "source": [
    "# Acess parent class attributes\n",
    "\n",
    "class Vehicle:  # defining the parent class\n",
    "    fuelCap = 90\n",
    "\n",
    "\n",
    "class Car(Vehicle):  # defining the child class\n",
    "    fuelCap = 50\n",
    "\n",
    "    def display(self):\n",
    "        # accessing fuelCap from the Vehicle class using super()\n",
    "        print(\"Fuel cap from the Vehicle Class:\", super().fuelCap)\n",
    "\n",
    "        # accessing fuelCap from the Car class using self\n",
    "        print(\"Fuel cap from the Car Class:\", self.fuelCap)\n",
    "\n",
    "\n",
    "obj1 = Car()  # creating a car object\n",
    "obj1.display()  # calling the Car class method display()"
   ]
  },
  {
   "cell_type": "code",
   "execution_count": 5,
   "metadata": {},
   "outputs": [
    {
     "name": "stdout",
     "output_type": "stream",
     "text": [
      "I am from the Vehicle Class\n",
      "I am from the Car Class\n"
     ]
    }
   ],
   "source": [
    "# Access parent class methods\n",
    "\n",
    "class Vehicle:  # defining the parent class\n",
    "    def display(self):  # defining display method in the parent class\n",
    "        print(\"I am from the Vehicle Class\")\n",
    "\n",
    "\n",
    "class Car(Vehicle):  # defining the child class\n",
    "    # defining display method in the child class\n",
    "    def display(self):\n",
    "        super().display()\n",
    "        print(\"I am from the Car Class\")\n",
    "\n",
    "\n",
    "obj1 = Car()  # creating a car object\n",
    "obj1.display()  # calling the Car class method display()"
   ]
  },
  {
   "cell_type": "code",
   "execution_count": 6,
   "metadata": {},
   "outputs": [
    {
     "name": "stdout",
     "output_type": "stream",
     "text": [
      "1\n",
      "2\n",
      "3\n"
     ]
    }
   ],
   "source": [
    "# using super() in the initializer\n",
    "\n",
    "class ParentClass():\n",
    "    def __init__(self, a, b):\n",
    "        self.a = a\n",
    "        self.b = b\n",
    "\n",
    "\n",
    "class ChildClass(ParentClass):\n",
    "    def __init__(self, a, b, c):\n",
    "        super().__init__(a, b)\n",
    "        self.c = c\n",
    "\n",
    "\n",
    "obj = ChildClass(1, 2, 3)\n",
    "print(obj.a)\n",
    "print(obj.b)\n",
    "print(obj.c)"
   ]
  },
  {
   "cell_type": "code",
   "execution_count": 7,
   "metadata": {},
   "outputs": [
    {
     "name": "stdout",
     "output_type": "stream",
     "text": [
      "Manufacturer: Suzuki\n",
      "Color: Grey\n",
      "Model: 2015\n",
      "Door: 4\n"
     ]
    }
   ],
   "source": [
    "# another example of using super() in the initializer\n",
    "\n",
    "class Vehicle:\n",
    "    def __init__(self, make, color, model):\n",
    "        self.make = make\n",
    "        self.color = color\n",
    "        self.model = model\n",
    "\n",
    "    def printDetails(self):\n",
    "        print(\"Manufacturer:\", self.make)\n",
    "        print(\"Color:\", self.color)\n",
    "        print(\"Model:\", self.model)\n",
    "\n",
    "\n",
    "class Car(Vehicle):\n",
    "    def __init__(self, make, color, model, doors):\n",
    "        super().__init__(make, color, model)\n",
    "        self.doors = doors\n",
    "\n",
    "    def printCarDetails(self):\n",
    "        self.printDetails()\n",
    "        print(\"Door:\", self.doors)\n",
    "\n",
    "\n",
    "obj1 = Car(\"Suzuki\", \"Grey\", \"2015\", 4)\n",
    "obj1.printCarDetails()"
   ]
  },
  {
   "cell_type": "markdown",
   "metadata": {},
   "source": [
    "## Types of Inheritance\n",
    "\n",
    "Based upon parent classes and child classes, there exists the following five types of inheritance:\n",
    "\n",
    "1. Single\n",
    "2. Multi-level\n",
    "3. Hierarchical\n",
    "4. Multiple\n",
    "5. Hybrid"
   ]
  },
  {
   "cell_type": "code",
   "execution_count": 8,
   "metadata": {},
   "outputs": [
    {
     "name": "stdout",
     "output_type": "stream",
     "text": [
      "Top speed is set to 220\n",
      "Trunk is now open.\n"
     ]
    }
   ],
   "source": [
    "# Single inheritance\n",
    "\n",
    "class Vehicle:  # parent class\n",
    "    def setTopSpeed(self, speed):  # defining the set\n",
    "        self.topSpeed = speed\n",
    "        print(\"Top speed is set to\", self.topSpeed)\n",
    "\n",
    "\n",
    "class Car(Vehicle):  # child class\n",
    "    def openTrunk(self):\n",
    "        print(\"Trunk is now open.\")\n",
    "\n",
    "\n",
    "corolla = Car()  # creating an object of the Car class\n",
    "corolla.setTopSpeed(220)  # accessing methods from the parent class\n",
    "corolla.openTrunk()  # accessing method from its own class"
   ]
  },
  {
   "cell_type": "code",
   "execution_count": 9,
   "metadata": {},
   "outputs": [
    {
     "name": "stdout",
     "output_type": "stream",
     "text": [
      "Top speed is set to 220\n",
      "Trunk is now open.\n",
      "Hybrid mode is now switched on.\n"
     ]
    }
   ],
   "source": [
    "# Multi-level inheritance\n",
    "\n",
    "class Vehicle:  # parent class\n",
    "    def setTopSpeed(self, speed):  # defining the set\n",
    "        self.topSpeed = speed\n",
    "        print(\"Top speed is set to\", self.topSpeed)\n",
    "\n",
    "\n",
    "class Car(Vehicle):  # child class of Vehicle\n",
    "    def openTrunk(self):\n",
    "        print(\"Trunk is now open.\")\n",
    "\n",
    "\n",
    "class Hybrid(Car):  # child class of Car\n",
    "    def turnOnHybrid(self):\n",
    "        print(\"Hybrid mode is now switched on.\")\n",
    "\n",
    "\n",
    "priusPrime = Hybrid()  # creating an object of the Hybrid class\n",
    "priusPrime.setTopSpeed(220)  # accessing methods from the parent class\n",
    "priusPrime.openTrunk()  # accessing method from the parent class\n",
    "priusPrime.turnOnHybrid()  # accessing method from the child class|"
   ]
  },
  {
   "cell_type": "code",
   "execution_count": 10,
   "metadata": {},
   "outputs": [
    {
     "name": "stdout",
     "output_type": "stream",
     "text": [
      "Top speed is set to 220\n",
      "Top speed is set to 180\n"
     ]
    }
   ],
   "source": [
    "# Hierarchical inheritance\n",
    "\n",
    "class Vehicle:  # parent class\n",
    "    def setTopSpeed(self, speed):  # defining the set\n",
    "        self.topSpeed = speed\n",
    "        print(\"Top speed is set to\", self.topSpeed)\n",
    "\n",
    "\n",
    "class Car(Vehicle):  # child class of Vehicle\n",
    "    pass\n",
    "\n",
    "\n",
    "class Truck(Vehicle):  # child class of Vehicle\n",
    "    pass\n",
    "\n",
    "\n",
    "corolla = Car()  # creating an object of the Car class\n",
    "corolla.setTopSpeed(220)  # accessing methods from the parent class\n",
    "\n",
    "volvo = Truck()  # creating an object of the Truck class\n",
    "volvo.setTopSpeed(180)  # accessing methods from the parent class"
   ]
  },
  {
   "cell_type": "code",
   "execution_count": 11,
   "metadata": {},
   "outputs": [
    {
     "name": "stdout",
     "output_type": "stream",
     "text": [
      "Tank Capacity: 20 Litres\n",
      "Charge Capacity: 250 W\n"
     ]
    }
   ],
   "source": [
    "# Multiple inheritance\n",
    "\n",
    "class CombustionEngine():  \n",
    "    def setTankCapacity(self, tankCapacity):\n",
    "        self.tankCapacity = tankCapacity\n",
    "\n",
    "\n",
    "class ElectricEngine():  \n",
    "    def setChargeCapacity(self, chargeCapacity):\n",
    "        self.chargeCapacity = chargeCapacity\n",
    "\n",
    "# Child class inherited from CombustionEngine and ElectricEngine\n",
    "class HybridEngine(CombustionEngine, ElectricEngine):\n",
    "    def printDetails(self):\n",
    "        print(\"Tank Capacity:\", self.tankCapacity)\n",
    "        print(\"Charge Capacity:\", self.chargeCapacity)\n",
    "\n",
    "car = HybridEngine()\n",
    "car.setChargeCapacity(\"250 W\")\n",
    "car.setTankCapacity(\"20 Litres\")\n",
    "car.printDetails()"
   ]
  },
  {
   "cell_type": "code",
   "execution_count": 12,
   "metadata": {},
   "outputs": [
    {
     "name": "stdout",
     "output_type": "stream",
     "text": [
      "Power: 2000 CC\n",
      "Tank Capacity: 20 Litres\n",
      "Charge Capacity: 250 W\n"
     ]
    }
   ],
   "source": [
    "# Hybrid inheritance\n",
    "\n",
    "class Engine:  # Parent class\n",
    "    def setPower(self, power):\n",
    "        self.power = power\n",
    "\n",
    "\n",
    "class CombustionEngine(Engine):  # Child class inherited from Engine\n",
    "    def setTankCapacity(self, tankCapacity):\n",
    "        self.tankCapacity = tankCapacity\n",
    "\n",
    "\n",
    "class ElectricEngine(Engine):  # Child class inherited from Engine\n",
    "    def setChargeCapacity(self, chargeCapacity):\n",
    "        self.chargeCapacity = chargeCapacity\n",
    "\n",
    "# Child class inherited from CombustionEngine and ElectricEngine\n",
    "\n",
    "\n",
    "class HybridEngine(CombustionEngine, ElectricEngine):\n",
    "    def printDetails(self):\n",
    "        print(\"Power:\", self.power)\n",
    "        print(\"Tank Capacity:\", self.tankCapacity)\n",
    "        print(\"Charge Capacity:\", self.chargeCapacity)\n",
    "\n",
    "\n",
    "car = HybridEngine()\n",
    "car.setPower(\"2000 CC\")\n",
    "car.setChargeCapacity(\"250 W\")\n",
    "car.setTankCapacity(\"20 Litres\")\n",
    "car.printDetails()"
   ]
  },
  {
   "cell_type": "markdown",
   "metadata": {},
   "source": [
    "## Advantages of Inheritance\n",
    "\n",
    "* Reusability: Inheritance makes the code reusable.\n",
    "* Code Modification: No need to edit code in multiple places\n",
    "* Entensibility: Using inheritance, one can extend the base class as per the requirements of the derived class. It provides an easy way to upgrade or enhance specific parts of a product without changing the core attributes. \n",
    "* Data hiding: The base class can keep some data private so that the derived class cannot alter it. This concept is called encapsulation, and it has already been discussed in the previous chapter."
   ]
  },
  {
   "cell_type": "markdown",
   "metadata": {},
   "source": [
    "## Challenge 1: Implement a Banking Account\n",
    "\n",
    "Implement the basic structure of a parent class, Account, and a child class, SavingsAccount. Implement properties as instance variables, and set them to None or 0.\n",
    "\n",
    "Account has the following properties:\n",
    "\n",
    "* title\n",
    "* balance\n",
    "\n",
    "SavingsAccount has the following properties:\n",
    "\n",
    "* interestRate\n",
    "\n",
    "Create an initializer for Account class. Implement properties as instance variables, and set them to None or 0. Create an initializer for the SavingsAccount class using the initializer of the Account class."
   ]
  },
  {
   "cell_type": "code",
   "execution_count": 13,
   "metadata": {},
   "outputs": [],
   "source": [
    "class Account:\n",
    "    def __init__(self, title=None, balance=None):\n",
    "        self.title = title\n",
    "        self.balance = balance\n",
    "\n",
    "\n",
    "class SavingsAccount(Account):\n",
    "    def __init__(self, title=None, balance=None, interestRate=None):\n",
    "        super().__init__(title, balance)\n",
    "        self.interestRate = interestRate"
   ]
  },
  {
   "cell_type": "markdown",
   "metadata": {},
   "source": [
    "## Challenge 2: Handling a Bank Account\n",
    "\n",
    "In this challenge, we will be extending the previous challenge and implementing methods in the parent class and its corresponding child class.\n",
    "\n",
    "1. In the Account class, implement the getBalance() method that returns balance. \n",
    "2. In the Account class, implement the deposit(amount) method that adds amount to the balance. It does not return anything. \n",
    "3. In the Account class, implement the withdrawal(amount) method that subtracts the amount from the balance. It does not return anything. \n",
    "4. In the SavingsAccount class, implement an interestAmount() method that returns the interest amount of the current balance. "
   ]
  },
  {
   "cell_type": "code",
   "execution_count": 14,
   "metadata": {},
   "outputs": [],
   "source": [
    "class Account:\n",
    "    def __init__(self, title=None, balance=0):\n",
    "        self.title = title\n",
    "        self.balance = balance\n",
    "\n",
    "    def withdrawal(self, amount):\n",
    "        self.balance -= amount\n",
    "\n",
    "    def deposit(self, amount):\n",
    "        self.balance += amount\n",
    "\n",
    "    def getBalance(self):\n",
    "        return self.balance\n",
    "\n",
    "\n",
    "class SavingsAccount(Account):\n",
    "    def __init__(self, title=None, balance=0, interestRate=0):\n",
    "        super().__init__(title, balance)\n",
    "        self.interestRate = interestRate\n",
    "\n",
    "    def interestAmount(self):\n",
    "        return (self.interestRate * self.balance) / 100\n",
    "\n",
    "\n",
    "# code to test - do not edit this\n",
    "demo1 = SavingsAccount(\"Mark\", 2000, 5)  # initializing a SavingsAccount object"
   ]
  }
 ],
 "metadata": {
  "kernelspec": {
   "display_name": "Python 3",
   "language": "python",
   "name": "python3"
  },
  "language_info": {
   "codemirror_mode": {
    "name": "ipython",
    "version": 3
   },
   "file_extension": ".py",
   "mimetype": "text/x-python",
   "name": "python",
   "nbconvert_exporter": "python",
   "pygments_lexer": "ipython3",
   "version": "3.8.6"
  },
  "toc": {
   "base_numbering": 1,
   "nav_menu": {},
   "number_sections": true,
   "sideBar": true,
   "skip_h1_title": false,
   "title_cell": "Table of Contents",
   "title_sidebar": "Contents",
   "toc_cell": false,
   "toc_position": {},
   "toc_section_display": true,
   "toc_window_display": false
  }
 },
 "nbformat": 4,
 "nbformat_minor": 4
}
