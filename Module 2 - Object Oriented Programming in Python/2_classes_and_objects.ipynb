{
 "cells": [
  {
   "cell_type": "markdown",
   "metadata": {},
   "source": [
    "# Classes and objects"
   ]
  },
  {
   "cell_type": "markdown",
   "metadata": {},
   "source": [
    "## Declaring a class in python"
   ]
  },
  {
   "cell_type": "code",
   "execution_count": 2,
   "metadata": {},
   "outputs": [],
   "source": [
    "class ClassName:\n",
    "    pass"
   ]
  },
  {
   "cell_type": "markdown",
   "metadata": {},
   "source": [
    "## Implementing properties/attributes in a class"
   ]
  },
  {
   "cell_type": "code",
   "execution_count": 4,
   "metadata": {},
   "outputs": [],
   "source": [
    "# Defining properties as None\n",
    "\n",
    "class Employee:\n",
    "    # defining the properties and assigning them none\n",
    "    ID = None\n",
    "    salary = None\n",
    "    department = None"
   ]
  },
  {
   "cell_type": "code",
   "execution_count": 7,
   "metadata": {},
   "outputs": [
    {
     "name": "stdout",
     "output_type": "stream",
     "text": [
      "ID = 3789\n",
      "Salary 2500\n",
      "Department: Human Resources\n"
     ]
    }
   ],
   "source": [
    "# Defining properties with values\n",
    "\n",
    "class Employee:\n",
    "    # defining the properties and assigning values to them\n",
    "    ID = 3789\n",
    "    salary = 2500\n",
    "    department = \"Human Resources\"\n",
    "\n",
    "\n",
    "# cerating an object of the Employee class\n",
    "Steve = Employee()\n",
    "\n",
    "# printing properties of Steve - an object of the Employee class\n",
    "print(\"ID =\", Steve.ID)\n",
    "print(\"Salary\", Steve.salary)\n",
    "print(\"Department:\", Steve.department)"
   ]
  },
  {
   "cell_type": "code",
   "execution_count": 8,
   "metadata": {},
   "outputs": [
    {
     "name": "stdout",
     "output_type": "stream",
     "text": [
      "ID = 3789\n",
      "Salary 2500\n",
      "Department: Human Resources\n",
      "Title: Manager\n"
     ]
    }
   ],
   "source": [
    "# Defining properties outside of the Class\n",
    "\n",
    "class Employee:\n",
    "    # defining the properties and assigning them None\n",
    "    ID = None\n",
    "    salary = None\n",
    "    department = None\n",
    "\n",
    "\n",
    "# cerating an object of the Employee class\n",
    "Steve = Employee()\n",
    "\n",
    "# assigning values to properties of Steve - an object of the Employee class\n",
    "Steve.ID = 3789\n",
    "Steve.salary = 2500\n",
    "Steve.department = \"Human Resources\"\n",
    "# creating a new attribute for Steve\n",
    "Steve.title = \"Manager\"\n",
    "\n",
    "# Printing properties of Steve\n",
    "print(\"ID =\", Steve.ID)\n",
    "print(\"Salary\", Steve.salary)\n",
    "print(\"Department:\", Steve.department)\n",
    "print(\"Title:\", Steve.title)"
   ]
  },
  {
   "cell_type": "markdown",
   "metadata": {},
   "source": [
    "## Initializing Objects"
   ]
  },
  {
   "cell_type": "code",
   "execution_count": 9,
   "metadata": {},
   "outputs": [
    {
     "name": "stdout",
     "output_type": "stream",
     "text": [
      "ID : 3789\n",
      "Salary : 2500\n",
      "Department : Human Resources\n"
     ]
    }
   ],
   "source": [
    "# Defining initializers\n",
    "\n",
    "class Employee:\n",
    "    # defining the properties and assigning them None\n",
    "    def __init__(self, ID, salary, department):\n",
    "        self.ID = ID\n",
    "        self.salary = salary\n",
    "        self.department = department\n",
    "\n",
    "\n",
    "# creating an object of the Employee class with default parameters\n",
    "Steve = Employee(3789, 2500, \"Human Resources\")\n",
    "\n",
    "# Printing properties of Steve\n",
    "print(\"ID :\", Steve.ID)\n",
    "print(\"Salary :\", Steve.salary)\n",
    "print(\"Department :\", Steve.department)"
   ]
  },
  {
   "cell_type": "code",
   "execution_count": 10,
   "metadata": {},
   "outputs": [
    {
     "name": "stdout",
     "output_type": "stream",
     "text": [
      "Steve\n",
      "ID : None\n",
      "Salary : 0\n",
      "Department : None\n",
      "Mark\n",
      "ID : 3789\n",
      "Salary : 2500\n",
      "Department : Human Resources\n"
     ]
    }
   ],
   "source": [
    "# Initializer with optional parameters\n",
    "\n",
    "class Employee:\n",
    "    # defining the properties and assigning None to them\n",
    "    def __init__(self, ID=None, salary=0, department=None):\n",
    "        self.ID = ID\n",
    "        self.salary = salary\n",
    "        self.department = department\n",
    "\n",
    "\n",
    "# creating an object of the Employee class with default parameters\n",
    "Steve = Employee()\n",
    "Mark = Employee(\"3789\", 2500, \"Human Resources\")\n",
    "\n",
    "# Printing properties of Steve and Mark\n",
    "print(\"Steve\")\n",
    "print(\"ID :\", Steve.ID)\n",
    "print(\"Salary :\", Steve.salary)\n",
    "print(\"Department :\", Steve.department)\n",
    "print(\"Mark\")\n",
    "print(\"ID :\", Mark.ID)\n",
    "print(\"Salary :\", Mark.salary)\n",
    "print(\"Department :\", Mark.department)\n"
   ]
  },
  {
   "cell_type": "markdown",
   "metadata": {},
   "source": [
    "## Class and Instance Variables"
   ]
  },
  {
   "cell_type": "code",
   "execution_count": 11,
   "metadata": {
    "scrolled": true
   },
   "outputs": [
    {
     "name": "stdout",
     "output_type": "stream",
     "text": [
      "Name: Mark\n",
      "Team Name: Liverpool\n",
      "Name: Steve\n",
      "Team Name: Liverpool\n"
     ]
    }
   ],
   "source": [
    "# Defining both class and instance variables\n",
    "\n",
    "class Player:\n",
    "    teamName = 'Liverpool'  # class variables\n",
    "\n",
    "    def __init__(self, name):\n",
    "        self.name = name  # creating instance variables\n",
    "\n",
    "\n",
    "p1 = Player('Mark')\n",
    "p2 = Player('Steve')\n",
    "\n",
    "print(\"Name:\", p1.name)\n",
    "print(\"Team Name:\", p1.teamName)\n",
    "print(\"Name:\", p2.name)\n",
    "print(\"Team Name:\", p2.teamName)"
   ]
  },
  {
   "cell_type": "code",
   "execution_count": 12,
   "metadata": {},
   "outputs": [
    {
     "name": "stdout",
     "output_type": "stream",
     "text": [
      "Name: Mark\n",
      "Team Members:\n",
      "['Mark', 'Steve']\n",
      "\n",
      "Name: Steve\n",
      "Team Members:\n",
      "['Mark', 'Steve']\n"
     ]
    }
   ],
   "source": [
    "# Using class variables smartly\n",
    "\n",
    "class Player:\n",
    "    teamName = 'Liverpool'      # class variables\n",
    "    teamMembers = []\n",
    "\n",
    "    def __init__(self, name):\n",
    "        self.name = name        # creating instance variables\n",
    "        self.formerTeams = []\n",
    "        self.teamMembers.append(self.name)\n",
    "\n",
    "\n",
    "p1 = Player('Mark')\n",
    "p2 = Player('Steve')\n",
    "\n",
    "print(\"Name:\", p1.name)\n",
    "print(\"Team Members:\")\n",
    "print(p1.teamMembers)\n",
    "print(\"\")\n",
    "print(\"Name:\", p2.name)\n",
    "print(\"Team Members:\")\n",
    "print(p2.teamMembers)"
   ]
  },
  {
   "cell_type": "markdown",
   "metadata": {},
   "source": [
    "## Implementing Methods in a Class"
   ]
  },
  {
   "cell_type": "code",
   "execution_count": 13,
   "metadata": {
    "scrolled": true
   },
   "outputs": [
    {
     "name": "stdout",
     "output_type": "stream",
     "text": [
      "ID = 3789\n",
      "Salary 2500\n",
      "Department: Human Resources\n",
      "Tax paid by Steve: 500.0\n",
      "Salary per day of Steve 83.33333333333333\n"
     ]
    }
   ],
   "source": [
    "# Implementing methods in a class\n",
    "\n",
    "class Employee:\n",
    "    # defining the initializer\n",
    "    def __init__(self, ID=None, salary=None, department=None):\n",
    "        self.ID = ID\n",
    "        self.salary = salary\n",
    "        self.department = department\n",
    "\n",
    "    def tax(self):\n",
    "        return (self.salary * 0.2)\n",
    "\n",
    "    def salaryPerDay(self):\n",
    "        return (self.salary / 30)\n",
    "\n",
    "\n",
    "# initializing an object of the Employee class\n",
    "Steve = Employee(3789, 2500, \"Human Resources\")\n",
    "\n",
    "# Printing properties of Steve\n",
    "print(\"ID =\", Steve.ID)\n",
    "print(\"Salary\", Steve.salary)\n",
    "print(\"Department:\", Steve.department)\n",
    "print(\"Tax paid by Steve:\", Steve.tax())\n",
    "print(\"Salary per day of Steve\", Steve.salaryPerDay())\n"
   ]
  },
  {
   "cell_type": "code",
   "execution_count": 14,
   "metadata": {},
   "outputs": [
    {
     "name": "stdout",
     "output_type": "stream",
     "text": [
      "Demo 1\n",
      "a = 1\n",
      "b = 2\n",
      "c = 3\n",
      "d = 5\n",
      "e = None\n",
      "\n",
      "\n",
      "Demo 2\n",
      "a = 1\n",
      "b = 2\n",
      "c = 3\n",
      "d = 4\n",
      "e = None\n",
      "\n",
      "\n",
      "Demo 3\n",
      "a = 1\n",
      "b = 2\n",
      "c = 3\n",
      "d = 4\n",
      "e = 5\n"
     ]
    }
   ],
   "source": [
    "# Method overloading\n",
    "## Overloading refers to making a method perform different operations based on the nature of its arguments.\n",
    "\n",
    "class Employee:\n",
    "    # defining the properties and assigning them None to the\n",
    "    def __init__(self, ID=None, salary=None, department=None):\n",
    "        self.ID = ID\n",
    "        self.salary = salary\n",
    "        self.department = department\n",
    "\n",
    "    # method overloading\n",
    "    def demo(self, a, b, c, d=5, e=None):\n",
    "        print(\"a =\", a)\n",
    "        print(\"b =\", b)\n",
    "        print(\"c =\", c)\n",
    "        print(\"d =\", d)\n",
    "        print(\"e =\", e)\n",
    "\n",
    "    def tax(self, title=None):\n",
    "        return (self.salary * 0.2)\n",
    "\n",
    "    def salaryPerDay(self):\n",
    "        return (self.salary / 30)\n",
    "\n",
    "\n",
    "# cerating an object of the Employee class\n",
    "Steve = Employee()\n",
    "\n",
    "# Printing properties of Steve\n",
    "print(\"Demo 1\")\n",
    "Steve.demo(1, 2, 3)\n",
    "print(\"\\n\")\n",
    "\n",
    "print(\"Demo 2\")\n",
    "Steve.demo(1, 2, 3, 4)\n",
    "print(\"\\n\")\n",
    "\n",
    "print(\"Demo 3\")\n",
    "Steve.demo(1, 2, 3, 4, 5)"
   ]
  },
  {
   "cell_type": "markdown",
   "metadata": {},
   "source": [
    "## Class Methods and Static methods"
   ]
  },
  {
   "cell_type": "code",
   "execution_count": 18,
   "metadata": {},
   "outputs": [
    {
     "name": "stdout",
     "output_type": "stream",
     "text": [
      "Liverpool\n"
     ]
    }
   ],
   "source": [
    "# Implementing a class method\n",
    "# Class methods work with class variables and are accessible using the class name rather than its object. Since all class objects share the class variables, class methods are used to access and modify class variables.\n",
    "\n",
    "# class MyClass:\n",
    "#     classVariable = 'educative'\n",
    "\n",
    "#     @classmethod\n",
    "#     def demo(cls):\n",
    "#         return cls.classVariable\n",
    "\n",
    "class Player:\n",
    "    teamName = 'Liverpool'  # class variables\n",
    "\n",
    "    def __init__(self, name):\n",
    "        self.name = name  # creating instance variables\n",
    "\n",
    "    @classmethod\n",
    "    def getTeamName(cls):\n",
    "        return cls.teamName\n",
    "\n",
    "\n",
    "print(Player.getTeamName())"
   ]
  },
  {
   "cell_type": "code",
   "execution_count": 19,
   "metadata": {},
   "outputs": [
    {
     "name": "stdout",
     "output_type": "stream",
     "text": [
      "I am a static method.\n",
      "I am a static method.\n"
     ]
    }
   ],
   "source": [
    "# Implementing a static method\n",
    "# Static methods are methods that are usually limited to class only and not their objects. They have no direct relation to class variables or instance variables. \n",
    "\n",
    "# class MyClass:\n",
    "\n",
    "#     @staticmethod\n",
    "#     def demo()\n",
    "#         print(\"I am a static method\")\n",
    "\n",
    "\n",
    "class Player:\n",
    "    teamName = 'Liverpool'  # class variables\n",
    "\n",
    "    def __init__(self, name):\n",
    "        self.name = name  # creating instance variables\n",
    "\n",
    "    @staticmethod\n",
    "    def demo():\n",
    "        print(\"I am a static method.\")\n",
    "\n",
    "\n",
    "p1 = Player('lol')\n",
    "p1.demo()\n",
    "Player.demo()"
   ]
  },
  {
   "cell_type": "markdown",
   "metadata": {},
   "source": [
    "## Access Modifiers"
   ]
  },
  {
   "cell_type": "code",
   "execution_count": 20,
   "metadata": {},
   "outputs": [
    {
     "name": "stdout",
     "output_type": "stream",
     "text": [
      "ID: 3789\n",
      "2500\n"
     ]
    }
   ],
   "source": [
    "# Public attributes\n",
    "## Public attributes are those that can be accessed inside the class and outside the class.\n",
    "\n",
    "class Employee:\n",
    "    def __init__(self, ID, salary):\n",
    "        # all properties are public\n",
    "        self.ID = ID\n",
    "        self.salary = salary\n",
    "\n",
    "    def displayID(self):\n",
    "        print(\"ID:\", self.ID)\n",
    "\n",
    "\n",
    "Steve = Employee(3789, 2500)\n",
    "Steve.displayID()\n",
    "print(Steve.salary)"
   ]
  },
  {
   "cell_type": "code",
   "execution_count": 2,
   "metadata": {},
   "outputs": [
    {
     "name": "stdout",
     "output_type": "stream",
     "text": [
      "ID: 3789\n"
     ]
    },
    {
     "ename": "AttributeError",
     "evalue": "'Employee' object has no attribute '__salary'",
     "output_type": "error",
     "traceback": [
      "\u001b[0;31m---------------------------------------------------------------------------\u001b[0m",
      "\u001b[0;31mAttributeError\u001b[0m                            Traceback (most recent call last)",
      "\u001b[0;32m<ipython-input-2-52334202013a>\u001b[0m in \u001b[0;36m<module>\u001b[0;34m\u001b[0m\n\u001b[1;32m     11\u001b[0m \u001b[0mSteve\u001b[0m \u001b[0;34m=\u001b[0m \u001b[0mEmployee\u001b[0m\u001b[0;34m(\u001b[0m\u001b[0;36m3789\u001b[0m\u001b[0;34m,\u001b[0m \u001b[0;36m2500\u001b[0m\u001b[0;34m)\u001b[0m\u001b[0;34m\u001b[0m\u001b[0;34m\u001b[0m\u001b[0m\n\u001b[1;32m     12\u001b[0m \u001b[0mprint\u001b[0m\u001b[0;34m(\u001b[0m\u001b[0;34m\"ID:\"\u001b[0m\u001b[0;34m,\u001b[0m \u001b[0mSteve\u001b[0m\u001b[0;34m.\u001b[0m\u001b[0mID\u001b[0m\u001b[0;34m)\u001b[0m\u001b[0;34m\u001b[0m\u001b[0;34m\u001b[0m\u001b[0m\n\u001b[0;32m---> 13\u001b[0;31m \u001b[0mprint\u001b[0m\u001b[0;34m(\u001b[0m\u001b[0;34m\"Salary:\"\u001b[0m\u001b[0;34m,\u001b[0m \u001b[0mSteve\u001b[0m\u001b[0;34m.\u001b[0m\u001b[0m__salary\u001b[0m\u001b[0;34m)\u001b[0m  \u001b[0;31m# this will cause an error\u001b[0m\u001b[0;34m\u001b[0m\u001b[0;34m\u001b[0m\u001b[0m\n\u001b[0m",
      "\u001b[0;31mAttributeError\u001b[0m: 'Employee' object has no attribute '__salary'"
     ]
    }
   ],
   "source": [
    "# Private attributes\n",
    "## Private attributes are those that can be accessed only from inside the class and not outside the class.\n",
    "\n",
    "\n",
    "class Employee:\n",
    "    def __init__(self, ID, salary):\n",
    "        self.ID = ID\n",
    "        self.__salary = salary  # salary is a private property\n",
    "\n",
    "\n",
    "Steve = Employee(3789, 2500)\n",
    "print(\"ID:\", Steve.ID)\n",
    "print(\"Salary:\", Steve.__salary)  # this will cause an error"
   ]
  },
  {
   "cell_type": "code",
   "execution_count": 3,
   "metadata": {},
   "outputs": [
    {
     "name": "stdout",
     "output_type": "stream",
     "text": [
      "Salary: 2500\n"
     ]
    },
    {
     "ename": "AttributeError",
     "evalue": "'Employee' object has no attribute '__displayID'",
     "output_type": "error",
     "traceback": [
      "\u001b[0;31m---------------------------------------------------------------------------\u001b[0m",
      "\u001b[0;31mAttributeError\u001b[0m                            Traceback (most recent call last)",
      "\u001b[0;32m<ipython-input-3-01cf5d2c8a99>\u001b[0m in \u001b[0;36m<module>\u001b[0;34m\u001b[0m\n\u001b[1;32m     13\u001b[0m \u001b[0mSteve\u001b[0m \u001b[0;34m=\u001b[0m \u001b[0mEmployee\u001b[0m\u001b[0;34m(\u001b[0m\u001b[0;36m3789\u001b[0m\u001b[0;34m,\u001b[0m \u001b[0;36m2500\u001b[0m\u001b[0;34m)\u001b[0m\u001b[0;34m\u001b[0m\u001b[0;34m\u001b[0m\u001b[0m\n\u001b[1;32m     14\u001b[0m \u001b[0mSteve\u001b[0m\u001b[0;34m.\u001b[0m\u001b[0mdisplaySalary\u001b[0m\u001b[0;34m(\u001b[0m\u001b[0;34m)\u001b[0m\u001b[0;34m\u001b[0m\u001b[0;34m\u001b[0m\u001b[0m\n\u001b[0;32m---> 15\u001b[0;31m \u001b[0mSteve\u001b[0m\u001b[0;34m.\u001b[0m\u001b[0m__displayID\u001b[0m\u001b[0;34m(\u001b[0m\u001b[0;34m)\u001b[0m  \u001b[0;31m# this will generate an error\u001b[0m\u001b[0;34m\u001b[0m\u001b[0;34m\u001b[0m\u001b[0m\n\u001b[0m",
      "\u001b[0;31mAttributeError\u001b[0m: 'Employee' object has no attribute '__displayID'"
     ]
    }
   ],
   "source": [
    "# Private methods\n",
    "## Private methods are those that can be accessed only from inside the class and not outside the class.\n",
    "\n",
    "class Employee:\n",
    "    def __init__(self, ID, salary):\n",
    "        self.ID = ID\n",
    "        self.__salary = salary  # salary is a private property\n",
    "\n",
    "    def displaySalary(self):  # displaySalary is a public method\n",
    "        print(\"Salary:\", self.__salary)\n",
    "\n",
    "    def __displayID(self):  # displayID is a private method\n",
    "        print(\"ID:\", self.ID)\n",
    "\n",
    "\n",
    "Steve = Employee(3789, 2500)\n",
    "Steve.displaySalary()\n",
    "Steve.__displayID()  # this will generate an error"
   ]
  },
  {
   "cell_type": "code",
   "execution_count": 4,
   "metadata": {},
   "outputs": [
    {
     "name": "stdout",
     "output_type": "stream",
     "text": [
      "2500\n"
     ]
    }
   ],
   "source": [
    "# Usurping privacy of attributes\n",
    "\n",
    "class Employee:\n",
    "    def __init__(self, ID, salary):\n",
    "        self.ID = ID\n",
    "        self.__salary = salary  # salary is a private property\n",
    "\n",
    "\n",
    "Steve = Employee(3789, 2500)\n",
    "print(Steve._Employee__salary)  # accessing a private property"
   ]
  },
  {
   "cell_type": "markdown",
   "metadata": {},
   "source": [
    "## Challenge 1: Square Numbers and Return Their Sum\n",
    "\n",
    "Implement a class Point that has three properties and a method. All these attributes (properties and methods) should be public. Implement a constructor to initialize the values of three properties: x, y, and z. Implement a method, sqSum(), in the Point class which squares x, y, and z and returns their sum."
   ]
  },
  {
   "cell_type": "code",
   "execution_count": 6,
   "metadata": {},
   "outputs": [],
   "source": [
    "class Point:\n",
    "    def __init__(self, x, y, z):\n",
    "        self.x = x\n",
    "        self.y = y\n",
    "        self.z = z\n",
    "\n",
    "    def sqSum(self):\n",
    "        return (self.x ** 2) + (self.y ** 2) + (self.z ** 2)"
   ]
  },
  {
   "cell_type": "markdown",
   "metadata": {},
   "source": [
    "## Challenge 2: Calculate the Student's Performance\n",
    "\n",
    "Implement a class - Student - that has four properties and two methods. All these attributes (properties and methods) should be public. This problem can be broken down into three tasks. Implement a constructor to initialize the values of four properties: name, phy, chem, and bio. Implement a method – totalObtained – in the Student class that calculates total marks of a student."
   ]
  },
  {
   "cell_type": "code",
   "execution_count": 7,
   "metadata": {},
   "outputs": [],
   "source": [
    "class Student:\n",
    "    def __init__(self, name, phy, chem, bio):\n",
    "        self.name = name\n",
    "        self.phy = phy\n",
    "        self.chem = chem\n",
    "        self.bio = bio\n",
    "\n",
    "    def totalObtained(self):\n",
    "        return self.phy + self.chem + self.bio\n",
    "\n",
    "    def percentage(self):\n",
    "        return (self.totalObtained()/300) * 100"
   ]
  },
  {
   "cell_type": "markdown",
   "metadata": {},
   "source": [
    "## Challenge 3: Implement a Calculator Class\n",
    "\n",
    "Write a Python class called Calculator. Implement an initializer to initialize the values of num1 and num2. add() is a method that returns the sum of num1 and num2. subtract() is a method that returns the subtraction of num1 from num2. multiply() is a method that returns the product of num1 and num2. divide() is a method that returns the division of num2 by num1.\n",
    "\n"
   ]
  },
  {
   "cell_type": "code",
   "execution_count": 8,
   "metadata": {},
   "outputs": [],
   "source": [
    "class Calculator:\n",
    "    def __init__(self, num1, num2):\n",
    "        self.num1 = num1\n",
    "        self.num2 = num2\n",
    "\n",
    "    def add(self):\n",
    "        return self.num1 + self.num2\n",
    "\n",
    "    def subtract(self):\n",
    "        return self.num2 - self.num1\n",
    "\n",
    "    def multiply(self):\n",
    "        return self.num1 * self.num2\n",
    "\n",
    "    def divide(self):\n",
    "        return self.num2 / self.num1"
   ]
  }
 ],
 "metadata": {
  "kernelspec": {
   "display_name": "Python 3",
   "language": "python",
   "name": "python3"
  },
  "language_info": {
   "codemirror_mode": {
    "name": "ipython",
    "version": 3
   },
   "file_extension": ".py",
   "mimetype": "text/x-python",
   "name": "python",
   "nbconvert_exporter": "python",
   "pygments_lexer": "ipython3",
   "version": "3.8.6"
  },
  "toc": {
   "base_numbering": 1,
   "nav_menu": {},
   "number_sections": true,
   "sideBar": true,
   "skip_h1_title": false,
   "title_cell": "Table of Contents",
   "title_sidebar": "Contents",
   "toc_cell": false,
   "toc_position": {},
   "toc_section_display": true,
   "toc_window_display": false
  }
 },
 "nbformat": 4,
 "nbformat_minor": 4
}
