{
 "cells": [
  {
   "cell_type": "markdown",
   "metadata": {},
   "source": [
    "# Information Hiding"
   ]
  },
  {
   "cell_type": "markdown",
   "metadata": {},
   "source": [
    "## What is information hiding?\n",
    "\n",
    "nformation hiding refers to the concept of hiding the inner workings of a class and simply providing an interface through which the outside world can interact with the class without knowing what’s going on inside."
   ]
  },
  {
   "cell_type": "markdown",
   "metadata": {},
   "source": [
    "## Encapsulation\n",
    "\n",
    "Encapsulation in OOP refers to binding data and the methods to manipulate that data together in a single unit, that is, class."
   ]
  },
  {
   "cell_type": "code",
   "execution_count": 3,
   "metadata": {},
   "outputs": [
    {
     "name": "stdout",
     "output_type": "stream",
     "text": [
      "Access Granted against username: steve and password: 12345\n",
      "Invalid Credentials!\n"
     ]
    },
    {
     "ename": "AttributeError",
     "evalue": "'User' object has no attribute '__password'",
     "output_type": "error",
     "traceback": [
      "\u001b[0;31m---------------------------------------------------------------------------\u001b[0m",
      "\u001b[0;31mAttributeError\u001b[0m                            Traceback (most recent call last)",
      "\u001b[0;32m<ipython-input-3-26e6a556d285>\u001b[0m in \u001b[0;36m<module>\u001b[0;34m\u001b[0m\n\u001b[1;32m     24\u001b[0m \u001b[0;31m# does not grant access since the credentails are invalid\u001b[0m\u001b[0;34m\u001b[0m\u001b[0;34m\u001b[0m\u001b[0;34m\u001b[0m\u001b[0m\n\u001b[1;32m     25\u001b[0m \u001b[0mSteve\u001b[0m\u001b[0;34m.\u001b[0m\u001b[0mlogin\u001b[0m\u001b[0;34m(\u001b[0m\u001b[0;34m\"steve\"\u001b[0m\u001b[0;34m,\u001b[0m \u001b[0;34m\"6789\"\u001b[0m\u001b[0;34m)\u001b[0m\u001b[0;34m\u001b[0m\u001b[0;34m\u001b[0m\u001b[0m\n\u001b[0;32m---> 26\u001b[0;31m \u001b[0mSteve\u001b[0m\u001b[0;34m.\u001b[0m\u001b[0m__password\u001b[0m  \u001b[0;31m# compilation error will occur due to this line\u001b[0m\u001b[0;34m\u001b[0m\u001b[0;34m\u001b[0m\u001b[0m\n\u001b[0m",
      "\u001b[0;31mAttributeError\u001b[0m: 'User' object has no attribute '__password'"
     ]
    }
   ],
   "source": [
    "# Encapsulation example\n",
    "\n",
    "class User:\n",
    "    def __init__(self, userName=None, password=None):\n",
    "        self.__userName = userName\n",
    "        self.__password = password\n",
    "\n",
    "    def login(self, userName, password):\n",
    "        if ((self.__userName.lower() == userName.lower())\n",
    "                and (self.__password == password)):\n",
    "            print(\n",
    "                \"Access Granted against username:\",\n",
    "                self.__userName.lower(),\n",
    "                \"and password:\",\n",
    "                self.__password)\n",
    "        else:\n",
    "            print(\"Invalid Credentials!\")\n",
    "\n",
    "\n",
    "# created a new User object and stored the password and username\n",
    "Steve = User(\"Steve\", \"12345\")\n",
    "Steve.login(\"steve\", \"12345\")  # Grants access because credentials are valid\n",
    "\n",
    "# does not grant access since the credentails are invalid\n",
    "Steve.login(\"steve\", \"6789\")\n",
    "Steve.__password  # compilation error will occur due to this line"
   ]
  },
  {
   "cell_type": "markdown",
   "metadata": {},
   "source": [
    "## Getters and Setters\n",
    "\n",
    "Getter and Setter methods are commonly used with private variables.\n",
    "\n",
    "* A getter method allows reading a property’s value.\n",
    "\n",
    "* A setter method allows modifying a property’s value."
   ]
  },
  {
   "cell_type": "code",
   "execution_count": 1,
   "metadata": {},
   "outputs": [
    {
     "name": "stdout",
     "output_type": "stream",
     "text": [
      "Before setting: steve1\n",
      "After setting: steve2\n"
     ]
    }
   ],
   "source": [
    "# Example of a getter and setter method\n",
    "\n",
    "class User:\n",
    "    def __init__(self, username=None):  # defining initializer\n",
    "        self.__username = username\n",
    "\n",
    "    def setUsername(self, x):\n",
    "        self.__username = x\n",
    "\n",
    "    def getUsername(self):\n",
    "        return (self.__username)\n",
    "\n",
    "\n",
    "Steve = User('steve1')\n",
    "print('Before setting:', Steve.getUsername())\n",
    "Steve.setUsername('steve2')\n",
    "print('After setting:', Steve.getUsername())"
   ]
  },
  {
   "cell_type": "markdown",
   "metadata": {},
   "source": [
    "## Challenge 1: Implement a Rectangle Class Using the Encapsulation\n",
    "\n",
    "You are given a partially completed code of a Rectangle class in the editor. Implement the class by completing the tasks below. Implement a method, area(), in the Rectangle class that returns the product of length and width. Implement a method, perimeter(), in the Rectangle class that returns two times the sum of length and width. "
   ]
  },
  {
   "cell_type": "code",
   "execution_count": 4,
   "metadata": {},
   "outputs": [],
   "source": [
    "class Rectangle:\n",
    "    def __init__(self, length, width):\n",
    "        self.__length = length\n",
    "        self.__width = width\n",
    "\n",
    "    def area(self):\n",
    "        return self.__length * self.__width\n",
    "\n",
    "    def perimeter(self):\n",
    "        return 2 * (self.__length + self.__width)"
   ]
  },
  {
   "cell_type": "markdown",
   "metadata": {},
   "source": [
    "## Challenge 2: Implement the Complete Student Class\n",
    "\n",
    "Implement the complete Student class. Implement the following properties as private:\n",
    "\n",
    "* name\n",
    "* rollNumber\n",
    "\n",
    "Include the following methods to get and set the private properties above:\n",
    "\n",
    "* getName()\n",
    "* setName()\n",
    "* getRollNumber()\n",
    "* setRollNumber()\n",
    "\n",
    "Implement this class according to the rules of encapsulation."
   ]
  },
  {
   "cell_type": "code",
   "execution_count": 5,
   "metadata": {},
   "outputs": [],
   "source": [
    "class Student:\n",
    "    def setName(self, name):\n",
    "        self.__name = name\n",
    "\n",
    "    def getName(self):\n",
    "        return self.__name\n",
    "\n",
    "    def setRollNumber(self, rollNumber):\n",
    "        self.__rollNumber = rollNumber\n",
    "\n",
    "    def getRollNumber(self):\n",
    "        return self.__rollNumber"
   ]
  }
 ],
 "metadata": {
  "kernelspec": {
   "display_name": "Python 3",
   "language": "python",
   "name": "python3"
  },
  "language_info": {
   "codemirror_mode": {
    "name": "ipython",
    "version": 3
   },
   "file_extension": ".py",
   "mimetype": "text/x-python",
   "name": "python",
   "nbconvert_exporter": "python",
   "pygments_lexer": "ipython3",
   "version": "3.8.6"
  },
  "toc": {
   "base_numbering": 1,
   "nav_menu": {},
   "number_sections": true,
   "sideBar": true,
   "skip_h1_title": false,
   "title_cell": "Table of Contents",
   "title_sidebar": "Contents",
   "toc_cell": false,
   "toc_position": {},
   "toc_section_display": true,
   "toc_window_display": false
  }
 },
 "nbformat": 4,
 "nbformat_minor": 4
}
