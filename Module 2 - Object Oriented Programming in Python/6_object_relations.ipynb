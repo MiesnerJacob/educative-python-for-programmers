{
 "cells": [
  {
   "cell_type": "markdown",
   "metadata": {},
   "source": [
    "# Object Relations"
   ]
  },
  {
   "cell_type": "markdown",
   "metadata": {},
   "source": [
    "## A Brief Introduction\n",
    "\n",
    "By now, we have learned all that we need to know about the definition and the behavior of a class. The concepts of inheritance and polymorphism taught us how to create dependent classes out of a base class. While inheritance represents a relationship between classes, there are situations where there are relationships between objects.\n",
    "\n",
    "There are three main class relationships we need to know:\n",
    "1. \"IS A\" which constitues inheritance\n",
    "2. \"PART OF\" In this relationship, one class object is a component of another class object.\n",
    "3. \"HAS A\" Class A and class B have a has-a relationship if one or both need the other’s object to perform an operation, but both class objects can exist independently of each other.\n",
    "\n",
    "In object-oriented programming, association is the common term for both the has-a and part-of relationships but is not limited to these. "
   ]
  },
  {
   "cell_type": "markdown",
   "metadata": {},
   "source": [
    "## Aggregation\n",
    "\n",
    "In aggregation, the lifetime of the owned object does not depend on the lifetime of the owner."
   ]
  },
  {
   "cell_type": "code",
   "execution_count": 4,
   "metadata": {},
   "outputs": [
    {
     "name": "stdout",
     "output_type": "stream",
     "text": [
      "Person Name: Joe\n",
      "Country Name: Wales\n",
      "Country Population 1500\n",
      "\n",
      "Country Name: Wales\n",
      "Country Population 1500\n"
     ]
    }
   ],
   "source": [
    "# Example of Aggregation relationship\n",
    "\n",
    "class Country:\n",
    "    def __init__(self, name=None, population=0):\n",
    "        self.name = name\n",
    "        self.population = population\n",
    "\n",
    "    def printDetails(self):\n",
    "        print(\"Country Name:\", self.name)\n",
    "        print(\"Country Population\", self.population)\n",
    "\n",
    "\n",
    "class Person:\n",
    "    def __init__(self, name, country):\n",
    "        self.name = name\n",
    "        self.country = country\n",
    "\n",
    "    def printDetails(self):\n",
    "        print(\"Person Name:\", self.name)\n",
    "        self.country.printDetails()\n",
    "\n",
    "\n",
    "c = Country(\"Wales\", 1500)\n",
    "p = Person(\"Joe\", c)\n",
    "p.printDetails()\n",
    "\n",
    "# deletes the object p\n",
    "del p\n",
    "print(\"\")\n",
    "c.printDetails()"
   ]
  },
  {
   "cell_type": "markdown",
   "metadata": {},
   "source": [
    "## Composition\n",
    "\n",
    "In composition, the lifetime of the owned object depends on the lifetime of the owner."
   ]
  },
  {
   "cell_type": "code",
   "execution_count": 5,
   "metadata": {},
   "outputs": [
    {
     "name": "stdout",
     "output_type": "stream",
     "text": [
      "Engine Details: 1600\n",
      "Number of tires: 4\n",
      "Number of doors: 2\n",
      "Car color: Grey\n"
     ]
    }
   ],
   "source": [
    "# Example of Composition relationship\n",
    "\n",
    "class Engine:\n",
    "    def __init__(self, capacity=0):\n",
    "        self.capacity = capacity\n",
    "\n",
    "    def printDetails(self):\n",
    "        print(\"Engine Details:\", self.capacity)\n",
    "\n",
    "\n",
    "class Tires:\n",
    "    def __init__(self, tires=0):\n",
    "        self.tires = tires\n",
    "\n",
    "    def printDetails(self):\n",
    "        print(\"Number of tires:\", self.tires)\n",
    "\n",
    "\n",
    "class Doors:\n",
    "    def __init__(self, doors=0):\n",
    "        self.doors = doors\n",
    "\n",
    "    def printDetails(self):\n",
    "        print(\"Number of doors:\", self.doors)\n",
    "\n",
    "\n",
    "class Car:\n",
    "    def __init__(self, eng, tr, dr, color):\n",
    "        self.eObj = Engine(eng)\n",
    "        self.tObj = Tires(tr)\n",
    "        self.dObj = Doors(dr)\n",
    "        self.color = color\n",
    "\n",
    "    def printDetails(self):\n",
    "        self.eObj.printDetails()\n",
    "        self.tObj.printDetails()\n",
    "        self.dObj.printDetails()\n",
    "        print(\"Car color:\", self.color)\n",
    "\n",
    "\n",
    "car = Car(1600, 4, 2, \"Grey\")\n",
    "car.printDetails()"
   ]
  },
  {
   "cell_type": "markdown",
   "metadata": {},
   "source": [
    "## Challenge 1: Cars and Engines!\n",
    "\n",
    "You have to implement a Sedan class, which inherits from the Car class and contains a SedanEngine object.\n",
    "\n",
    "**Task 1**\n",
    "* The Car initializer should take arguments in the order Car(model,color).\n",
    "\n",
    "* The Car class should have two properties:\n",
    "\n",
    "    1. model\n",
    "    2. color\n",
    "\n",
    "* The Car class should have one method:\n",
    "    1. printDetails(), which will print model and color of the Car object\n",
    "    \n",
    "**Task 2**\n",
    "\n",
    "The SedanEngine class will have two methods:\n",
    "1. start(), which will print:\n",
    "    Car has started.\n",
    "2. stop(), which will print:\n",
    "    Car has stopped.\n",
    "\n",
    "**Task 3**\n",
    "\n",
    "* The Sedan initializer should take arguments in the order Sedan(model, color).\n",
    "\n",
    "* The Sedan class will have one property:\n",
    "    1. engine, which is a SedanEngine class object that should be created when the object is initialized\n",
    "\n",
    "* The Sedan class will have two methods:\n",
    "    1. setStart(), which will call the start() method of SedanEngine.\n",
    "    2. setStop(), which will call the stop() method of SedanEngine."
   ]
  },
  {
   "cell_type": "code",
   "execution_count": 6,
   "metadata": {},
   "outputs": [
    {
     "name": "stdout",
     "output_type": "stream",
     "text": [
      "Car has started.\n",
      "Model: Toyota\n",
      "Color: Grey\n",
      "Car has stopped.\n"
     ]
    }
   ],
   "source": [
    "class Car:\n",
    "    def __init__(self, model, color):\n",
    "        self.model = model\n",
    "        self.color = color\n",
    "\n",
    "    def printDetails(self):\n",
    "        print(\"Model:\", self.model)\n",
    "        print(\"Color:\", self.color)\n",
    "\n",
    "\n",
    "class SedanEngine:\n",
    "    def start(self):\n",
    "        print(\"Car has started.\")\n",
    "\n",
    "    def stop(self):\n",
    "        print(\"Car has stopped.\")\n",
    "\n",
    "\n",
    "class Sedan(Car):\n",
    "    def __init__(self, model, color):\n",
    "        super().__init__(model, color)\n",
    "        self.engine = SedanEngine()\n",
    "\n",
    "    def setStart(self):\n",
    "        self.engine.start()\n",
    "\n",
    "    def setStop(self):\n",
    "        self.engine.stop()\n",
    "\n",
    "\n",
    "car1 = Sedan(\"Toyota\", \"Grey\")\n",
    "car1.setStart()\n",
    "car1.printDetails()\n",
    "car1.setStop()"
   ]
  },
  {
   "cell_type": "markdown",
   "metadata": {},
   "source": [
    "## Challenge 2: Implementing a Sports Team!\n",
    "\n",
    "You have to implement 3 classes, School, Team, and Player, such that an instance of a School should contain instances of Team objects. Similarly, a Team object can contain instances of Player class. You have to implement a School class containing a list of Team objects and a Team class comprising a list of Player objects.\n",
    "\n",
    "**Task 1**\n",
    "\n",
    "* The Player class should have three properties that will be set using an initializer:\n",
    "    1. ID\n",
    "    2. name\n",
    "    3. teamName\n",
    "\n",
    "**Task 2**\n",
    "\n",
    "* The Team class will have two properties that will be set using an initializer:\n",
    "    1. name\n",
    "    2. players: a list with player class objects in it\n",
    "\n",
    "* It will have two methods:\n",
    "    1. addPlayer(), which will add new player objects in the players list\n",
    "    2. getNumberOfPlayers(), which will return the total number of players in the players list\n",
    "    \n",
    "**Task 3**\n",
    "\n",
    "* The School class will contain two properties that will be set using an initializer:\n",
    "    1. teams, a list of team class objects\n",
    "    2. name\n",
    "\n",
    "* It will have two methods:\n",
    "    1. addTeam, which will add new team objects in the teams list\n",
    "    2. getTotalPlayersInSchool(), which will count the total players in all of the teams in the School and return the count"
   ]
  },
  {
   "cell_type": "code",
   "execution_count": 13,
   "metadata": {},
   "outputs": [
    {
     "name": "stdout",
     "output_type": "stream",
     "text": [
      "Total players in School #1: 3\n"
     ]
    }
   ],
   "source": [
    "class Player:\n",
    "    def __init__(self, ID, name, teamName):\n",
    "        self.ID = ID\n",
    "        self.name = name\n",
    "        self.teamName = teamName\n",
    "\n",
    "\n",
    "class Team:\n",
    "    def __init__(self, name):\n",
    "        self.name = name\n",
    "        self.players = []\n",
    "\n",
    "    def getNumberOfPlayers(self):\n",
    "        return len(self.players)\n",
    "\n",
    "    def addPlayer(self, player):\n",
    "        self.players.append(player)\n",
    "\n",
    "\n",
    "class School:\n",
    "    def __init__(self, name):\n",
    "        self.name = name\n",
    "        self.teams = []\n",
    "\n",
    "    def addTeam(self, team):\n",
    "        self.teams.append(team)\n",
    "\n",
    "    def getTotalPlayersInSchool(self):\n",
    "        length = 0\n",
    "        for n in self.teams:\n",
    "            length = length + (n.getNumberOfPlayers())\n",
    "        return length\n",
    "\n",
    "\n",
    "p1 = Player(1, \"Harris\", \"Red\")\n",
    "p2 = Player(2, \"Carol\", \"Red\")\n",
    "p3 = Player(1, \"Johnny\", \"Blue\")\n",
    "\n",
    "red_team = Team(\"Red Team\")\n",
    "red_team.addPlayer(p1)\n",
    "red_team.addPlayer(p2)\n",
    "\n",
    "blue_team = Team(\"Blue Team\")\n",
    "blue_team.addPlayer(p3)\n",
    "\n",
    "mySchool = School(\"School #1\")\n",
    "mySchool.addTeam(red_team)\n",
    "mySchool.addTeam(blue_team)\n",
    "\n",
    "print(\"Total players in School #1:\", mySchool.getTotalPlayersInSchool())"
   ]
  }
 ],
 "metadata": {
  "kernelspec": {
   "display_name": "Python 3",
   "language": "python",
   "name": "python3"
  },
  "language_info": {
   "codemirror_mode": {
    "name": "ipython",
    "version": 3
   },
   "file_extension": ".py",
   "mimetype": "text/x-python",
   "name": "python",
   "nbconvert_exporter": "python",
   "pygments_lexer": "ipython3",
   "version": "3.8.6"
  },
  "toc": {
   "base_numbering": 1,
   "nav_menu": {},
   "number_sections": true,
   "sideBar": true,
   "skip_h1_title": false,
   "title_cell": "Table of Contents",
   "title_sidebar": "Contents",
   "toc_cell": false,
   "toc_position": {},
   "toc_section_display": true,
   "toc_window_display": false
  }
 },
 "nbformat": 4,
 "nbformat_minor": 4
}
