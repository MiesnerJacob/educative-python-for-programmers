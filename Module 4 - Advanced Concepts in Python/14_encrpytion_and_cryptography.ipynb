{
 "cells": [
  {
   "cell_type": "markdown",
   "metadata": {},
   "source": [
    "# Encryption and Cryptography\n",
    "\n",
    "Python doesnt have native encryption tools, instead it provides hashing. Hashing + 3rd party Encryption and Cryptography pakcages will be covered in this chapter."
   ]
  },
  {
   "cell_type": "markdown",
   "metadata": {},
   "source": [
    "## Hashing\n",
    "\n",
    "One of the most common uses of hasdhing is to store a hash of a password as opposed to the password itself. The hash must be legit or it can be decrypted. It is also used for sending a hash of a file alongside a file so the reciever can compare the two and confirm it has not been modified by an outside source."
   ]
  },
  {
   "cell_type": "code",
   "execution_count": 1,
   "metadata": {},
   "outputs": [
    {
     "name": "stdout",
     "output_type": "stream",
     "text": [
      "b'l\\x1e\\xfb\\x00U\\x14\\xcdT\\xf7\\x1c\\xf3l\\xcd&o\\x10'\n"
     ]
    }
   ],
   "source": [
    "# md5 hash\n",
    "\n",
    "import hashlib\n",
    "md5 = hashlib.md5()\n",
    "\n",
    "# Unicode must be byte encoded before hashing\n",
    "hash_str = b'I am going to hash this string!'\n",
    "md5.update(hash_str)\n",
    "\n",
    "print(md5.digest())"
   ]
  },
  {
   "cell_type": "code",
   "execution_count": 2,
   "metadata": {},
   "outputs": [
    {
     "name": "stdout",
     "output_type": "stream",
     "text": [
      "6c1efb005514cd54f71cf36ccd266f10\n"
     ]
    }
   ],
   "source": [
    "# printing a hex digest instead\n",
    "print(md5.hexdigest())"
   ]
  },
  {
   "cell_type": "code",
   "execution_count": 3,
   "metadata": {},
   "outputs": [
    {
     "name": "stdout",
     "output_type": "stream",
     "text": [
      "2ef7bde608ce5404e97d5f042f95f89f1c232871\n"
     ]
    }
   ],
   "source": [
    "# Creating a shai512 hash\n",
    "# Less lines of code, shorter hash = less secure\n",
    "\n",
    "import hashlib\n",
    "sha = hashlib.sha1(b'Hello World!').hexdigest()\n",
    "\n",
    "print(sha)"
   ]
  },
  {
   "cell_type": "markdown",
   "metadata": {},
   "source": [
    "## Key Derivation"
   ]
  },
  {
   "cell_type": "code",
   "execution_count": 4,
   "metadata": {},
   "outputs": [
    {
     "name": "stdout",
     "output_type": "stream",
     "text": [
      "b'0ea6b4654028f2b73cca77497c8d9dc4f7c712069d2098fb84b727c6f4d05e79'\n"
     ]
    }
   ],
   "source": [
    "# using pbkdf2_hmac for encryption it uses a psuedo-ransdom function making it5 harder to decode\n",
    "import hashlib\n",
    "import binascii\n",
    "\n",
    "\n",
    "dk = hashlib.pbkdf2_hmac(hash_name='sha256',\n",
    "        password=b'rando_password', \n",
    "        salt=b'bad_salt', \n",
    "        iterations=1000000)\n",
    "\n",
    "print (binascii.hexlify(dk))"
   ]
  },
  {
   "cell_type": "markdown",
   "metadata": {},
   "source": [
    "## PyCrypto\n",
    "\n",
    "PyCrypto is the most well known 3rd party package for ecryption in python."
   ]
  },
  {
   "cell_type": "code",
   "execution_count": 5,
   "metadata": {},
   "outputs": [
    {
     "name": "stdout",
     "output_type": "stream",
     "text": [
      "Requirement already satisfied: pycryptodome in /Library/Frameworks/Python.framework/Versions/3.8/lib/python3.8/site-packages (3.11.0)\r\n"
     ]
    }
   ],
   "source": [
    "# Installing pycryptodome, a drop-in replacement for pycrypto\n",
    "\n",
    "!pip install pycryptodome"
   ]
  },
  {
   "cell_type": "code",
   "execution_count": 6,
   "metadata": {},
   "outputs": [
    {
     "name": "stdout",
     "output_type": "stream",
     "text": [
      "b'>\\xfc\\x1f\\x16x\\x87\\xb2\\x93\\x0e\\xfcH\\x02\\xd59VQ'\n"
     ]
    }
   ],
   "source": [
    "## encrypting a string\n",
    "\n",
    "from Crypto.Cipher import DES\n",
    "key = b'abcdefgh'\n",
    "def pad(text):\n",
    "        while len(text) % 8 != 0:\n",
    "            text += b' '\n",
    "        return text\n",
    "des = DES.new(key, DES.MODE_ECB)\n",
    "text = b'Python rocks!'\n",
    "padded_text = pad(text)\n",
    "\n",
    "encrypted_text = des.encrypt(padded_text)\n",
    "print (encrypted_text)"
   ]
  },
  {
   "cell_type": "code",
   "execution_count": 7,
   "metadata": {},
   "outputs": [
    {
     "name": "stdout",
     "output_type": "stream",
     "text": [
      "b'Python rocks!   '\n"
     ]
    }
   ],
   "source": [
    "# decrypting our encrpyted string\n",
    "print(des.decrypt(encrypted_text))"
   ]
  },
  {
   "cell_type": "code",
   "execution_count": 8,
   "metadata": {},
   "outputs": [],
   "source": [
    "# Encrypting data with RSA\n",
    "# Can use a public/private RSA key or create your own, here we weill create one\n",
    "\n",
    "from Crypto.PublicKey import RSA\n",
    "code = 'nooneknows'\n",
    "key = RSA.generate(2048)\n",
    "encrypted_key = key.exportKey(passphrase=code, pkcs=8, \n",
    "        protection=\"scryptAndAES128-CBC\")\n",
    "with open('14_encrpytion_and_crpytography_demos/my_private_rsa_key.bin', 'wb') as f:\n",
    "        f.write(encrypted_key)\n",
    "with open('14_encrpytion_and_crpytography_demos/my_rsa_public.pem', 'wb') as f:\n",
    "        f.write(key.publickey().exportKey())"
   ]
  },
  {
   "cell_type": "code",
   "execution_count": 9,
   "metadata": {},
   "outputs": [],
   "source": [
    "# Encrpyting a File!\n",
    "\n",
    "from Crypto.PublicKey import RSA\n",
    "from Crypto.Random import get_random_bytes\n",
    "from Crypto.Cipher import AES, PKCS1_OAEP\n",
    "\n",
    "with open('14_encrpytion_and_crpytography_demos/encrypted_data.bin', 'wb') as out_file:\n",
    "    recipient_key = RSA.import_key(\n",
    "        open('14_encrpytion_and_crpytography_demos/my_rsa_public.pem').read())\n",
    "    session_key = get_random_bytes(16)\n",
    "\n",
    "    cipher_rsa = PKCS1_OAEP.new(recipient_key)\n",
    "    out_file.write(cipher_rsa.encrypt(session_key))\n",
    "\n",
    "    cipher_aes = AES.new(session_key, AES.MODE_EAX)\n",
    "    data = b'blah blah blah Python blah blah'\n",
    "    ciphertext, tag = cipher_aes.encrypt_and_digest(data)\n",
    "\n",
    "    out_file.write(cipher_aes.nonce)\n",
    "    out_file.write(tag)\n",
    "    out_file.write(ciphertext)"
   ]
  },
  {
   "cell_type": "code",
   "execution_count": 10,
   "metadata": {},
   "outputs": [
    {
     "name": "stdout",
     "output_type": "stream",
     "text": [
      "b'blah blah blah Python blah blah'\n"
     ]
    }
   ],
   "source": [
    "# Decrypting our file data\n",
    "\n",
    "from Crypto.PublicKey import RSA\n",
    "from Crypto.Cipher import AES, PKCS1_OAEP\n",
    "\n",
    "code = 'nooneknows'\n",
    "\n",
    "with open('14_encrpytion_and_crpytography_demos/encrypted_data.bin', 'rb') as fobj:\n",
    "    private_key = RSA.import_key(\n",
    "        open('14_encrpytion_and_crpytography_demos/my_private_rsa_key.bin').read(),\n",
    "        passphrase=code)\n",
    "\n",
    "    enc_session_key, nonce, tag, ciphertext = [ fobj.read(x) \n",
    "                                                for x in (private_key.size_in_bytes(), \n",
    "                                                16, 16, -1) ]\n",
    "\n",
    "    cipher_rsa = PKCS1_OAEP.new(private_key)\n",
    "    session_key = cipher_rsa.decrypt(enc_session_key)\n",
    "\n",
    "    cipher_aes = AES.new(session_key, AES.MODE_EAX, nonce)\n",
    "    data = cipher_aes.decrypt_and_verify(ciphertext, tag)\n",
    "\n",
    "print(data)"
   ]
  },
  {
   "cell_type": "markdown",
   "metadata": {},
   "source": [
    "## The cryptography package\n",
    "\n",
    "The cryptography package aims to be “cryptography for humans” much like the requests library is “HTTP for Humans”."
   ]
  },
  {
   "cell_type": "code",
   "execution_count": 11,
   "metadata": {},
   "outputs": [
    {
     "name": "stdout",
     "output_type": "stream",
     "text": [
      "Requirement already satisfied: cryptography in /Library/Frameworks/Python.framework/Versions/3.8/lib/python3.8/site-packages (3.2.1)\n",
      "Requirement already satisfied: six>=1.4.1 in /Library/Frameworks/Python.framework/Versions/3.8/lib/python3.8/site-packages (from cryptography) (1.16.0)\n",
      "Requirement already satisfied: cffi!=1.11.3,>=1.8 in /Library/Frameworks/Python.framework/Versions/3.8/lib/python3.8/site-packages (from cryptography) (1.14.3)\n",
      "Requirement already satisfied: pycparser in /Library/Frameworks/Python.framework/Versions/3.8/lib/python3.8/site-packages (from cffi!=1.11.3,>=1.8->cryptography) (2.20)\n"
     ]
    }
   ],
   "source": [
    "# Installing library\n",
    "!pip install cryptography"
   ]
  },
  {
   "cell_type": "code",
   "execution_count": 15,
   "metadata": {},
   "outputs": [
    {
     "name": "stdout",
     "output_type": "stream",
     "text": [
      "b'vEndXwJuXISCAJdSWYMCtpTFaENKVYr-IxWNBgOOfCc='\n",
      "b'gAAAAABhmprT2ElcMvMZ8iVaSZZx2TX-LRYiMAqVvnQ2ay9cvC7vK_Sho7IOKvWTAWpik8Z07BcyN2BT4gYm-MnBxKzxdqpyLO-8Ru8IJo2TTMnk5GAdF8Y='\n",
      "b'My super secret message'\n"
     ]
    }
   ],
   "source": [
    "# Using the Fernet module to create a message that cannot be read or manipulated without the key we define\n",
    "\n",
    "from cryptography.fernet import Fernet\n",
    "cipher_key = Fernet.generate_key()\n",
    "print(cipher_key)\n",
    "\n",
    "cipher = Fernet(cipher_key)\n",
    "text = b'My super secret message'\n",
    "encrypted_text = cipher.encrypt(text)\n",
    "print(encrypted_text)\n",
    "\n",
    "decrypted_text = cipher.decrypt(encrypted_text)\n",
    "print(decrypted_text)"
   ]
  }
 ],
 "metadata": {
  "kernelspec": {
   "display_name": "Python 3 (ipykernel)",
   "language": "python",
   "name": "python3"
  },
  "language_info": {
   "codemirror_mode": {
    "name": "ipython",
    "version": 3
   },
   "file_extension": ".py",
   "mimetype": "text/x-python",
   "name": "python",
   "nbconvert_exporter": "python",
   "pygments_lexer": "ipython3",
   "version": "3.8.6"
  },
  "toc": {
   "base_numbering": 1,
   "nav_menu": {},
   "number_sections": true,
   "sideBar": true,
   "skip_h1_title": false,
   "title_cell": "Table of Contents",
   "title_sidebar": "Contents",
   "toc_cell": false,
   "toc_position": {},
   "toc_section_display": true,
   "toc_window_display": false
  }
 },
 "nbformat": 4,
 "nbformat_minor": 4
}
