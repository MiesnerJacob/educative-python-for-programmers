{
 "cells": [
  {
   "cell_type": "markdown",
   "metadata": {},
   "source": [
    "# An Intro to converage.py\n",
    "\n",
    "The term “coverage” in programming circles is typically used to describe the effectiveness of your tests and how much of your code is actually covered by tests. "
   ]
  },
  {
   "cell_type": "markdown",
   "metadata": {},
   "source": [
    "## Coverage.py\n",
    "\n",
    "converage.py is a third paty tool for Python that is used for measuring code coverage. We are going to use our code examples from Chapter 24 - Unittests to show how to use this module."
   ]
  },
  {
   "cell_type": "code",
   "execution_count": 1,
   "metadata": {},
   "outputs": [
    {
     "name": "stdout",
     "output_type": "stream",
     "text": [
      "Requirement already satisfied: coverage in /Library/Frameworks/Python.framework/Versions/3.8/lib/python3.8/site-packages (6.2)\r\n"
     ]
    }
   ],
   "source": [
    "# Installing the tool\n",
    "!pip install coverage"
   ]
  },
  {
   "cell_type": "code",
   "execution_count": 2,
   "metadata": {},
   "outputs": [
    {
     "name": "stdout",
     "output_type": "stream",
     "text": [
      "/Users/miesner.jacob/python-for-programmers-educative/Module 4 - Advanced Concepts in Python/26_coverage_demos\n",
      "\u001b[34m__pycache__\u001b[m\u001b[m                           arithmetic_unittests_full_coverage.py\r\n",
      "arithmetic_functions.py               \u001b[34mhtmlcov\u001b[m\u001b[m\r\n",
      "arithmetic_unittests.py\r\n"
     ]
    }
   ],
   "source": [
    "# cd into our demo copy for the simple arithmetic functions we wrote in chapter 24\n",
    "%cd 26_coverage_demos\n",
    "!ls"
   ]
  },
  {
   "cell_type": "code",
   "execution_count": 3,
   "metadata": {
    "scrolled": true
   },
   "outputs": [
    {
     "name": "stdout",
     "output_type": "stream",
     "text": [
      "...\r\n",
      "----------------------------------------------------------------------\r\n",
      "Ran 3 tests in 0.000s\r\n",
      "\r\n",
      "OK\r\n"
     ]
    }
   ],
   "source": [
    "# Run test file using coverage module\n",
    "# This creates a new file in the directory called .coverage\n",
    "!coverage run arithmetic_unittests.py"
   ]
  },
  {
   "cell_type": "code",
   "execution_count": 4,
   "metadata": {
    "scrolled": true
   },
   "outputs": [
    {
     "name": "stdout",
     "output_type": "stream",
     "text": [
      "Name                      Stmts   Miss  Cover   Missing\r\n",
      "-------------------------------------------------------\r\n",
      "arithmetic_functions.py       8      3    62%   6, 10, 14\r\n",
      "arithmetic_unittests.py      14      0   100%\r\n",
      "-------------------------------------------------------\r\n",
      "TOTAL                        22      3    86%\r\n"
     ]
    }
   ],
   "source": [
    "# Getting the info out of our new .coverage file\n",
    "# This -m flag indicates we want to inclusde the \"Missing\" column\n",
    "# The \"Missing\" column tells us which lines of code are not covered by tests\n",
    "!coverage report -m"
   ]
  },
  {
   "cell_type": "code",
   "execution_count": 5,
   "metadata": {},
   "outputs": [
    {
     "name": "stdout",
     "output_type": "stream",
     "text": [
      "Wrote HTML report to htmlcov/index.html\r\n"
     ]
    }
   ],
   "source": [
    "# Create an HTML version of the output above\n",
    "# You can actually click on the modules listed in the html file to load up an \n",
    "# annotated web page that shows you what parts of the code are not covered. \n",
    "!coverage html"
   ]
  },
  {
   "cell_type": "code",
   "execution_count": 6,
   "metadata": {},
   "outputs": [],
   "source": [
    "# Next we add the following test to our test file to get full coverage\n",
    "import unittest\n",
    "\n",
    "class TestMultiply(unittest.TestCase):\n",
    "    \"\"\"\n",
    "    Test the multiply function from the mymath library\n",
    "    \"\"\"\n",
    "\n",
    "    def test_subtract_integers(self):\n",
    "        \"\"\"\n",
    "        Test that multiplying integers returns the correct result\n",
    "        \"\"\"\n",
    "        result = mymath.multiply(5, 50)\n",
    "        self.assertEqual(result, 250)\n",
    "\n",
    "\n",
    "class TestDivide(unittest.TestCase):\n",
    "    \"\"\"\n",
    "    Test the divide function from the mymath library\n",
    "    \"\"\"\n",
    "\n",
    "    def test_divide_by_zero(self):\n",
    "        \"\"\"\n",
    "        Test that multiplying integers returns the correct result\n",
    "        \"\"\"\n",
    "        with self.assertRaises(ZeroDivisionError):\n",
    "            result = mymath.divide(8, 0)"
   ]
  },
  {
   "cell_type": "code",
   "execution_count": 11,
   "metadata": {
    "scrolled": false
   },
   "outputs": [
    {
     "name": "stdout",
     "output_type": "stream",
     "text": [
      "......\r\n",
      "----------------------------------------------------------------------\r\n",
      "Ran 6 tests in 0.000s\r\n",
      "\r\n",
      "OK\r\n"
     ]
    }
   ],
   "source": [
    "# Run coverage on new test file\n",
    "!coverage run arithmetic_unittests_full_coverage.py"
   ]
  },
  {
   "cell_type": "code",
   "execution_count": 13,
   "metadata": {},
   "outputs": [
    {
     "name": "stdout",
     "output_type": "stream",
     "text": [
      "Name                                    Stmts   Miss  Cover   Missing\r\n",
      "---------------------------------------------------------------------\r\n",
      "arithmetic_functions.py                     8      0   100%\r\n",
      "arithmetic_unittests_full_coverage.py      26      0   100%\r\n",
      "---------------------------------------------------------------------\r\n",
      "TOTAL                                      34      0   100%\r\n"
     ]
    }
   ],
   "source": [
    "# Rerun coverage report\n",
    "# We should see 100% covered now!\n",
    "!coverage report -m"
   ]
  },
  {
   "cell_type": "markdown",
   "metadata": {},
   "source": [
    "This module will give us a good idea of basic coverage even if it can’t tell us if we’ve tested every possible argument permutation imaginable."
   ]
  }
 ],
 "metadata": {
  "kernelspec": {
   "display_name": "Python 3 (ipykernel)",
   "language": "python",
   "name": "python3"
  },
  "language_info": {
   "codemirror_mode": {
    "name": "ipython",
    "version": 3
   },
   "file_extension": ".py",
   "mimetype": "text/x-python",
   "name": "python",
   "nbconvert_exporter": "python",
   "pygments_lexer": "ipython3",
   "version": "3.8.6"
  },
  "toc": {
   "base_numbering": 1,
   "nav_menu": {},
   "number_sections": true,
   "sideBar": true,
   "skip_h1_title": false,
   "title_cell": "Table of Contents",
   "title_sidebar": "Contents",
   "toc_cell": false,
   "toc_position": {},
   "toc_section_display": true,
   "toc_window_display": false
  }
 },
 "nbformat": 4,
 "nbformat_minor": 4
}
