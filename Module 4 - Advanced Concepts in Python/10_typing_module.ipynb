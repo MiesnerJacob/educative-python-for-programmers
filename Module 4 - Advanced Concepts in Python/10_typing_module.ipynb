{
 "cells": [
  {
   "cell_type": "markdown",
   "metadata": {},
   "source": [
    "# The typing Module"
   ]
  },
  {
   "cell_type": "markdown",
   "metadata": {},
   "source": [
    "## Getting Started\n",
    "\n",
    "Type hinting is kind of declaring your functions arguments to have a certain type. However the type hinting is not binding."
   ]
  },
  {
   "cell_type": "code",
   "execution_count": 5,
   "metadata": {},
   "outputs": [
    {
     "name": "stdout",
     "output_type": "stream",
     "text": [
      "Mike entered 13\n",
      "None\n"
     ]
    }
   ],
   "source": [
    "# Type after colon indicates argument types, type after arrow indicates return type\n",
    "def some_function(number: int, name: str) -> None:\n",
    "    print(\"%s entered %s\" % (name, number))\n",
    "\n",
    "\n",
    "print (some_function(13, 'Mike'))\n",
    "#Mike entered 13"
   ]
  },
  {
   "cell_type": "code",
   "execution_count": 7,
   "metadata": {},
   "outputs": [
    {
     "name": "stdout",
     "output_type": "stream",
     "text": [
      "True\n",
      "False\n"
     ]
    }
   ],
   "source": [
    "# Function Without type hinting\n",
    "\n",
    "def process_data(my_list, name):\n",
    "    if name in my_list:\n",
    "        return True\n",
    "    else:\n",
    "        return False\n",
    "\n",
    "my_list = ['Mike', 'Nick', 'Toby']\n",
    "print( process_data(my_list, 'Mike') )\n",
    "print( process_data(my_list, 'John') )"
   ]
  },
  {
   "cell_type": "code",
   "execution_count": 8,
   "metadata": {},
   "outputs": [
    {
     "name": "stdout",
     "output_type": "stream",
     "text": [
      "True\n",
      "False\n"
     ]
    }
   ],
   "source": [
    "# Function with type hinting\n",
    "\n",
    "def process_data(my_list: list, name: str) -> bool:\n",
    "    if name in my_list:\n",
    "        return True\n",
    "    else:\n",
    "        return False\n",
    "\n",
    "my_list = ['Mike', 'Nick', 'Toby']\n",
    "print( process_data(my_list, 'Mike') )\n",
    "print( process_data(my_list, 'John') )"
   ]
  },
  {
   "cell_type": "code",
   "execution_count": 10,
   "metadata": {},
   "outputs": [
    {
     "name": "stdout",
     "output_type": "stream",
     "text": [
      "The zoo has 10 Zebras\n"
     ]
    }
   ],
   "source": [
    "# Using alias in type hinting\n",
    "\n",
    "Animal = str\n",
    "\n",
    "def zoo(animal: Animal, number: int) -> None:\n",
    "    print(\"The zoo has %s %s\" % (number, animal))\n",
    "\n",
    "zoo('Zebras', 10)"
   ]
  },
  {
   "cell_type": "markdown",
   "metadata": {},
   "source": [
    "## Type Hints and Overloaded Functions"
   ]
  },
  {
   "cell_type": "code",
   "execution_count": 16,
   "metadata": {},
   "outputs": [],
   "source": [
    "## Here we add type hints to overloaded functions\n",
    "## Now its easy to see what the agrument types should be\n",
    "from functools import singledispatch\n",
    "\n",
    "\n",
    "@singledispatch\n",
    "def add(a, b):\n",
    "    raise NotImplementedError('Unsupported type')\n",
    "\n",
    "\n",
    "@add.register(int)\n",
    "def _(a: int, b: int) -> int:\n",
    "    print(\"First argument is of type \", type(a))\n",
    "    print(a + b)\n",
    "    return a + b\n",
    "\n",
    "\n",
    "@add.register(str)\n",
    "def _(a: str, b: str) -> str:\n",
    "    print(\"First argument is of type \", type(a))\n",
    "    print(a + b)\n",
    "    return a + b\n",
    "\n",
    "\n",
    "@add.register(list)\n",
    "def _(a: list, b: list) -> list:\n",
    "    print(\"First argument is of type \", type(a))\n",
    "    print(a + b)\n",
    "    return a + b"
   ]
  }
 ],
 "metadata": {
  "kernelspec": {
   "display_name": "Python 3 (ipykernel)",
   "language": "python",
   "name": "python3"
  },
  "language_info": {
   "codemirror_mode": {
    "name": "ipython",
    "version": 3
   },
   "file_extension": ".py",
   "mimetype": "text/x-python",
   "name": "python",
   "nbconvert_exporter": "python",
   "pygments_lexer": "ipython3",
   "version": "3.8.6"
  },
  "toc": {
   "base_numbering": 1,
   "nav_menu": {},
   "number_sections": true,
   "sideBar": true,
   "skip_h1_title": false,
   "title_cell": "Table of Contents",
   "title_sidebar": "Contents",
   "toc_cell": false,
   "toc_position": {},
   "toc_section_display": true,
   "toc_window_display": false
  }
 },
 "nbformat": 4,
 "nbformat_minor": 4
}
