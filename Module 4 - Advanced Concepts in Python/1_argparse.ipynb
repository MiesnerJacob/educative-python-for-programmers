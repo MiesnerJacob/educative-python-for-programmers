{
 "cells": [
  {
   "cell_type": "markdown",
   "metadata": {},
   "source": [
    "# An Intro to Argument Parsing using argparse"
   ]
  },
  {
   "cell_type": "markdown",
   "metadata": {},
   "source": [
    "## How to process command line arguments?"
   ]
  },
  {
   "cell_type": "code",
   "execution_count": 20,
   "metadata": {},
   "outputs": [
    {
     "name": "stdout",
     "output_type": "stream",
     "text": [
      "usage: ipykernel_launcher.py [-h]\n",
      "\n",
      "A simple argument parser\n",
      "\n",
      "optional arguments:\n",
      "  -h, --help  show this help message and exit\n",
      "\n",
      "This is where you might put example usage\n"
     ]
    }
   ],
   "source": [
    "# Creating parse and printing help\n",
    "\n",
    "import argparse\n",
    "parser = argparse.ArgumentParser(\n",
    "         description=\"A simple argument parser\",\n",
    "         epilog=\"This is where you might put example usage\"\n",
    "     )\n",
    " \n",
    "parser.print_help()\n",
    "#usage:  __ed_file.py [-h]\n",
    "\n",
    "#A simple argument parser\n",
    "\n",
    "#optional arguments:\n",
    "#  -h, --help  show this help message and exit\n",
    "\n",
    "#This is where you might put example usage"
   ]
  },
  {
   "cell_type": "code",
   "execution_count": 19,
   "metadata": {},
   "outputs": [],
   "source": [
    "# Moving code to a python function\n",
    "# arg_demo.py\n",
    "\n",
    "import argparse\n",
    "\n",
    "\n",
    "def get_args():\n",
    "    \"\"\"\"\"\"\n",
    "    parser = argparse.ArgumentParser(\n",
    "        description=\"A simple argument parser\",\n",
    "        epilog=\"This is where you might put example usage\"\n",
    "    )\n",
    "    return parser.parse_args()\n",
    "\n",
    "if __name__ == '__main__':\n",
    "    get_args()"
   ]
  },
  {
   "cell_type": "code",
   "execution_count": 37,
   "metadata": {},
   "outputs": [
    {
     "name": "stdout",
     "output_type": "stream",
     "text": [
      "usage: arg_demo.py [-h]\r\n",
      "\r\n",
      "A simple argument parser\r\n",
      "\r\n",
      "optional arguments:\r\n",
      "  -h, --help  show this help message and exit\r\n",
      "\r\n",
      "This is where you might put example usage\r\n"
     ]
    }
   ],
   "source": [
    "# Calling python file using Command Line\n",
    "!python 1_arg_demos/arg_demo.py -h"
   ]
  },
  {
   "cell_type": "markdown",
   "metadata": {},
   "source": [
    "## Adding Arguements"
   ]
  },
  {
   "cell_type": "code",
   "execution_count": 11,
   "metadata": {},
   "outputs": [],
   "source": [
    "# Adding one required arguement, and two optional\n",
    "# arg_demo2.py\n",
    "\n",
    "import argparse\n",
    "\n",
    "\n",
    "def get_args():\n",
    "    \"\"\"\"\"\"\n",
    "    parser = argparse.ArgumentParser(\n",
    "        description=\"A simple argument parser\",\n",
    "        epilog=\"This is where you might put example usage\"\n",
    "    )\n",
    "\n",
    "    # required argument\n",
    "    parser.add_argument('-x', action=\"store\", required=True,\n",
    "                        help='Help text for option X')\n",
    "    # optional arguments\n",
    "    parser.add_argument('-y', help='Help text for option Y', default=False)\n",
    "    parser.add_argument('-z', help='Help text for option Z', type=int)\n",
    "    print(parser.parse_args())\n",
    "\n",
    "if __name__ == '__main__':\n",
    "    get_args()"
   ]
  },
  {
   "cell_type": "code",
   "execution_count": 38,
   "metadata": {},
   "outputs": [
    {
     "name": "stdout",
     "output_type": "stream",
     "text": [
      "usage: arg_demo2.py [-h] -x X [-y Y] [-z Z]\r\n",
      "arg_demo2.py: error: the following arguments are required: -x\r\n"
     ]
    }
   ],
   "source": [
    "# Testing out new python file\n",
    "!python 1_arg_demos/arg_demo2.py"
   ]
  },
  {
   "cell_type": "code",
   "execution_count": 39,
   "metadata": {},
   "outputs": [
    {
     "name": "stdout",
     "output_type": "stream",
     "text": [
      "Namespace(x='something', y='text', z=None)\r\n"
     ]
    }
   ],
   "source": [
    "# Testing out new python file\n",
    "!python 1_arg_demos/arg_demo2.py -x something -y text"
   ]
  },
  {
   "cell_type": "code",
   "execution_count": 40,
   "metadata": {},
   "outputs": [
    {
     "name": "stdout",
     "output_type": "stream",
     "text": [
      "usage: arg_demo2.py [-h] -x X [-y Y] [-z Z]\r\n",
      "arg_demo2.py: error: argument -z: invalid int value: 'text'\r\n"
     ]
    }
   ],
   "source": [
    "# Testing out new python file\n",
    "!python 1_arg_demos/arg_demo2.py -x something -z text"
   ]
  },
  {
   "cell_type": "code",
   "execution_count": 41,
   "metadata": {},
   "outputs": [
    {
     "name": "stdout",
     "output_type": "stream",
     "text": [
      "Namespace(x='something', y=False, z=10)\r\n"
     ]
    }
   ],
   "source": [
    "# Testing out new python file\n",
    "!python 1_arg_demos/arg_demo2.py -x something -z 10"
   ]
  },
  {
   "cell_type": "markdown",
   "metadata": {},
   "source": [
    "## Short Options and Long Options"
   ]
  },
  {
   "cell_type": "code",
   "execution_count": 16,
   "metadata": {},
   "outputs": [
    {
     "data": {
      "text/plain": [
       "_StoreAction(option_strings=['-x'], dest='x', nargs=None, const=None, default=None, type=None, choices=None, help='Help text for option X', metavar=None)"
      ]
     },
     "execution_count": 16,
     "metadata": {},
     "output_type": "execute_result"
    }
   ],
   "source": [
    "# Short Option\n",
    "parser.add_argument('-x', action='store', required=True,\n",
    "                    help='Help text for option X')"
   ]
  },
  {
   "cell_type": "code",
   "execution_count": 21,
   "metadata": {},
   "outputs": [
    {
     "data": {
      "text/plain": [
       "_StoreAction(option_strings=['-x', '--execute'], dest='execute', nargs=None, const=None, default=None, type=None, choices=None, help='Help text for option X', metavar=None)"
      ]
     },
     "execution_count": 21,
     "metadata": {},
     "output_type": "execute_result"
    }
   ],
   "source": [
    "# Adding Long Option\n",
    "parser.add_argument('-x', '--execute', action='store', required=True,\n",
    "                    help='Help text for option X')                        "
   ]
  },
  {
   "cell_type": "markdown",
   "metadata": {},
   "source": [
    "## Options that conflict"
   ]
  },
  {
   "cell_type": "code",
   "execution_count": 28,
   "metadata": {},
   "outputs": [],
   "source": [
    "# Can use add_mutually_exclusive_group() to prevent using certain options together\n",
    "# arg_demo3.py\n",
    "\n",
    "import argparse\n",
    "\n",
    "\n",
    "def get_args():\n",
    "    \"\"\"\"\"\"\n",
    "    parser = argparse.ArgumentParser(\n",
    "        description=\"A simple argument parser\",\n",
    "        epilog=\"This is where you might put example usage\"\n",
    "    )\n",
    "\n",
    "    group = parser.add_mutually_exclusive_group()\n",
    "    group.add_argument('-x', '--execute', action=\"store\",\n",
    "                        help='Help text for option X')\n",
    "    group.add_argument('-y', help='Help text for option Y', default=False)\n",
    "\n",
    "    parser.add_argument('-z', help='Help text for option Z', type=int)\n",
    "    print(parser.parse_args())\n",
    "\n",
    "if __name__ == '__main__':\n",
    "    get_args()"
   ]
  },
  {
   "cell_type": "code",
   "execution_count": 42,
   "metadata": {},
   "outputs": [
    {
     "name": "stdout",
     "output_type": "stream",
     "text": [
      "usage: arg_demo3.py [-h] [-x EXECUTE | -y Y] [-z Z]\r\n",
      "arg_demo3.py: error: argument -y: not allowed with argument -x/--execute\r\n"
     ]
    }
   ],
   "source": [
    "# Trying to call conflicting options\n",
    "!python 1_arg_demos/arg_demo3.py -x 10 -y 2 -z 10"
   ]
  }
 ],
 "metadata": {
  "kernelspec": {
   "display_name": "Python 3",
   "language": "python",
   "name": "python3"
  },
  "language_info": {
   "codemirror_mode": {
    "name": "ipython",
    "version": 3
   },
   "file_extension": ".py",
   "mimetype": "text/x-python",
   "name": "python",
   "nbconvert_exporter": "python",
   "pygments_lexer": "ipython3",
   "version": "3.8.6"
  },
  "toc": {
   "base_numbering": 1,
   "nav_menu": {},
   "number_sections": true,
   "sideBar": true,
   "skip_h1_title": false,
   "title_cell": "Table of Contents",
   "title_sidebar": "Contents",
   "toc_cell": false,
   "toc_position": {},
   "toc_section_display": true,
   "toc_window_display": false
  }
 },
 "nbformat": 4,
 "nbformat_minor": 4
}
