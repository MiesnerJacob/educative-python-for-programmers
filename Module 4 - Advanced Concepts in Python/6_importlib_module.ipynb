{
 "cells": [
  {
   "cell_type": "markdown",
   "metadata": {},
   "source": [
    "# The importlib Module"
   ]
  },
  {
   "cell_type": "markdown",
   "metadata": {},
   "source": [
    "## importlib package\n",
    "\n",
    "importlib is included in Pythons standard libraries. Its purpose is to provide the implementation to Python's import statement. importlib also gives users the ability to create custom import statements called \"importers\".\n"
   ]
  },
  {
   "cell_type": "markdown",
   "metadata": {},
   "source": [
    "## Dynamic Imports\n",
    "\n",
    "Importing modules passed as a string."
   ]
  },
  {
   "cell_type": "code",
   "execution_count": 1,
   "metadata": {
    "scrolled": true
   },
   "outputs": [
    {
     "name": "stdout",
     "output_type": "stream",
     "text": [
      "\u001b[34m1_arg_demos\u001b[m\u001b[m                5_imports.ipynb\r\n",
      "1_argparse.ipynb           \u001b[34m6_import_lib_demos\u001b[m\u001b[m\r\n",
      "\u001b[34m2_collections_demos\u001b[m\u001b[m        6_importlib_module.ipynb\r\n",
      "2_collections_module.ipynb README.md\r\n",
      "\u001b[34m3_context_manager_demos\u001b[m\u001b[m    test.db\r\n",
      "3_context_managers.ipynb   test.txt\r\n",
      "4_functools_module.ipynb   text.txt\r\n"
     ]
    }
   ],
   "source": [
    "!ls"
   ]
  },
  {
   "cell_type": "code",
   "execution_count": 2,
   "metadata": {},
   "outputs": [
    {
     "name": "stdout",
     "output_type": "stream",
     "text": [
      "/Users/miesner.jacob/python-for-programmers-educative/Module 4 - Advanced Concepts in Python/6_import_lib_demos\n"
     ]
    }
   ],
   "source": [
    "%cd 6_import_lib_demos"
   ]
  },
  {
   "cell_type": "code",
   "execution_count": 3,
   "metadata": {},
   "outputs": [
    {
     "name": "stdout",
     "output_type": "stream",
     "text": [
      "\u001b[34m__pycache__\u001b[m\u001b[m bar.py      foo.py      main.py\r\n"
     ]
    }
   ],
   "source": [
    "!ls"
   ]
  },
  {
   "cell_type": "code",
   "execution_count": 4,
   "metadata": {},
   "outputs": [
    {
     "name": "stdout",
     "output_type": "stream",
     "text": [
      "foo\n",
      "bar\n"
     ]
    }
   ],
   "source": [
    " # importer.py}\n",
    "import importlib\n",
    "import foo\n",
    "\n",
    "\n",
    "def dynamic_import(module):\n",
    "\n",
    "    return importlib.import_module(module)\n",
    "\n",
    "\n",
    "if __name__ == '__main__':\n",
    "    module = dynamic_import('foo')\n",
    "    module.main()\n",
    "\n",
    "    module_two = dynamic_import('bar')\n",
    "    module_two.main()"
   ]
  },
  {
   "cell_type": "code",
   "execution_count": 5,
   "metadata": {},
   "outputs": [
    {
     "name": "stdout",
     "output_type": "stream",
     "text": [
      "/Users/miesner.jacob/python-for-programmers-educative/Module 4 - Advanced Concepts in Python\n"
     ]
    }
   ],
   "source": [
    "%cd .."
   ]
  },
  {
   "cell_type": "markdown",
   "metadata": {},
   "source": [
    "## Module Import Checking\n",
    "\n",
    "There is a python coding style known as EAFP (Easier to ask for forgiveness than permission), which means that its easier to just assume something exists and then catch an error if it doesnt. Although, importlib allows us to check if a moduile can be imported first!"
   ]
  },
  {
   "cell_type": "code",
   "execution_count": 7,
   "metadata": {},
   "outputs": [
    {
     "name": "stdout",
     "output_type": "stream",
     "text": [
      "Module: fake_module not found\n",
      "Module: pandas can be imported!\n",
      "['BooleanDtype', 'Categorical', 'CategoricalDtype', 'CategoricalIndex', 'DataFrame', 'DateOffset', 'DatetimeIndex', 'DatetimeTZDtype', 'ExcelFile', 'ExcelWriter', 'Flags', 'Float32Dtype', 'Float64Dtype', 'Float64Index', 'Grouper', 'HDFStore', 'Index', 'IndexSlice', 'Int16Dtype', 'Int32Dtype', 'Int64Dtype', 'Int64Index', 'Int8Dtype', 'Interval', 'IntervalDtype', 'IntervalIndex', 'MultiIndex', 'NA', 'NaT', 'NamedAgg', 'Period', 'PeriodDtype', 'PeriodIndex', 'RangeIndex', 'Series', 'SparseDtype', 'StringDtype', 'Timedelta', 'TimedeltaIndex', 'Timestamp', 'UInt16Dtype', 'UInt32Dtype', 'UInt64Dtype', 'UInt64Index', 'UInt8Dtype', '__builtins__', '__cached__', '__doc__', '__docformat__', '__file__', '__getattr__', '__git_version__', '__loader__', '__name__', '__package__', '__path__', '__spec__', '__version__', '_hashtable', '_is_numpy_dev', '_lib', '_np_version_under1p17', '_np_version_under1p18', '_tslib', 'array', 'bdate_range', 'concat', 'crosstab', 'cut', 'date_range', 'describe_option', 'eval', 'factorize', 'get_dummies', 'get_option', 'infer_freq', 'interval_range', 'isna', 'isnull', 'json_normalize', 'lreshape', 'melt', 'merge', 'merge_asof', 'merge_ordered', 'notna', 'notnull', 'offsets', 'option_context', 'options', 'pandas', 'period_range', 'pivot', 'pivot_table', 'qcut', 'read_clipboard', 'read_csv', 'read_excel', 'read_feather', 'read_fwf', 'read_gbq', 'read_hdf', 'read_html', 'read_json', 'read_orc', 'read_parquet', 'read_pickle', 'read_sas', 'read_spss', 'read_sql', 'read_sql_query', 'read_sql_table', 'read_stata', 'read_table', 'reset_option', 'set_eng_float_format', 'set_option', 'show_versions', 'test', 'timedelta_range', 'to_datetime', 'to_numeric', 'to_pickle', 'to_timedelta', 'unique', 'value_counts', 'wide_to_long']\n"
     ]
    }
   ],
   "source": [
    "import importlib.util\n",
    "\n",
    "def check_module(module_name):\n",
    "    \"\"\"\n",
    "    Checks if module can be imported without actually\n",
    "    importing it\n",
    "    \"\"\"\n",
    "    module_spec = importlib.util.find_spec(module_name)\n",
    "    if module_spec is None:\n",
    "        print('Module: {} not found'.format(module_name))\n",
    "        return None\n",
    "    else:\n",
    "        print('Module: {} can be imported!'.format(module_name))\n",
    "        return module_spec\n",
    "\n",
    "\n",
    "def import_module_from_spec(module_spec):\n",
    "    \"\"\"\n",
    "    Import the module via the passed in module specification\n",
    "    Returns the newly imported module\n",
    "    \"\"\"\n",
    "    module = importlib.util.module_from_spec(module_spec)\n",
    "    module_spec.loader.exec_module(module)\n",
    "    return module\n",
    "\n",
    "if __name__ == '__main__':\n",
    "    module_spec = check_module('fake_module')\n",
    "    module_spec = check_module('pandas')\n",
    "    if module_spec:\n",
    "        module = import_module_from_spec(module_spec)\n",
    "        print(dir(module))"
   ]
  },
  {
   "cell_type": "markdown",
   "metadata": {},
   "source": [
    "## Import From Source File\n",
    "\n",
    "Import module using name and filepath."
   ]
  },
  {
   "cell_type": "code",
   "execution_count": 8,
   "metadata": {},
   "outputs": [
    {
     "name": "stdout",
     "output_type": "stream",
     "text": [
      "['BASIC_FORMAT', 'BufferingFormatter', 'CRITICAL', 'DEBUG', 'ERROR', 'FATAL', 'FileHandler', 'Filter', 'Filterer', 'Formatter', 'Handler', 'INFO', 'LogRecord', 'Logger', 'LoggerAdapter', 'Manager', 'NOTSET', 'NullHandler', 'PercentStyle', 'PlaceHolder', 'RootLogger', 'StrFormatStyle', 'StreamHandler', 'StringTemplateStyle', 'Template', 'WARN', 'WARNING', '_STYLES', '_StderrHandler', '__all__', '__author__', '__builtins__', '__cached__', '__date__', '__doc__', '__file__', '__loader__', '__name__', '__package__', '__path__', '__spec__', '__status__', '__version__', '_acquireLock', '_addHandlerRef', '_after_at_fork_child_reinit_locks', '_at_fork_reinit_lock_weakset', '_checkLevel', '_defaultFormatter', '_defaultLastResort', '_handlerList', '_handlers', '_levelToName', '_lock', '_logRecordFactory', '_loggerClass', '_nameToLevel', '_register_at_fork_reinit_lock', '_releaseLock', '_removeHandlerRef', '_showwarning', '_srcfile', '_startTime', '_str_formatter', '_warnings_showwarning', 'addLevelName', 'atexit', 'basicConfig', 'captureWarnings', 'collections', 'critical', 'currentframe', 'debug', 'disable', 'error', 'exception', 'fatal', 'getLevelName', 'getLogRecordFactory', 'getLogger', 'getLoggerClass', 'info', 'io', 'lastResort', 'log', 'logMultiprocessing', 'logProcesses', 'logThreads', 'makeLogRecord', 'os', 'raiseExceptions', 're', 'root', 'setLogRecordFactory', 'setLoggerClass', 'shutdown', 'sys', 'threading', 'time', 'traceback', 'warn', 'warning', 'warnings', 'weakref']\n",
      "The logging module has the following methods: ['BASIC_FORMAT', 'BufferingFormatter', 'CRITICAL', 'DEBUG', 'ERROR', 'FATAL', 'FileHandler', 'Filter', 'Filterer', 'Formatter', 'Handler', 'INFO', 'LogRecord', 'Logger', 'LoggerAdapter', 'Manager', 'NOTSET', 'NullHandler', 'PercentStyle', 'PlaceHolder', 'RootLogger', 'StrFormatStyle', 'StreamHandler', 'StringTemplateStyle', 'Template', 'WARN', 'WARNING', '_STYLES', '_StderrHandler', '__all__', '__author__', '__builtins__', '__cached__', '__date__', '__doc__', '__file__', '__loader__', '__name__', '__package__', '__path__', '__spec__', '__status__', '__version__', '_acquireLock', '_addHandlerRef', '_after_at_fork_child_reinit_locks', '_at_fork_reinit_lock_weakset', '_checkLevel', '_defaultFormatter', '_defaultLastResort', '_handlerList', '_handlers', '_levelToName', '_lock', '_logRecordFactory', '_loggerClass', '_nameToLevel', '_register_at_fork_reinit_lock', '_releaseLock', '_removeHandlerRef', '_showwarning', '_srcfile', '_startTime', '_str_formatter', '_warnings_showwarning', 'addLevelName', 'atexit', 'basicConfig', 'captureWarnings', 'collections', 'critical', 'currentframe', 'debug', 'disable', 'error', 'exception', 'fatal', 'getLevelName', 'getLogRecordFactory', 'getLogger', 'getLoggerClass', 'info', 'io', 'lastResort', 'log', 'logMultiprocessing', 'logProcesses', 'logThreads', 'makeLogRecord', 'os', 'raiseExceptions', 're', 'root', 'setLogRecordFactory', 'setLoggerClass', 'shutdown', 'sys', 'threading', 'time', 'traceback', 'warn', 'warning', 'warnings', 'weakref']\n"
     ]
    }
   ],
   "source": [
    "import importlib.util\n",
    "\n",
    "def import_source(module_name):\n",
    "    module_file_path = module_name.__file__\n",
    "    module_name = module_name.__name__\n",
    "\n",
    "    module_spec = importlib.util.spec_from_file_location(\n",
    "        module_name, module_file_path)\n",
    "    module = importlib.util.module_from_spec(module_spec)\n",
    "    module_spec.loader.exec_module(module)\n",
    "    print(dir(module))\n",
    "\n",
    "    msg = 'The {module_name} module has the following methods:' \\\n",
    "        ' {methods}'\n",
    "    print(msg.format(module_name=module_name, \n",
    "                     methods=dir(module)))\n",
    "\n",
    "if __name__ == '__main__':\n",
    "    import logging\n",
    "    import_source(logging)"
   ]
  },
  {
   "cell_type": "markdown",
   "metadata": {},
   "source": [
    "## import_from_github_com\n",
    "\n",
    "Loading modules from github using 3rd party module!"
   ]
  },
  {
   "cell_type": "code",
   "execution_count": 9,
   "metadata": {},
   "outputs": [
    {
     "name": "stdout",
     "output_type": "stream",
     "text": [
      "Collecting import_from_github_com\n",
      "  Downloading import_from_github_com-0.1-py3-none-any.whl (4.3 kB)\n",
      "Installing collected packages: import-from-github-com\n",
      "Successfully installed import-from-github-com-0.1\n",
      "\u001b[33mWARNING: You are using pip version 21.3; however, version 21.3.1 is available.\n",
      "You should consider upgrading via the '/Library/Frameworks/Python.framework/Versions/3.8/bin/python3.8 -m pip install --upgrade pip' command.\u001b[0m\n"
     ]
    }
   ],
   "source": [
    "!pip install import_from_github_com"
   ]
  },
  {
   "cell_type": "code",
   "execution_count": 11,
   "metadata": {
    "scrolled": false
   },
   "outputs": [
    {
     "name": "stderr",
     "output_type": "stream",
     "text": [
      "WARNING: pip is being invoked by an old script wrapper. This will fail in a future version of pip.\n",
      "Please see https://github.com/pypa/pip/issues/5599 for advice on fixing the underlying issue.\n",
      "To avoid this problem you can invoke Python with '-m pip' instead of running pip directly.\n"
     ]
    },
    {
     "name": "stdout",
     "output_type": "stream",
     "text": [
      "Collecting git+https://github.com/bast/somepackage\n",
      "  Cloning https://github.com/bast/somepackage to /private/var/folders/xh/fhzpv__n2mbg9shw10xrdnkm0000gn/T/pip-req-build-ia7btbjk\n"
     ]
    },
    {
     "name": "stderr",
     "output_type": "stream",
     "text": [
      "  Running command git clone --filter=blob:none -q https://github.com/bast/somepackage /private/var/folders/xh/fhzpv__n2mbg9shw10xrdnkm0000gn/T/pip-req-build-ia7btbjk\n"
     ]
    },
    {
     "name": "stdout",
     "output_type": "stream",
     "text": [
      "  Resolved https://github.com/bast/somepackage to commit e19fc96f254cdc92bb1400ef61be9640095394bd\n",
      "  Preparing metadata (setup.py): started\n",
      "  Preparing metadata (setup.py): finished with status 'done'\n",
      "Building wheels for collected packages: somepackage\n",
      "  Building wheel for somepackage (setup.py): started\n",
      "  Building wheel for somepackage (setup.py): finished with status 'done'\n",
      "  Created wheel for somepackage: filename=somepackage-1.2.3-py3-none-any.whl size=9520 sha256=ef7201998994ad31c7d606a4f0c094f7abeeabd8a3eb4f12c96cdfcc1a3b06c2\n",
      "  Stored in directory: /private/var/folders/xh/fhzpv__n2mbg9shw10xrdnkm0000gn/T/pip-ephem-wheel-cache-dur_l74l/wheels/fe/50/e9/57c3234af513a738899567f8e810a3ad80cc8ff1f44a7bd1ef\n",
      "Successfully built somepackage\n",
      "Installing collected packages: somepackage\n",
      "Successfully installed somepackage-1.2.3\n"
     ]
    },
    {
     "name": "stderr",
     "output_type": "stream",
     "text": [
      "WARNING: You are using pip version 21.3; however, version 21.3.1 is available.\n",
      "You should consider upgrading via the '/Library/Frameworks/Python.framework/Versions/3.8/bin/python3.8 -m pip install --upgrade pip' command.\n"
     ]
    },
    {
     "name": "stdout",
     "output_type": "stream",
     "text": [
      "{'__name__': '__main__', '__doc__': 'Automatically created module for IPython interactive environment', '__package__': None, '__loader__': None, '__spec__': None, '__builtin__': <module 'builtins' (built-in)>, '__builtins__': <module 'builtins' (built-in)>, '_ih': ['', \"get_ipython().system('ls')\", \"get_ipython().run_line_magic('cd', '6_import_lib_demos')\", \"get_ipython().system('ls')\", \"# importer.py}\\nimport importlib\\nimport foo\\n\\n\\ndef dynamic_import(module):\\n\\n   return importlib.import_module(module)\\n\\n\\nif __name__ == '__main__':\\n   module = dynamic_import('foo')\\n   module.main()\\n\\n   module_two = dynamic_import('bar')\\n   module_two.main()\", \"get_ipython().run_line_magic('cd', '..')\", 'import importlib.util\\n\\ndef check_module(module_name):\\n    \"\"\"\\n    Checks if module can be imported without actually\\n    importing it\\n    \"\"\"\\n    module_spec = importlib.util.find_spec(module_name)\\n    if module_spec is None:\\n        print(\\'Module: {} not found\\'.format(module_name))\\n        return None\\n    else:\\n        print(\\'Module: {} can be imported!\\'.format(module_name))\\n        return module_spec\\n\\n\\ndef import_module_from_spec(module_spec):\\n    \"\"\"\\n    Import the module via the passed in module specification\\n    Returns the newly imported module\\n    \"\"\"\\n    module = importlib.util.module_from_spec(module_spec)\\n    module_spec.loader.exec_module(module)\\n    return module\\n\\nif __name__ == \\'__main__\\':\\n    module_spec = check_module(\\'fake_module\\')\\n    module_spec = check_module(\\'collections\\')\\n    if module_spec:\\n        module = import_module_from_spec(module_spec)\\n        print(dir(module))', 'import importlib.util\\n\\ndef check_module(module_name):\\n    \"\"\"\\n    Checks if module can be imported without actually\\n    importing it\\n    \"\"\"\\n    module_spec = importlib.util.find_spec(module_name)\\n    if module_spec is None:\\n        print(\\'Module: {} not found\\'.format(module_name))\\n        return None\\n    else:\\n        print(\\'Module: {} can be imported!\\'.format(module_name))\\n        return module_spec\\n\\n\\ndef import_module_from_spec(module_spec):\\n    \"\"\"\\n    Import the module via the passed in module specification\\n    Returns the newly imported module\\n    \"\"\"\\n    module = importlib.util.module_from_spec(module_spec)\\n    module_spec.loader.exec_module(module)\\n    return module\\n\\nif __name__ == \\'__main__\\':\\n    module_spec = check_module(\\'fake_module\\')\\n    module_spec = check_module(\\'pandas\\')\\n    if module_spec:\\n        module = import_module_from_spec(module_spec)\\n        print(dir(module))', \"import importlib.util\\n\\ndef import_source(module_name):\\n    module_file_path = module_name.__file__\\n    module_name = module_name.__name__\\n\\n    module_spec = importlib.util.spec_from_file_location(\\n        module_name, module_file_path)\\n    module = importlib.util.module_from_spec(module_spec)\\n    module_spec.loader.exec_module(module)\\n    print(dir(module))\\n\\n    msg = 'The {module_name} module has the following methods:' \\\\\\n        ' {methods}'\\n    print(msg.format(module_name=module_name, \\n                     methods=dir(module)))\\n\\nif __name__ == '__main__':\\n    import logging\\n    import_source(logging)\", \"get_ipython().system('pip install import_from_github_com')\", 'from github_com.pytorch import pytorch\\n\\nprint(locals())', 'from github_com.bast import somepackage\\n\\nprint(locals())'], '_oh': {}, '_dh': ['/Users/miesner.jacob/python-for-programmers-educative/Module 4 - Advanced Concepts in Python', '/Users/miesner.jacob/python-for-programmers-educative/Module 4 - Advanced Concepts in Python/6_import_lib_demos', '/Users/miesner.jacob/python-for-programmers-educative/Module 4 - Advanced Concepts in Python'], 'In': ['', \"get_ipython().system('ls')\", \"get_ipython().run_line_magic('cd', '6_import_lib_demos')\", \"get_ipython().system('ls')\", \"# importer.py}\\nimport importlib\\nimport foo\\n\\n\\ndef dynamic_import(module):\\n\\n   return importlib.import_module(module)\\n\\n\\nif __name__ == '__main__':\\n   module = dynamic_import('foo')\\n   module.main()\\n\\n   module_two = dynamic_import('bar')\\n   module_two.main()\", \"get_ipython().run_line_magic('cd', '..')\", 'import importlib.util\\n\\ndef check_module(module_name):\\n    \"\"\"\\n    Checks if module can be imported without actually\\n    importing it\\n    \"\"\"\\n    module_spec = importlib.util.find_spec(module_name)\\n    if module_spec is None:\\n        print(\\'Module: {} not found\\'.format(module_name))\\n        return None\\n    else:\\n        print(\\'Module: {} can be imported!\\'.format(module_name))\\n        return module_spec\\n\\n\\ndef import_module_from_spec(module_spec):\\n    \"\"\"\\n    Import the module via the passed in module specification\\n    Returns the newly imported module\\n    \"\"\"\\n    module = importlib.util.module_from_spec(module_spec)\\n    module_spec.loader.exec_module(module)\\n    return module\\n\\nif __name__ == \\'__main__\\':\\n    module_spec = check_module(\\'fake_module\\')\\n    module_spec = check_module(\\'collections\\')\\n    if module_spec:\\n        module = import_module_from_spec(module_spec)\\n        print(dir(module))', 'import importlib.util\\n\\ndef check_module(module_name):\\n    \"\"\"\\n    Checks if module can be imported without actually\\n    importing it\\n    \"\"\"\\n    module_spec = importlib.util.find_spec(module_name)\\n    if module_spec is None:\\n        print(\\'Module: {} not found\\'.format(module_name))\\n        return None\\n    else:\\n        print(\\'Module: {} can be imported!\\'.format(module_name))\\n        return module_spec\\n\\n\\ndef import_module_from_spec(module_spec):\\n    \"\"\"\\n    Import the module via the passed in module specification\\n    Returns the newly imported module\\n    \"\"\"\\n    module = importlib.util.module_from_spec(module_spec)\\n    module_spec.loader.exec_module(module)\\n    return module\\n\\nif __name__ == \\'__main__\\':\\n    module_spec = check_module(\\'fake_module\\')\\n    module_spec = check_module(\\'pandas\\')\\n    if module_spec:\\n        module = import_module_from_spec(module_spec)\\n        print(dir(module))', \"import importlib.util\\n\\ndef import_source(module_name):\\n    module_file_path = module_name.__file__\\n    module_name = module_name.__name__\\n\\n    module_spec = importlib.util.spec_from_file_location(\\n        module_name, module_file_path)\\n    module = importlib.util.module_from_spec(module_spec)\\n    module_spec.loader.exec_module(module)\\n    print(dir(module))\\n\\n    msg = 'The {module_name} module has the following methods:' \\\\\\n        ' {methods}'\\n    print(msg.format(module_name=module_name, \\n                     methods=dir(module)))\\n\\nif __name__ == '__main__':\\n    import logging\\n    import_source(logging)\", \"get_ipython().system('pip install import_from_github_com')\", 'from github_com.pytorch import pytorch\\n\\nprint(locals())', 'from github_com.bast import somepackage\\n\\nprint(locals())'], 'Out': {}, 'get_ipython': <bound method InteractiveShell.get_ipython of <ipykernel.zmqshell.ZMQInteractiveShell object at 0x10c352b50>>, 'exit': <IPython.core.autocall.ZMQExitAutocall object at 0x10c38a9a0>, 'quit': <IPython.core.autocall.ZMQExitAutocall object at 0x10c38a9a0>, '_': '', '__': '', '___': '', 'json': <module 'json' from '/Library/Frameworks/Python.framework/Versions/3.8/lib/python3.8/json/__init__.py'>, 'yapf_reformat': <function yapf_reformat at 0x10c468d30>, '_i': 'from github_com.pytorch import pytorch\\n\\nprint(locals())', '_ii': '!pip install import_from_github_com', '_iii': \"import importlib.util\\n\\ndef import_source(module_name):\\n    module_file_path = module_name.__file__\\n    module_name = module_name.__name__\\n\\n    module_spec = importlib.util.spec_from_file_location(\\n        module_name, module_file_path)\\n    module = importlib.util.module_from_spec(module_spec)\\n    module_spec.loader.exec_module(module)\\n    print(dir(module))\\n\\n    msg = 'The {module_name} module has the following methods:' \\\\\\n        ' {methods}'\\n    print(msg.format(module_name=module_name, \\n                     methods=dir(module)))\\n\\nif __name__ == '__main__':\\n    import logging\\n    import_source(logging)\", '_i1': '!ls', '_exit_code': 0, '_i2': '%cd 6_import_lib_demos', '_i3': '!ls', '_i4': \" # importer.py}\\nimport importlib\\nimport foo\\n\\n\\ndef dynamic_import(module):\\n\\n    return importlib.import_module(module)\\n\\n\\nif __name__ == '__main__':\\n    module = dynamic_import('foo')\\n    module.main()\\n\\n    module_two = dynamic_import('bar')\\n    module_two.main()\", 'importlib': <module 'importlib' from '/Library/Frameworks/Python.framework/Versions/3.8/lib/python3.8/importlib/__init__.py'>, 'foo': <module 'foo' from '/Users/miesner.jacob/python-for-programmers-educative/Module 4 - Advanced Concepts in Python/6_import_lib_demos/foo.py'>, 'dynamic_import': <function dynamic_import at 0x10c468f70>, 'module': <module 'pandas' from '/Library/Frameworks/Python.framework/Versions/3.8/lib/python3.8/site-packages/pandas/__init__.py'>, 'module_two': <module 'bar' from '/Users/miesner.jacob/python-for-programmers-educative/Module 4 - Advanced Concepts in Python/6_import_lib_demos/bar.py'>, '_i5': '%cd ..', '_i6': 'import importlib.util\\n\\ndef check_module(module_name):\\n    \"\"\"\\n    Checks if module can be imported without actually\\n    importing it\\n    \"\"\"\\n    module_spec = importlib.util.find_spec(module_name)\\n    if module_spec is None:\\n        print(\\'Module: {} not found\\'.format(module_name))\\n        return None\\n    else:\\n        print(\\'Module: {} can be imported!\\'.format(module_name))\\n        return module_spec\\n\\n\\ndef import_module_from_spec(module_spec):\\n    \"\"\"\\n    Import the module via the passed in module specification\\n    Returns the newly imported module\\n    \"\"\"\\n    module = importlib.util.module_from_spec(module_spec)\\n    module_spec.loader.exec_module(module)\\n    return module\\n\\nif __name__ == \\'__main__\\':\\n    module_spec = check_module(\\'fake_module\\')\\n    module_spec = check_module(\\'collections\\')\\n    if module_spec:\\n        module = import_module_from_spec(module_spec)\\n        print(dir(module))', 'check_module': <function check_module at 0x10c4e08b0>, 'import_module_from_spec': <function import_module_from_spec at 0x10c4689d0>, 'module_spec': ModuleSpec(name='pandas', loader=<_frozen_importlib_external.SourceFileLoader object at 0x10c4c10a0>, origin='/Library/Frameworks/Python.framework/Versions/3.8/lib/python3.8/site-packages/pandas/__init__.py', submodule_search_locations=['/Library/Frameworks/Python.framework/Versions/3.8/lib/python3.8/site-packages/pandas']), '_i7': 'import importlib.util\\n\\ndef check_module(module_name):\\n    \"\"\"\\n    Checks if module can be imported without actually\\n    importing it\\n    \"\"\"\\n    module_spec = importlib.util.find_spec(module_name)\\n    if module_spec is None:\\n        print(\\'Module: {} not found\\'.format(module_name))\\n        return None\\n    else:\\n        print(\\'Module: {} can be imported!\\'.format(module_name))\\n        return module_spec\\n\\n\\ndef import_module_from_spec(module_spec):\\n    \"\"\"\\n    Import the module via the passed in module specification\\n    Returns the newly imported module\\n    \"\"\"\\n    module = importlib.util.module_from_spec(module_spec)\\n    module_spec.loader.exec_module(module)\\n    return module\\n\\nif __name__ == \\'__main__\\':\\n    module_spec = check_module(\\'fake_module\\')\\n    module_spec = check_module(\\'pandas\\')\\n    if module_spec:\\n        module = import_module_from_spec(module_spec)\\n        print(dir(module))', '_i8': \"import importlib.util\\n\\ndef import_source(module_name):\\n    module_file_path = module_name.__file__\\n    module_name = module_name.__name__\\n\\n    module_spec = importlib.util.spec_from_file_location(\\n        module_name, module_file_path)\\n    module = importlib.util.module_from_spec(module_spec)\\n    module_spec.loader.exec_module(module)\\n    print(dir(module))\\n\\n    msg = 'The {module_name} module has the following methods:' \\\\\\n        ' {methods}'\\n    print(msg.format(module_name=module_name, \\n                     methods=dir(module)))\\n\\nif __name__ == '__main__':\\n    import logging\\n    import_source(logging)\", 'import_source': <function import_source at 0x10c3751f0>, 'logging': <module 'logging' from '/Library/Frameworks/Python.framework/Versions/3.8/lib/python3.8/logging/__init__.py'>, '_i9': '!pip install import_from_github_com', '_i10': 'from github_com.pytorch import pytorch\\n\\nprint(locals())', '_i11': 'from github_com.bast import somepackage\\n\\nprint(locals())', 'somepackage': <module 'somepackage' from '/Library/Frameworks/Python.framework/Versions/3.8/lib/python3.8/site-packages/somepackage/__init__.py'>}\n"
     ]
    }
   ],
   "source": [
    "from github_com.bast import somepackage\n",
    "\n",
    "print(locals())"
   ]
  }
 ],
 "metadata": {
  "kernelspec": {
   "display_name": "Python 3",
   "language": "python",
   "name": "python3"
  },
  "language_info": {
   "codemirror_mode": {
    "name": "ipython",
    "version": 3
   },
   "file_extension": ".py",
   "mimetype": "text/x-python",
   "name": "python",
   "nbconvert_exporter": "python",
   "pygments_lexer": "ipython3",
   "version": "3.8.6"
  },
  "toc": {
   "base_numbering": 1,
   "nav_menu": {},
   "number_sections": true,
   "sideBar": true,
   "skip_h1_title": false,
   "title_cell": "Table of Contents",
   "title_sidebar": "Contents",
   "toc_cell": false,
   "toc_position": {},
   "toc_section_display": true,
   "toc_window_display": false
  }
 },
 "nbformat": 4,
 "nbformat_minor": 4
}
