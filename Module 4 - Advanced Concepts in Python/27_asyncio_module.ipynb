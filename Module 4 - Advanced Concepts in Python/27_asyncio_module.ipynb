{
 "cells": [
  {
   "cell_type": "markdown",
   "metadata": {},
   "source": [
    "# The asyncio Module\n",
    "\n",
    "According to Python's documentation the asyncio module \"provides infrastructure for writing single-threaded concurrent code using coroutines, multiplexing I/O access over sockets and other resources, running network clients and servers, and other related primitives“."
   ]
  },
  {
   "cell_type": "markdown",
   "metadata": {},
   "source": [
    "## Getting Started\n",
    "\n",
    "Asyncio is built around the event loop. An event loops waits for something to happen then acts on the event. It handles I/O and ssystem events. An event loop basically says when A happenns execute B.\n",
    "\n",
    "Another important aspect of asyncio is the coroutine which is a special function that gives control up to the caller without losing its statre. One of the big benefiots over threads is that they dont use much memory. When you call a coroutine function it doesn't execute right away, instead it will return a coroutine object that you can pass to the event loop to have it executed either immediately or later on.\n",
    "\n",
    "A future is basically an object that represents the result of work that hasn’t completed. A Task is a wrapper for a coroutine and a subclass of Future.\n",
    "\n",
    "The use of coroutines can speed up your python code significantly by starting on new executions while waiting for previous ones to return values."
   ]
  },
  {
   "cell_type": "markdown",
   "metadata": {},
   "source": [
    "## async and await\n",
    "\n",
    "Starting in Python 3.5 you can create coroutines with native syntac using the async and await special keywords."
   ]
  },
  {
   "cell_type": "code",
   "execution_count": 5,
   "metadata": {},
   "outputs": [],
   "source": [
    "# Simple coroutine example\n",
    "# The async / await keywords can be considered an API to be used for asynchronous programming.\n",
    "import asyncio\n",
    "\n",
    "async def my_coroutine():\n",
    "    await func()"
   ]
  },
  {
   "cell_type": "markdown",
   "metadata": {},
   "source": [
    "## A Bad Coroutine Example"
   ]
  },
  {
   "cell_type": "code",
   "execution_count": 10,
   "metadata": {},
   "outputs": [
    {
     "name": "stdout",
     "output_type": "stream",
     "text": [
      "Finished downloading f1040sb.pdf\n",
      "Finished downloading f1040.pdf\n",
      "Finished downloading f1040ez.pdf\n",
      "Finished downloading f1040a.pdf\n",
      "Finished downloading f1040es.pdf\n"
     ]
    }
   ],
   "source": [
    "# using async to download files\n",
    "# this is much faster than calling sequentially\n",
    "# Have to use different syntax from example to make this compatible with jupyter notebooks\n",
    "# jupyter runtimes have a default event loop running so no need to create one\n",
    "\n",
    "import asyncio\n",
    "import os\n",
    "import urllib.request\n",
    "\n",
    "async def download_coroutine(url):\n",
    "    \"\"\"\n",
    "    A coroutine to download the specified url\n",
    "    \"\"\"\n",
    "    request = urllib.request.urlopen(url)\n",
    "    filename = os.path.basename(url)\n",
    "\n",
    "    with open(filename, 'wb') as file_handle:\n",
    "        while True:\n",
    "            chunk = request.read(1024)\n",
    "            if not chunk:\n",
    "                break\n",
    "            file_handle.write(chunk)\n",
    "    msg = 'Finished downloading {filename}'.format(filename=filename)\n",
    "    return msg\n",
    "\n",
    "async def main(urls):\n",
    "    \"\"\"\n",
    "    Creates a group of coroutines and waits for them to finish\n",
    "    \"\"\"\n",
    "    coroutines = [download_coroutine(url) for url in urls]\n",
    "    completed, pending = await asyncio.wait(coroutines)\n",
    "    for item in completed:\n",
    "        print(item.result())\n",
    "\n",
    "\n",
    "if __name__ == '__main__':\n",
    "    urls = [\"http://www.irs.gov/pub/irs-pdf/f1040.pdf\",\n",
    "            \"http://www.irs.gov/pub/irs-pdf/f1040a.pdf\",\n",
    "            \"http://www.irs.gov/pub/irs-pdf/f1040ez.pdf\",\n",
    "            \"http://www.irs.gov/pub/irs-pdf/f1040es.pdf\",\n",
    "            \"http://www.irs.gov/pub/irs-pdf/f1040sb.pdf\"]\n",
    "\n",
    "    await main(urls)"
   ]
  },
  {
   "cell_type": "markdown",
   "metadata": {},
   "source": [
    "Since the urllib package is not asynchronous this is not event a real coroutine at all. A better way to do this would be to use the aiohttp package. Let’s look at that next!"
   ]
  },
  {
   "cell_type": "markdown",
   "metadata": {},
   "source": [
    "## A Better Coroutine Example"
   ]
  },
  {
   "cell_type": "code",
   "execution_count": 11,
   "metadata": {},
   "outputs": [
    {
     "name": "stdout",
     "output_type": "stream",
     "text": [
      "Requirement already satisfied: aiohttp in /Library/Frameworks/Python.framework/Versions/3.8/lib/python3.8/site-packages (3.7.3)\n",
      "Requirement already satisfied: chardet<4.0,>=2.0 in /Library/Frameworks/Python.framework/Versions/3.8/lib/python3.8/site-packages/chardet-3.0.4-py3.8.egg (from aiohttp) (3.0.4)\n",
      "Requirement already satisfied: yarl<2.0,>=1.0 in /Library/Frameworks/Python.framework/Versions/3.8/lib/python3.8/site-packages (from aiohttp) (1.6.3)\n",
      "Requirement already satisfied: typing-extensions>=3.6.5 in /Library/Frameworks/Python.framework/Versions/3.8/lib/python3.8/site-packages (from aiohttp) (3.7.4.3)\n",
      "Requirement already satisfied: async-timeout<4.0,>=3.0 in /Library/Frameworks/Python.framework/Versions/3.8/lib/python3.8/site-packages (from aiohttp) (3.0.1)\n",
      "Requirement already satisfied: multidict<7.0,>=4.5 in /Library/Frameworks/Python.framework/Versions/3.8/lib/python3.8/site-packages (from aiohttp) (5.1.0)\n",
      "Requirement already satisfied: attrs>=17.3.0 in /Library/Frameworks/Python.framework/Versions/3.8/lib/python3.8/site-packages/attrs-20.2.0-py3.8.egg (from aiohttp) (20.2.0)\n",
      "Requirement already satisfied: idna>=2.0 in /Library/Frameworks/Python.framework/Versions/3.8/lib/python3.8/site-packages (from yarl<2.0,>=1.0->aiohttp) (2.8)\n"
     ]
    }
   ],
   "source": [
    "# Install aiohttp for creating async http clients and servers\n",
    "!pip install aiohttp"
   ]
  },
  {
   "cell_type": "code",
   "execution_count": 20,
   "metadata": {},
   "outputs": [
    {
     "name": "stdout",
     "output_type": "stream",
     "text": [
      "None\n",
      "None\n",
      "None\n",
      "None\n",
      "None\n"
     ]
    }
   ],
   "source": [
    "# Modified code from above using aiohttp\n",
    "# You can see we use await ketyword in our download_coroutine function now\n",
    "# We also set up our client with a context manager so it breaks down after completing the job\n",
    "import aiohttp\n",
    "import asyncio\n",
    "import async_timeout\n",
    "import os\n",
    "\n",
    "\n",
    "async def download_coroutine(session, url):\n",
    "    with async_timeout.timeout(100):\n",
    "        async with session.get(url) as response:\n",
    "            filename = os.path.basename(url)\n",
    "            with open(filename, 'wb') as f_handle:\n",
    "                while True:\n",
    "                    chunk = await response.content.read(1024)\n",
    "                    if not chunk:\n",
    "                        break\n",
    "                    f_handle.write(chunk)\n",
    "            return await response.release()\n",
    "\n",
    "\n",
    "async def main(loop):\n",
    "    urls = [\"http://www.irs.gov/pub/irs-pdf/f1040.pdf\",\n",
    "            \"http://www.irs.gov/pub/irs-pdf/f1040a.pdf\",\n",
    "            \"http://www.irs.gov/pub/irs-pdf/f1040ez.pdf\",\n",
    "            \"http://www.irs.gov/pub/irs-pdf/f1040es.pdf\",\n",
    "            \"http://www.irs.gov/pub/irs-pdf/f1040sb.pdf\"]\n",
    "\n",
    "    async with aiohttp.ClientSession(loop=loop) as session:\n",
    "        for url in urls:\n",
    "            print(await download_coroutine(session, url))\n",
    "\n",
    "\n",
    "if __name__ == '__main__':\n",
    "    await main(loop)"
   ]
  },
  {
   "cell_type": "markdown",
   "metadata": {},
   "source": [
    "## Scheduling Calls\n",
    "\n",
    "The call_soon method will basically call your callback or event handler as soon as it can. It works as a FIFO queue, so if some of the callbacks take a while to run, then the others will be delayed until the previous ones have finished. "
   ]
  },
  {
   "cell_type": "code",
   "execution_count": 3,
   "metadata": {},
   "outputs": [],
   "source": [
    "import asyncio\n",
    "import functools\n",
    "\n",
    "# This syntax won't execute properly in a jupyter notebook due to running event loop\n",
    "# Although this is how you would schedule calls in a .py file\n",
    "\n",
    "def event_handler(loop, stop=False):\n",
    "    print('Event handler called')\n",
    "    if stop:\n",
    "        print('stopping the loop')\n",
    "        loop.stop()\n",
    "\n",
    "\n",
    "if __name__ == '__main__':\n",
    "    loop = asyncio.get_event_loop()\n",
    "    try:\n",
    "        loop.call_soon(functools.partial(event_handler, loop))\n",
    "        print('starting event loop')\n",
    "        loop.call_soon(functools.partial(event_handler, loop, stop=True))\n",
    "\n",
    "        loop.run_forever()\n",
    "    finally:\n",
    "        print('closing event loop')"
   ]
  },
  {
   "cell_type": "markdown",
   "metadata": {},
   "source": [
    "## Tasks\n",
    "\n",
    "Tasks are a subclass of a Future and a wrapper around a coroutine. They give you the ability to keep track of when they finish processing."
   ]
  },
  {
   "cell_type": "code",
   "execution_count": null,
   "metadata": {},
   "outputs": [],
   "source": [
    "import asyncio\n",
    "\n",
    "# This syntax won't execute properly in a jupyter notebook due to running event loop\n",
    "# Although this is how you would schedule calls in a .py file\n",
    "\n",
    "async def my_task(seconds):\n",
    "    \"\"\"\n",
    "    A task to do for a number of seconds\n",
    "    \"\"\"\n",
    "    print('This task is taking {} seconds to complete'.format(\n",
    "        seconds))\n",
    "    asyncio.sleep(seconds)\n",
    "    return 'task finished'\n",
    "\n",
    "\n",
    "if __name__ == '__main__':\n",
    "    my_event_loop = asyncio.get_event_loop()\n",
    "    try:\n",
    "        print('task creation started')\n",
    "        task_obj = my_event_loop.create_task(my_task(seconds=2))\n",
    "        my_event_loop.run_until_complete(task_obj)\n",
    "    finally:\n",
    "        my_event_loop.close()\n",
    "\n",
    "    print(\"The task's result was: {}\".format(task_obj.result()))"
   ]
  }
 ],
 "metadata": {
  "kernelspec": {
   "display_name": "Python 3 (ipykernel)",
   "language": "python",
   "name": "python3"
  },
  "language_info": {
   "codemirror_mode": {
    "name": "ipython",
    "version": 3
   },
   "file_extension": ".py",
   "mimetype": "text/x-python",
   "name": "python",
   "nbconvert_exporter": "python",
   "pygments_lexer": "ipython3",
   "version": "3.8.6"
  },
  "toc": {
   "base_numbering": 1,
   "nav_menu": {},
   "number_sections": true,
   "sideBar": true,
   "skip_h1_title": false,
   "title_cell": "Table of Contents",
   "title_sidebar": "Contents",
   "toc_cell": false,
   "toc_position": {},
   "toc_section_display": true,
   "toc_window_display": false
  }
 },
 "nbformat": 4,
 "nbformat_minor": 4
}
