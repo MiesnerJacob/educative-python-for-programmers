{
 "cells": [
  {
   "cell_type": "markdown",
   "metadata": {},
   "source": [
    "# The multiprocessing Module"
   ]
  },
  {
   "cell_type": "markdown",
   "metadata": {},
   "source": [
    "## Multiprocessing in Python\n",
    "\n",
    "The multiprocessing modulewas added in python 2.6, and since we are now going to spin up processes instead of threads we can avoid Global Interpreter Lock (GIL) snd take full advantage of the multiple processors on a machine."
   ]
  },
  {
   "cell_type": "code",
   "execution_count": 1,
   "metadata": {},
   "outputs": [
    {
     "name": "stdout",
     "output_type": "stream",
     "text": [
      "/Users/miesner.jacob/python-for-programmers-educative/Module 4 - Advanced Concepts in Python/29_multiprocessing_module\n"
     ]
    }
   ],
   "source": [
    "%cd 29_multiprocessing_module"
   ]
  },
  {
   "cell_type": "code",
   "execution_count": 2,
   "metadata": {},
   "outputs": [
    {
     "name": "stdout",
     "output_type": "stream",
     "text": [
      "5 doubled to 10 by process id: 46476\n",
      "10 doubled to 20 by process id: 46477\n",
      "15 doubled to 30 by process id: 46478\n",
      "20 doubled to 40 by process id: 46479\n",
      "25 doubled to 50 by process id: 46480\n"
     ]
    }
   ],
   "source": [
    "# Creating a series of processes that call the same function\n",
    "\n",
    "import os\n",
    "from multiprocessing import Process\n",
    "\n",
    "# We define our doubler function in a python file and import it\n",
    "from doubler import doubler\n",
    "\n",
    "if __name__ == '__main__':\n",
    "    numbers = [5, 10, 15, 20, 25]\n",
    "    procs = []\n",
    "\n",
    "    # Define and start processes simultaneously\n",
    "    for index, number in enumerate(numbers):\n",
    "        proc = Process(target=doubler, args=(number,))\n",
    "        procs.append(proc)\n",
    "        proc.start()\n",
    "\n",
    "    # Tell Python to wait for processes to ternimate\n",
    "    for proc in procs:\n",
    "        proc.join()"
   ]
  },
  {
   "cell_type": "code",
   "execution_count": 3,
   "metadata": {},
   "outputs": [
    {
     "name": "stdout",
     "output_type": "stream",
     "text": [
      "5 doubled to 10 by: Process-6\n",
      "10 doubled to 20 by: Process-7\n",
      "15 doubled to 30 by: Process-8\n",
      "20 doubled to 40 by: Process-9\n",
      "25 doubled to 50 by: Process-10\n",
      "2 doubled to 4 by: Test\n"
     ]
    }
   ],
   "source": [
    "# Running processes with more readable name than and ID #\n",
    "\n",
    "# Importing updated function\n",
    "from doubler import doubler_with_process_name\n",
    "\n",
    "if __name__ == '__main__':\n",
    "    numbers = [5, 10, 15, 20, 25]\n",
    "    procs = []\n",
    "\n",
    "    for index, number in enumerate(numbers):\n",
    "        proc = Process(target=doubler_with_process_name, args=(number,))\n",
    "        procs.append(proc)\n",
    "        proc.start()\n",
    "\n",
    "    proc = Process(target=doubler_with_process_name, name='Test', args=(2,))\n",
    "    proc.start()\n",
    "    procs.append(proc)\n",
    "\n",
    "    for proc in procs:\n",
    "        proc.join()"
   ]
  },
  {
   "cell_type": "markdown",
   "metadata": {},
   "source": [
    "## Locks\n",
    "\n",
    "The multiprocessing module includes locks just like the threading module> All you need to do is import Lock, aquire it, do something, and then relase it!"
   ]
  },
  {
   "cell_type": "code",
   "execution_count": 4,
   "metadata": {},
   "outputs": [],
   "source": [
    "from multiprocessing import Lock\n",
    "\n",
    "# Import function to acrquire lock, print item, then release lock\n",
    "from printer import printer\n",
    "\n",
    "if __name__ == '__main__':\n",
    "    lock = Lock()\n",
    "    items = ['tango', 'foxtrot', 10]\n",
    "    for item in items:\n",
    "        p = Process(target=printer, args=(item, lock))\n",
    "        p.start()"
   ]
  },
  {
   "cell_type": "markdown",
   "metadata": {},
   "source": [
    "## Logging\n",
    "\n",
    "Logging processes is a little different than logging threads. The reason for this is that Python’s logging packages doesn’t use process shared locks, so it’s possible for you to end up with messages from different processes getting mixed up."
   ]
  },
  {
   "cell_type": "code",
   "execution_count": 5,
   "metadata": {},
   "outputs": [],
   "source": [
    "import logging\n",
    "import multiprocessing\n",
    "\n",
    "if __name__ == '__main__':\n",
    "    lock = Lock()\n",
    "    items = ['tango', 'foxtrot', 10]\n",
    "    multiprocessing.log_to_stderr()\n",
    "    logger = multiprocessing.get_logger()\n",
    "    logger.setLevel(logging.INFO)\n",
    "    for item in items:\n",
    "        p = Process(target=printer, args=(item, lock))\n",
    "        p.start()"
   ]
  },
  {
   "cell_type": "markdown",
   "metadata": {},
   "source": [
    "## The Pool Class\n",
    "\n",
    "The Pool class is used to represent a pool of prcesses. It has methods that allow you to offload tasks to the processes."
   ]
  },
  {
   "cell_type": "code",
   "execution_count": 9,
   "metadata": {
    "scrolled": true
   },
   "outputs": [
    {
     "name": "stdout",
     "output_type": "stream",
     "text": [
      "[10, 20, 40]\n"
     ]
    },
    {
     "name": "stderr",
     "output_type": "stream",
     "text": [
      "[INFO/SpawnPoolWorker-21] process shutting down\n",
      "[INFO/SpawnPoolWorker-22] process shutting down\n",
      "[INFO/SpawnPoolWorker-21] process exiting with exitcode 0\n",
      "[INFO/SpawnPoolWorker-22] process exiting with exitcode 0\n",
      "[INFO/SpawnPoolWorker-23] process shutting down\n",
      "[INFO/SpawnPoolWorker-23] process exiting with exitcode 0\n",
      "[INFO/SpawnPoolWorker-24] child process calling self.run()\n",
      "[INFO/SpawnPoolWorker-25] child process calling self.run()\n",
      "[INFO/SpawnPoolWorker-26] child process calling self.run()\n"
     ]
    }
   ],
   "source": [
    "from multiprocessing import Pool\n",
    "from doubler import doubler_vanilla\n",
    "\n",
    "# Create 3 workers and map our function & input to the workers\n",
    "if __name__ == '__main__':\n",
    "    numbers = [5, 10, 20]\n",
    "    pool = Pool(processes=3)\n",
    "    print(pool.map(doubler_vanilla, numbers))"
   ]
  },
  {
   "cell_type": "code",
   "execution_count": 10,
   "metadata": {},
   "outputs": [
    {
     "name": "stdout",
     "output_type": "stream",
     "text": [
      "50\n"
     ]
    },
    {
     "name": "stderr",
     "output_type": "stream",
     "text": [
      "[INFO/SpawnPoolWorker-24] process shutting down\n",
      "[INFO/SpawnPoolWorker-25] process shutting down\n",
      "[INFO/SpawnPoolWorker-24] process exiting with exitcode 0\n",
      "[INFO/SpawnPoolWorker-25] process exiting with exitcode 0\n",
      "[INFO/SpawnPoolWorker-26] process shutting down\n",
      "[INFO/SpawnPoolWorker-26] process exiting with exitcode 0\n",
      "[INFO/SpawnPoolWorker-27] child process calling self.run()\n",
      "[INFO/SpawnPoolWorker-28] child process calling self.run()\n",
      "[INFO/SpawnPoolWorker-29] child process calling self.run()\n"
     ]
    }
   ],
   "source": [
    "# Use apply_async to ask for result of process, get result using .get() method\n",
    "\n",
    "if __name__ == '__main__':\n",
    "    pool = Pool(processes=3)\n",
    "    result = pool.apply_async(doubler_vanilla, (25,))\n",
    "    print(result.get(timeout=1))"
   ]
  },
  {
   "cell_type": "markdown",
   "metadata": {},
   "source": [
    "## Process Communication\n",
    "\n",
    "The multiprocssing module has two primary methods for communciation between processes: Queues and Pipes. The Queue implementation is both thread and process safe, so that is what we will use in the example below."
   ]
  },
  {
   "cell_type": "code",
   "execution_count": 14,
   "metadata": {},
   "outputs": [
    {
     "name": "stdout",
     "output_type": "stream",
     "text": [
      "Creating data and putting it on the queue\n",
      "data found to be processed: 5\n",
      "10\n",
      "data found to be processed: 10\n",
      "20\n",
      "data found to be processed: 13\n",
      "26\n",
      "data found to be processed: -1\n",
      "-2\n"
     ]
    },
    {
     "name": "stderr",
     "output_type": "stream",
     "text": [
      "[INFO/Process-30] child process calling self.run()\n",
      "[INFO/Process-30] process shutting down\n",
      "[INFO/Process-30] process exiting with exitcode 0\n",
      "[INFO/Process-31] child process calling self.run()\n",
      "[INFO/Process-31] process shutting down\n",
      "[INFO/Process-31] process exiting with exitcode 0\n"
     ]
    }
   ],
   "source": [
    "from multiprocessing import Queue\n",
    "\n",
    "sentinel = -1\n",
    "\n",
    "# Creates data to be consumed and waits for the consumer\n",
    "# to finish processing\n",
    "from process_communication import creator\n",
    "\n",
    "\n",
    "# Consumes some data and works on it\n",
    "# In this case, all it does is double the input\n",
    "from process_communication import my_consumer\n",
    "\n",
    "if __name__ == '__main__':\n",
    "    q = Queue()\n",
    "    data = [5, 10, 13, -1]\n",
    "    process_one = Process(target=creator, args=(data, q))\n",
    "    process_two = Process(target=my_consumer, args=(q,))\n",
    "    process_one.start()\n",
    "    process_two.start()\n",
    "\n",
    "    q.close()\n",
    "    q.join_thread()\n",
    "\n",
    "    process_one.join()\n",
    "    process_two.join()"
   ]
  },
  {
   "cell_type": "code",
   "execution_count": null,
   "metadata": {},
   "outputs": [],
   "source": []
  }
 ],
 "metadata": {
  "kernelspec": {
   "display_name": "Python 3 (ipykernel)",
   "language": "python",
   "name": "python3"
  },
  "language_info": {
   "codemirror_mode": {
    "name": "ipython",
    "version": 3
   },
   "file_extension": ".py",
   "mimetype": "text/x-python",
   "name": "python",
   "nbconvert_exporter": "python",
   "pygments_lexer": "ipython3",
   "version": "3.8.6"
  },
  "toc": {
   "base_numbering": 1,
   "nav_menu": {},
   "number_sections": true,
   "sideBar": true,
   "skip_h1_title": false,
   "title_cell": "Table of Contents",
   "title_sidebar": "Contents",
   "toc_cell": false,
   "toc_position": {},
   "toc_section_display": true,
   "toc_window_display": false
  }
 },
 "nbformat": 4,
 "nbformat_minor": 4
}
