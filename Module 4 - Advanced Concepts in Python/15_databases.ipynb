{
 "cells": [
  {
   "cell_type": "markdown",
   "metadata": {},
   "source": [
    "# Databases\n",
    "\n",
    "The examples blow are just that, examples. The SQL commands can not be run natively in ipython and neither can the db connnections to databases that dont exist! These show the syntax for how you would go about querying different types of databases."
   ]
  },
  {
   "cell_type": "markdown",
   "metadata": {},
   "source": [
    "## Basic SQl Syntax\n",
    "\n",
    "Will conver CRUD (Create, Read, Update, Delete)"
   ]
  },
  {
   "cell_type": "code",
   "execution_count": null,
   "metadata": {},
   "outputs": [],
   "source": [
    "# Creating a table\n",
    "\n",
    "CREATE TABLE table_name (\n",
    "    id INTEGER,\n",
    "    name VARCHAR,\n",
    "    make VARCHAR\n",
    "    model VARCHAR,\n",
    "    year DATE,\n",
    "    PRIMARY KEY (id)\n",
    "    );"
   ]
  },
  {
   "cell_type": "code",
   "execution_count": null,
   "metadata": {},
   "outputs": [],
   "source": [
    "# Instering Data\n",
    "\n",
    "INSERT INTO table_name (id, name, make, model, year)\n",
    "VALUES (1, 'RS', 'Mitsubishi', 'Eclipse', '2000-01-01 00:00:00');"
   ]
  },
  {
   "cell_type": "code",
   "execution_count": null,
   "metadata": {},
   "outputs": [],
   "source": [
    "# Read Data\n",
    "\n",
    "#Read all columns\n",
    "SELECT * \n",
    "FROM table_name;\n",
    "\n",
    "# Reading certain columns\n",
    "SELECT name, make, model\n",
    "FROM table_name;\n",
    "\n",
    "# Read data with conditions\n",
    "SELECT name, make, model\n",
    "FROM table_name\n",
    "WHERE year >= '2000-01-01' AND \n",
    "      year <= '2006-01-01';"
   ]
  },
  {
   "cell_type": "code",
   "execution_count": null,
   "metadata": {},
   "outputs": [],
   "source": [
    "# Delete Data\n",
    "\n",
    "# Deleting all data in table\n",
    "DELETE FROM table_name\n",
    "\n",
    "# Deleting data with condition\n",
    "DELETE FROM table_name\n",
    "WHERE name='Mitsubishi'\n",
    "\n",
    "# Delete and entire table\n",
    "DROP TABLE table_name"
   ]
  },
  {
   "cell_type": "markdown",
   "metadata": {},
   "source": [
    "## adodbapi\n",
    "\n",
    "Used for accesing databases such as Microsoft Access or SQL Server via Microsoft ADO"
   ]
  },
  {
   "cell_type": "code",
   "execution_count": 1,
   "metadata": {},
   "outputs": [
    {
     "name": "stdout",
     "output_type": "stream",
     "text": [
      "Collecting adodbapi\n",
      "  Downloading adodbapi-2.6.2.0.zip (297 kB)\n",
      "     |████████████████████████████████| 297 kB 423 kB/s            \n",
      "\u001b[?25h  Preparing metadata (setup.py) ... \u001b[?25ldone\n",
      "\u001b[?25hBuilding wheels for collected packages: adodbapi\n",
      "  Building wheel for adodbapi (setup.py) ... \u001b[?25ldone\n",
      "\u001b[?25h  Created wheel for adodbapi: filename=adodbapi-2.6.2.0-py3-none-any.whl size=38901 sha256=36038be414208687fe7c908a503c065bb38648fe21c02e3b507cef73de36ad18\n",
      "  Stored in directory: /Users/miesner.jacob/Library/Caches/pip/wheels/a3/cd/89/948e4155c3135512f658fd1e0a785cee73946653c94bcd1707\n",
      "Successfully built adodbapi\n",
      "Installing collected packages: adodbapi\n",
      "Successfully installed adodbapi-2.6.2.0\n"
     ]
    }
   ],
   "source": [
    "!pip install adodbapi"
   ]
  },
  {
   "cell_type": "code",
   "execution_count": 3,
   "metadata": {},
   "outputs": [],
   "source": [
    "import adodbapi\n",
    "\n",
    "# Define db location\n",
    "database = \"db1.mdb\"\n",
    "constr = 'Provider=Microsoft.Jet.OLEDB.4.0; Data Source=%s'  % database\n",
    "tablename = \"address\"\n",
    "\n",
    "# connect to the database\n",
    "conn = adodbapi.connect(constr)\n",
    "\n",
    "# create a cursor\n",
    "cur = conn.cursor()\n",
    "\n",
    "# extract all the data\n",
    "sql = \"select * from %s\" % tablename\n",
    "cur.execute(sql)\n",
    "\n",
    "# show the result\n",
    "result = cur.fetchall()\n",
    "for item in result:\n",
    "    print (item)\n",
    "\n",
    "# close the cursor and connection\n",
    "cur.close()\n",
    "conn.close()"
   ]
  },
  {
   "cell_type": "markdown",
   "metadata": {},
   "source": [
    "## pyodbc\n",
    "\n",
    "Open Database Connectivity (ODBC) is a standard API for accessing databases. Most production databases have an ODBC driver available that you can install to access their database with. pyodbc allows you to use python to connect to a database via ODBC."
   ]
  },
  {
   "cell_type": "code",
   "execution_count": 5,
   "metadata": {},
   "outputs": [
    {
     "name": "stdout",
     "output_type": "stream",
     "text": [
      "Collecting pyodbc\n",
      "  Downloading pyodbc-4.0.32-cp38-cp38-macosx_10_9_x86_64.whl (68 kB)\n",
      "     |████████████████████████████████| 68 kB 6.7 MB/s             \n",
      "\u001b[?25hInstalling collected packages: pyodbc\n",
      "Successfully installed pyodbc-4.0.32\n"
     ]
    }
   ],
   "source": [
    "!pip install pyodbc"
   ]
  },
  {
   "cell_type": "code",
   "execution_count": null,
   "metadata": {},
   "outputs": [],
   "source": [
    "import pyodbc\n",
    "\n",
    "# Specify db location an auth\n",
    "driver = 'DRIVER={SQL Server}'\n",
    "server = 'SERVER=localhost'\n",
    "port = 'PORT=1433'\n",
    "db = 'DATABASE=testdb'\n",
    "user = 'UID=me'\n",
    "pw = 'PWD=pass'\n",
    "conn_str = ';'.join([driver, server, port, db, user, pw])\n",
    "\n",
    "# Connect to database\n",
    "conn = pyodbc.connect(conn_str)\n",
    "cursor = conn.cursor()\n",
    "\n",
    "# Excecute SQL command and get data\n",
    "cursor.execute('select * from table_name')\n",
    "row = cursor.fetchone()\n",
    "rest_of_rows = cursor.fetchall()"
   ]
  },
  {
   "cell_type": "markdown",
   "metadata": {},
   "source": [
    "## pypyodbc\n",
    "\n",
    "The pypyodbc package is actually just one pure Python script. It is basically a reimplementation of pyodbc but in pure Python. The only difference to the user is the import."
   ]
  },
  {
   "cell_type": "markdown",
   "metadata": {},
   "source": [
    "## MySQL"
   ]
  },
  {
   "cell_type": "code",
   "execution_count": 7,
   "metadata": {
    "scrolled": true
   },
   "outputs": [],
   "source": [
    "# Install third party library that allows python connections to MySQL databases\n",
    "!pip install mysqlclient"
   ]
  },
  {
   "cell_type": "code",
   "execution_count": null,
   "metadata": {},
   "outputs": [],
   "source": [
    "import MySQLdb\n",
    "\n",
    "# Database location & Auth\n",
    "conn = MySQLdb.connect('localhost', 'username', 'password', 'table_name')\n",
    "cursor = conn.cursor()\n",
    "\n",
    "# Execute command\n",
    "cursor.execute(\"SELECT * FROM table_name\")\n",
    "\n",
    "# Get a single row\n",
    "row = cursor.fetchone()\n",
    "print(row)\n",
    "\n",
    "# Disconnect from the database\n",
    "conn.close()"
   ]
  },
  {
   "cell_type": "markdown",
   "metadata": {},
   "source": [
    "## PostgreSQL\n",
    "\n",
    "psycopg2 is the library mostly everyone uses for querying PostgreAQL databases in python."
   ]
  },
  {
   "cell_type": "code",
   "execution_count": null,
   "metadata": {},
   "outputs": [],
   "source": [
    "import psycopg2\n",
    "\n",
    "# Define Location, Auth & create cursor\n",
    "conn = psycopg2.connect(dbname='my_database', user='username')\n",
    "cursor = conn.cursor()\n",
    "\n",
    "# Execute a query\n",
    "cursor.execute(\"SELECT * FROM table_name\")\n",
    "row = cursor.fetchone()\n",
    "\n",
    "# Close your cursor and connection\n",
    "cursor.close()\n",
    "conn.close()"
   ]
  },
  {
   "cell_type": "markdown",
   "metadata": {},
   "source": [
    "## Object Relational Mappers\n",
    "\n",
    "An Object Relational Mapper allows you to work with the database without using SQL itself. Some developers call it more “Pythonic” since it’s not a mix of Python code and SQL. The most popular ORM in Python is SQLAlchemy.\n",
    "\n",
    "One of the major benefits to using SQLAlchemy is that you can usually write your database code once and then if the backend changes you won’t have to change any of your queries."
   ]
  }
 ],
 "metadata": {
  "kernelspec": {
   "display_name": "Python 3 (ipykernel)",
   "language": "python",
   "name": "python3"
  },
  "language_info": {
   "codemirror_mode": {
    "name": "ipython",
    "version": 3
   },
   "file_extension": ".py",
   "mimetype": "text/x-python",
   "name": "python",
   "nbconvert_exporter": "python",
   "pygments_lexer": "ipython3",
   "version": "3.8.6"
  },
  "toc": {
   "base_numbering": 1,
   "nav_menu": {},
   "number_sections": true,
   "sideBar": true,
   "skip_h1_title": false,
   "title_cell": "Table of Contents",
   "title_sidebar": "Contents",
   "toc_cell": false,
   "toc_position": {},
   "toc_section_display": true,
   "toc_window_display": false
  }
 },
 "nbformat": 4,
 "nbformat_minor": 4
}
