{
 "cells": [
  {
   "cell_type": "markdown",
   "metadata": {},
   "source": [
    "# Context Managers"
   ]
  },
  {
   "cell_type": "markdown",
   "metadata": {},
   "source": [
    "## Context Manager in Python\n",
    "\n",
    "Python came out with a special new keyword several years ago in Python 2.5 that is known as the with statement. This new keyword allows a developer to create context managers. But wait! What’s a context manager? They are handy constructs that allow you to set something up and tear something down automatically. For example, you might want to open a file, write a bunch of stuff to it and then close it. "
   ]
  },
  {
   "cell_type": "code",
   "execution_count": 1,
   "metadata": {},
   "outputs": [],
   "source": [
    "path = './3_context_manager_demos/context_manager_data.txt'"
   ]
  },
  {
   "cell_type": "code",
   "execution_count": 2,
   "metadata": {},
   "outputs": [],
   "source": [
    "# Using the \"with\" special keyword to build a context manager\n",
    "\n",
    "with open(path, 'w') as f_obj:\n",
    "    f_obj.write('Jaque')"
   ]
  },
  {
   "cell_type": "code",
   "execution_count": 3,
   "metadata": {},
   "outputs": [],
   "source": [
    "# This is how you had to do it before python 2.5\n",
    "\n",
    "f_obj = open(path, 'w')\n",
    "f_obj.write('Jaqueline')\n",
    "f_obj.close()"
   ]
  },
  {
   "cell_type": "markdown",
   "metadata": {},
   "source": [
    "## Creating a Context Manager class"
   ]
  },
  {
   "cell_type": "code",
   "execution_count": 12,
   "metadata": {},
   "outputs": [],
   "source": [
    "import sqlite3\n",
    "\n",
    "\n",
    "class DataConn:\n",
    "    \"\"\"\"\"\"\n",
    "\n",
    "    def __init__(self, db_name):\n",
    "        \"\"\"Constructor\"\"\"\n",
    "        self.db_name = db_name\n",
    "\n",
    "    def __enter__(self):\n",
    "        \"\"\"\n",
    "        Open the database connection\n",
    "        \"\"\"\n",
    "        self.conn = sqlite3.connect(self.db_name)\n",
    "        return self.conn\n",
    "\n",
    "    def __exit__(self, exc_type, exc_val, exc_tb):\n",
    "        \"\"\"\n",
    "        Close the connection\n",
    "        \"\"\"\n",
    "        self.conn.close()\n",
    "        if exc_val:\n",
    "            raise\n",
    "\n",
    "if __name__ == '__main__':\n",
    "    db = './3_context_manager_demos/test.db'\n",
    "    # __enter__ is ran behind the scenes here\n",
    "    with DataConn(db) as conn:\n",
    "        cursor = conn.cursor()\n",
    "    # __exit__ is ran behind the scenes here"
   ]
  },
  {
   "cell_type": "markdown",
   "metadata": {},
   "source": [
    "## Creating a Context Manager using contextlib"
   ]
  },
  {
   "cell_type": "code",
   "execution_count": 13,
   "metadata": {},
   "outputs": [
    {
     "name": "stdout",
     "output_type": "stream",
     "text": [
      "Closing file\n"
     ]
    }
   ],
   "source": [
    "# We can use the contextlib contextmanager decorator to allow us to use a function as a context manager\n",
    "\n",
    "from contextlib import contextmanager\n",
    "\n",
    "@contextmanager\n",
    "def file_open(path):\n",
    "    try:\n",
    "        f_obj = open(path, 'w')\n",
    "        yield f_obj\n",
    "    except OSError:\n",
    "        print(\"We had an error!\")\n",
    "    finally:\n",
    "        print('Closing file')\n",
    "        f_obj.close()\n",
    "\n",
    "if __name__ == '__main__':\n",
    "    with file_open(path) as fobj:\n",
    "        fobj.write('Testing context managers')"
   ]
  },
  {
   "cell_type": "markdown",
   "metadata": {},
   "source": [
    "## contextlib.closing(thing)"
   ]
  },
  {
   "cell_type": "code",
   "execution_count": 14,
   "metadata": {},
   "outputs": [],
   "source": [
    "# Using the closing class instead of the contextmanager decorator\n",
    "\n",
    "from contextlib import closing\n",
    "from urllib.request import urlopen\n",
    "\n",
    "with closing(urlopen('http://www.google.com')) as webpage:\n",
    "    for line in webpage:\n",
    "        # process the line\n",
    "        pass"
   ]
  },
  {
   "cell_type": "markdown",
   "metadata": {},
   "source": [
    "## contextlib.suppress(*exceptions)\n",
    "\n",
    "Another handy little tool is the suppress class which was added in Python 3.4. The idea behind this context manager utility is that it can suppress any number of exceptions. Let’s say we want to ignore the FileNotFoundError exception. "
   ]
  },
  {
   "cell_type": "code",
   "execution_count": 15,
   "metadata": {},
   "outputs": [
    {
     "ename": "FileNotFoundError",
     "evalue": "[Errno 2] No such file or directory: 'fauxfile.txt'",
     "output_type": "error",
     "traceback": [
      "\u001b[0;31m---------------------------------------------------------------------------\u001b[0m",
      "\u001b[0;31mFileNotFoundError\u001b[0m                         Traceback (most recent call last)",
      "\u001b[0;32m<ipython-input-15-2614c6e1eb53>\u001b[0m in \u001b[0;36m<module>\u001b[0;34m\u001b[0m\n\u001b[0;32m----> 1\u001b[0;31m \u001b[0;32mwith\u001b[0m \u001b[0mopen\u001b[0m\u001b[0;34m(\u001b[0m\u001b[0;34m'fauxfile.txt'\u001b[0m\u001b[0;34m)\u001b[0m \u001b[0;32mas\u001b[0m \u001b[0mfobj\u001b[0m\u001b[0;34m:\u001b[0m\u001b[0;34m\u001b[0m\u001b[0;34m\u001b[0m\u001b[0m\n\u001b[0m\u001b[1;32m      2\u001b[0m     \u001b[0;32mfor\u001b[0m \u001b[0mline\u001b[0m \u001b[0;32min\u001b[0m \u001b[0mfobj\u001b[0m\u001b[0;34m:\u001b[0m\u001b[0;34m\u001b[0m\u001b[0;34m\u001b[0m\u001b[0m\n\u001b[1;32m      3\u001b[0m         \u001b[0mprint\u001b[0m\u001b[0;34m(\u001b[0m\u001b[0mline\u001b[0m\u001b[0;34m)\u001b[0m\u001b[0;34m\u001b[0m\u001b[0;34m\u001b[0m\u001b[0m\n\u001b[1;32m      4\u001b[0m \u001b[0;34m\u001b[0m\u001b[0m\n\u001b[1;32m      5\u001b[0m \u001b[0;31m#Traceback (most recent call last):\u001b[0m\u001b[0;34m\u001b[0m\u001b[0;34m\u001b[0m\u001b[0;34m\u001b[0m\u001b[0m\n",
      "\u001b[0;31mFileNotFoundError\u001b[0m: [Errno 2] No such file or directory: 'fauxfile.txt'"
     ]
    }
   ],
   "source": [
    "with open('fauxfile.txt') as fobj:\n",
    "    for line in fobj:\n",
    "        print(line)\n",
    "\n",
    "#Traceback (most recent call last):\n",
    "#   File \"/usercode/__ed_file.py\", line 1, in <module>\n",
    "# with open('fauxfile.txt') as fobj:\n",
    "#FileNotFoundError: [Errno 2] No such file or directory: 'fauxfile.txt''"
   ]
  },
  {
   "cell_type": "code",
   "execution_count": 16,
   "metadata": {},
   "outputs": [],
   "source": [
    "from contextlib import suppress\n",
    "\n",
    "with suppress(FileNotFoundError):\n",
    "    with open('fauxfile.txt') as fobj:\n",
    "        for line in fobj:\n",
    "            print(line)"
   ]
  },
  {
   "cell_type": "markdown",
   "metadata": {},
   "source": [
    "## contextlib.redirect_stdout/redirect_stderr"
   ]
  },
  {
   "cell_type": "code",
   "execution_count": null,
   "metadata": {},
   "outputs": [],
   "source": [
    "# Redirecting outputs with vanilla python\n",
    "\n",
    "import sys\n",
    "\n",
    "with open(path, 'w') as fobj:\n",
    "    sys.stdout = fobj\n",
    "    help(sum)"
   ]
  },
  {
   "cell_type": "code",
   "execution_count": null,
   "metadata": {},
   "outputs": [],
   "source": [
    "# Redirecting output using the contextlib library function redirect_stdout\n",
    "\n",
    "from contextlib import redirect_stdout\n",
    "\n",
    "with open(path, 'w') as fobj:\n",
    "    with redirect_stdout(fobj):\n",
    "        help(redirect_stdout)"
   ]
  },
  {
   "cell_type": "markdown",
   "metadata": {},
   "source": [
    "## ExistStack\n",
    "\n",
    "ExitStack is a context manager that will allow you to easily programmatically combine other context managers and cleanup functions."
   ]
  },
  {
   "cell_type": "code",
   "execution_count": null,
   "metadata": {},
   "outputs": [],
   "source": [
    "# This code basically creates a series of context managers inside the list comprehension. \n",
    "# The ExitStack maintains a stack of registered callbacks that it will call in reverse order\n",
    "# when the instance it closed, which happens when we exit the the bottom of the with statement.\n",
    "\n",
    "filenames = [path]\n",
    "\n",
    "from contextlib import ExitStack\n",
    "with ExitStack() as stack:\n",
    "    file_objects = [stack.enter_context(open(filename))\n",
    "        for filename in filenames]"
   ]
  },
  {
   "cell_type": "markdown",
   "metadata": {},
   "source": [
    "## Reentrant Context Managers"
   ]
  },
  {
   "cell_type": "code",
   "execution_count": null,
   "metadata": {},
   "outputs": [],
   "source": [
    "# Most context managers are written to ONLY be used in a with statement\n",
    "\n",
    "from contextlib import contextmanager\n",
    "@contextmanager\n",
    "def single():\n",
    "    print('Yielding')\n",
    "    yield\n",
    "    print('Exiting context manager')\n",
    "    \n",
    "# Example of running\n",
    "context = single()\n",
    "with context:\n",
    "    pass\n",
    "\n",
    "# Example of error\n",
    "with context:\n",
    "    pass"
   ]
  },
  {
   "cell_type": "code",
   "execution_count": null,
   "metadata": {},
   "outputs": [],
   "source": [
    "# Creating a reentrant context manager (i.e. can be used more than once)\n",
    "\n",
    "from contextlib import redirect_stdout\n",
    "from io import StringIO\n",
    "\n",
    "stream = StringIO()\n",
    "write_to_stream = redirect_stdout(stream)\n",
    "\n",
    "with write_to_stream:\n",
    "    print('Write something to the stream')\n",
    "\n",
    "with write_to_stream:\n",
    "    print('Write something else to stream')\n",
    "\n",
    "print(stream.getvalue())\n",
    "#Write something to the stream\n",
    "#Write something else to stream"
   ]
  },
  {
   "cell_type": "code",
   "execution_count": null,
   "metadata": {},
   "outputs": [],
   "source": []
  }
 ],
 "metadata": {
  "kernelspec": {
   "display_name": "Python 3",
   "language": "python",
   "name": "python3"
  },
  "language_info": {
   "codemirror_mode": {
    "name": "ipython",
    "version": 3
   },
   "file_extension": ".py",
   "mimetype": "text/x-python",
   "name": "python",
   "nbconvert_exporter": "python",
   "pygments_lexer": "ipython3",
   "version": "3.8.6"
  },
  "toc": {
   "base_numbering": 1,
   "nav_menu": {},
   "number_sections": true,
   "sideBar": true,
   "skip_h1_title": false,
   "title_cell": "Table of Contents",
   "title_sidebar": "Contents",
   "toc_cell": false,
   "toc_position": {},
   "toc_section_display": true,
   "toc_window_display": false
  }
 },
 "nbformat": 4,
 "nbformat_minor": 4
}
