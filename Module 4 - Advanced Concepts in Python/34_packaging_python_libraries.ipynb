{
 "cells": [
  {
   "cell_type": "markdown",
   "metadata": {},
   "source": [
    "# Packaging Python Libraries\n",
    "\n",
    "Python 3 comes with a packaging framework called Distutils. Distutils is many things: a build tool, an installation tool, a package metadata format, and more. It integrates with the Python Package Index (PyPi), a central repository for open source Python libraries."
   ]
  },
  {
   "cell_type": "markdown",
   "metadata": {},
   "source": [
    "## Diving In\n",
    "\n",
    "First we will build a setup.py file that serves as a setup script for our Python code. We will be using dsutils in this chapter, although setuptools is more commonly used in prasctice nowadays because of its expanded feature set."
   ]
  },
  {
   "cell_type": "raw",
   "metadata": {},
   "source": [
    "# This code is an example of what a setup file would look like in a python package.\n",
    "\n",
    "from distutils.core import setup\n",
    "setup(\n",
    "    name = \"chardet\",\n",
    "    packages = [\"chardet\"],\n",
    "    version = \"1.0.2\",\n",
    "    description = \"Universal encoding detector\",\n",
    "    author = \"Mark Pilgrim\",\n",
    "    author_email = \"mark@diveintomark.org\",\n",
    "    url = \"http://chardet.feedparser.org/\",\n",
    "    download_url = \"http://chardet.feedparser.org/download/python3-chardet-1.0.1.tgz\",\n",
    "    keywords = [\"encoding\", \"i18n\", \"xml\"],\n",
    "    classifiers = [\n",
    "        \"Programming Language :: Python\",\n",
    "        \"Programming Language :: Python :: 3\",\n",
    "        \"Development Status :: 4 - Beta\",\n",
    "        \"Environment :: Other Environment\",\n",
    "        \"Intended Audience :: Developers\",\n",
    "        \"License :: OSI Approved :: GNU Library or Lesser General Public License (LGPL)\",\n",
    "        \"Operating System :: OS Independent\",\n",
    "        \"Topic :: Software Development :: Libraries :: Python Modules\",\n",
    "        \"Topic :: Text Processing :: Linguistic\",\n",
    "        ],\n",
    "    long_description = \"\"\"\\\n",
    "Universal character encoding detector\n",
    "-------------------------------------\n",
    "\n",
    "Detects\n",
    " - ASCII, UTF-8, UTF-16 (2 variants), UTF-32 (4 variants)\n",
    " - Big5, GB2312, EUC-TW, HZ-GB-2312, ISO-2022-CN (Traditional and Simplified Chinese)\n",
    " - EUC-JP, SHIFT_JIS, ISO-2022-JP (Japanese)\n",
    " - EUC-KR, ISO-2022-KR (Korean)\n",
    " - KOI8-R, MacCyrillic, IBM855, IBM866, ISO-8859-5, windows-1251 (Cyrillic)\n",
    " - ISO-8859-2, windows-1250 (Hungarian)\n",
    " - ISO-8859-5, windows-1251 (Bulgarian)\n",
    " - windows-1252 (English)\n",
    " - ISO-8859-7, windows-1253 (Greek)\n",
    " - ISO-8859-8, windows-1255 (Visual and Logical Hebrew)\n",
    " - TIS-620 (Thai)\n",
    "\n",
    "This version requires Python 3 or later; a Python 2 version is available separately.\n",
    "\"\"\"\n",
    ")"
   ]
  },
  {
   "cell_type": "markdown",
   "metadata": {},
   "source": [
    "## Things Disutils Can't Do For You\n",
    "\n",
    "You must on your own:\n",
    "* Choose a license (dont write your own!!! Its doesnt need to be GPL but it needs to be GPL compatible)\n",
    "* Classify your software\n",
    "* Create and write a readme.md file"
   ]
  },
  {
   "cell_type": "markdown",
   "metadata": {},
   "source": [
    "## Directory Structure"
   ]
  },
  {
   "cell_type": "raw",
   "metadata": {},
   "source": [
    "Python package directories usually look something like the following:\n",
    "\n",
    "my_package/\n",
    "|\n",
    "+--readme.txt\n",
    "|\n",
    "+--setup.py\n",
    "|\n",
    "+--resources/\n",
    "  |\n",
    "  +--some_file.png\n",
    "  |\n",
    "  +--some_other_file.txt\n",
    "+--application/\n",
    "  |\n",
    "  +--__init__.py\n",
    "  |\n",
    "  +--main.py\n",
    "  |\n",
    "  +--utils.py"
   ]
  },
  {
   "cell_type": "markdown",
   "metadata": {},
   "source": [
    "## Writing Your Setup Script\n",
    "\n",
    "Most setup files will consist of just one call to the setup() function. All the arguements must be named, the following arguments are required:\n",
    "\n",
    "* name\n",
    "* version\n",
    "* author\n",
    "* author_email\n",
    "* url\n",
    "\n",
    "The following are not required, but recommended:\n",
    "\n",
    "* description\n",
    "* long_description\n",
    "* classifiers"
   ]
  },
  {
   "cell_type": "markdown",
   "metadata": {},
   "source": [
    "## Classifying Your Package\n",
    "\n",
    "Classifiers make it easier to find you package on PyPi, because PyPi allows you to search by classifiers. Classifiers are optional, but its strongly recommended that you include at least the following:\n",
    "\n",
    "* Programming Lanugage\n",
    "* License\n",
    "* Operating System\n",
    "\n",
    "The following are other good ones to include:\n",
    "\n",
    "* Development Status (Beta?, Alpha?)\n",
    "* Intended Audience (Devs, End Users, Researchers, Sys Admins)\n",
    "* Framework (Is your app a plugin for another larger python framework, i.e. Django)\n",
    "* Topic"
   ]
  },
  {
   "cell_type": "raw",
   "metadata": {},
   "source": [
    "# Example classifiers\n",
    "\n",
    "Programming Language :: Python\n",
    "License :: OSI Approved :: BSD License\n",
    "Operating System :: OS Independent\n",
    "Development Status :: 5 - Production/Stable\n",
    "Environment :: Web Environment\n",
    "Framework :: Django\n",
    "Intended Audience :: Developers\n",
    "Topic :: Internet :: WWW/HTTP\n",
    "Topic :: Internet :: WWW/HTTP :: Dynamic Content\n",
    "Topic :: Internet :: WWW/HTTP :: WSGI\n",
    "Topic :: Software Development :: Libraries :: Python Modules"
   ]
  },
  {
   "cell_type": "markdown",
   "metadata": {},
   "source": [
    "## Specifying Additional Files With a Maniest\n",
    "\n",
    "In order to include additional files in your package release that are not in the following:\n",
    "\n",
    "* readme.txt\n",
    "* setup.py\n",
    "* the .py files needed by the module listed in the packages parameter of setup.py\n",
    "* the individual files listed on the py_modules parameter\n",
    "\n",
    "We must use a MANIFEST.in file to include anything else like:\n",
    "\n",
    "* resources/ folder specified in package dicrectory example above\n",
    "\n",
    "To reiterate, you only need to create a manifest file if you want to include files that distutils does not include by default. All manifest commands preserve the directory structure that you set up in your project directory.  "
   ]
  },
  {
   "cell_type": "raw",
   "metadata": {},
   "source": [
    "# Example MANIFEST.in file:\n",
    "# First line says to include specific file\n",
    "# second line says to get all html, css, png, and gif files in the docs directory\n",
    "    \n",
    "include COPYING.txt\n",
    "recursive-include docs *.html *.css *.png *.gif"
   ]
  },
  {
   "cell_type": "markdown",
   "metadata": {},
   "source": [
    "## Checking Your Setup Script for Errors\n",
    "\n",
    "Use the following command to have dsutils make sure your setup file has all the required metadata:\n",
    "\n",
    "> setup.py check"
   ]
  },
  {
   "cell_type": "markdown",
   "metadata": {},
   "source": [
    "## Creating a Source Distribution\n",
    "\n",
    "Use the following command to build your source distribution of your package:\n",
    "\n",
    "> setup.py sdist"
   ]
  },
  {
   "cell_type": "markdown",
   "metadata": {},
   "source": [
    "## Creating a Graphical Installer\n",
    "\n",
    "To create a GUI Installer for Windows users of your package you can use the following command:\n",
    "\n",
    "> setup.py bdist_wininst"
   ]
  },
  {
   "cell_type": "markdown",
   "metadata": {},
   "source": [
    "## Adding Your Software to The Python Package Index\n",
    "\n",
    "Uploading software to the Python Package Index is a three step process.\n",
    "\n",
    "* Register yourself\n",
    "* Register your software\n",
    "* Upload the packages you created with setup.py sdist and setup.py bdist_*\n",
    "\n",
    "The first step is manual via pypi website, the second two items can be completed with one command:\n",
    "\n",
    "> setup.py register sdist bdist_wininst upload\n",
    "\n",
    "If you want to update your release to a new version, just update setup file to the new version number and rerun the above command."
   ]
  },
  {
   "cell_type": "markdown",
   "metadata": {},
   "source": [
    "## The Many Possible Futures of Python Packaging\n",
    "\n",
    "When this content was created dsutils was the standard, but as stated above setuptools is now the standard library used for packaging in python today. The following are some other frameworks that are used for related tasks:\n",
    "\n",
    "These frameworks focus on installation:\n",
    "\n",
    "* Setuptools\n",
    "* Pip\n",
    "* Distribute\n",
    "These focus on testing and deployment:\n",
    "\n",
    "* virtualenv\n",
    "* zc.buildout\n",
    "* Paver\n",
    "* Fabric\n",
    "* py2exe"
   ]
  }
 ],
 "metadata": {
  "kernelspec": {
   "display_name": "Python 3 (ipykernel)",
   "language": "python",
   "name": "python3"
  },
  "language_info": {
   "codemirror_mode": {
    "name": "ipython",
    "version": 3
   },
   "file_extension": ".py",
   "mimetype": "text/x-python",
   "name": "python",
   "nbconvert_exporter": "python",
   "pygments_lexer": "ipython3",
   "version": "3.8.6"
  },
  "toc": {
   "base_numbering": 1,
   "nav_menu": {},
   "number_sections": true,
   "sideBar": true,
   "skip_h1_title": false,
   "title_cell": "Table of Contents",
   "title_sidebar": "Contents",
   "toc_cell": false,
   "toc_position": {},
   "toc_section_display": true,
   "toc_window_display": false
  }
 },
 "nbformat": 4,
 "nbformat_minor": 4
}
