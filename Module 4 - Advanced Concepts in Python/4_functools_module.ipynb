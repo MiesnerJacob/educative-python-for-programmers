{
 "cells": [
  {
   "cell_type": "markdown",
   "metadata": {},
   "source": [
    "# The functools module"
   ]
  },
  {
   "cell_type": "markdown",
   "metadata": {},
   "source": [
    "## Introduction to functools\n",
    "\n",
    "Python comes with a fun module called functools. The functions inside functools are considered “higher-order” functions which can act on or return other functions. "
   ]
  },
  {
   "cell_type": "markdown",
   "metadata": {},
   "source": [
    "## Caching with functools.lru_cache\n",
    "\n",
    "A decorator that adds caching to the function it decorates."
   ]
  },
  {
   "cell_type": "code",
   "execution_count": 1,
   "metadata": {},
   "outputs": [
    {
     "name": "stdout",
     "output_type": "stream",
     "text": [
      "functools module page found\n",
      "collections module page found\n",
      "os module page found\n",
      "sys module page found\n"
     ]
    }
   ],
   "source": [
    "import urllib.error\n",
    "import urllib.request\n",
    "\n",
    "from functools import lru_cache\n",
    "\n",
    "\n",
    "@lru_cache(maxsize=24)\n",
    "def get_webpage(module):\n",
    "    \"\"\"\n",
    "    Gets the specified Python module web page\n",
    "    \"\"\"    \n",
    "    webpage = \"https://docs.python.org/3/library/{}.html\".format(module)\n",
    "    try:\n",
    "        with urllib.request.urlopen(webpage) as request:\n",
    "            return request.read()\n",
    "    except urllib.error.HTTPError:\n",
    "        return None\n",
    "\n",
    "if __name__ == '__main__':\n",
    "    modules = ['functools', 'collections', 'os', 'sys']\n",
    "    for module in modules:\n",
    "        page = get_webpage(module)\n",
    "        if page:\n",
    "            print(\"{} module page found\".format(module))"
   ]
  },
  {
   "cell_type": "markdown",
   "metadata": {},
   "source": [
    "## functool.partial\n",
    "\n",
    "One of the functools classes is the partial class. You can use it create a new function with partial application of the arguments and keywords that you pass to it. You can use partial to “freeze” a portion of your function’s arguments and/or keywords which results in a new object."
   ]
  },
  {
   "cell_type": "code",
   "execution_count": 2,
   "metadata": {},
   "outputs": [
    {
     "name": "stdout",
     "output_type": "stream",
     "text": [
      "11\n",
      "5\n",
      "4\n",
      "8\n"
     ]
    }
   ],
   "source": [
    "# feeding arguement one input at a time\n",
    "\n",
    "from functools import partial\n",
    "\n",
    "def add(x, y):\n",
    "    return x + y\n",
    "\n",
    "p_add = partial(add, 3)\n",
    "print(p_add(8))\n",
    "print(p_add(2))\n",
    "print(p_add(1))\n",
    "print(p_add(5))"
   ]
  },
  {
   "cell_type": "code",
   "execution_count": 3,
   "metadata": {},
   "outputs": [
    {
     "name": "stdout",
     "output_type": "stream",
     "text": [
      "You pressed: one\n",
      "You pressed: two\n",
      "You pressed: three\n"
     ]
    }
   ],
   "source": [
    "# Using partial to set action and dynamically pass label of button clicked in GUI\n",
    "\n",
    "import wx\n",
    "\n",
    "from functools import partial \n",
    "\n",
    "\n",
    "class MainFrame(wx.Frame):\n",
    "    \"\"\"\n",
    "    This app shows a group of buttons\n",
    "    \"\"\"\n",
    "\n",
    "    def __init__(self, *args, **kwargs):\n",
    "        \"\"\"Constructor\"\"\"\n",
    "        super(MainFrame, self).__init__(parent=None, title='Partial')\n",
    "        panel = wx.Panel(self)\n",
    "\n",
    "        sizer = wx.BoxSizer(wx.VERTICAL)\n",
    "        btn_labels = ['one', 'two', 'three']\n",
    "        for label in btn_labels:\n",
    "            btn = wx.Button(panel, label=label)\n",
    "            btn.Bind(wx.EVT_BUTTON, partial(self.onButton, label=label))\n",
    "            sizer.Add(btn, 0, wx.ALL, 5)\n",
    "\n",
    "        panel.SetSizer(sizer)\n",
    "        self.Show()\n",
    "\n",
    "    def onButton(self, event, label):\n",
    "        \"\"\"\n",
    "        Event handler called when a button is pressed\n",
    "        \"\"\"\n",
    "        print('You pressed: ' +  str(label))\n",
    "\n",
    "\n",
    "if __name__ == '__main__':\n",
    "    app = wx.App(False)\n",
    "    frame = MainFrame()\n",
    "    app.MainLoop() "
   ]
  },
  {
   "cell_type": "code",
   "execution_count": 4,
   "metadata": {},
   "outputs": [
    {
     "name": "stdout",
     "output_type": "stream",
     "text": [
      "3\n",
      "40\n"
     ]
    }
   ],
   "source": [
    "# Another application of partial\n",
    "\n",
    "from functools import partial\n",
    "\n",
    "\n",
    "def add(x, y):\n",
    "    \"\"\"\"\"\"\n",
    "    return x + y\n",
    "\n",
    "\n",
    "def multiply(x, y):\n",
    "    \"\"\"\"\"\"\n",
    "    return x * y\n",
    "\n",
    "\n",
    "def run(func):\n",
    "    \"\"\"\"\"\"\n",
    "    print(func())\n",
    "\n",
    "\n",
    "def main():\n",
    "    \"\"\"\"\"\"\n",
    "    a1 = partial(add, 1, 2)\n",
    "    m1 = partial(multiply, 5, 8)\n",
    "    run(a1)\n",
    "    run(m1)\n",
    "    \n",
    "\n",
    "if __name__ == \"__main__\":\n",
    "    main()"
   ]
  },
  {
   "cell_type": "markdown",
   "metadata": {},
   "source": [
    "## Function Overloading with functiils.singledispatch\n",
    "\n",
    "This decorator will transform your regular function into a single dispatch generic function. "
   ]
  },
  {
   "cell_type": "code",
   "execution_count": 11,
   "metadata": {},
   "outputs": [
    {
     "name": "stdout",
     "output_type": "stream",
     "text": [
      "First argument is of type  <class 'int'>\n",
      "3\n",
      "First argument is of type  <class 'str'>\n",
      "PythonProgramming\n",
      "\n",
      "\n",
      "dict_keys([<class 'object'>, <class 'int'>, <class 'str'>, <class 'list'>])\n"
     ]
    }
   ],
   "source": [
    "from functools import singledispatch\n",
    "\n",
    "\n",
    "@singledispatch\n",
    "def add(a, b):\n",
    "    raise NotImplementedError('Unsupported type')\n",
    "\n",
    "\n",
    "@add.register(int)\n",
    "def _(a, b):\n",
    "    print(\"First argument is of type \", type(a))\n",
    "    print(a + b)\n",
    "\n",
    "\n",
    "@add.register(str)\n",
    "def _(a, b):\n",
    "    print(\"First argument is of type \", type(a))\n",
    "    print(a + b)\n",
    "\n",
    "\n",
    "@add.register(list)\n",
    "def _(a, b):\n",
    "    print(\"First argument is of type \", type(a))\n",
    "    print(a + b)\n",
    "\n",
    "\n",
    "if __name__ == '__main__':\n",
    "    add(1, 2)\n",
    "    add('Python', 'Programming')\n",
    "#     add([1, 2, 3], [5, 6, 7])\n",
    "    print('\\n')\n",
    "    \n",
    "# See supported data types\n",
    "print(add.registry.keys())"
   ]
  },
  {
   "cell_type": "code",
   "execution_count": 27,
   "metadata": {},
   "outputs": [
    {
     "name": "stdout",
     "output_type": "stream",
     "text": [
      "First argument is of type  <class 'float'>\n",
      "6.73\n",
      "\n",
      "\n",
      "First argument is of type  <class 'decimal.Decimal'>\n",
      "111.2889999999999997015720510\n",
      "\n",
      "\n",
      "First argument is of type  <class 'str'>\n",
      "checking overloaded function's support for strings!\n"
     ]
    }
   ],
   "source": [
    "# Decorating stacking to add support for multiple data types at once\n",
    "\n",
    "from functools import singledispatch\n",
    "from decimal import Decimal\n",
    "\n",
    "\n",
    "@singledispatch\n",
    "def add(a, b):\n",
    "    raise NotImplementedError('Unsupported type')\n",
    "\n",
    "@add.register(float)\n",
    "@add.register(Decimal)\n",
    "@add.register(str)\n",
    "def _(a, b):\n",
    "    print(\"First argument is of type \", type(a))\n",
    "    print(a + b)\n",
    "\n",
    "\n",
    "if __name__ == '__main__':\n",
    "    add(1.23, 5.5)\n",
    "    print('\\n')\n",
    "    add(Decimal(100.5), Decimal(10.789))\n",
    "    print('\\n')\n",
    "    add('checking overloaded', ' function\\'s support for strings!')"
   ]
  },
  {
   "cell_type": "markdown",
   "metadata": {},
   "source": [
    "## An issue with using decorators\n",
    "\n",
    "You can use wraps as a decorator to fix docstrings and names of decorated functions. Why does this matter? This sounds like a weird edge case at first, but if you’re writing an API or any code that someone other than yourself will be using, then this could be important. The reason being that when you use Python’s introspection to figure out someone else’s code, a decorated function will return the wrong information. Let’s look at a simple example that I have dubbed decorum.py:"
   ]
  },
  {
   "cell_type": "code",
   "execution_count": 31,
   "metadata": {},
   "outputs": [
    {
     "name": "stdout",
     "output_type": "stream",
     "text": [
      "wrapper\n",
      "\n",
      "        A wrapping function\n",
      "        \n"
     ]
    }
   ],
   "source": [
    "# Example of decorated functino returning wrong info\n",
    "# Basically what is happening here is that the decorator is \n",
    "# changing the decorated function’s name and docstring to its own.\n",
    "\n",
    "# decorum.py\n",
    "\n",
    "\n",
    "def another_function(func):\n",
    "    \"\"\"\n",
    "    A function that accepts another function\n",
    "    \"\"\"\n",
    "\n",
    "    def wrapper():\n",
    "        \"\"\"\n",
    "        A wrapping function\n",
    "        \"\"\"\n",
    "        val = \"The result of %s is %s\" % (func(),\n",
    "                                          eval(func())\n",
    "                                          )\n",
    "        return val\n",
    "    return wrapper\n",
    "\n",
    "\n",
    "@another_function\n",
    "def a_function():\n",
    "    \"\"\"A pretty useless function\"\"\"\n",
    "    return \"1+1\"\n",
    "\n",
    "\n",
    "if __name__ == \"__main__\":\n",
    "    print(a_function.__name__)\n",
    "    print(a_function.__doc__)"
   ]
  },
  {
   "cell_type": "markdown",
   "metadata": {},
   "source": [
    "## functools.wraps to the Rescue!\n",
    "\n",
    "Here we wrap out wrapper with a wraps() decorator and it fixe the issue."
   ]
  },
  {
   "cell_type": "code",
   "execution_count": 35,
   "metadata": {},
   "outputs": [
    {
     "name": "stdout",
     "output_type": "stream",
     "text": [
      "a_function\n",
      "A pretty useless function\n"
     ]
    }
   ],
   "source": [
    "from functools import wraps\n",
    "\n",
    "\n",
    "def another_function(func):\n",
    "    \"\"\"\n",
    "    A function that accepts another function\n",
    "    \"\"\"\n",
    "\n",
    "    @wraps(func)\n",
    "    def wrapper():\n",
    "        \"\"\"\n",
    "        A wrapping function\n",
    "        \"\"\"\n",
    "        val = \"The result of %s is %s\" % (func(),\n",
    "                                          eval(func())\n",
    "                                          )\n",
    "        return val\n",
    "    return wrapper\n",
    "\n",
    "\n",
    "@another_function\n",
    "def a_function():\n",
    "    \"\"\"A pretty useless function\"\"\"\n",
    "    return \"1+1\"\n",
    "\n",
    "\n",
    "if __name__ == \"__main__\":\n",
    "    print(a_function.__name__)\n",
    "    print(a_function.__doc__)"
   ]
  }
 ],
 "metadata": {
  "kernelspec": {
   "display_name": "Python 3",
   "language": "python",
   "name": "python3"
  },
  "language_info": {
   "codemirror_mode": {
    "name": "ipython",
    "version": 3
   },
   "file_extension": ".py",
   "mimetype": "text/x-python",
   "name": "python",
   "nbconvert_exporter": "python",
   "pygments_lexer": "ipython3",
   "version": "3.8.6"
  },
  "toc": {
   "base_numbering": 1,
   "nav_menu": {},
   "number_sections": true,
   "sideBar": true,
   "skip_h1_title": false,
   "title_cell": "Table of Contents",
   "title_sidebar": "Contents",
   "toc_cell": false,
   "toc_position": {},
   "toc_section_display": true,
   "toc_window_display": false
  }
 },
 "nbformat": 4,
 "nbformat_minor": 4
}
