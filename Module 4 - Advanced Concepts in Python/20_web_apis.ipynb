{
 "cells": [
  {
   "cell_type": "markdown",
   "metadata": {},
   "source": [
    "# Web APIs"
   ]
  },
  {
   "cell_type": "markdown",
   "metadata": {},
   "source": [
    "## Introduction to APIs\n",
    "\n",
    "API stands for Application Program Interface and it allows you to communicate with websites and applications made by others. "
   ]
  },
  {
   "cell_type": "markdown",
   "metadata": {},
   "source": [
    "## Twitter"
   ]
  },
  {
   "cell_type": "code",
   "execution_count": 2,
   "metadata": {
    "scrolled": true
   },
   "outputs": [
    {
     "name": "stdout",
     "output_type": "stream",
     "text": [
      "Requirement already satisfied: tweepy in /Library/Frameworks/Python.framework/Versions/3.8/lib/python3.8/site-packages (3.7.0)\r\n",
      "Requirement already satisfied: six>=1.10.0 in /Library/Frameworks/Python.framework/Versions/3.8/lib/python3.8/site-packages (from tweepy) (1.16.0)\r\n",
      "Requirement already satisfied: requests>=2.11.1 in /Library/Frameworks/Python.framework/Versions/3.8/lib/python3.8/site-packages (from tweepy) (2.25.1)\r\n",
      "Requirement already satisfied: PySocks>=1.5.7 in /Library/Frameworks/Python.framework/Versions/3.8/lib/python3.8/site-packages (from tweepy) (1.6.8)\r\n",
      "Requirement already satisfied: requests-oauthlib>=0.7.0 in /Library/Frameworks/Python.framework/Versions/3.8/lib/python3.8/site-packages (from tweepy) (1.2.0)\r\n",
      "Requirement already satisfied: certifi>=2017.4.17 in /Library/Frameworks/Python.framework/Versions/3.8/lib/python3.8/site-packages (from requests>=2.11.1->tweepy) (2019.3.9)\r\n",
      "Requirement already satisfied: urllib3<1.27,>=1.21.1 in /Library/Frameworks/Python.framework/Versions/3.8/lib/python3.8/site-packages (from requests>=2.11.1->tweepy) (1.26.7)\r\n",
      "Requirement already satisfied: idna<3,>=2.5 in /Library/Frameworks/Python.framework/Versions/3.8/lib/python3.8/site-packages (from requests>=2.11.1->tweepy) (2.8)\r\n",
      "Requirement already satisfied: chardet<5,>=3.0.2 in /Library/Frameworks/Python.framework/Versions/3.8/lib/python3.8/site-packages/chardet-3.0.4-py3.8.egg (from requests>=2.11.1->tweepy) (3.0.4)\r\n",
      "Requirement already satisfied: oauthlib>=3.0.0 in /Library/Frameworks/Python.framework/Versions/3.8/lib/python3.8/site-packages (from requests-oauthlib>=0.7.0->tweepy) (3.0.1)\r\n"
     ]
    }
   ],
   "source": [
    "# Install Python wrapper for Twitter API\n",
    "!pip install tweepy"
   ]
  },
  {
   "cell_type": "code",
   "execution_count": 4,
   "metadata": {
    "scrolled": true
   },
   "outputs": [],
   "source": [
    "# Getting some user tweets\n",
    "# This is a boilerplate example because I don't want to put my auth info\n",
    "# into a publicly shared project!\n",
    "\n",
    "import tweepy\n",
    "\n",
    "key = 'random_key'\n",
    "secret = 'random_secret'\n",
    "access_token = 'access_token'\n",
    "access_secret = 'super_secret'\n",
    "\n",
    "auth = tweepy.OAuthHandler(key, secret)\n",
    "auth.set_access_token(access_token, access_secret)\n",
    "api = tweepy.API(auth)\n",
    "\n",
    "my_tweets = api.user_timeline()\n",
    "\n",
    "for tweet in my_tweets:\n",
    "    print(tweet.text)"
   ]
  },
  {
   "cell_type": "code",
   "execution_count": null,
   "metadata": {},
   "outputs": [],
   "source": [
    "# Updating your Twitter status programatically\n",
    "api.update_status('I just tweeted using Python')\n",
    "api.update_with_media(filename, 'I can tweet files with Python')"
   ]
  },
  {
   "cell_type": "markdown",
   "metadata": {},
   "source": [
    "## Reddit"
   ]
  },
  {
   "cell_type": "code",
   "execution_count": 5,
   "metadata": {
    "scrolled": true
   },
   "outputs": [
    {
     "name": "stdout",
     "output_type": "stream",
     "text": [
      "Requirement already satisfied: praw in /Library/Frameworks/Python.framework/Versions/3.8/lib/python3.8/site-packages (7.2.0)\n",
      "Requirement already satisfied: websocket-client>=0.54.0 in /Library/Frameworks/Python.framework/Versions/3.8/lib/python3.8/site-packages (from praw) (0.56.0)\n",
      "Requirement already satisfied: prawcore<3,>=2 in /Library/Frameworks/Python.framework/Versions/3.8/lib/python3.8/site-packages (from praw) (2.0.0)\n",
      "Requirement already satisfied: update-checker>=0.18 in /Library/Frameworks/Python.framework/Versions/3.8/lib/python3.8/site-packages (from praw) (0.18.0)\n",
      "Requirement already satisfied: requests<3.0,>=2.6.0 in /Library/Frameworks/Python.framework/Versions/3.8/lib/python3.8/site-packages (from prawcore<3,>=2->praw) (2.25.1)\n",
      "Requirement already satisfied: six in /Library/Frameworks/Python.framework/Versions/3.8/lib/python3.8/site-packages (from websocket-client>=0.54.0->praw) (1.16.0)\n",
      "Requirement already satisfied: chardet<5,>=3.0.2 in /Library/Frameworks/Python.framework/Versions/3.8/lib/python3.8/site-packages/chardet-3.0.4-py3.8.egg (from requests<3.0,>=2.6.0->prawcore<3,>=2->praw) (3.0.4)\n",
      "Requirement already satisfied: certifi>=2017.4.17 in /Library/Frameworks/Python.framework/Versions/3.8/lib/python3.8/site-packages (from requests<3.0,>=2.6.0->prawcore<3,>=2->praw) (2019.3.9)\n",
      "Requirement already satisfied: urllib3<1.27,>=1.21.1 in /Library/Frameworks/Python.framework/Versions/3.8/lib/python3.8/site-packages (from requests<3.0,>=2.6.0->prawcore<3,>=2->praw) (1.26.7)\n",
      "Requirement already satisfied: idna<3,>=2.5 in /Library/Frameworks/Python.framework/Versions/3.8/lib/python3.8/site-packages (from requests<3.0,>=2.6.0->prawcore<3,>=2->praw) (2.8)\n"
     ]
    }
   ],
   "source": [
    "# Installing Python wrapper for Reddit API\n",
    "!pip install praw"
   ]
  },
  {
   "cell_type": "code",
   "execution_count": null,
   "metadata": {},
   "outputs": [],
   "source": [
    "# Using boilerplate examples here again because I use this API\n",
    "# for work and don't want to expose my key\n",
    "\n",
    "import praw\n",
    "\n",
    "# NOTE: Pass in your Reddit client_id and \n",
    "# client_secret for this API to work\n",
    "red = praw.Reddit(client_id='my client id',\n",
    "                  client_secret='my client secret',\n",
    "                  user_agent='pyred')\n",
    "\n",
    "# Get top 25 stories on reddit right now\n",
    "for i in red.front.hot():\n",
    "    print(i)\n",
    "\n",
    "#6807 :: Supreme Court Strikes Down Strict Abortion Law\n",
    "#5583 :: Grandpa plays a virtual reality game\n",
    "#5532 :: Our trip to the petting zoo did not go as planned\n",
    "#5728 :: My pepper looks like a fist\n",
    "#5501 :: New Samurai Jack receives a TV-MA rating for it's dark tone and viole...\n",
    "#5868 :: The sunset at Glastonbury Festival on Saturday was incredible.\n",
    "#5485 :: Let me out of this kennel please!\n",
    "#5427 :: Good morning, I love you!\n",
    "#5389 :: TIL an airplane crashed into the Empire State Building in 1945. Among...\n",
    "#5409 :: Meanwhile in France...\n",
    "#5340 :: Barclays and RBS shares suspended from trading after tanking more tha...\n",
    "#5228 :: The wood grain on this door looks like a damp woman ran into it\n",
    "#5225 :: Seeing a ceiling fan in action for the first time\n",
    "#5258 :: Half funny, half disturbing\n",
    "#5067 :: Old dogs are cute too.\n",
    "#5036 :: Our veterinary clinic sent us a sympathy card with our dog's paw prin...\n",
    "#5082 :: Experiments confirm that the barium-144 nucleus is pear shaped\n",
    "#5340 :: He doesn't like his new bow tie\n",
    "#4924 :: One of my favorite jokes from Dr. Cox.\n",
    "#4921 :: Pope says Church should ask forgiveness from gays for past treatment\n",
    "#4912 :: Hawaii becomes first U.S. state to place gun owners on FBI database\n",
    "#5043 :: I'll give a million dollars to the man who can do something about mot...\n",
    "#4836 :: 100 kids have sleepover at Dallas Cowboys' AT&T Stadium as part of As...\n",
    "#4719 :: TIL illegal income, such as bribes, are considered taxable income. Au...\n",
    "#4681 :: War Veteran, pencil on paper, A2"
   ]
  },
  {
   "cell_type": "code",
   "execution_count": null,
   "metadata": {},
   "outputs": [],
   "source": [
    "# NOTE: Pass in your Reddit client_id and \n",
    "# client_secret for this API to work\n",
    "red = praw.Reddit(client_id='my client id',\n",
    "                  client_secret='my client secret',\n",
    "                  user_agent='pyred')\n",
    "\n",
    "python = red.subreddit('python')\n",
    "submissions = python.get_hot(limit=5)\n",
    "submissions\n",
    "#<generator object get_content at 0x7fab632614c0>\n",
    "\n",
    "# Get top 5 submissions from the python subredditb\n",
    "for submission in submissions:\n",
    "    print(submission)\n",
    "\n",
    "#298 :: Post learning questions to /r/LearnPython\n",
    "#146 :: Python 3.5.2 is released\n",
    "#84 :: My peer-to-peer networking module is now on pip\n",
    "#36 :: WTF! Stop the next line\n",
    "#0 :: [Advice] What path should I choose for further programming?"
   ]
  },
  {
   "cell_type": "code",
   "execution_count": null,
   "metadata": {},
   "outputs": [],
   "source": [
    "# Collect metadata for single specific submission\n",
    "id = '4q2lxb'\n",
    "submission = red.get_submission(submission_id=id)\n",
    "comments = submission.comments\n",
    "comments\n",
    "#[<praw.objects.Comment object at 0x7fab626c2668>]\n",
    "\n",
    "comments[0].author\n",
    "#Redditor(user_name='brombaer3000')\n",
    "\n",
    "comments[0].body\n",
    "#('[Actual release '\n",
    "# 'notes](https://docs.python.org/3/whatsnew/changelog.html#python-3-5-2)')\n",
    "\n",
    "comments[0].replies\n",
    "#[<praw.objects.Comment object at 0x7fab626c2588>]"
   ]
  },
  {
   "cell_type": "markdown",
   "metadata": {},
   "source": [
    "## Wikipedia"
   ]
  },
  {
   "cell_type": "code",
   "execution_count": 6,
   "metadata": {
    "scrolled": true
   },
   "outputs": [
    {
     "name": "stdout",
     "output_type": "stream",
     "text": [
      "Collecting wikipedia\n",
      "  Using cached wikipedia-1.4.0.tar.gz (27 kB)\n",
      "  Preparing metadata (setup.py) ... \u001b[?25ldone\n",
      "\u001b[?25hRequirement already satisfied: beautifulsoup4 in /Library/Frameworks/Python.framework/Versions/3.8/lib/python3.8/site-packages (from wikipedia) (4.9.3)\n",
      "Requirement already satisfied: requests<3.0.0,>=2.0.0 in /Library/Frameworks/Python.framework/Versions/3.8/lib/python3.8/site-packages (from wikipedia) (2.25.1)\n",
      "Requirement already satisfied: chardet<5,>=3.0.2 in /Library/Frameworks/Python.framework/Versions/3.8/lib/python3.8/site-packages/chardet-3.0.4-py3.8.egg (from requests<3.0.0,>=2.0.0->wikipedia) (3.0.4)\n",
      "Requirement already satisfied: urllib3<1.27,>=1.21.1 in /Library/Frameworks/Python.framework/Versions/3.8/lib/python3.8/site-packages (from requests<3.0.0,>=2.0.0->wikipedia) (1.26.7)\n",
      "Requirement already satisfied: certifi>=2017.4.17 in /Library/Frameworks/Python.framework/Versions/3.8/lib/python3.8/site-packages (from requests<3.0.0,>=2.0.0->wikipedia) (2019.3.9)\n",
      "Requirement already satisfied: idna<3,>=2.5 in /Library/Frameworks/Python.framework/Versions/3.8/lib/python3.8/site-packages (from requests<3.0.0,>=2.0.0->wikipedia) (2.8)\n",
      "Requirement already satisfied: soupsieve>1.2 in /Library/Frameworks/Python.framework/Versions/3.8/lib/python3.8/site-packages (from beautifulsoup4->wikipedia) (2.2)\n",
      "Building wheels for collected packages: wikipedia\n",
      "  Building wheel for wikipedia (setup.py) ... \u001b[?25ldone\n",
      "\u001b[?25h  Created wheel for wikipedia: filename=wikipedia-1.4.0-py3-none-any.whl size=11686 sha256=579977133b85f965e0f88b73c1ccc3a4e2b1f0833cb8c3aeaf12fa5963bd0dff\n",
      "  Stored in directory: /Users/miesner.jacob/Library/Caches/pip/wheels/07/93/05/72c05349177dca2e0ba31a33ba4f7907606f7ddef303517c6a\n",
      "Successfully built wikipedia\n",
      "Installing collected packages: wikipedia\n",
      "Successfully installed wikipedia-1.4.0\n"
     ]
    }
   ],
   "source": [
    "# Installing Python wrapper for Wikipedia\n",
    "!pip install wikipedia"
   ]
  },
  {
   "cell_type": "code",
   "execution_count": 8,
   "metadata": {},
   "outputs": [
    {
     "name": "stdout",
     "output_type": "stream",
     "text": [
      "['Python (programming language)', 'Python', 'Monty Python', 'Ball python', 'Setuptools', 'Reticulated python', 'Burmese python', 'History of Python', 'PYTHON', 'Python molurus']\n"
     ]
    }
   ],
   "source": [
    "# This wikipedia library depends on BeautifulSoup and requests\n",
    "# So no need for Auth here\n",
    "import wikipedia\n",
    "\n",
    "# Search for pages about python\n",
    "print(wikipedia.search('Python'))"
   ]
  },
  {
   "cell_type": "code",
   "execution_count": 9,
   "metadata": {
    "scrolled": true
   },
   "outputs": [
    {
     "name": "stdout",
     "output_type": "stream",
     "text": [
      "Python is an interpreted high-level general-purpose programming language. Its design philosophy emphasizes code readability with its use of significant indentation. Its language constructs as well as its object-oriented approach aim to help programmers write clear, logical code for small and large-scale projects.Python is dynamically-typed and garbage-collected. It supports multiple programming paradigms, including structured (particularly, procedural), object-oriented and functional programming. It is often described as a \"batteries included\" language due to its comprehensive standard library.Guido van Rossum began working on Python in the late 1980s, as a successor to the ABC programming language, and first released it in 1991 as Python 0.9.0. Python 2.0 was released in 2000 and introduced new features, such as list comprehensions and a cycle-detecting garbage collection system (in addition to reference counting). Python 3.0 was released in 2008 and was a major revision of the language that is not completely backward-compatible. Python 2 was discontinued with version 2.7.18 in 2020.Python consistently ranks as one of the most popular programming languages.\n"
     ]
    }
   ],
   "source": [
    "# Get the summary for one of the python related pages\n",
    "print(wikipedia.summary('Python (programming language)'))"
   ]
  },
  {
   "cell_type": "code",
   "execution_count": 14,
   "metadata": {},
   "outputs": [
    {
     "name": "stdout",
     "output_type": "stream",
     "text": [
      "URL: https://en.wikipedia.org/wiki/McDonald%27s\n",
      "Title: McDonald's\n",
      "Summary: McDonald's is an American fast food company, founded in 1940 as a restaurant operated by Richard and Maurice McDonald, in San Bernardino, California, United States. They rechristened their business as a hamburger stand, and later turned the company i\n",
      "Content: McDonald's is an American fast food company, founded in 1940 as a restaurant operated by Richard and Maurice McDonald, in San Bernardino, California, United States. They rechristened their business as a hamburger stand, and later turned the company i\n",
      "\n",
      "\n",
      "URL: https://en.wikipedia.org/wiki/List_of_countries_with_McDonald%27s_restaurants\n",
      "Title: List of countries with McDonald's restaurants\n",
      "Summary: This is a list of countries with McDonald's restaurants. McDonald's is the largest chain of fast food restaurants in the world, with more than 36,000 outlets worldwide. The majority of McDonald's outlets outside of the United States are franchises.\n",
      "T\n",
      "Content: This is a list of countries with McDonald's restaurants. McDonald's is the largest chain of fast food restaurants in the world, with more than 36,000 outlets worldwide. The majority of McDonald's outlets outside of the United States are franchises.\n",
      "T\n",
      "\n",
      "\n",
      "URL: https://en.wikipedia.org/wiki/Richard_and_Maurice_McDonald\n",
      "Title: Richard and Maurice McDonald\n",
      "Summary: Richard McDonald (died July 14, 1998) and Maurice McDonald (died December 11, 1971), together known as the McDonald Brothers, were American entrepreneurs who founded the fast food company McDonald's. They opened the original McDonald's restaurant in \n",
      "Content: Richard McDonald (died July 14, 1998) and Maurice McDonald (died December 11, 1971), together known as the McDonald Brothers, were American entrepreneurs who founded the fast food company McDonald's. They opened the original McDonald's restaurant in \n",
      "\n",
      "\n",
      "URL: https://en.wikipedia.org/wiki/McDonald%27s_Monopoly\n",
      "Title: McDonald's Monopoly\n",
      "Summary: The McDonald's Monopoly game is a sales promotion run by fast food restaurant chain McDonald's, with a theme based on the Hasbro board game Monopoly. The game first ran in the U.S. in 1987 and has since been used worldwide.\n",
      "The promotion has used oth\n",
      "Content: The McDonald's Monopoly game is a sales promotion run by fast food restaurant chain McDonald's, with a theme based on the Hasbro board game Monopoly. The game first ran in the U.S. in 1987 and has since been used worldwide.\n",
      "The promotion has used oth\n",
      "\n",
      "\n",
      "URL: https://en.wikipedia.org/wiki/List_of_McDonald%27s_products\n",
      "Title: List of McDonald's products\n",
      "Summary: McDonald's is one of the world's largest fast food chains, founded in 1940 in San Bernardino, California, and incorporated in Des Plaines, Illinois, in 1955. Since then, McDonald's has become a household name in America, known for selling a variety o\n",
      "Content: McDonald's is one of the world's largest fast food chains, founded in 1940 in San Bernardino, California, and incorporated in Des Plaines, Illinois, in 1955. Since then, McDonald's has become a household name in America, known for selling a variety o\n",
      "\n",
      "\n",
      "URL: https://en.wikipedia.org/wiki/McDonald_%26_Dodds\n",
      "Title: McDonald & Dodds\n",
      "Summary: McDonald & Dodds is a British crime drama television series based in the city of Bath, England, and starring Tala Gouveia and Jason Watkins as mismatched detectives. Actors Robert Lindsay, Hugh Dennis, Freddie Fox and Joanna Scanlan guest starred in \n",
      "Content: McDonald & Dodds is a British crime drama television series based in the city of Bath, England, and starring Tala Gouveia and Jason Watkins as mismatched detectives. Actors Robert Lindsay, Hugh Dennis, Freddie Fox and Joanna Scanlan guest starred in \n",
      "\n",
      "\n",
      "URL: https://en.wikipedia.org/wiki/Christopher_McDonald\n",
      "Title: Christopher McDonald\n",
      "Summary: Christopher McDonald (born February 15, 1955) is an American film, television and voice actor. He is best known for playing the villainous Shooter McGavin in the 1996 comedy Happy Gilmore. He also played Darryl Dickinson in Thelma & Louise (1991), Wa\n",
      "Content: Christopher McDonald (born February 15, 1955) is an American film, television and voice actor. He is best known for playing the villainous Shooter McGavin in the 1996 comedy Happy Gilmore. He also played Darryl Dickinson in Thelma & Louise (1991), Wa\n",
      "\n",
      "\n",
      "URL: https://en.wikipedia.org/wiki/Ronald_McDonald\n",
      "Title: Ronald McDonald\n",
      "Summary: Ronald McDonald is a clown character used as the primary mascot of the McDonald's fast-food restaurant chain. In television commercials, he inhabited a fantasy world, McDonaldland, where he had adventures with his friends Mayor McCheese, the Hamburgl\n",
      "Content: Ronald McDonald is a clown character used as the primary mascot of the McDonald's fast-food restaurant chain. In television commercials, he inhabited a fantasy world, McDonaldland, where he had adventures with his friends Mayor McCheese, the Hamburgl\n",
      "\n",
      "\n",
      "URL: https://en.wikipedia.org/wiki/Liebeck_v._McDonald%27s_Restaurants\n",
      "Title: Liebeck v. McDonald's Restaurants\n",
      "Summary: Liebeck v. McDonald's Restaurants, also known as the McDonald's coffee case and the hot coffee lawsuit, was a highly publicized 1994 product liability lawsuit in the United States against McDonald's.\n",
      "Plaintiff Stella Liebeck, a 79-year-old woman,  su\n",
      "Content: Liebeck v. McDonald's Restaurants, also known as the McDonald's coffee case and the hot coffee lawsuit, was a highly publicized 1994 product liability lawsuit in the United States against McDonald's.\n",
      "Plaintiff Stella Liebeck, a 79-year-old woman,  su\n",
      "\n",
      "\n",
      "PageError for result: Jane McDonald\n"
     ]
    }
   ],
   "source": [
    "# Print data for pages that match a certain query\n",
    "def print_wikipedia_results(word):\n",
    "    \"\"\"\n",
    "    Searches for pages that match the specified word\n",
    "    \"\"\"\n",
    "    results = wikipedia.search(word)\n",
    "\n",
    "    for result in results:\n",
    "        try:\n",
    "            page = wikipedia.page(result)\n",
    "        except wikipedia.exceptions.DisambiguationError:\n",
    "            print('DisambiguationError')\n",
    "            continue\n",
    "        except wikipedia.exceptions.PageError:\n",
    "            print('PageError for result: ' + result)\n",
    "            continue\n",
    "\n",
    "        print(\"URL: \" + page.url)\n",
    "        print(\"Title: \" + page.title)\n",
    "        print(\"Summary: \" + page.summary[:250])\n",
    "        print(\"Content: \" + page.summary[:250])\n",
    "        print('\\n')\n",
    "\n",
    "print_wikipedia_results('McDonalds')"
   ]
  },
  {
   "cell_type": "code",
   "execution_count": 16,
   "metadata": {},
   "outputs": [
    {
     "name": "stdout",
     "output_type": "stream",
     "text": [
      "Python (prononcé /pi.tɔ̃/) est un langage de programmation interprété, multi-paradigme et multiplateformes. Il favorise la programmation impérative structurée, fonctionnelle et orientée objet. Il est doté d'un typage dynamique fort, d'une gestion automatique de la mémoire par ramasse-miettes et d'un système de gestion d'exceptions ; il est ainsi similaire à Perl, Ruby, Scheme, Smalltalk et Tcl.\n",
      "Le langage Python est placé sous une licence libre proche de la licence BSD et fonctionne sur la plupart des plates-formes informatiques, des smartphones aux ordinateurs centraux, de Windows à Unix avec notamment GNU/Linux en passant par macOS, ou encore Android, iOS, et peut aussi être traduit en Java ou .NET. Il est conçu pour optimiser la productivité des programmeurs en offrant des outils de haut niveau et une syntaxe simple à utiliser.\n",
      "Il est également apprécié par certains pédagogues qui y trouvent un langage où la syntaxe, clairement séparée des mécanismes de bas niveau, permet une initiation aisée aux concepts de base de la programmation.\n"
     ]
    }
   ],
   "source": [
    "# You can get results in different lanugages as well!\n",
    "wikipedia.set_lang(\"fr\")\n",
    "page = wikipedia.page('Python (programming language)')\n",
    "print(page.summary)"
   ]
  },
  {
   "cell_type": "markdown",
   "metadata": {},
   "source": [
    "## Other API Libraries\n",
    "\n",
    "Google itself provides a Python API called the Google API Python Client that gives you access to a lot of Google’s services. It uses OAuth for authentication, but is pretty full featured. \n",
    "\n",
    "Amazon published a library for their Web Services (AWS) that they call Boto3. You can use Boto for writing software that utilizes Amazon’s S3 and EC2, among others.\n",
    "\n",
    "If a website contains lots of data there is probably a python wrapper out there for it, or access via http requests."
   ]
  }
 ],
 "metadata": {
  "kernelspec": {
   "display_name": "Python 3 (ipykernel)",
   "language": "python",
   "name": "python3"
  },
  "language_info": {
   "codemirror_mode": {
    "name": "ipython",
    "version": 3
   },
   "file_extension": ".py",
   "mimetype": "text/x-python",
   "name": "python",
   "nbconvert_exporter": "python",
   "pygments_lexer": "ipython3",
   "version": "3.8.6"
  },
  "toc": {
   "base_numbering": 1,
   "nav_menu": {},
   "number_sections": true,
   "sideBar": true,
   "skip_h1_title": false,
   "title_cell": "Table of Contents",
   "title_sidebar": "Contents",
   "toc_cell": false,
   "toc_position": {},
   "toc_section_display": true,
   "toc_window_display": false
  }
 },
 "nbformat": 4,
 "nbformat_minor": 4
}
