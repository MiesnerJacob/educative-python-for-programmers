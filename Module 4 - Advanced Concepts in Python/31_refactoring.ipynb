{
 "cells": [
  {
   "cell_type": "markdown",
   "metadata": {},
   "source": [
    "# Refactoring"
   ]
  },
  {
   "cell_type": "markdown",
   "metadata": {},
   "source": [
    "## Diving In\n",
    "\n",
    "A bug is a test case you have no test for!\n",
    "\n",
    "What to do if you encounter a bug:\n",
    "1. Write a unit test to identify the bug so you don't fall in its trap again\n",
    "2. Confirm unittest works\n",
    "3. Adjust source code to fix bug!\n",
    "    * if it does not work maybe you have bug in your test\n",
    "    * or your fix has a bug!"
   ]
  },
  {
   "cell_type": "markdown",
   "metadata": {},
   "source": [
    "## Handling Changing Requirements\n",
    "\n",
    "Be prepared to update your test cases as requirements change. Lets say we are working with a roman numeral program and we have a requirement to make an exception to the rule that having more than 3 repreating chars is invalid,and we want to make it so 4 M's in a row represent 4,000."
   ]
  },
  {
   "cell_type": "code",
   "execution_count": 13,
   "metadata": {},
   "outputs": [],
   "source": [
    "# Our unittests for our roman numeral application\n",
    "\n",
    "import unittest\n",
    "\n",
    "# We add higher known values to cover our test case\n",
    "class KnownValues(unittest.TestCase):\n",
    "    known_values = ( (1, 'I'),\n",
    "                     (3999, 'MMMCMXCIX'),\n",
    "                     (4000, 'MMMM'),\n",
    "                     (4500, 'MMMMD'),\n",
    "                     (4888, 'MMMMDCCCLXXXVIII'),\n",
    "                     (4999, 'MMMMCMXCIX') )\n",
    "\n",
    "# We change the definition of having too large of an input\n",
    "class ToRomanBadInput(unittest.TestCase):\n",
    "    def test_too_large(self):\n",
    "        '''to_roman should fail with large input'''\n",
    "        self.assertRaises(roman8.OutOfRangeError, roman8.to_roman, 5000)\n",
    "\n",
    "# We adjust our test case saying there cant be more than 3 repeated numerals\n",
    "class FromRomanBadInput(unittest.TestCase):\n",
    "    def test_too_many_repeated_numerals(self):\n",
    "        '''from_roman should fail with too many repeated numerals'''\n",
    "        for s in ('MMMMM', 'DD', 'CCCC', 'LL', 'XXXX', 'VV', 'IIII'):\n",
    "            self.assertRaises(roman8.InvalidRomanNumeralError, roman8.from_roman, s)\n",
    "\n",
    "# Expand our test case evaluating each numeral\n",
    "class RoundtripCheck(unittest.TestCase):\n",
    "    def test_roundtrip(self):\n",
    "        '''from_roman(to_roman(n))==n for all n'''\n",
    "        for integer in range(1, 5000):\n",
    "            numeral = roman8.to_roman(integer)\n",
    "            result = roman8.from_roman(numeral)\n",
    "            self.assertEqual(integer, result)"
   ]
  },
  {
   "cell_type": "markdown",
   "metadata": {},
   "source": [
    "Once we adjust our test cases we rerun our source code to make sure it fails in the correct spots, then we adjust our source code to accomodate the changing requirements. Having comprehensive unittests is a great way to make your code build trust with users."
   ]
  },
  {
   "cell_type": "markdown",
   "metadata": {},
   "source": [
    "## Refactoring\n",
    "\n",
    "Refactoring is the process of taking working code and making it work better. Usually, “better” means “faster”, although it can also mean “using less memory”, or “using less disk space”, or simply “more elegantly”. Whatever it means to you, to your project, in your environment, refactoring is important to the long-term health of any program."
   ]
  }
 ],
 "metadata": {
  "kernelspec": {
   "display_name": "Python 3 (ipykernel)",
   "language": "python",
   "name": "python3"
  },
  "language_info": {
   "codemirror_mode": {
    "name": "ipython",
    "version": 3
   },
   "file_extension": ".py",
   "mimetype": "text/x-python",
   "name": "python",
   "nbconvert_exporter": "python",
   "pygments_lexer": "ipython3",
   "version": "3.8.6"
  },
  "toc": {
   "base_numbering": 1,
   "nav_menu": {},
   "number_sections": true,
   "sideBar": true,
   "skip_h1_title": false,
   "title_cell": "Table of Contents",
   "title_sidebar": "Contents",
   "toc_cell": false,
   "toc_position": {},
   "toc_section_display": true,
   "toc_window_display": false
  }
 },
 "nbformat": 4,
 "nbformat_minor": 4
}
