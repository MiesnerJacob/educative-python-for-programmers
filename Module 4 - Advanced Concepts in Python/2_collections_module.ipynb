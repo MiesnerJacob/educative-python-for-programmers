{
 "cells": [
  {
   "cell_type": "markdown",
   "metadata": {},
   "source": [
    "# The Collections Module"
   ]
  },
  {
   "cell_type": "markdown",
   "metadata": {},
   "source": [
    "Python’s collections module has specialized container datatypes that can be used to replace Python’s general purpose containers (dict, tuple, list, and set). We will be studying the following parts of this fun module:\n",
    "\n",
    "* ChainMap\n",
    "* defaultdict\n",
    "* deque\n",
    "* namedtuple\n",
    "* OrderedDict"
   ]
  },
  {
   "cell_type": "markdown",
   "metadata": {},
   "source": [
    "## ChainMap"
   ]
  },
  {
   "cell_type": "code",
   "execution_count": 5,
   "metadata": {},
   "outputs": [
    {
     "name": "stdout",
     "output_type": "stream",
     "text": [
      "500\n"
     ]
    }
   ],
   "source": [
    "# Basic Usage\n",
    "from collections import ChainMap\n",
    "\n",
    "car_parts = {'hood': 500, 'engine': 5000, 'front_door': 750}\n",
    "car_options = {'A/C': 1000, 'Turbo': 2500, 'rollbar': 300}\n",
    "car_accessories = {'cover': 100, 'hood_ornament': 150, 'seat_cover': 99}\n",
    "car_pricing = ChainMap(car_accessories, car_options, car_parts)\n",
    "\n",
    "print(car_pricing['hood'])"
   ]
  },
  {
   "cell_type": "code",
   "execution_count": 7,
   "metadata": {},
   "outputs": [],
   "source": [
    "# Using Chainmap to override defaults in a simple application\n",
    "# chain_map.py\n",
    "import argparse\n",
    "import os\n",
    "\n",
    "from collections import ChainMap\n",
    "\n",
    "\n",
    "def main():\n",
    "    app_defaults = {'username':'admin', 'password':'admin'}\n",
    "\n",
    "    parser = argparse.ArgumentParser()\n",
    "    parser.add_argument('-u', '--username')\n",
    "    parser.add_argument('-p', '--password')\n",
    "    args = parser.parse_args()\n",
    "    command_line_arguments = {key:value for key, value \n",
    "                              in vars(args).items() if value}\n",
    "\n",
    "    chain = ChainMap(command_line_arguments, os.environ, \n",
    "                     app_defaults)\n",
    "    print(chain['username'])\n",
    "\n",
    "if __name__ == '__main__':\n",
    "    main()\n",
    "    os.environ['username'] = 'test'\n",
    "    main()"
   ]
  },
  {
   "cell_type": "code",
   "execution_count": 8,
   "metadata": {},
   "outputs": [
    {
     "name": "stdout",
     "output_type": "stream",
     "text": [
      "mike\r\n",
      "mike\r\n"
     ]
    }
   ],
   "source": [
    "# Testing the above code\n",
    "!python 2_collections_demos/chain_map.py -u mike"
   ]
  },
  {
   "cell_type": "markdown",
   "metadata": {},
   "source": [
    "## Counter"
   ]
  },
  {
   "cell_type": "code",
   "execution_count": 13,
   "metadata": {},
   "outputs": [
    {
     "name": "stdout",
     "output_type": "stream",
     "text": [
      "Counter({'u': 3, 's': 2, 'p': 1, 'e': 1, 'r': 1, 'f': 1, 'l': 1, 'o': 1})\n",
      "3\n"
     ]
    }
   ],
   "source": [
    "# Counter can be used for easy and fast tallies\n",
    "from collections import Counter\n",
    "\n",
    "print(Counter('superfluous'))\n",
    "\n",
    "counter = Counter('superfluous')\n",
    "print(counter['u'])"
   ]
  },
  {
   "cell_type": "code",
   "execution_count": 12,
   "metadata": {},
   "outputs": [
    {
     "name": "stdout",
     "output_type": "stream",
     "text": [
      "['s', 's', 'u', 'u', 'u', 'p', 'e', 'r', 'f', 'l', 'o']\n"
     ]
    }
   ],
   "source": [
    "# Listing all elements represented in the dictionary\n",
    "\n",
    "print(list(counter.elements()))"
   ]
  },
  {
   "cell_type": "code",
   "execution_count": 14,
   "metadata": {},
   "outputs": [
    {
     "name": "stdout",
     "output_type": "stream",
     "text": [
      "[('u', 3), ('s', 2)]\n"
     ]
    }
   ],
   "source": [
    "# Printing the most common elements in the dictionary\n",
    "\n",
    "print(counter.most_common(2))"
   ]
  },
  {
   "cell_type": "code",
   "execution_count": 17,
   "metadata": {},
   "outputs": [
    {
     "name": "stdout",
     "output_type": "stream",
     "text": [
      "Counter({'u': 3, 's': 2, 'p': 1, 'e': 1, 'r': 1, 'f': 1, 'l': 1, 'o': 1})\n",
      "None\n",
      "Counter({'u': 2, 's': 1, 'f': 1, 'l': 1, 'o': 1, 'p': 0, 'e': 0, 'r': 0})\n"
     ]
    }
   ],
   "source": [
    "# Subracting one counter from another\n",
    "\n",
    "from collections import Counter\n",
    "\n",
    "counter_one = Counter('superfluous')\n",
    "print(counter_one)\n",
    "\n",
    "\n",
    "counter_two = Counter('super')\n",
    "print(counter_one.subtract(counter_two))\n",
    "\n",
    "\n",
    "print(counter_one)"
   ]
  },
  {
   "cell_type": "markdown",
   "metadata": {},
   "source": [
    "## defaultdict\n",
    "\n",
    "The defaultdict is a subclass of Python’s dict that accepts a default_factory as its primary argument. The default_factory is usually a Python type, such as int or list, but you can also use a function or a lambda too"
   ]
  },
  {
   "cell_type": "code",
   "execution_count": 18,
   "metadata": {},
   "outputs": [
    {
     "name": "stdout",
     "output_type": "stream",
     "text": [
      "{'The': 1, 'red': 1, 'for': 2, 'jumped': 1, 'over': 1, 'the': 2, 'fence': 1, 'and': 1, 'ran': 1, 'to': 1, 'zoo': 1, 'food': 1}\n"
     ]
    }
   ],
   "source": [
    "# Count occurences of words in a sentence\n",
    "# Regular python dictionary\n",
    "\n",
    "sentence = \"The red for jumped over the fence and ran to the zoo for food\"\n",
    "words = sentence.split(' ')\n",
    "\n",
    "reg_dict = {}\n",
    "for word in words:\n",
    "    if word in reg_dict:\n",
    "        reg_dict[word] += 1\n",
    "    else:\n",
    "        reg_dict[word] = 1\n",
    "\n",
    "print(reg_dict)"
   ]
  },
  {
   "cell_type": "code",
   "execution_count": 19,
   "metadata": {},
   "outputs": [
    {
     "name": "stdout",
     "output_type": "stream",
     "text": [
      "defaultdict(<class 'int'>, {'The': 1, 'red': 1, 'for': 2, 'jumped': 1, 'over': 1, 'the': 2, 'fence': 1, 'and': 1, 'ran': 1, 'to': 1, 'zoo': 1, 'food': 1})\n"
     ]
    }
   ],
   "source": [
    "# Same task, but utilizing defaultdict\n",
    "\n",
    "from collections import defaultdict\n",
    "\n",
    "\n",
    "sentence = \"The red for jumped over the fence and ran to the zoo for food\"\n",
    "words = sentence.split(' ')\n",
    "\n",
    "d = defaultdict(int)\n",
    "for word in words:\n",
    "    d[word] += 1\n",
    "\n",
    "print(d)"
   ]
  },
  {
   "cell_type": "code",
   "execution_count": 20,
   "metadata": {},
   "outputs": [
    {
     "name": "stdout",
     "output_type": "stream",
     "text": [
      "{1234: [100.23, 75.0, 35.67], 345: [10.45, 222.66], 678: [300.25]}\n"
     ]
    }
   ],
   "source": [
    "# Building dictionary from list of tuples\n",
    "# List second values associates with first partial in list\n",
    "# Regular python dictionary\n",
    "\n",
    "my_list = [(1234, 100.23), (345, 10.45), (1234, 75.00),\n",
    "           (345, 222.66), (678, 300.25), (1234, 35.67)]\n",
    "\n",
    "reg_dict = {}\n",
    "for acct_num, value in my_list:\n",
    "    if acct_num in reg_dict:\n",
    "        reg_dict[acct_num].append(value)\n",
    "    else:\n",
    "        reg_dict[acct_num] = [value]\n",
    "\n",
    "print(reg_dict)"
   ]
  },
  {
   "cell_type": "code",
   "execution_count": 22,
   "metadata": {},
   "outputs": [
    {
     "name": "stdout",
     "output_type": "stream",
     "text": [
      "defaultdict(<class 'list'>, {1234: [100.23, 75.0, 35.67], 345: [10.45, 222.66], 678: [300.25]})\n"
     ]
    }
   ],
   "source": [
    "# Building dictionary from list of tuples\n",
    "# List second values associates with first partial in list\n",
    "# Using defaultdict\n",
    "\n",
    "from collections import defaultdict\n",
    "\n",
    "\n",
    "my_list = [(1234, 100.23), (345, 10.45), (1234, 75.00),\n",
    "           (345, 222.66), (678, 300.25), (1234, 35.67)]\n",
    "\n",
    "d = defaultdict(list)\n",
    "for acct_num, value in my_list:\n",
    "    d[acct_num].append(value)\n",
    "    # No need to add key if it doesnt exist\n",
    "\n",
    "print(d)"
   ]
  },
  {
   "cell_type": "code",
   "execution_count": 25,
   "metadata": {},
   "outputs": [
    {
     "name": "stdout",
     "output_type": "stream",
     "text": [
      "Monkey\n",
      "defaultdict(<function <lambda> at 0x10b4ec280>, {'Sam': 'Tiger', 'Jacob': 'Monkey'})\n"
     ]
    }
   ],
   "source": [
    "# Using Lambda as the default_factory\n",
    "\n",
    "from collections import defaultdict\n",
    "animal = defaultdict(lambda: \"Monkey\")\n",
    "animal['Sam'] = 'Tiger'\n",
    "print(animal['Jacob'])\n",
    "#Monkey\n",
    "\n",
    "print(animal)\n",
    "#defaultdict(<function <lambda> at 0x7f32f26da8c0>, {'Nick': 'Monkey', 'Sam': 'Tiger'})"
   ]
  },
  {
   "cell_type": "code",
   "execution_count": 26,
   "metadata": {},
   "outputs": [
    {
     "ename": "KeyError",
     "evalue": "'Mike'",
     "output_type": "error",
     "traceback": [
      "\u001b[0;31m---------------------------------------------------------------------------\u001b[0m",
      "\u001b[0;31mKeyError\u001b[0m                                  Traceback (most recent call last)",
      "\u001b[0;32m<ipython-input-26-0d113bb167b5>\u001b[0m in \u001b[0;36m<module>\u001b[0;34m\u001b[0m\n\u001b[1;32m      3\u001b[0m \u001b[0;32mfrom\u001b[0m \u001b[0mcollections\u001b[0m \u001b[0;32mimport\u001b[0m \u001b[0mdefaultdict\u001b[0m\u001b[0;34m\u001b[0m\u001b[0;34m\u001b[0m\u001b[0m\n\u001b[1;32m      4\u001b[0m \u001b[0mx\u001b[0m \u001b[0;34m=\u001b[0m \u001b[0mdefaultdict\u001b[0m\u001b[0;34m(\u001b[0m\u001b[0;32mNone\u001b[0m\u001b[0;34m)\u001b[0m\u001b[0;34m\u001b[0m\u001b[0;34m\u001b[0m\u001b[0m\n\u001b[0;32m----> 5\u001b[0;31m \u001b[0mx\u001b[0m\u001b[0;34m[\u001b[0m\u001b[0;34m'Mike'\u001b[0m\u001b[0;34m]\u001b[0m\u001b[0;34m\u001b[0m\u001b[0;34m\u001b[0m\u001b[0m\n\u001b[0m\u001b[1;32m      6\u001b[0m \u001b[0;31m#Traceback (most recent call last):\u001b[0m\u001b[0;34m\u001b[0m\u001b[0;34m\u001b[0m\u001b[0;34m\u001b[0m\u001b[0m\n\u001b[1;32m      7\u001b[0m \u001b[0;31m#  File \"/usercode/__ed_file.py\", line 3, in <module>\u001b[0m\u001b[0;34m\u001b[0m\u001b[0;34m\u001b[0m\u001b[0;34m\u001b[0m\u001b[0m\n",
      "\u001b[0;31mKeyError\u001b[0m: 'Mike'"
     ]
    }
   ],
   "source": [
    "# Setting your default factory to None will return error\n",
    "\n",
    "from collections import defaultdict\n",
    "x = defaultdict(None)\n",
    "x['Mike']\n",
    "#Traceback (most recent call last):\n",
    "#  File \"/usercode/__ed_file.py\", line 3, in <module>\n",
    "# x['Mike']\n",
    "#KeyError: 'Mike'"
   ]
  },
  {
   "cell_type": "markdown",
   "metadata": {},
   "source": [
    "## deque\n",
    "\n",
    "According to the Python documentation, deques “are a generalization of stacks and queues”. They are pronounced “deck” which is short for \"double-ended queue\". They are a replacement container for the Python list. Deques are thread-safe and support memory efficient appends and pops from either side of the deque.\n",
    "\n",
    "A deque accepts a maxlen argument which sets the bounds for the deque. Otherwise the deque will grow to an arbitrary size. When a bounded deque is full, any new items added will cause the same number of items to be popped off the other end."
   ]
  },
  {
   "cell_type": "code",
   "execution_count": 34,
   "metadata": {},
   "outputs": [
    {
     "name": "stdout",
     "output_type": "stream",
     "text": [
      "a\n",
      "b\n",
      "c\n",
      "d\n",
      "e\n",
      "f\n",
      "g\n",
      "h\n",
      "i\n",
      "j\n",
      "k\n",
      "l\n",
      "m\n",
      "n\n",
      "o\n",
      "p\n",
      "q\n",
      "r\n",
      "s\n",
      "t\n",
      "u\n",
      "v\n",
      "w\n",
      "x\n",
      "y\n",
      "z\n"
     ]
    }
   ],
   "source": [
    "# Creating a deque\n",
    "from collections import deque\n",
    "import string\n",
    "\n",
    "d = deque(string.ascii_lowercase)\n",
    "for letter in d:\n",
    "    print(letter)"
   ]
  },
  {
   "cell_type": "code",
   "execution_count": 35,
   "metadata": {},
   "outputs": [
    {
     "name": "stdout",
     "output_type": "stream",
     "text": [
      "deque(['a', 'b', 'c', 'd', 'e', 'f', 'g', 'h', 'i', 'j', 'k', 'l', 'm', 'n', 'o', 'p', 'q', 'r', 's', 't', 'u', 'v', 'w', 'x', 'y', 'z', 'mung'])\n",
      "\n",
      "\n",
      "deque(['test', 'a', 'b', 'c', 'd', 'e', 'f', 'g', 'h', 'i', 'j', 'k', 'l', 'm', 'n', 'o', 'p', 'q', 'r', 's', 't', 'u', 'v', 'w', 'x', 'y', 'z', 'mung'])\n",
      "\n",
      "\n",
      "deque(['z', 'mung', 'test', 'a', 'b', 'c', 'd', 'e', 'f', 'g', 'h', 'i', 'j', 'k', 'l', 'm', 'n', 'o', 'p', 'q', 'r', 's', 't', 'u', 'v', 'w', 'x', 'y'])\n",
      "\n",
      "\n"
     ]
    }
   ],
   "source": [
    "d.append('mung')\n",
    "print(d)\n",
    "print('\\n')\n",
    "\n",
    "d.appendleft('test')\n",
    "print(d)\n",
    "print('\\n')\n",
    "\n",
    "d.rotate(2)\n",
    "print(d)\n",
    "print('\\n')"
   ]
  },
  {
   "cell_type": "code",
   "execution_count": 40,
   "metadata": {},
   "outputs": [],
   "source": [
    "from collections import deque\n",
    "\n",
    "\n",
    "def get_last(filename, n=5):\n",
    "    \"\"\"\n",
    "    Returns the last n lines from the file\n",
    "    \"\"\"\n",
    "    try:\n",
    "        with open(filename) as f:\n",
    "            return deque(f, n)\n",
    "    except OSError:\n",
    "        print(\"Error opening file: {}\".format(filename))\n",
    "        raise"
   ]
  },
  {
   "cell_type": "code",
   "execution_count": 43,
   "metadata": {},
   "outputs": [
    {
     "data": {
      "text/plain": [
       "deque(['Cleo\\n', 'Dave\\n', 'Anna\\n', 'Leonardo\\n', 'Einstein'])"
      ]
     },
     "execution_count": 43,
     "metadata": {},
     "output_type": "execute_result"
    }
   ],
   "source": [
    "get_last('./2_collections_demos/collections_deque_data.csv', n=5)"
   ]
  },
  {
   "cell_type": "markdown",
   "metadata": {},
   "source": [
    "## namedtuple"
   ]
  },
  {
   "cell_type": "code",
   "execution_count": 2,
   "metadata": {},
   "outputs": [
    {
     "name": "stdout",
     "output_type": "stream",
     "text": [
      "1234\n"
     ]
    }
   ],
   "source": [
    "# Creating a named tuple\n",
    "\n",
    "from collections import namedtuple\n",
    "\n",
    "Parts = namedtuple('Parts', 'id_num desc cost amount')\n",
    "auto_parts = Parts(id_num='1234', desc='Ford Engine',\n",
    "               cost=1200.00, amount=10)\n",
    "\n",
    "print(auto_parts.id_num)"
   ]
  },
  {
   "cell_type": "code",
   "execution_count": 4,
   "metadata": {},
   "outputs": [
    {
     "name": "stdout",
     "output_type": "stream",
     "text": [
      "1200.0\n",
      "1234\n"
     ]
    }
   ],
   "source": [
    "# Getting data via index\n",
    "auto_parts = ('1234', 'Ford Engine', 1200.00, 10)\n",
    "print(auto_parts[2]) # access the cost\n",
    "\n",
    "# Assigning named tuple elements to their own variables\n",
    "id_num, desc, cost, amount = auto_parts\n",
    "print(id_num)\n"
   ]
  },
  {
   "cell_type": "code",
   "execution_count": 6,
   "metadata": {},
   "outputs": [
    {
     "name": "stdout",
     "output_type": "stream",
     "text": [
      "Parts(id_num='1234', desc='Ford Engine', cost=1200.0, amount=10)\n"
     ]
    }
   ],
   "source": [
    "# Using a dictionary to create namedtuple\n",
    "from collections import namedtuple\n",
    "\n",
    "Parts = {'id_num':'1234', 'desc':'Ford Engine',\n",
    "     'cost':1200.00, 'amount':10}\n",
    "parts = namedtuple('Parts', Parts.keys())(**Parts)\n",
    "\n",
    "print(parts)"
   ]
  },
  {
   "cell_type": "code",
   "execution_count": 7,
   "metadata": {},
   "outputs": [
    {
     "name": "stdout",
     "output_type": "stream",
     "text": [
      "<class '__main__.Parts'>\n",
      "Parts(id_num='1234', desc='Ford Engine', cost=1200.0, amount=10)\n"
     ]
    }
   ],
   "source": [
    "# Explanation for the above code\n",
    "\n",
    "# First we create the named tuple keys\n",
    "parts = namedtuple('Parts', Parts.keys())\n",
    "print(parts)\n",
    "#<class '__main__.Parts'>\n",
    "\n",
    "# Next we assign the values from our dict\n",
    "auto_parts = parts(**Parts)\n",
    "print(auto_parts)\n",
    "#Parts(amount=10, cost=1200.0, id_num='1234', desc='Ford Engine')"
   ]
  },
  {
   "cell_type": "markdown",
   "metadata": {},
   "source": [
    "## OrderedDict\n",
    "\n",
    "Essentially a dictionary with an inherit order.\n",
    "\n",
    "Note that if you add new keys, they will be added to the end of the OrderedDict instead of being automatically sorted.\n",
    "\n",
    "Something else to note about OrderDicts is that when you go to compare two OrderedDicts, they will not only test the items for equality, but also that the order is correct. A regular dictionary only looks at the contents of the dictionary and doesn’t care about its order.\n",
    "\n",
    "Finally, OrderDicts have two new methods in Python 3: popitem and move_to_end. The popitem method will return and remove a (key, item) pair. The move_to_end method will move an existing key to either end of the OrderedDict. The item will be moved right end if the last argument for OrderedDict is set to True (which is the default), or to the beginning if it is False."
   ]
  },
  {
   "cell_type": "code",
   "execution_count": 9,
   "metadata": {},
   "outputs": [
    {
     "name": "stdout",
     "output_type": "stream",
     "text": [
      "{'banana': 3, 'apple': 4, 'pear': 1, 'orange': 2}\n"
     ]
    }
   ],
   "source": [
    "# Example of how python dictionaries are not ordered\n",
    "\n",
    "d = {'banana': 3, 'apple':4, 'pear': 1, 'orange': 2}\n",
    "\n",
    "print(d)"
   ]
  },
  {
   "cell_type": "code",
   "execution_count": 10,
   "metadata": {},
   "outputs": [
    {
     "name": "stdout",
     "output_type": "stream",
     "text": [
      "dict_keys(['banana', 'apple', 'pear', 'orange'])\n",
      "['apple', 'banana', 'orange', 'pear']\n",
      "apple 4\n",
      "banana 3\n",
      "orange 2\n",
      "pear 1\n"
     ]
    }
   ],
   "source": [
    "# In order to print a sorted list we must take the folliwng steps\n",
    "\n",
    "# Assign kets to variable\n",
    "keys = d.keys()\n",
    "print (keys)\n",
    "\n",
    "# Sort keys\n",
    "keys = sorted(keys)\n",
    "print (keys)\n",
    "\n",
    "# Print values associated with sorted keys\n",
    "for key in keys:\n",
    "    print (key, d[key])"
   ]
  },
  {
   "cell_type": "code",
   "execution_count": 15,
   "metadata": {},
   "outputs": [
    {
     "name": "stdout",
     "output_type": "stream",
     "text": [
      "OrderedDict([('apple', 4), ('banana', 3), ('orange', 2), ('pear', 1)])\n",
      "apple 4\n",
      "banana 3\n",
      "orange 2\n",
      "pear 1\n"
     ]
    }
   ],
   "source": [
    "# Using OrderedDict\n",
    "from collections import OrderedDict\n",
    "\n",
    "d = {'banana': 3, 'apple':4, 'pear': 1, 'orange': 2}\n",
    "new_d = OrderedDict(sorted(d.items()))\n",
    "print(new_d)\n",
    "\n",
    "for key in new_d:\n",
    "    print(key, new_d[key])\n"
   ]
  },
  {
   "cell_type": "code",
   "execution_count": 16,
   "metadata": {},
   "outputs": [
    {
     "name": "stdout",
     "output_type": "stream",
     "text": [
      "pear 1\n",
      "orange 2\n",
      "banana 3\n",
      "apple 4\n"
     ]
    }
   ],
   "source": [
    "# Printing OrderedDict in reverse!\n",
    "for key in reversed(new_d):\n",
    "    print (key, new_d[key])"
   ]
  }
 ],
 "metadata": {
  "kernelspec": {
   "display_name": "Python 3",
   "language": "python",
   "name": "python3"
  },
  "language_info": {
   "codemirror_mode": {
    "name": "ipython",
    "version": 3
   },
   "file_extension": ".py",
   "mimetype": "text/x-python",
   "name": "python",
   "nbconvert_exporter": "python",
   "pygments_lexer": "ipython3",
   "version": "3.8.6"
  },
  "toc": {
   "base_numbering": 1,
   "nav_menu": {},
   "number_sections": true,
   "sideBar": true,
   "skip_h1_title": false,
   "title_cell": "Table of Contents",
   "title_sidebar": "Contents",
   "toc_cell": false,
   "toc_position": {},
   "toc_section_display": true,
   "toc_window_display": false
  }
 },
 "nbformat": 4,
 "nbformat_minor": 4
}
