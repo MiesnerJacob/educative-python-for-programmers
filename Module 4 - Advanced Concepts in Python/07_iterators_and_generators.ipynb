{
 "cells": [
  {
   "cell_type": "markdown",
   "metadata": {},
   "source": [
    "# Iterators and Generators"
   ]
  },
  {
   "cell_type": "markdown",
   "metadata": {},
   "source": [
    "## Introduction to Iterators\n",
    "\n",
    "Iterators allow you to iterate over a container. They have two distinct duner methods:\n",
    "    \n",
    "    1. __iter__: required for iteration support, it will return the iterator object itself.\n",
    "    2. __next__: will return the next item in the container.\n",
    "    \n",
    "Iterators contain both these mthods, while iterables only contain the __iter__ function."
   ]
  },
  {
   "cell_type": "code",
   "execution_count": 14,
   "metadata": {
    "scrolled": true
   },
   "outputs": [
    {
     "name": "stdout",
     "output_type": "stream",
     "text": [
      "1\n",
      "2\n",
      "3\n"
     ]
    }
   ],
   "source": [
    "my_list = [1,2,3,4,5]\n",
    "\n",
    "# Turning my list into an iterator\n",
    "my_list1 = iter(my_list)\n",
    "\n",
    "# Printing values at first few iterations\n",
    "print(next(my_list1))\n",
    "print(next(my_list1))\n",
    "print(next(my_list1))"
   ]
  },
  {
   "cell_type": "code",
   "execution_count": 15,
   "metadata": {},
   "outputs": [
    {
     "name": "stdout",
     "output_type": "stream",
     "text": [
      "1\n",
      "2\n",
      "3\n",
      "4\n",
      "5\n"
     ]
    }
   ],
   "source": [
    "# Python iteration\n",
    "for item in iter(my_list):\n",
    "    print(item)"
   ]
  },
  {
   "cell_type": "markdown",
   "metadata": {},
   "source": [
    "# Creating your own iterators\n",
    "\n",
    "All you need to do is implement the __iter__ and __next__ functions into your class."
   ]
  },
  {
   "cell_type": "code",
   "execution_count": 17,
   "metadata": {},
   "outputs": [
    {
     "name": "stdout",
     "output_type": "stream",
     "text": [
      "a\n",
      "b\n",
      "c\n",
      "d\n"
     ]
    }
   ],
   "source": [
    "class MyIterator:\n",
    "\n",
    "    def __init__(self, letters):\n",
    "        \"\"\"\n",
    "        Constructor\n",
    "        \"\"\"\n",
    "        self.letters = letters\n",
    "        self.position = 0\n",
    "\n",
    "    def __iter__(self):\n",
    "        \"\"\"\n",
    "        Returns itself as an iterator\n",
    "        \"\"\"\n",
    "        return self\n",
    "\n",
    "    def __next__(self):\n",
    "        \"\"\"\n",
    "        Returns the next letter in the sequence or \n",
    "        raises StopIteration\n",
    "        \"\"\"\n",
    "        if self.position >= len(self.letters):\n",
    "            raise StopIteration\n",
    "        letter = self.letters[self.position]\n",
    "        self.position += 1\n",
    "        return letter\n",
    "\n",
    "if __name__ == '__main__':\n",
    "    i = MyIterator('abcd')\n",
    "    for item in i:\n",
    "        print(item)"
   ]
  },
  {
   "cell_type": "code",
   "execution_count": 18,
   "metadata": {},
   "outputs": [
    {
     "name": "stdout",
     "output_type": "stream",
     "text": [
      "1\n",
      "4\n",
      "9\n",
      "16\n",
      "25\n",
      "36\n",
      "49\n"
     ]
    }
   ],
   "source": [
    "# Without instantiating an array to iterate over we end up with an iterator that can end up in an infinte loop!\n",
    "# To avoid this infinite loop we break our loop after a certain number of iterations\n",
    "\n",
    "class Doubler:\n",
    "    \"\"\"\n",
    "    An infinite iterator\n",
    "    \"\"\"\n",
    "\n",
    "    def __init__(self):\n",
    "        \"\"\"\n",
    "        Constructor\n",
    "        \"\"\"\n",
    "        self.number = 0\n",
    "\n",
    "    def __iter__(self):\n",
    "        \"\"\"\n",
    "        Returns itself as an iterator\n",
    "        \"\"\"\n",
    "        return self\n",
    "\n",
    "    def __next__(self):\n",
    "        \"\"\"\n",
    "        Doubles the number each time next is called\n",
    "        and returns it. \n",
    "        \"\"\"\n",
    "        self.number += 1\n",
    "        return self.number * self.number\n",
    "\n",
    "if __name__ == '__main__':\n",
    "    doubler = Doubler()\n",
    "    count = 0\n",
    "\n",
    "    for number in doubler:\n",
    "        print(number)\n",
    "        if count > 5:\n",
    "            break\n",
    "        count += 1"
   ]
  },
  {
   "cell_type": "markdown",
   "metadata": {},
   "source": [
    "## Generators\n",
    "\n",
    "Generators allow you to return an iterator from a function. The iterator can still iterate after being returned, each time excecuting the generator function.\n",
    "\n",
    "*** In other languages a generator may be called a coroutine "
   ]
  },
  {
   "cell_type": "code",
   "execution_count": 20,
   "metadata": {},
   "outputs": [
    {
     "name": "stdout",
     "output_type": "stream",
     "text": [
      "2\n",
      "4\n",
      "16\n",
      "<class 'generator'>\n"
     ]
    }
   ],
   "source": [
    "# This generator will iterate forever\n",
    "\n",
    "def doubler_generator():\n",
    "    number = 2\n",
    "    while True:\n",
    "        yield number\n",
    "        number *= number\n",
    "\n",
    "doubler = doubler_generator()\n",
    "print (next(doubler))\n",
    "#2\n",
    "\n",
    "print (next(doubler))\n",
    "#4\n",
    "\n",
    "print (next(doubler))\n",
    "#16\n",
    "\n",
    "print (type(doubler))\n",
    "#<class 'generator'>"
   ]
  },
  {
   "cell_type": "code",
   "execution_count": 27,
   "metadata": {},
   "outputs": [
    {
     "name": "stdout",
     "output_type": "stream",
     "text": [
      "Python\n",
      "Rocks\n",
      "So do you!\n"
     ]
    },
    {
     "ename": "StopIteration",
     "evalue": "",
     "output_type": "error",
     "traceback": [
      "\u001b[0;31m---------------------------------------------------------------------------\u001b[0m",
      "\u001b[0;31mStopIteration\u001b[0m                             Traceback (most recent call last)",
      "\u001b[0;32m<ipython-input-27-c0bb0c1f431b>\u001b[0m in \u001b[0;36m<module>\u001b[0;34m\u001b[0m\n\u001b[1;32m     12\u001b[0m \u001b[0mprint\u001b[0m \u001b[0;34m(\u001b[0m\u001b[0mnext\u001b[0m\u001b[0;34m(\u001b[0m\u001b[0mgen\u001b[0m\u001b[0;34m)\u001b[0m\u001b[0;34m)\u001b[0m\u001b[0;34m\u001b[0m\u001b[0;34m\u001b[0m\u001b[0m\n\u001b[1;32m     13\u001b[0m \u001b[0;34m\u001b[0m\u001b[0m\n\u001b[0;32m---> 14\u001b[0;31m \u001b[0mprint\u001b[0m \u001b[0;34m(\u001b[0m\u001b[0mnext\u001b[0m\u001b[0;34m(\u001b[0m\u001b[0mgen\u001b[0m\u001b[0;34m)\u001b[0m\u001b[0;34m)\u001b[0m\u001b[0;34m\u001b[0m\u001b[0;34m\u001b[0m\u001b[0m\n\u001b[0m",
      "\u001b[0;31mStopIteration\u001b[0m: "
     ]
    }
   ],
   "source": [
    "# Stop iteration error will be raised when there are no more object to iterate over in the iterator.\n",
    "\n",
    "def silly_generator():\n",
    "    yield \"Python\"\n",
    "    yield \"Rocks\"\n",
    "    yield \"So do you!\"\n",
    "gen = silly_generator()\n",
    "print (next(gen))\n",
    "\n",
    "print (next(gen))\n",
    "\n",
    "print (next(gen))\n",
    "\n",
    "print (next(gen))"
   ]
  },
  {
   "cell_type": "code",
   "execution_count": 28,
   "metadata": {},
   "outputs": [
    {
     "name": "stdout",
     "output_type": "stream",
     "text": [
      "Python\n",
      "Rocks\n",
      "So do you!\n"
     ]
    }
   ],
   "source": [
    "# Looping through our generator from the code block above\n",
    "\n",
    "gen = silly_generator()\n",
    "for item in gen:\n",
    "    print(item)\n",
    "\n",
    "#Python\n",
    "#Rocks\n",
    "#So do you!"
   ]
  },
  {
   "cell_type": "markdown",
   "metadata": {},
   "source": [
    "Generators are useful for any large data set that you need to work with in chunks or when you need to generate a large data set that would otherwise fill up your all your computer’s memory."
   ]
  }
 ],
 "metadata": {
  "kernelspec": {
   "display_name": "Python 3",
   "language": "python",
   "name": "python3"
  },
  "language_info": {
   "codemirror_mode": {
    "name": "ipython",
    "version": 3
   },
   "file_extension": ".py",
   "mimetype": "text/x-python",
   "name": "python",
   "nbconvert_exporter": "python",
   "pygments_lexer": "ipython3",
   "version": "3.8.6"
  },
  "toc": {
   "base_numbering": 1,
   "nav_menu": {},
   "number_sections": true,
   "sideBar": true,
   "skip_h1_title": false,
   "title_cell": "Table of Contents",
   "title_sidebar": "Contents",
   "toc_cell": false,
   "toc_position": {},
   "toc_section_display": true,
   "toc_window_display": false
  }
 },
 "nbformat": 4,
 "nbformat_minor": 4
}
