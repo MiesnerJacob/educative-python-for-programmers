{
 "cells": [
  {
   "cell_type": "markdown",
   "metadata": {},
   "source": [
    "# The itertoools Module\n",
    "\n",
    "Iterator tools that are fast and memory efficient."
   ]
  },
  {
   "cell_type": "markdown",
   "metadata": {},
   "source": [
    "## Iterators"
   ]
  },
  {
   "cell_type": "code",
   "execution_count": 1,
   "metadata": {},
   "outputs": [
    {
     "name": "stdout",
     "output_type": "stream",
     "text": [
      "15\n",
      "20\n",
      "25\n",
      "30\n",
      "35\n",
      "40\n",
      "45\n",
      "50\n"
     ]
    }
   ],
   "source": [
    "## Count iterator\n",
    "from itertools import count\n",
    "\n",
    "for i in count(start=15, step=5):\n",
    "    if i > 50:\n",
    "        break\n",
    "    else:\n",
    "        print(i)"
   ]
  },
  {
   "cell_type": "code",
   "execution_count": 7,
   "metadata": {},
   "outputs": [
    {
     "name": "stdout",
     "output_type": "stream",
     "text": [
      "10\n",
      "12\n",
      "14\n",
      "16\n",
      "18\n",
      "20\n",
      "22\n",
      "24\n",
      "26\n",
      "28\n"
     ]
    }
   ],
   "source": [
    "## Can use islice as another method for limiting an infinite generator\n",
    "## islice(count(start,step_size), iterations)\n",
    "from itertools import count\n",
    "from itertools import islice\n",
    "\n",
    "for i in islice(count(10, step=2), 10):\n",
    "    print(i)\n"
   ]
  },
  {
   "cell_type": "code",
   "execution_count": 8,
   "metadata": {},
   "outputs": [
    {
     "name": "stdout",
     "output_type": "stream",
     "text": [
      "X\n",
      "Y\n",
      "Z\n",
      "X\n",
      "Y\n",
      "Z\n",
      "X\n",
      "Y\n"
     ]
    }
   ],
   "source": [
    "## Cycle(iterable)\n",
    "## Will cycle through a series of values infintiely\n",
    "from itertools import cycle\n",
    "\n",
    "count = 0\n",
    "for item in cycle('XYZ'):\n",
    "    if count > 7:\n",
    "        break\n",
    "    print(item)\n",
    "    count += 1"
   ]
  },
  {
   "cell_type": "code",
   "execution_count": 11,
   "metadata": {},
   "outputs": [
    {
     "name": "stdout",
     "output_type": "stream",
     "text": [
      "triangle\n",
      "square\n",
      "pentagon\n",
      "rectangle\n",
      "triangle\n",
      "square\n"
     ]
    }
   ],
   "source": [
    "# We can also iterate over the cycle by calling the next function\n",
    "\n",
    "from itertools import cycle\n",
    "polys = ['triangle', 'square', 'pentagon', 'rectangle']\n",
    "iterator = cycle(polys)\n",
    "\n",
    "# Iterate over our cycle.\n",
    "print (next(iterator))\n",
    "print (next(iterator))\n",
    "print (next(iterator))\n",
    "print (next(iterator))\n",
    "print (next(iterator))\n",
    "print (next(iterator))"
   ]
  },
  {
   "cell_type": "code",
   "execution_count": 18,
   "metadata": {},
   "outputs": [
    {
     "name": "stdout",
     "output_type": "stream",
     "text": [
      "5\n",
      "5\n",
      "5\n",
      "5\n",
      "5\n"
     ]
    },
    {
     "ename": "StopIteration",
     "evalue": "",
     "output_type": "error",
     "traceback": [
      "\u001b[0;31m---------------------------------------------------------------------------\u001b[0m",
      "\u001b[0;31mStopIteration\u001b[0m                             Traceback (most recent call last)",
      "\u001b[0;32m<ipython-input-18-ceefb0d0f049>\u001b[0m in \u001b[0;36m<module>\u001b[0;34m\u001b[0m\n\u001b[1;32m     10\u001b[0m \u001b[0mprint\u001b[0m \u001b[0;34m(\u001b[0m\u001b[0mnext\u001b[0m\u001b[0;34m(\u001b[0m\u001b[0miterator\u001b[0m\u001b[0;34m)\u001b[0m\u001b[0;34m)\u001b[0m\u001b[0;34m\u001b[0m\u001b[0;34m\u001b[0m\u001b[0m\n\u001b[1;32m     11\u001b[0m \u001b[0mprint\u001b[0m \u001b[0;34m(\u001b[0m\u001b[0mnext\u001b[0m\u001b[0;34m(\u001b[0m\u001b[0miterator\u001b[0m\u001b[0;34m)\u001b[0m\u001b[0;34m)\u001b[0m\u001b[0;34m\u001b[0m\u001b[0;34m\u001b[0m\u001b[0m\n\u001b[0;32m---> 12\u001b[0;31m \u001b[0mprint\u001b[0m \u001b[0;34m(\u001b[0m\u001b[0mnext\u001b[0m\u001b[0;34m(\u001b[0m\u001b[0miterator\u001b[0m\u001b[0;34m)\u001b[0m\u001b[0;34m)\u001b[0m\u001b[0;34m\u001b[0m\u001b[0;34m\u001b[0m\u001b[0m\n\u001b[0m",
      "\u001b[0;31mStopIteration\u001b[0m: "
     ]
    }
   ],
   "source": [
    "## Repeat(object)\n",
    "## Will return the same value for a specified amount of iteratons\n",
    "from itertools import repeat\n",
    "\n",
    "iterator = repeat(5,5)\n",
    "\n",
    "print (next(iterator))\n",
    "print (next(iterator))\n",
    "print (next(iterator))\n",
    "print (next(iterator))\n",
    "print (next(iterator))\n",
    "print (next(iterator))\n"
   ]
  },
  {
   "cell_type": "markdown",
   "metadata": {},
   "source": [
    "## Ierators that terminate"
   ]
  },
  {
   "cell_type": "code",
   "execution_count": 22,
   "metadata": {},
   "outputs": [
    {
     "name": "stdout",
     "output_type": "stream",
     "text": [
      "[0, 1, 3, 6, 10, 15, 21, 28, 36, 45]\n"
     ]
    }
   ],
   "source": [
    "## accumulate(iterable)\n",
    "## This will return a fibonacci sequence with some specified starting value\n",
    "## but you can change operator from additon\n",
    "from itertools import accumulate\n",
    "\n",
    "print(list(accumulate(range(10))))"
   ]
  },
  {
   "cell_type": "code",
   "execution_count": 23,
   "metadata": {},
   "outputs": [
    {
     "name": "stdout",
     "output_type": "stream",
     "text": [
      "[1, 2, 6, 24]\n"
     ]
    }
   ],
   "source": [
    "# Here we change the function to multiply for our accumulate iterable\n",
    "import operator\n",
    "\n",
    "print (list(accumulate(range(1, 5), operator.mul)))"
   ]
  },
  {
   "cell_type": "code",
   "execution_count": 29,
   "metadata": {},
   "outputs": [
    {
     "name": "stdout",
     "output_type": "stream",
     "text": [
      "['example', 'list', 'some', 'strings', 0, 1, 2, 3, 4]\n"
     ]
    }
   ],
   "source": [
    "## chain(*iterables)\n",
    "## flatten multiple iterable to one\n",
    "from itertools import chain\n",
    "\n",
    "my_list = ['example','list']\n",
    "numbers = [i for i in range(5)]\n",
    "other_list = ['some','strings']\n",
    "\n",
    "# trying to extend like this will raise an error\n",
    "# my_list.extend(other_list, numbers)\n",
    "\n",
    "my_list_new = list(chain(my_list, other_list, numbers))\n",
    "print(my_list_new)"
   ]
  },
  {
   "cell_type": "code",
   "execution_count": 30,
   "metadata": {},
   "outputs": [
    {
     "name": "stdout",
     "output_type": "stream",
     "text": [
      "['example', 'list', 'some', 'strings', 0, 1, 2, 3, 4]\n"
     ]
    }
   ],
   "source": [
    "## chain.from_iterable(iterable)\n",
    "## same as chain but instead of passing a series of itertables\n",
    "## we pass them as a nested list\n",
    "\n",
    "print(list(chain.from_iterable([my_list, other_list, numbers])))"
   ]
  },
  {
   "cell_type": "code",
   "execution_count": 31,
   "metadata": {},
   "outputs": [
    {
     "name": "stdout",
     "output_type": "stream",
     "text": [
      "['23', '42', '19']\n"
     ]
    }
   ],
   "source": [
    "## compress(data, selectors)\n",
    "## filters an iterable with another\n",
    "from itertools import compress\n",
    "\n",
    "first_iterable = ['23','6','42','19']\n",
    "second_iterable = [True, False, True, True]\n",
    "\n",
    "filtered_iterable = list(compress(first_iterable, second_iterable))\n",
    "print(filtered_iterable)"
   ]
  },
  {
   "cell_type": "code",
   "execution_count": 44,
   "metadata": {},
   "outputs": [
    {
     "name": "stdout",
     "output_type": "stream",
     "text": [
      "[5, 10, 13, 15, 30]\n",
      "[5, 10, 13, 15, 30]\n"
     ]
    }
   ],
   "source": [
    "## dropwhile(predicate, iterable)\n",
    "## drops values from iterable when condition is met\n",
    "from itertools import dropwhile\n",
    "\n",
    "my_list = [1,3,4,5,10,13,15,30]\n",
    "filtered_iterable = list(dropwhile(lambda x: x<5, my_list))\n",
    "\n",
    "print(filtered_iterable)\n",
    "\n",
    "# Same thing but with function instead of lambda\n",
    "def less_than_five(x):\n",
    "    return x < 5 \n",
    "\n",
    "print(list(dropwhile(less_than_five, my_list)))"
   ]
  },
  {
   "cell_type": "code",
   "execution_count": 46,
   "metadata": {},
   "outputs": [
    {
     "name": "stdout",
     "output_type": "stream",
     "text": [
      "[1, 3, 4, 5]\n"
     ]
    }
   ],
   "source": [
    "## filterfalse(predicate, iterable)\n",
    "## opposite of dropwhile, this will only return values that do not meet conditon\n",
    "from itertools import filterfalse\n",
    "\n",
    "my_list = [1,3,4,5,10,13,15,30]\n",
    "\n",
    "def greater_than_five(x):\n",
    "    return x > 5\n",
    "\n",
    "filtered_iterable = list(filterfalse(greater_than_five, my_list))\n",
    "\n",
    "print(filtered_iterable)"
   ]
  },
  {
   "cell_type": "code",
   "execution_count": 50,
   "metadata": {},
   "outputs": [
    {
     "name": "stdout",
     "output_type": "stream",
     "text": [
      "Cobalt is made by Chevrolet\n",
      "**** END OF GROUP ***\n",
      "\n",
      "Charger is made by Dodge\n",
      "Durango is made by Dodge\n",
      "**** END OF GROUP ***\n",
      "\n",
      "F150 is made by Ford\n",
      "GT is made by Ford\n",
      "Taurus is made by Ford\n",
      "**** END OF GROUP ***\n",
      "\n"
     ]
    }
   ],
   "source": [
    "## groupby(iterable, key=None)\n",
    "## Will return consecutive keys and groups from your iterable\n",
    "from itertools import groupby\n",
    "\n",
    "vehicles = [('Ford', 'Taurus'), ('Dodge', 'Durango'),\n",
    "            ('Chevrolet', 'Cobalt'), ('Ford', 'F150'),\n",
    "            ('Dodge', 'Charger'), ('Ford', 'GT')]\n",
    "\n",
    "sorted_vehicles = sorted(vehicles)\n",
    "\n",
    "for key, group in groupby(sorted_vehicles, lambda make: make[0]):\n",
    "    for make, model in group:\n",
    "        print('{model} is made by {make}'.format(model=model,\n",
    "                                                 make=make))\n",
    "    print (\"**** END OF GROUP ***\\n\")"
   ]
  },
  {
   "cell_type": "code",
   "execution_count": 60,
   "metadata": {},
   "outputs": [
    {
     "name": "stdout",
     "output_type": "stream",
     "text": [
      "1\n",
      "2\n",
      "3\n"
     ]
    },
    {
     "ename": "StopIteration",
     "evalue": "",
     "output_type": "error",
     "traceback": [
      "\u001b[0;31m---------------------------------------------------------------------------\u001b[0m",
      "\u001b[0;31mStopIteration\u001b[0m                             Traceback (most recent call last)",
      "\u001b[0;32m<ipython-input-60-1f921cbd125d>\u001b[0m in \u001b[0;36m<module>\u001b[0;34m\u001b[0m\n\u001b[1;32m      8\u001b[0m \u001b[0mprint\u001b[0m\u001b[0;34m(\u001b[0m\u001b[0mnext\u001b[0m\u001b[0;34m(\u001b[0m\u001b[0miterable\u001b[0m\u001b[0;34m)\u001b[0m\u001b[0;34m)\u001b[0m\u001b[0;34m\u001b[0m\u001b[0;34m\u001b[0m\u001b[0m\n\u001b[1;32m      9\u001b[0m \u001b[0mprint\u001b[0m\u001b[0;34m(\u001b[0m\u001b[0mnext\u001b[0m\u001b[0;34m(\u001b[0m\u001b[0miterable\u001b[0m\u001b[0;34m)\u001b[0m\u001b[0;34m)\u001b[0m\u001b[0;34m\u001b[0m\u001b[0;34m\u001b[0m\u001b[0m\n\u001b[0;32m---> 10\u001b[0;31m \u001b[0mprint\u001b[0m\u001b[0;34m(\u001b[0m\u001b[0mnext\u001b[0m\u001b[0;34m(\u001b[0m\u001b[0miterable\u001b[0m\u001b[0;34m)\u001b[0m\u001b[0;34m)\u001b[0m\u001b[0;34m\u001b[0m\u001b[0;34m\u001b[0m\u001b[0m\n\u001b[0m\u001b[1;32m     11\u001b[0m \u001b[0;34m\u001b[0m\u001b[0m\n\u001b[1;32m     12\u001b[0m \u001b[0;32mfrom\u001b[0m \u001b[0mitertools\u001b[0m \u001b[0;32mimport\u001b[0m \u001b[0mcount\u001b[0m\u001b[0;34m\u001b[0m\u001b[0;34m\u001b[0m\u001b[0m\n",
      "\u001b[0;31mStopIteration\u001b[0m: "
     ]
    }
   ],
   "source": [
    "## islice(iterable, start, stop[, step])\n",
    "## will limit iterable according to inputs\n",
    "\n",
    "my_list = [1,2,3,4,5,6,7]\n",
    "iterable = islice(my_list, 3)\n",
    "\n",
    "print(next(iterable))\n",
    "print(next(iterable))\n",
    "print(next(iterable))\n",
    "print(next(iterable))\n",
    "\n",
    "from itertools import count\n",
    "for i in islice(count(), 3, 15):\n",
    "    print(i)\n"
   ]
  },
  {
   "cell_type": "code",
   "execution_count": 64,
   "metadata": {},
   "outputs": [
    {
     "name": "stdout",
     "output_type": "stream",
     "text": [
      "3\n",
      "4\n",
      "5\n",
      "6\n"
     ]
    }
   ],
   "source": [
    "## islice(iterable, start, stop[, step])\n",
    "## passing 3 arguments\n",
    "from itertools import count\n",
    "\n",
    "for i in islice(count(), 3, 7):\n",
    "    print(i)"
   ]
  },
  {
   "cell_type": "code",
   "execution_count": 66,
   "metadata": {},
   "outputs": [
    {
     "name": "stdout",
     "output_type": "stream",
     "text": [
      "6\n",
      "20\n"
     ]
    }
   ],
   "source": [
    "## starmap(function, iterable)\n",
    "## create an interator that takes a func and iterator as argument\n",
    "from itertools import starmap\n",
    "\n",
    "def mult(a, b):\n",
    "    return a*b\n",
    "\n",
    "for item in starmap(mult, [(2,3), (4,5)]):\n",
    "    print(item)"
   ]
  },
  {
   "cell_type": "code",
   "execution_count": 67,
   "metadata": {},
   "outputs": [
    {
     "name": "stdout",
     "output_type": "stream",
     "text": [
      "[1, 4]\n"
     ]
    }
   ],
   "source": [
    "## takewhile(predicate, iterable)\n",
    "## takewhile will create an iterator that returns elements from the \n",
    "## iterable only as long as our predicate or filter is True\n",
    "from itertools import takewhile\n",
    "\n",
    "my_iterable = [1,4,6,4,1]\n",
    "filtered_iterable = list(takewhile(lambda x: x<5, my_iterable))\n",
    "\n",
    "print(filtered_iterable)"
   ]
  },
  {
   "cell_type": "code",
   "execution_count": 70,
   "metadata": {},
   "outputs": [
    {
     "name": "stdout",
     "output_type": "stream",
     "text": [
      "A\n",
      "B\n",
      "C\n",
      "D\n",
      "E\n",
      "\n",
      "\n",
      "A\n",
      "B\n",
      "C\n",
      "D\n",
      "E\n"
     ]
    }
   ],
   "source": [
    "## tee(iterable, n=2)\n",
    "## create n iterables from a single iterable, i.e. crewate multiple iterators from one.\n",
    "from itertools import tee\n",
    "\n",
    "data = 'ABCDE'\n",
    "iter1, iter2 = tee(data)\n",
    "for item in iter1:\n",
    "    print(item)\n",
    "\n",
    "print('\\n')\n",
    "    \n",
    "for item in iter2:\n",
    "    print(item)"
   ]
  },
  {
   "cell_type": "code",
   "execution_count": 72,
   "metadata": {},
   "outputs": [
    {
     "name": "stdout",
     "output_type": "stream",
     "text": [
      "('A', 'x')\n",
      "('B', 'y')\n",
      "('C', 'BLANK')\n",
      "('D', 'BLANK')\n"
     ]
    }
   ],
   "source": [
    "## zip_longest(*iterables, fillvalue=None)\n",
    "## zip two iterables together, then you can pass fillvalue\n",
    "## to zip two together of different lengths\n",
    "from itertools import zip_longest\n",
    "\n",
    "for item in zip_longest('ABCD', 'xy', fillvalue='BLANK'):\n",
    "    print(item)"
   ]
  },
  {
   "cell_type": "markdown",
   "metadata": {},
   "source": [
    "## Combinatoric Generators\n",
    "\n",
    "Itertools has some iterators that can be used for creating combinations and permuations of data."
   ]
  },
  {
   "cell_type": "code",
   "execution_count": 76,
   "metadata": {},
   "outputs": [
    {
     "name": "stdout",
     "output_type": "stream",
     "text": [
      "[('A', 'C'), ('A', 'B'), ('A', 'D'), ('A', 'E'), ('A', 'F'), ('A', 'G'), ('A', 'H'), ('C', 'B'), ('C', 'D'), ('C', 'E'), ('C', 'F'), ('C', 'G'), ('C', 'H'), ('B', 'D'), ('B', 'E'), ('B', 'F'), ('B', 'G'), ('B', 'H'), ('D', 'E'), ('D', 'F'), ('D', 'G'), ('D', 'H'), ('E', 'F'), ('E', 'G'), ('E', 'H'), ('F', 'G'), ('F', 'H'), ('G', 'H')]\n"
     ]
    }
   ],
   "source": [
    "## combinations(iterable, r)\n",
    "## Create combinations using iterable\n",
    "from itertools import combinations\n",
    "\n",
    "my_iterable = 'ACBDEFGH'\n",
    "combos = list(combinations(my_iterable,2))\n",
    "\n",
    "print(combos)"
   ]
  },
  {
   "cell_type": "code",
   "execution_count": 77,
   "metadata": {},
   "outputs": [
    {
     "name": "stdout",
     "output_type": "stream",
     "text": [
      "WX\n",
      "WY\n",
      "WZ\n",
      "XY\n",
      "XZ\n",
      "YZ\n"
     ]
    }
   ],
   "source": [
    "## Looping through combinations \n",
    "\n",
    "for item in combinations('WXYZ', 2):\n",
    "    print(''.join(item))"
   ]
  },
  {
   "cell_type": "code",
   "execution_count": 79,
   "metadata": {},
   "outputs": [
    {
     "name": "stdout",
     "output_type": "stream",
     "text": [
      "WW\n",
      "WX\n",
      "WY\n",
      "WZ\n",
      "XX\n",
      "XY\n",
      "XZ\n",
      "YY\n",
      "YZ\n",
      "ZZ\n"
     ]
    }
   ],
   "source": [
    "## combinations_with_replacement(iterable, r)\n",
    "## Same as above but items get added back to pool\n",
    "from itertools import combinations_with_replacement\n",
    "\n",
    "for item in combinations_with_replacement('WXYZ', 2):\n",
    "    print(''.join(item))"
   ]
  },
  {
   "cell_type": "code",
   "execution_count": 81,
   "metadata": {},
   "outputs": [
    {
     "name": "stdout",
     "output_type": "stream",
     "text": [
      "[(-1, -3, -5), (-1, -3, 5), (-1, 3, -5), (-1, 3, 5), (1, -3, -5), (1, -3, 5), (1, 3, -5), (1, 3, 5)]\n"
     ]
    }
   ],
   "source": [
    "## product(*iterables, repeat=1)\n",
    "## cartesian products from a series of input iterables\n",
    "\n",
    "from itertools import product\n",
    "\n",
    "arrays = [(-1,1), (-3,3), (-5,5)]\n",
    "cp = list(product(*arrays))\n",
    "\n",
    "print (cp)"
   ]
  },
  {
   "cell_type": "code",
   "execution_count": 82,
   "metadata": {},
   "outputs": [
    {
     "name": "stdout",
     "output_type": "stream",
     "text": [
      "[('A', 'C'), ('A', 'B'), ('A', 'D'), ('A', 'E'), ('A', 'F'), ('A', 'G'), ('A', 'H'), ('C', 'A'), ('C', 'B'), ('C', 'D'), ('C', 'E'), ('C', 'F'), ('C', 'G'), ('C', 'H'), ('B', 'A'), ('B', 'C'), ('B', 'D'), ('B', 'E'), ('B', 'F'), ('B', 'G'), ('B', 'H'), ('D', 'A'), ('D', 'C'), ('D', 'B'), ('D', 'E'), ('D', 'F'), ('D', 'G'), ('D', 'H'), ('E', 'A'), ('E', 'C'), ('E', 'B'), ('E', 'D'), ('E', 'F'), ('E', 'G'), ('E', 'H'), ('F', 'A'), ('F', 'C'), ('F', 'B'), ('F', 'D'), ('F', 'E'), ('F', 'G'), ('F', 'H'), ('G', 'A'), ('G', 'C'), ('G', 'B'), ('G', 'D'), ('G', 'E'), ('G', 'F'), ('G', 'H'), ('H', 'A'), ('H', 'C'), ('H', 'B'), ('H', 'D'), ('H', 'E'), ('H', 'F'), ('H', 'G')]\n"
     ]
    }
   ],
   "source": [
    "## permuations\n",
    "## Create permuations using iterable\n",
    "from itertools import permutations\n",
    "\n",
    "my_iterable = 'ACBDEFGH'\n",
    "permus = list(permutations(my_iterable,2))\n",
    "\n",
    "print(permus)"
   ]
  },
  {
   "cell_type": "code",
   "execution_count": 83,
   "metadata": {},
   "outputs": [
    {
     "name": "stdout",
     "output_type": "stream",
     "text": [
      "WX\n",
      "WY\n",
      "WZ\n",
      "XW\n",
      "XY\n",
      "XZ\n",
      "YW\n",
      "YX\n",
      "YZ\n",
      "ZW\n",
      "ZX\n",
      "ZY\n"
     ]
    }
   ],
   "source": [
    "## Looping through permuations\n",
    "\n",
    "for item in permutations('WXYZ', 2):\n",
    "    print(''.join(item))"
   ]
  }
 ],
 "metadata": {
  "kernelspec": {
   "display_name": "Python 3",
   "language": "python",
   "name": "python3"
  },
  "language_info": {
   "codemirror_mode": {
    "name": "ipython",
    "version": 3
   },
   "file_extension": ".py",
   "mimetype": "text/x-python",
   "name": "python",
   "nbconvert_exporter": "python",
   "pygments_lexer": "ipython3",
   "version": "3.8.6"
  },
  "toc": {
   "base_numbering": 1,
   "nav_menu": {},
   "number_sections": true,
   "sideBar": true,
   "skip_h1_title": false,
   "title_cell": "Table of Contents",
   "title_sidebar": "Contents",
   "toc_cell": false,
   "toc_position": {},
   "toc_section_display": true,
   "toc_window_display": false
  }
 },
 "nbformat": 4,
 "nbformat_minor": 4
}
