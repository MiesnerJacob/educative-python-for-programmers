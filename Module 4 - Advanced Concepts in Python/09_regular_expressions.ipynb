{
 "cells": [
  {
   "cell_type": "markdown",
   "metadata": {},
   "source": [
    "# Regular Expressions"
   ]
  },
  {
   "cell_type": "markdown",
   "metadata": {},
   "source": [
    "## Introduction to Regular Expressions\n",
    "\n",
    "Primary use is for matching strings. RE has its own syntax that can be used in many languages, sometimes natively, but in python you must import the re library."
   ]
  },
  {
   "cell_type": "code",
   "execution_count": 2,
   "metadata": {},
   "outputs": [
    {
     "name": "stdout",
     "output_type": "stream",
     "text": [
      "<re.Match object; span=(0, 5), match='abcdf'>\n",
      "abcdf\n"
     ]
    }
   ],
   "source": [
    "## The Matching Characters\n",
    "## These chars are special chars in RE called metacharacters: . ^ $ * + ? { } [ ] | ( )\n",
    "\n",
    "import re\n",
    "text = 'abcdfghijk'\n",
    "\n",
    "# This expression says we are looking for the letter a, \n",
    "# zero or more letters from our bracket class, and it needs to end with an f\n",
    "parser = re.search('a[b-f]*f', text)\n",
    "print(parser)\n",
    "\n",
    "print (parser.group())"
   ]
  },
  {
   "cell_type": "markdown",
   "metadata": {},
   "source": [
    "### Other Metachars\n",
    "\n",
    "The * char is used to match zero or more times\n",
    "\n",
    "The + char is used to match one or more times\n",
    "\n",
    "The ? char is used to match either once or zero times\n",
    "\n",
    "Brackets are used as {a,b} where a and b are decimal integers. What this means is that there must be at least a repetitions and at most b\n",
    "\n",
    "The char ^ is used to get the complement, i.e.  [^a] This will match any character except the letter ‘a’.\n",
    "\n",
    "$ is used as an anchor to specify the end of a string"
   ]
  },
  {
   "cell_type": "markdown",
   "metadata": {},
   "source": [
    "## Pattern Matching using search"
   ]
  },
  {
   "cell_type": "code",
   "execution_count": 5,
   "metadata": {},
   "outputs": [
    {
     "name": "stdout",
     "output_type": "stream",
     "text": [
      "Found \"the\" in \"This is the fourth module of this learning path.\"\n",
      "the\n",
      "\n",
      "\n",
      "Did not find \"one\"\n",
      "\n",
      "\n",
      "Found \"path\" in \"This is the fourth module of this learning path.\"\n",
      "path\n",
      "\n",
      "\n"
     ]
    }
   ],
   "source": [
    "import re\n",
    "\n",
    "text = \"This is the fourth module of this learning path.\"\n",
    "\n",
    "strings = ['the', 'one', 'path']\n",
    "\n",
    "for string in strings:\n",
    "    match = re.search(string, text)\n",
    "    if match:\n",
    "        print('Found \"{}\" in \"{}\"'.format(string, text))\n",
    "        # Get position of match within string\n",
    "        text_pos = match.span()\n",
    "        # Print match using start and end indexes\n",
    "        print(text[match.start():match.end()])\n",
    "        print('\\n')\n",
    "    else:\n",
    "        print('Did not find \"{}\"'.format(string))\n",
    "        print('\\n')"
   ]
  },
  {
   "cell_type": "markdown",
   "metadata": {},
   "source": [
    "## Escape Codes\n",
    "\n",
    "d :Matches digit\n",
    "    \n",
    "D :Matches non-digit\n",
    "\n",
    "s :Matches whitespace\n",
    "\n",
    "S :Matches non-whitespace\n",
    "\n",
    "w :Matches alphanumeric\n",
    "\n",
    "W :Matches non-aplhanumeric\n",
    "\n",
    "example: Using [\\d] is the equivalent of [0-9]"
   ]
  },
  {
   "cell_type": "markdown",
   "metadata": {},
   "source": [
    "## Compiling\n",
    "\n",
    "This allows you to save your regex and use it to excecute functions at anty time"
   ]
  },
  {
   "cell_type": "code",
   "execution_count": 8,
   "metadata": {},
   "outputs": [
    {
     "name": "stdout",
     "output_type": "stream",
     "text": [
      "Found \"the\" in \"This is the fourth module of this learning path.\"\n",
      "the\n",
      "\n",
      "\n",
      "Did not find \"one\"\n",
      "\n",
      "\n",
      "Found \"path\" in \"This is the fourth module of this learning path.\"\n",
      "path\n",
      "\n",
      "\n"
     ]
    }
   ],
   "source": [
    "import re\n",
    "\n",
    "text = \"This is the fourth module of this learning path.\"\n",
    "\n",
    "strings = ['the', 'one', 'path']\n",
    "\n",
    "for string in strings:\n",
    "    regex = re.compile(string)\n",
    "    match = re.search(regex, text)\n",
    "    if match:\n",
    "        print('Found \"{}\" in \"{}\"'.format(string, text))\n",
    "        text_pos = match.span()\n",
    "        print(text[match.start():match.end()])\n",
    "        print('\\n')\n",
    "    else:\n",
    "        print('Did not find \"{}\"'.format(string))\n",
    "        print('\\n')"
   ]
  },
  {
   "cell_type": "markdown",
   "metadata": {},
   "source": [
    "## Compilation flags\n",
    "\n",
    "re.A / re.ASCII - Tells regex to only match against ascii chars\n",
    "\n",
    "re.DEBUG - disiplay debug info on compiled expression\n",
    "\n",
    "re.I / re.IGNORECASE - fort case-insensitive matching\n",
    "\n",
    "re.L / re.LOCALE - Should aovoid using this but its for making escape codes depend in the current locale\n",
    "\n",
    "re.M / re.MULTILINE - excecute regex operators in function on each line\n",
    "\n",
    "re.S / re.DOTALL - allows \".\" char to match anything including newline chars\n",
    "\n",
    "re.X / re.VERBOSE - Visually separate logical sections of your regular epxression'"
   ]
  },
  {
   "cell_type": "code",
   "execution_count": 11,
   "metadata": {},
   "outputs": [
    {
     "data": {
      "text/plain": [
       "re.compile(r\"\\n           [\\w\\.-]+      # the user name\\n           @\\n           [\\w\\.-]+'     # the domain\\n           \",\n",
       "re.UNICODE|re.VERBOSE)"
      ]
     },
     "execution_count": 11,
     "metadata": {},
     "output_type": "execute_result"
    }
   ],
   "source": [
    "## Using a compilation flag\n",
    "# This expression is for finding email addresses\n",
    "\n",
    "import re\n",
    "re.compile('''\n",
    "           [\\w\\.-]+      # the user name\n",
    "           @\n",
    "           [\\w\\.-]+'     # the domain\n",
    "           ''',\n",
    "           re.VERBOSE)"
   ]
  },
  {
   "cell_type": "markdown",
   "metadata": {},
   "source": [
    "## Finding Multiple instances"
   ]
  },
  {
   "cell_type": "code",
   "execution_count": 15,
   "metadata": {},
   "outputs": [
    {
     "name": "stdout",
     "output_type": "stream",
     "text": [
      "the\n"
     ]
    }
   ],
   "source": [
    "# finding one instance\n",
    "\n",
    "import re\n",
    "my_string = 'the dog and the cat.'\n",
    "pattern = 'the'\n",
    "match = re.search(pattern,my_string)\n",
    "print(match.group())"
   ]
  },
  {
   "cell_type": "code",
   "execution_count": 16,
   "metadata": {},
   "outputs": [
    {
     "name": "stdout",
     "output_type": "stream",
     "text": [
      "['the', 'the']\n"
     ]
    }
   ],
   "source": [
    "# finding all instances\n",
    "\n",
    "import re\n",
    "my_string = 'the dog and the cat.'\n",
    "pattern = 'the'\n",
    "print(re.findall(pattern,my_string))"
   ]
  },
  {
   "cell_type": "code",
   "execution_count": 17,
   "metadata": {},
   "outputs": [
    {
     "name": "stdout",
     "output_type": "stream",
     "text": [
      "Found 'the' and 0:3\n",
      "Found 'the' and 12:15\n"
     ]
    }
   ],
   "source": [
    "# finding all instances, returning iterator\n",
    "\n",
    "import re\n",
    "my_string = 'the dog and the cat.'\n",
    "pattern = 'the'\n",
    "\n",
    "for match in re.finditer(pattern, my_string):\n",
    "    s = \"Found '{group}' and {begin}:{end}\".format(\n",
    "    group=match.group(), begin=match.start(),\n",
    "    end=match.end())\n",
    "    print(s)"
   ]
  },
  {
   "cell_type": "markdown",
   "metadata": {},
   "source": [
    "## Backslashes in re & python\n",
    "\n",
    "Since backslashes are special chars in python use this syntax for raw strings in re r\"\\python\" instead of \"\\\\\\python\" to have more readable code."
   ]
  }
 ],
 "metadata": {
  "kernelspec": {
   "display_name": "Python 3 (ipykernel)",
   "language": "python",
   "name": "python3"
  },
  "language_info": {
   "codemirror_mode": {
    "name": "ipython",
    "version": 3
   },
   "file_extension": ".py",
   "mimetype": "text/x-python",
   "name": "python",
   "nbconvert_exporter": "python",
   "pygments_lexer": "ipython3",
   "version": "3.8.6"
  },
  "toc": {
   "base_numbering": 1,
   "nav_menu": {},
   "number_sections": true,
   "sideBar": true,
   "skip_h1_title": false,
   "title_cell": "Table of Contents",
   "title_sidebar": "Contents",
   "toc_cell": false,
   "toc_position": {},
   "toc_section_display": true,
   "toc_window_display": false
  }
 },
 "nbformat": 4,
 "nbformat_minor": 4
}
