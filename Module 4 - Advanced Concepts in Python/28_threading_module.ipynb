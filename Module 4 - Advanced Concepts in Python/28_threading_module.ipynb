{
 "cells": [
  {
   "cell_type": "markdown",
   "metadata": {},
   "source": [
    "# The threading Module"
   ]
  },
  {
   "cell_type": "markdown",
   "metadata": {},
   "source": [
    "## Getting Started\n",
    "\n",
    "The threading module allows your program to run multiple operations at once. Threads work best with I/O operations, but if you have a CPU intensive task, you will want to use the multiprocessing module instead. The reason for this is that Python has the Global Interpreter Lock (GIL) that basically makes all threads run inside of one master thread. Because of this, when you go to run multiple CPU intensive operations with threads, you may find that it actually runs slower. So we will be focusing on what threads do best: I/O operations!"
   ]
  },
  {
   "cell_type": "code",
   "execution_count": 13,
   "metadata": {},
   "outputs": [
    {
     "name": "stdout",
     "output_type": "stream",
     "text": [
      "0\n",
      "2\n",
      "4\n",
      "6\n",
      "8\n"
     ]
    }
   ],
   "source": [
    "# Simple threading example\n",
    "import threading\n",
    "\n",
    "\n",
    "def doubler(number):\n",
    "    \"\"\"\n",
    "    A function that can be used by a thread\n",
    "    \"\"\"\n",
    "#     print(threading.currentThread().getName() + '\\n')\n",
    "    print(number * 2)\n",
    "\n",
    "\n",
    "if __name__ == '__main__':\n",
    "    for i in range(5):\n",
    "        # Use threading.thread method where we pass our function we want to thread and the args\n",
    "        my_thread = threading.Thread(target=doubler, args=(i,))\n",
    "        my_thread.start()"
   ]
  },
  {
   "cell_type": "code",
   "execution_count": 17,
   "metadata": {},
   "outputs": [
    {
     "name": "stdout",
     "output_type": "stream",
     "text": [
      "\u001b[34m01_arg_demos\u001b[m\u001b[m                         16_super_built-in.ipynb\n",
      "01_argparse.ipynb                    17_descriptors.ipynb\n",
      "\u001b[34m02_collections_demos\u001b[m\u001b[m                 18_scope.ipynb\n",
      "02_collections_module.ipynb          19_web_scraping.ipynb\n",
      "\u001b[34m03_context_manager_demos\u001b[m\u001b[m             20_web_apis.ipynb\n",
      "03_context_managers.ipynb            \u001b[34m21_ftp_demos\u001b[m\u001b[m\n",
      "04_functools_module.ipynb            21_working_with_ftp.ipynb\n",
      "05_imports.ipynb                     \u001b[34m22_urllib_demos\u001b[m\u001b[m\n",
      "\u001b[34m06_import_lib_demos\u001b[m\u001b[m                  22_urllib_module.ipynb\n",
      "06_importlib_module.ipynb            \u001b[34m23_doctest_demos\u001b[m\u001b[m\n",
      "07_iterators_and_generators.ipynb    23_doctest_module.ipynb\n",
      "08_itertools.ipynb                   \u001b[34m24_unittest_demos\u001b[m\u001b[m\n",
      "09_regular_expressions.ipynb         24_unittest_module.ipynb\n",
      "10_typing_module.ipynb               25_mock_module.ipynb\n",
      "11_python_builtins.ipynb             26_coverage.py.ipynb\n",
      "12_unicode.ipynb                     \u001b[34m26_coverage_demos\u001b[m\u001b[m\n",
      "\u001b[34m13_benchmark_demos\u001b[m\u001b[m                   27_asyncio_module.ipynb\n",
      "13_benchmarking.ipynb                28_threading_module.ipynb\n",
      "\u001b[34m14_encrpytion_and_crpytography_demos\u001b[m\u001b[m \u001b[34m28_threading_module_demos\u001b[m\u001b[m\n",
      "14_encrpytion_and_cryptography.ipynb README.md\n",
      "15_databases.ipynb                   \u001b[34mblog_scraper\u001b[m\u001b[m\n",
      "/Users/miesner.jacob/python-for-programmers-educative/Module 4 - Advanced Concepts in Python/28_threading_module_demos\n"
     ]
    }
   ],
   "source": [
    "# cd to demos folder to save logging in next example to\n",
    "# You may not see this folder in the git repo because git does noot allow you to push folders with only logging files in them\n",
    "!ls\n",
    "%cd 28_threading_module_demos"
   ]
  },
  {
   "cell_type": "code",
   "execution_count": 5,
   "metadata": {},
   "outputs": [],
   "source": [
    "# Using the logger to log our outputs\n",
    "# logging module is thread safe!\n",
    "import logging\n",
    "\n",
    "\n",
    "def get_logger():\n",
    "    logger = logging.getLogger(\"threading_example\")\n",
    "    logger.setLevel(logging.DEBUG)\n",
    "\n",
    "    fh = logging.FileHandler(\"threading.log\")\n",
    "    fmt = '%(asctime)s - %(threadName)s - %(levelname)s - %(message)s'\n",
    "    formatter = logging.Formatter(fmt)\n",
    "    fh.setFormatter(formatter)\n",
    "\n",
    "    logger.addHandler(fh)\n",
    "    return logger\n",
    "\n",
    "\n",
    "def doubler(number, logger):\n",
    "    \"\"\"\n",
    "    A function that can be used by a thread\n",
    "    \"\"\"\n",
    "    logger.debug('doubler function executing')\n",
    "    result = number * 2\n",
    "    logger.debug('doubler function ended with: {}'.format(\n",
    "        result))\n",
    "\n",
    "\n",
    "if __name__ == '__main__':\n",
    "    logger = get_logger()\n",
    "    thread_names = ['Mike', 'George', 'Wanda', 'Dingbat', 'Nina']\n",
    "    for i in range(5):\n",
    "        my_thread = threading.Thread(target=doubler, name=thread_names[i], args=(i,logger))\n",
    "        my_thread.start()"
   ]
  },
  {
   "cell_type": "code",
   "execution_count": 6,
   "metadata": {},
   "outputs": [],
   "source": [
    "# Changing the code above to create a Thread class instead of calling it directly\n",
    "class MyThread(threading.Thread):\n",
    "\n",
    "    def __init__(self, number, logger):\n",
    "        threading.Thread.__init__(self)\n",
    "        self.number = number\n",
    "        self.logger = logger\n",
    "\n",
    "    def run(self):\n",
    "        \"\"\"\n",
    "        Run the thread\n",
    "        \"\"\"\n",
    "        logger.debug('Calling doubler')\n",
    "        doubler(self.number, self.logger)\n",
    "\n",
    "\n",
    "def get_logger():\n",
    "    logger = logging.getLogger(\"threading_example\")\n",
    "    logger.setLevel(logging.DEBUG)\n",
    "\n",
    "    fh = logging.FileHandler(\"threading_class.log\")\n",
    "    fmt = '%(asctime)s - %(threadName)s - %(levelname)s - %(message)s'\n",
    "    formatter = logging.Formatter(fmt)\n",
    "    fh.setFormatter(formatter)\n",
    "\n",
    "    logger.addHandler(fh)\n",
    "    return logger\n",
    "\n",
    "\n",
    "def doubler(number, logger):\n",
    "    \"\"\"\n",
    "    A function that can be used by a thread\n",
    "    \"\"\"\n",
    "    logger.debug('doubler function executing')\n",
    "    result = number * 2\n",
    "    logger.debug('doubler function ended with: {}'.format(\n",
    "        result))\n",
    "\n",
    "\n",
    "if __name__ == '__main__':\n",
    "    logger = get_logger()\n",
    "    thread_names = ['Mike', 'George', 'Wanda', 'Dingbat', 'Nina']\n",
    "    for i in range(5):\n",
    "        thread = MyThread(i, logger)\n",
    "        thread.setName(thread_names[i])\n",
    "        thread.start()"
   ]
  },
  {
   "cell_type": "markdown",
   "metadata": {},
   "source": [
    "## Locks and Synchronization\n",
    "\n",
    "Locks allow you to reserve certain resources for a specific thread so that you can avoid conflicts, if a thread tries to access resources that are locked the thread will pause until the lock is released."
   ]
  },
  {
   "cell_type": "code",
   "execution_count": 7,
   "metadata": {},
   "outputs": [
    {
     "name": "stdout",
     "output_type": "stream",
     "text": [
      "5\n",
      "10\n",
      "15\n",
      "20\n",
      "25\n",
      "30\n",
      "35\n",
      "4045\n",
      "\n",
      "50\n"
     ]
    }
   ],
   "source": [
    "# Example of code that needs a lock\n",
    "# one thread may try to update the total before another is has completed the same task!\n",
    "\n",
    "total = 0\n",
    "\n",
    "def update_total(amount):\n",
    "    \"\"\"\n",
    "    Updates the total by the given amount\n",
    "    \"\"\"\n",
    "    global total\n",
    "    total += amount\n",
    "    print (total)\n",
    "\n",
    "if __name__ == '__main__':\n",
    "    for i in range(10):\n",
    "        my_thread = threading.Thread(\n",
    "            target=update_total, args=(5,))\n",
    "        my_thread.start()"
   ]
  },
  {
   "cell_type": "code",
   "execution_count": 8,
   "metadata": {},
   "outputs": [
    {
     "name": "stdout",
     "output_type": "stream",
     "text": [
      "5\n",
      "10\n",
      "15\n",
      "20\n",
      "25\n",
      "3035\n",
      "\n",
      "40\n",
      "4550\n",
      "\n"
     ]
    }
   ],
   "source": [
    "# Using lock to prevent multiple threads from performing the same operation at the same time\n",
    "\n",
    "total = 0\n",
    "lock = threading.Lock()\n",
    "\n",
    "def update_total(amount):\n",
    "    \"\"\"\n",
    "    Updates the total by the given amount\n",
    "    \"\"\"\n",
    "    global total\n",
    "    # First aquire the lock\n",
    "    lock.acquire()\n",
    "    # try to update amount\n",
    "    try:\n",
    "        total += amount\n",
    "    # Release lock whether or not update succeeds\n",
    "    finally:\n",
    "        lock.release()\n",
    "    print(total)\n",
    "\n",
    "if __name__ == '__main__':\n",
    "    for i in range(10):\n",
    "        my_thread = threading.Thread(target=update_total, args=(5,))\n",
    "        my_thread.start()"
   ]
  },
  {
   "cell_type": "code",
   "execution_count": 9,
   "metadata": {},
   "outputs": [
    {
     "name": "stdout",
     "output_type": "stream",
     "text": [
      "5\n",
      "10\n",
      "1520\n",
      "25\n",
      "30\n",
      "\n",
      "35\n",
      "4045\n",
      "\n",
      "50\n"
     ]
    }
   ],
   "source": [
    "# Using lock with a context manager instead of the syntax above\n",
    "total = 0\n",
    "lock = threading.Lock()\n",
    "\n",
    "def update_total(amount):\n",
    "    \"\"\"\n",
    "    Updates the total by the given amount\n",
    "    \"\"\"\n",
    "    global total\n",
    "    with lock:\n",
    "        total += amount\n",
    "    print (total)\n",
    "\n",
    "if __name__ == '__main__':\n",
    "    for i in range(10):\n",
    "        my_thread = threading.Thread(\n",
    "            target=update_total, args=(5,))\n",
    "        my_thread.start()"
   ]
  },
  {
   "cell_type": "code",
   "execution_count": 10,
   "metadata": {},
   "outputs": [
    {
     "name": "stdout",
     "output_type": "stream",
     "text": [
      "Lock acquired in the do_something function\n",
      "Lock released in the do_something function\n",
      "Lock acquired in the do_something_else function\n",
      "Lock released in the do_something_else function\n",
      "Done doing something\n",
      "Finished something else\n"
     ]
    }
   ],
   "source": [
    "# Multiple threads accessing multiple functions\n",
    "\n",
    "total = 0\n",
    "lock = threading.RLock()\n",
    "\n",
    "def do_something():\n",
    "\n",
    "    with lock:\n",
    "        print('Lock acquired in the do_something function')\n",
    "    print('Lock released in the do_something function')\n",
    "\n",
    "    return \"Done doing something\"\n",
    "\n",
    "def do_something_else():\n",
    "    with lock:\n",
    "        print('Lock acquired in the do_something_else function')\n",
    "    print('Lock released in the do_something_else function')\n",
    "\n",
    "    return \"Finished something else\"\n",
    "\n",
    "\n",
    "def main():\n",
    "    with lock:\n",
    "        result_one = do_something()\n",
    "        result_two = do_something_else()\n",
    "\n",
    "    print (result_one)\n",
    "    print (result_two)\n",
    "\n",
    "if __name__ == '__main__':\n",
    "    for i in range(1):\n",
    "        my_thread = threading.Thread(target=main)\n",
    "        my_thread.start()"
   ]
  },
  {
   "cell_type": "markdown",
   "metadata": {},
   "source": [
    "## Timers\n",
    "\n",
    "The threading module has a class Timer that you can use to represent an action that should take place after some specified period of time, they are started using the same start() method as the regular Thread class uses, you can even cancel a timer before it starts."
   ]
  },
  {
   "cell_type": "code",
   "execution_count": 11,
   "metadata": {},
   "outputs": [
    {
     "name": "stdout",
     "output_type": "stream",
     "text": [
      "b'PING www.google.com (142.250.176.196): 56 data bytes\\n64 bytes from 142.250.176.196: icmp_seq=0 ttl=118 time=6.120 ms\\n64 bytes from 142.250.176.196: icmp_seq=1 ttl=118 time=5.454 ms\\n64 bytes from 142.250.176.196: icmp_seq=2 ttl=118 time=6.423 ms\\n64 bytes from 142.250.176.196: icmp_seq=3 ttl=118 time=5.608 ms\\n64 bytes from 142.250.176.196: icmp_seq=4 ttl=118 time=6.199 ms\\n'\n"
     ]
    }
   ],
   "source": [
    "# Using the timer class\n",
    "import subprocess\n",
    "\n",
    "from threading import Timer\n",
    "\n",
    "kill = lambda process: process.kill()\n",
    "cmd = ['ping', 'www.google.com']\n",
    "ping = subprocess.Popen(\n",
    "    cmd, stdout=subprocess.PIPE, stderr=subprocess.PIPE)\n",
    "\n",
    "# We pass the time to wait, the function and its params in that order\n",
    "my_timer = Timer(5, kill, [ping])\n",
    "\n",
    "try:\n",
    "    my_timer.start()\n",
    "    stdout, stderr = ping.communicate()\n",
    "finally:\n",
    "    my_timer.cancel()\n",
    "\n",
    "print(str(stdout))"
   ]
  },
  {
   "cell_type": "markdown",
   "metadata": {},
   "source": [
    "## Other Thread Components\n",
    "\n",
    "The threading module has support for other items too like the following:\n",
    "* A Semaphore (one of the oldest synchronization primitives in computer science) allows you to manage an internal counter that will be decremented whenever you call the acquire method on it and incremented when you call the release method. If you call when its zero, then it will block.\n",
    "* An Event allows you to communicate between threads using signals\n",
    "* The Barrier is a primitive that manages a thread pool where the threads have to wait for each other. To pass the barrier, the thread needs to call the wait() method which will block until all the threads have made the call. All threads will then be released at the same time."
   ]
  },
  {
   "cell_type": "markdown",
   "metadata": {},
   "source": [
    "## Thread Communication\n",
    "\n",
    "You may have use cases where you need threads to communicate with eachother, you can create an Event for this as stated above. Although a more common method is to use a Queue. In the example below we will use both."
   ]
  },
  {
   "cell_type": "code",
   "execution_count": 12,
   "metadata": {},
   "outputs": [
    {
     "name": "stdout",
     "output_type": "stream",
     "text": [
      "Creating data and putting it on the queue\n",
      "Waiting for data to be doubled\n",
      "data found to be processed: 5\n",
      "10\n",
      "Waiting for data to be doubleddata found to be processed: 10\n",
      "20\n",
      "\n",
      "Waiting for data to be doubleddata found to be processed: 13\n",
      "26\n",
      "\n",
      "Waiting for data to be doubled\n",
      "data found to be processed: -1\n",
      "-2\n"
     ]
    }
   ],
   "source": [
    "# Using to threads to complete a task at the same time\n",
    "# We use the Event fopr the creator function to wait for all to complete\n",
    "# THe consumer function takes the data passed from thecreator to the queue and doubles it\n",
    "\n",
    "from queue import Queue\n",
    "\n",
    "\n",
    "def creator(data, q):\n",
    "    \"\"\"\n",
    "    Creates data to be consumed and waits for the consumer\n",
    "    to finish processing\n",
    "    \"\"\"\n",
    "    print('Creating data and putting it on the queue')\n",
    "    for item in data:\n",
    "        evt = threading.Event()\n",
    "        q.put((item, evt))\n",
    "\n",
    "        print('Waiting for data to be doubled')\n",
    "        evt.wait()\n",
    "\n",
    "\n",
    "def my_consumer(q):\n",
    "    \"\"\"\n",
    "    Consumes some data and works on it\n",
    "\n",
    "    In this case, all it does is double the input\n",
    "    \"\"\"\n",
    "    while True:\n",
    "        data, evt = q.get()\n",
    "        print('data found to be processed: {}'.format(data))\n",
    "        processed = data * 2\n",
    "        print(processed)\n",
    "        evt.set()\n",
    "        q.task_done()\n",
    "\n",
    "\n",
    "if __name__ == '__main__':\n",
    "    q = Queue()\n",
    "    data = [5, 10, 13, -1]\n",
    "    thread_one = threading.Thread(target=creator, args=(data, q))\n",
    "    thread_two = threading.Thread(target=my_consumer, args=(q,))\n",
    "    thread_one.start()\n",
    "    thread_two.start()\n",
    "\n",
    "    q.join()"
   ]
  }
 ],
 "metadata": {
  "kernelspec": {
   "display_name": "Python 3 (ipykernel)",
   "language": "python",
   "name": "python3"
  },
  "language_info": {
   "codemirror_mode": {
    "name": "ipython",
    "version": 3
   },
   "file_extension": ".py",
   "mimetype": "text/x-python",
   "name": "python",
   "nbconvert_exporter": "python",
   "pygments_lexer": "ipython3",
   "version": "3.8.6"
  },
  "toc": {
   "base_numbering": 1,
   "nav_menu": {},
   "number_sections": true,
   "sideBar": true,
   "skip_h1_title": false,
   "title_cell": "Table of Contents",
   "title_sidebar": "Contents",
   "toc_cell": false,
   "toc_position": {},
   "toc_section_display": true,
   "toc_window_display": false
  }
 },
 "nbformat": 4,
 "nbformat_minor": 4
}
