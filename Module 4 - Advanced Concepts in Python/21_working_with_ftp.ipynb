{
 "cells": [
  {
   "cell_type": "markdown",
   "metadata": {},
   "source": [
    "# Working with FTP"
   ]
  },
  {
   "cell_type": "markdown",
   "metadata": {},
   "source": [
    "## Introduction to FTP\n",
    "\n",
    "FTP (File Transfer Protocol) is used for sharing data. Python has a built-in. FTP library called ftplib that implements the client side of FTP protocol. "
   ]
  },
  {
   "cell_type": "markdown",
   "metadata": {},
   "source": [
    "## Connection to an FTP Server\n",
    "\n",
    "You can access open-source FTP mirrors to play with here: https://admin.fedoraproject.org/mirrormanager/."
   ]
  },
  {
   "cell_type": "code",
   "execution_count": 11,
   "metadata": {},
   "outputs": [
    {
     "name": "stdout",
     "output_type": "stream",
     "text": [
      "230 Login successful.\n"
     ]
    }
   ],
   "source": [
    "# Logging into an FTP mirror from client side\n",
    "# If no login info, python assumes you want anonymous login\n",
    "from ftplib import FTP\n",
    "\n",
    "ftp = FTP('ftp.cse.buffalo.edu')\n",
    "print (ftp.login())"
   ]
  },
  {
   "cell_type": "code",
   "execution_count": 8,
   "metadata": {},
   "outputs": [],
   "source": [
    "# Logging in with specified port & .connect() method\n",
    "# This example doesnt acutally have this port open so this code block will fail, its just an example\n",
    "ftp = FTP()\n",
    "\n",
    "HOST = 'ftp.cse.buffalo.edu'\n",
    "PORT = 12345\n",
    "ftp.connect(HOST, PORT)"
   ]
  },
  {
   "cell_type": "markdown",
   "metadata": {},
   "source": [
    " If the FTP server requires TLS security you'll want to import the FTP_TLS class instead and provide a keyfile and certfile."
   ]
  },
  {
   "cell_type": "markdown",
   "metadata": {},
   "source": [
    "## Navigating Directories with ftplib"
   ]
  },
  {
   "cell_type": "code",
   "execution_count": 24,
   "metadata": {},
   "outputs": [
    {
     "name": "stdout",
     "output_type": "stream",
     "text": [
      "drwxr-xr-x    2 202019   5564         4096 Sep 15 07:48 CSE421\n",
      "drwxr-xr-x    2 202019   5564         4096 Sep 10  2020 CSE468\n",
      "drwxr-xr-x    2 0        0            4096 Jul 22  2008 bin\n",
      "drwxr-xr-x    2 0        0            4096 Mar 15  2007 etc\n",
      "drwx------    2 0        0           16384 Sep 17  2020 lost+found\n",
      "drwxr-xr-x    6 89987    329651       4096 Sep 05  2015 mirror\n",
      "drwxrwxr-x    4 6980     546          4096 Sep 23  2020 pub\n",
      "drwxr-xr-x   14 0        120          4096 Sep 23  2020 users\n",
      "\n",
      "-------------------------------------------------------------------\n",
      "\n",
      "drwxr-xr-x    3 89987    329651       4096 Sep 05  2015 BSD\n",
      "drwxr-xr-x    5 89987    329651       4096 Sep 05  2015 Linux\n",
      "drwxr-xr-x    3 89987    329651       4096 Sep 23  2020 Network\n",
      "drwxr-xr-x    3 89987    329651       4096 May 04  2018 X11\n",
      "\n",
      "-------------------------------------------------------------------\n",
      "\n",
      "drwxr-xr-x    3 89987    329651       4096 Sep 05  2015 BSD\n",
      "drwxr-xr-x    5 89987    329651       4096 Sep 05  2015 Linux\n",
      "drwxr-xr-x    3 89987    329651       4096 Sep 23  2020 Network\n",
      "drwxr-xr-x    3 89987    329651       4096 May 04  2018 X11\n"
     ]
    }
   ],
   "source": [
    "ftp = FTP('ftp.cse.buffalo.edu')\n",
    "ftp.login()\n",
    "\n",
    "# See whats in the directory\n",
    "ftp.retrlines('LIST')\n",
    "print('\\n'+'-------------------------------------------------------------------'+'\\n')\n",
    "\n",
    "# cd into new directory\n",
    "ftp.cwd('mirror')\n",
    "\n",
    "# List out new directory\n",
    "ftp.retrlines('LIST')\n",
    "print('\\n'+'-------------------------------------------------------------------'+'\\n')\n",
    "\n",
    "# Another methosd for seeing whats in a directory\n",
    "ftp.dir()"
   ]
  },
  {
   "cell_type": "markdown",
   "metadata": {},
   "source": [
    "## Downloading a File via FTP"
   ]
  },
  {
   "cell_type": "code",
   "execution_count": 43,
   "metadata": {},
   "outputs": [
    {
     "name": "stdout",
     "output_type": "stream",
     "text": [
      "230 Login successful.\n",
      "250 Directory successfully changed.\n",
      "/Users/miesner.jacob/python-for-programmers-educative/Module 4 - Advanced Concepts in Python/21_ftp_demos\n"
     ]
    }
   ],
   "source": [
    "# Login into FTP\n",
    "ftp = FTP('ftp.cse.buffalo.edu')\n",
    "print(ftp.login())\n",
    "\n",
    "# change directories within FTP\n",
    "print(ftp.cwd('CSE421'))\n",
    "\n",
    "# change dir to demos folder\n",
    "%cd 21_ftp_demos\n",
    "\n",
    "# Download README file within FTP dir\n",
    "out = 'README'\n",
    "with open(out, 'wb') as f:\n",
    "    ftp.retrbinary('RETR ' + 'README.txt', f.write)"
   ]
  },
  {
   "cell_type": "code",
   "execution_count": 49,
   "metadata": {
    "scrolled": true
   },
   "outputs": [
    {
     "name": "stdout",
     "output_type": "stream",
     "text": [
      "230 Login successful.\n",
      "250 Directory successfully changed.\n"
     ]
    },
    {
     "data": {
      "text/plain": [
       "'221 Goodbye.'"
      ]
     },
     "execution_count": 49,
     "metadata": {},
     "output_type": "execute_result"
    }
   ],
   "source": [
    "# Download every file within an FTP dir\n",
    "import ftplib\n",
    "import os\n",
    "\n",
    "# Login into FTP\n",
    "ftp = FTP('ftp.cse.buffalo.edu')\n",
    "print(ftp.login())\n",
    "\n",
    "# change directories within FTP\n",
    "print(ftp.cwd('CSE421'))\n",
    "\n",
    "# Get file names\n",
    "filenames = ftp.nlst()\n",
    "\n",
    "# iterate through and download first 2 files\n",
    "# Deleting second file for git commit because it is almost half a GB\n",
    "for filename in filenames[:1]:\n",
    "    host_file = os.path.join(filename)\n",
    "    try:\n",
    "        with open(host_file, 'wb') as local_file:\n",
    "            ftp.retrbinary('RETR ' + filename, local_file.write)\n",
    "    except ftplib.error_perm:\n",
    "        pass\n",
    "\n",
    "ftp.quit()"
   ]
  },
  {
   "cell_type": "markdown",
   "metadata": {},
   "source": [
    "## Uploading Files to an FTP Server\n",
    "\n",
    "Two different methods for uploading certain file types:\n",
    "* storlines - Used for uploading text files (TXT, HTML, RST)\n",
    "* storbinary - Used for uploading binary files (PDF, XLS, etc)"
   ]
  },
  {
   "cell_type": "code",
   "execution_count": 50,
   "metadata": {},
   "outputs": [],
   "source": [
    "# This is just an example it will not execute because I have no\n",
    "# files I actually want to upload to and FTP right now\n",
    "\n",
    "def ftp_upload(ftp_obj, path, ftype='TXT'):\n",
    "    \"\"\"\n",
    "    A function for uploading files to an FTP server\n",
    "    @param ftp_obj: The file transfer protocol object\n",
    "    @param path: The path to the file to upload\n",
    "    \"\"\"\n",
    "    if ftype == 'TXT':\n",
    "        with open(path) as fobj:\n",
    "            ftp.storlines('STOR ' + path, fobj)\n",
    "    else:\n",
    "        with open(path, 'rb') as fobj:\n",
    "            ftp.storbinary('STOR ' + path, fobj, 1024)\n",
    "\n",
    "ftp = ftplib.FTP('host', 'username', 'password')\n",
    "ftp.login()\n",
    "\n",
    "path = '/path/to/something.txt'\n",
    "ftp_upload(ftp, path)\n",
    "\n",
    "pdf_path = '/path/to/something.pdf'\n",
    "ftp_upload(ftp, pdf_path, ftype='PDF')\n",
    "\n",
    "ftp.quit()"
   ]
  }
 ],
 "metadata": {
  "kernelspec": {
   "display_name": "Python 3 (ipykernel)",
   "language": "python",
   "name": "python3"
  },
  "language_info": {
   "codemirror_mode": {
    "name": "ipython",
    "version": 3
   },
   "file_extension": ".py",
   "mimetype": "text/x-python",
   "name": "python",
   "nbconvert_exporter": "python",
   "pygments_lexer": "ipython3",
   "version": "3.8.6"
  },
  "toc": {
   "base_numbering": 1,
   "nav_menu": {},
   "number_sections": true,
   "sideBar": true,
   "skip_h1_title": false,
   "title_cell": "Table of Contents",
   "title_sidebar": "Contents",
   "toc_cell": false,
   "toc_position": {},
   "toc_section_display": true,
   "toc_window_display": false
  }
 },
 "nbformat": 4,
 "nbformat_minor": 4
}
