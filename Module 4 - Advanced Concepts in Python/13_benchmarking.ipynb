{
 "cells": [
  {
   "cell_type": "markdown",
   "metadata": {},
   "source": [
    "# Benchmarking\n",
    "\n",
    "Benchmarking or profiling are used to measure the speed with which you code can run and identify bottlenecks."
   ]
  },
  {
   "cell_type": "markdown",
   "metadata": {},
   "source": [
    "## timeit\n",
    "\n",
    "Usesd to time small code snippets."
   ]
  },
  {
   "cell_type": "code",
   "execution_count": 1,
   "metadata": {},
   "outputs": [
    {
     "name": "stdout",
     "output_type": "stream",
     "text": [
      "50000000 loops, best of 5: 6 nsec per loop\r\n"
     ]
    }
   ],
   "source": [
    "# via commandline\n",
    "# run timeit and setup then gives average of executing loop 5 times\n",
    "\n",
    "!python -m timeit -s '[ord(x) for x in \"abcdfghi\"]'"
   ]
  },
  {
   "cell_type": "code",
   "execution_count": 2,
   "metadata": {},
   "outputs": [
    {
     "name": "stdout",
     "output_type": "stream",
     "text": [
      "50000000 loops, best of 5: 6.21 nsec per loop\r\n"
     ]
    }
   ],
   "source": [
    "# another example using the commandline\n",
    "\n",
    "!python -m timeit -s '[chr(int(x)) for x in \"123456789\"]'"
   ]
  },
  {
   "cell_type": "code",
   "execution_count": 3,
   "metadata": {},
   "outputs": [
    {
     "name": "stdout",
     "output_type": "stream",
     "text": [
      "10_typing_module.ipynb           3_context_managers.ipynb\r\n",
      "11_python_builtins.ipynb         4_functools_module.ipynb\r\n",
      "12_unicode.ipynb                 5_imports.ipynb\r\n",
      "\u001b[34m13_benchmark_demos\u001b[m\u001b[m               \u001b[34m6_import_lib_demos\u001b[m\u001b[m\r\n",
      "13_benchmarking.ipynb            6_importlib_module.ipynb\r\n",
      "\u001b[34m1_arg_demos\u001b[m\u001b[m                      7_iterators_and_generators.ipynb\r\n",
      "1_argparse.ipynb                 8_itertools.ipynb\r\n",
      "\u001b[34m2_collections_demos\u001b[m\u001b[m              9_regular_expressions.ipynb\r\n",
      "2_collections_module.ipynb       README.md\r\n",
      "\u001b[34m3_context_manager_demos\u001b[m\u001b[m          test.db\r\n"
     ]
    }
   ],
   "source": [
    "!ls"
   ]
  },
  {
   "cell_type": "code",
   "execution_count": 4,
   "metadata": {
    "scrolled": false
   },
   "outputs": [
    {
     "name": "stdout",
     "output_type": "stream",
     "text": [
      "/Users/miesner.jacob/python-for-programmers-educative/Module 4 - Advanced Concepts in Python/13_benchmark_demos\n",
      "1000000 loops, best of 5: 363 nsec per loop\n",
      "/Users/miesner.jacob/python-for-programmers-educative/Module 4 - Advanced Concepts in Python\n"
     ]
    }
   ],
   "source": [
    "# importing a function and benchmarking it\n",
    "%cd 13_benchmark_demos \n",
    "!python -m timeit \"import simple_func; simple_func.my_function()\"\n",
    "%cd .."
   ]
  },
  {
   "cell_type": "markdown",
   "metadata": {},
   "source": [
    "## importing timeit for Testing"
   ]
  },
  {
   "cell_type": "code",
   "execution_count": 9,
   "metadata": {},
   "outputs": [
    {
     "name": "stdout",
     "output_type": "stream",
     "text": [
      "0.3262987550000105\n"
     ]
    }
   ],
   "source": [
    "if __name__ == \"__main__\":\n",
    "    import timeit\n",
    "    setup = \"from __main__ import my_function\"\n",
    "    print(timeit.timeit(\"my_function()\", setup=setup))"
   ]
  },
  {
   "cell_type": "code",
   "execution_count": 10,
   "metadata": {},
   "outputs": [
    {
     "name": "stdout",
     "output_type": "stream",
     "text": [
      "The runtime for long_runner took 12.0014169216156 seconds to complete\n"
     ]
    }
   ],
   "source": [
    "## Use a decorator\n",
    "## Writing our own timing function\n",
    "import random\n",
    "import time\n",
    "\n",
    "def timerfunc(func):\n",
    "    \"\"\"\n",
    "    A timer decorator\n",
    "    \"\"\"\n",
    "    def function_timer(*args, **kwargs):\n",
    "        \"\"\"\n",
    "        A nested function for timing other functions\n",
    "        \"\"\"\n",
    "        start = time.time()\n",
    "        value = func(*args, **kwargs)\n",
    "        end = time.time()\n",
    "        runtime = end - start\n",
    "        msg = \"The runtime for {func} took {time} seconds to complete\"\n",
    "        print(msg.format(func=func.__name__,\n",
    "                         time=runtime))\n",
    "        return value\n",
    "    return function_timer\n",
    "\n",
    "\n",
    "@timerfunc\n",
    "def long_runner():\n",
    "    for x in range(5):\n",
    "        sleep_time = random.choice(range(1,5))\n",
    "        time.sleep(sleep_time)\n",
    "\n",
    "if __name__ == '__main__':\n",
    "    long_runner()"
   ]
  },
  {
   "cell_type": "markdown",
   "metadata": {},
   "source": [
    "## Create a Timing Context Manager"
   ]
  },
  {
   "cell_type": "code",
   "execution_count": 11,
   "metadata": {},
   "outputs": [
    {
     "name": "stdout",
     "output_type": "stream",
     "text": [
      "The function took 13.014636993408203 seconds to complete\n"
     ]
    }
   ],
   "source": [
    "## Using a context manager to time code\n",
    "\n",
    "import random\n",
    "import time\n",
    "\n",
    "class MyTimer():\n",
    "\n",
    "    def __init__(self):\n",
    "        self.start = time.time()\n",
    "\n",
    "    def __enter__(self):\n",
    "        return self\n",
    "\n",
    "    def __exit__(self, exc_type, exc_val, exc_tb):\n",
    "        end = time.time()\n",
    "        runtime = end - self.start\n",
    "        msg = 'The function took {time} seconds to complete'\n",
    "        print(msg.format(time=runtime))\n",
    "\n",
    "\n",
    "def long_runner():\n",
    "    for x in range(5):\n",
    "        sleep_time = random.choice(range(1,5))\n",
    "        time.sleep(sleep_time)\n",
    "\n",
    "\n",
    "if __name__ == '__main__':\n",
    "    with MyTimer():\n",
    "        long_runner()"
   ]
  },
  {
   "cell_type": "markdown",
   "metadata": {},
   "source": [
    "## cProfile\n",
    "\n",
    "Python comes with the profile and cProfile modules built-in. Cprofile is recommended because it is much faster."
   ]
  },
  {
   "cell_type": "code",
   "execution_count": 15,
   "metadata": {},
   "outputs": [
    {
     "name": "stdout",
     "output_type": "stream",
     "text": [
      "         4 function calls in 6.749 seconds\n",
      "\n",
      "   Ordered by: standard name\n",
      "\n",
      "   ncalls  tottime  percall  cumtime  percall filename:lineno(function)\n",
      "        1    4.180    4.180    4.180    4.180 <string>:1(<listcomp>)\n",
      "        1    2.567    2.567    6.748    6.748 <string>:1(<module>)\n",
      "        1    0.001    0.001    6.749    6.749 {built-in method builtins.exec}\n",
      "        1    0.000    0.000    0.000    0.000 {method 'disable' of '_lsprof.Profiler' objects}\n",
      "\n",
      "\n"
     ]
    }
   ],
   "source": [
    "import cProfile\n",
    "cProfile.run(\"[x for x in range(100000000)]\")"
   ]
  },
  {
   "cell_type": "markdown",
   "metadata": {},
   "source": [
    "* **ncalls** is the number of calls made.\n",
    "* **tottime** is a total of the time spent in the given function.\n",
    "* **percall** refers to the quotient of tottime divided by ncalls\n",
    "* **cumtime** is the cumulative time spent in this and all subfunctions. It’s even accurate for recursive functions!\n",
    "* The second **percall** column is the quotient of cumtime divided by primitive calls\n",
    "* **filename:lineno(function)** provides the respective data of each function"
   ]
  },
  {
   "cell_type": "code",
   "execution_count": 21,
   "metadata": {
    "scrolled": true
   },
   "outputs": [
    {
     "name": "stdout",
     "output_type": "stream",
     "text": [
      "/Users/miesner.jacob/python-for-programmers-educative/Module 4 - Advanced Concepts in Python/13_benchmark_demos\n",
      "         4 function calls in 0.534 seconds\n",
      "\n",
      "   Ordered by: standard name\n",
      "\n",
      "   ncalls  tottime  percall  cumtime  percall filename:lineno(function)\n",
      "        1    0.534    0.534    0.534    0.534 test.py:1(<listcomp>)\n",
      "        1    0.000    0.000    0.534    0.534 test.py:1(<module>)\n",
      "        1    0.000    0.000    0.534    0.534 {built-in method builtins.exec}\n",
      "        1    0.000    0.000    0.000    0.000 {method 'disable' of '_lsprof.Profiler' objects}\n",
      "\n",
      "\n",
      "/Users/miesner.jacob/python-for-programmers-educative/Module 4 - Advanced Concepts in Python\n"
     ]
    }
   ],
   "source": [
    "# Using cProfile via commandline!\n",
    "\n",
    "%cd 13_benchmark_demos \n",
    "!python -m cProfile test.py\n",
    "%cd .."
   ]
  },
  {
   "cell_type": "markdown",
   "metadata": {},
   "source": [
    "## line_profiler\n",
    "\n",
    "line_profiler is a python module to seehow long it take for each line in your file to run, it also has a script called karnprof for profiling Python code."
   ]
  },
  {
   "cell_type": "code",
   "execution_count": 7,
   "metadata": {
    "scrolled": true
   },
   "outputs": [
    {
     "name": "stdout",
     "output_type": "stream",
     "text": [
      "Requirement already satisfied: line_profiler in /Library/Frameworks/Python.framework/Versions/3.8/lib/python3.8/site-packages (3.3.1)\n",
      "Requirement already satisfied: IPython>=0.13 in /Library/Frameworks/Python.framework/Versions/3.8/lib/python3.8/site-packages (from line_profiler) (7.29.0)\n",
      "Requirement already satisfied: matplotlib-inline in /Library/Frameworks/Python.framework/Versions/3.8/lib/python3.8/site-packages (from IPython>=0.13->line_profiler) (0.1.3)\n",
      "Requirement already satisfied: prompt-toolkit!=3.0.0,!=3.0.1,<3.1.0,>=2.0.0 in /Library/Frameworks/Python.framework/Versions/3.8/lib/python3.8/site-packages (from IPython>=0.13->line_profiler) (3.0.8)\n",
      "Requirement already satisfied: backcall in /Library/Frameworks/Python.framework/Versions/3.8/lib/python3.8/site-packages (from IPython>=0.13->line_profiler) (0.2.0)\n",
      "Requirement already satisfied: pygments in /Library/Frameworks/Python.framework/Versions/3.8/lib/python3.8/site-packages (from IPython>=0.13->line_profiler) (2.7.2)\n",
      "Requirement already satisfied: pickleshare in /Library/Frameworks/Python.framework/Versions/3.8/lib/python3.8/site-packages (from IPython>=0.13->line_profiler) (0.7.5)\n",
      "Requirement already satisfied: jedi>=0.16 in /Library/Frameworks/Python.framework/Versions/3.8/lib/python3.8/site-packages (from IPython>=0.13->line_profiler) (0.17.2)\n",
      "Requirement already satisfied: traitlets>=4.2 in /Library/Frameworks/Python.framework/Versions/3.8/lib/python3.8/site-packages (from IPython>=0.13->line_profiler) (5.1.1)\n",
      "Requirement already satisfied: setuptools>=18.5 in /Library/Frameworks/Python.framework/Versions/3.8/lib/python3.8/site-packages (from IPython>=0.13->line_profiler) (49.2.1)\n",
      "Requirement already satisfied: pexpect>4.3 in /Library/Frameworks/Python.framework/Versions/3.8/lib/python3.8/site-packages (from IPython>=0.13->line_profiler) (4.8.0)\n",
      "Requirement already satisfied: decorator in /Library/Frameworks/Python.framework/Versions/3.8/lib/python3.8/site-packages (from IPython>=0.13->line_profiler) (4.4.2)\n",
      "Requirement already satisfied: appnope in /Library/Frameworks/Python.framework/Versions/3.8/lib/python3.8/site-packages (from IPython>=0.13->line_profiler) (0.1.0)\n",
      "Requirement already satisfied: parso<0.8.0,>=0.7.0 in /Library/Frameworks/Python.framework/Versions/3.8/lib/python3.8/site-packages (from jedi>=0.16->IPython>=0.13->line_profiler) (0.7.1)\n",
      "Requirement already satisfied: ptyprocess>=0.5 in /Library/Frameworks/Python.framework/Versions/3.8/lib/python3.8/site-packages (from pexpect>4.3->IPython>=0.13->line_profiler) (0.6.0)\n",
      "Requirement already satisfied: wcwidth in /Library/Frameworks/Python.framework/Versions/3.8/lib/python3.8/site-packages (from prompt-toolkit!=3.0.0,!=3.0.1,<3.1.0,>=2.0.0->IPython>=0.13->line_profiler) (0.2.5)\n"
     ]
    }
   ],
   "source": [
    "!pip install line_profiler"
   ]
  },
  {
   "cell_type": "code",
   "execution_count": 3,
   "metadata": {},
   "outputs": [
    {
     "name": "stdout",
     "output_type": "stream",
     "text": [
      "/Users/miesner.jacob/python-for-programmers-educative/Module 4 - Advanced Concepts in Python/13_benchmark_demos\n"
     ]
    }
   ],
   "source": [
    "%cd 13_benchmark_demos"
   ]
  },
  {
   "cell_type": "code",
   "execution_count": 4,
   "metadata": {},
   "outputs": [
    {
     "name": "stdout",
     "output_type": "stream",
     "text": [
      "\u001b[34m__pycache__\u001b[m\u001b[m        silly_functions.py simple_func.py     test.py\r\n"
     ]
    }
   ],
   "source": [
    "!ls"
   ]
  },
  {
   "cell_type": "code",
   "execution_count": 10,
   "metadata": {
    "scrolled": false
   },
   "outputs": [
    {
     "name": "stdout",
     "output_type": "stream",
     "text": [
      "I'm a fast function!\n",
      "I'm a slow function\n",
      "Wrote profile results to silly_functions.py.lprof\n",
      "Timer unit: 1e-06 s\n",
      "\n",
      "Total time: 2.7e-05 s\n",
      "File: silly_functions.py\n",
      "Function: fast_function at line 4\n",
      "\n",
      "Line #      Hits         Time  Per Hit   % Time  Line Contents\n",
      "==============================================================\n",
      "     4                                           @profile\n",
      "     5                                           def fast_function():\n",
      "     6         1         27.0     27.0    100.0      print(\"I'm a fast function!\")\n",
      "\n",
      "Total time: 2.00447 s\n",
      "File: silly_functions.py\n",
      "Function: slow_function at line 8\n",
      "\n",
      "Line #      Hits         Time  Per Hit   % Time  Line Contents\n",
      "==============================================================\n",
      "     8                                           @profile\n",
      "     9                                           def slow_function():\n",
      "    10         1    2004413.0 2004413.0    100.0      time.sleep(2)\n",
      "    11         1         55.0     55.0      0.0      print(\"I'm a slow function\")\n",
      "\n"
     ]
    }
   ],
   "source": [
    "# Using kernprof in verbose mode to profile our python file line by line\n",
    "\n",
    "!kernprof -l -v silly_functions.py "
   ]
  },
  {
   "cell_type": "markdown",
   "metadata": {},
   "source": [
    "There are six columns of output, here is what they all mean:\n",
    "\n",
    "1. Line # - Line number of code profiled\n",
    "2. Hits - Number of times line was executed\n",
    "3. Time - The total amount of time the line took to execute\n",
    "4. Per Hit - The average amount of time the line took to execute\n",
    "5. % Time - The relative percent of total time the line took to execute\n",
    "6. Line Contents -THe actual source code\n",
    "\n",
    "(IPython has a magic command (%lprun) that allows you to specify functions to profile and even which statement to execute.)"
   ]
  },
  {
   "cell_type": "markdown",
   "metadata": {},
   "source": [
    "## Memory Profiler\n",
    "\n",
    "A 3rd party profiling package for monitoring memory consumption line by line."
   ]
  },
  {
   "cell_type": "code",
   "execution_count": 21,
   "metadata": {},
   "outputs": [
    {
     "name": "stdout",
     "output_type": "stream",
     "text": [
      "Requirement already satisfied: memory_profiler in /Library/Frameworks/Python.framework/Versions/3.8/lib/python3.8/site-packages (0.58.0)\r\n",
      "Requirement already satisfied: psutil in /Library/Frameworks/Python.framework/Versions/3.8/lib/python3.8/site-packages (from memory_profiler) (5.7.3)\r\n"
     ]
    }
   ],
   "source": [
    "!pip install memory_profiler"
   ]
  },
  {
   "cell_type": "code",
   "execution_count": 24,
   "metadata": {},
   "outputs": [
    {
     "name": "stdout",
     "output_type": "stream",
     "text": [
      "Filename: memo_prof.py\r\n",
      "\r\n",
      "Line #    Mem usage    Increment  Occurences   Line Contents\r\n",
      "============================================================\r\n",
      "     3   39.176 MiB   39.176 MiB           1   @profile\r\n",
      "     4                                         def mem_func():\r\n",
      "     5   39.191 MiB    0.016 MiB           1       lots_of_numbers = list(range(1500))\r\n",
      "     6  113.699 MiB   74.508 MiB           1       x = ['letters'] * (5 ** 10)\r\n",
      "     7  113.699 MiB    0.000 MiB           1       del lots_of_numbers\r\n",
      "     8  113.699 MiB    0.000 MiB           1       return None\r\n",
      "\r\n",
      "\r\n"
     ]
    }
   ],
   "source": [
    "# Running memory profiling\n",
    "\n",
    "!python3 -m memory_profiler memo_prof.py "
   ]
  },
  {
   "cell_type": "code",
   "execution_count": 25,
   "metadata": {},
   "outputs": [
    {
     "name": "stdout",
     "output_type": "stream",
     "text": [
      "mprof: Sampling memory every 0.1s\r\n",
      "running new process\r\n",
      "running as a Python program...\r\n"
     ]
    }
   ],
   "source": [
    "# Full Memory usage reports over time instead of line by line\n",
    "!mprof run memo_prof.py "
   ]
  },
  {
   "cell_type": "code",
   "execution_count": 28,
   "metadata": {},
   "outputs": [
    {
     "name": "stdout",
     "output_type": "stream",
     "text": [
      "Using last profile data.\n",
      "Figure(1260x540)\n"
     ]
    }
   ],
   "source": [
    "# Plotting memory usage\n",
    "# This wont print out the plot in an ipython notebook but will on commandline\n",
    "!mprof plot"
   ]
  },
  {
   "cell_type": "markdown",
   "metadata": {},
   "source": [
    "## proflehooks\n",
    "\n",
    "Another 3rd party package with a collection of decorators for profling"
   ]
  },
  {
   "cell_type": "code",
   "execution_count": 29,
   "metadata": {},
   "outputs": [
    {
     "name": "stdout",
     "output_type": "stream",
     "text": [
      "Collecting profilehooks\n",
      "  Downloading profilehooks-1.12.0-py2.py3-none-any.whl (12 kB)\n",
      "Installing collected packages: profilehooks\n",
      "Successfully installed profilehooks-1.12.0\n"
     ]
    }
   ],
   "source": [
    "!pip install profilehooks"
   ]
  },
  {
   "cell_type": "code",
   "execution_count": 31,
   "metadata": {},
   "outputs": [
    {
     "name": "stdout",
     "output_type": "stream",
     "text": [
      "\r\n",
      "*** PROFILER RESULTS ***\r\n",
      "mem_func (profhooks.py:5)\r\n",
      "function called 1 times\r\n",
      "\r\n",
      "         2 function calls in 0.030 seconds\r\n",
      "\r\n",
      "   Ordered by: cumulative time, internal time, call count\r\n",
      "\r\n",
      "   ncalls  tottime  percall  cumtime  percall filename:lineno(function)\r\n",
      "        1    0.030    0.030    0.030    0.030 profhooks.py:5(mem_func)\r\n",
      "        1    0.000    0.000    0.000    0.000 {method 'disable' of '_lsprof.Profiler' objects}\r\n",
      "        0    0.000             0.000          profile:0(profiler)\r\n",
      "\r\n",
      "\r\n"
     ]
    }
   ],
   "source": [
    "# Example including just the @profile decorator\n",
    "!python3 profhooks.py"
   ]
  },
  {
   "cell_type": "code",
   "execution_count": 32,
   "metadata": {},
   "outputs": [
    {
     "name": "stdout",
     "output_type": "stream",
     "text": [
      "\r\n",
      "  mem_func (profhooks2.py:4):\r\n",
      "    0.057 seconds\r\n",
      "\r\n"
     ]
    }
   ],
   "source": [
    "# Using the timecall decorator that goves the course run time of the function its decorating\n",
    "!python3 profhooks2.py"
   ]
  }
 ],
 "metadata": {
  "kernelspec": {
   "display_name": "Python 3 (ipykernel)",
   "language": "python",
   "name": "python3"
  },
  "language_info": {
   "codemirror_mode": {
    "name": "ipython",
    "version": 3
   },
   "file_extension": ".py",
   "mimetype": "text/x-python",
   "name": "python",
   "nbconvert_exporter": "python",
   "pygments_lexer": "ipython3",
   "version": "3.8.6"
  },
  "toc": {
   "base_numbering": 1,
   "nav_menu": {},
   "number_sections": true,
   "sideBar": true,
   "skip_h1_title": false,
   "title_cell": "Table of Contents",
   "title_sidebar": "Contents",
   "toc_cell": false,
   "toc_position": {},
   "toc_section_display": true,
   "toc_window_display": false
  }
 },
 "nbformat": 4,
 "nbformat_minor": 4
}
