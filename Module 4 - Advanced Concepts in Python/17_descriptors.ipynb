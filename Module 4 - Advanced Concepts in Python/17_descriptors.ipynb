{
 "cells": [
  {
   "cell_type": "markdown",
   "metadata": {},
   "source": [
    "# Descriptors"
   ]
  },
  {
   "cell_type": "markdown",
   "metadata": {},
   "source": [
    "## Descriptors in Python\n",
    "\n",
    "Descriptiors provide developers with the ability to add managed attributes to objects. The __get__, __set__, __delete__ methods are needed to crteate a descriptor, if you define any of these methods then you have created a descriptor. These methods allow you to work with attributes in your object's dictionary."
   ]
  },
  {
   "cell_type": "markdown",
   "metadata": {},
   "source": [
    "## The Descriptor Protocol\n",
    "\n",
    "\n",
    "Only need to define one or more of the following methods\n",
    "\n",
    "* __get__(self, obj, type=None), returns value\n",
    "* __set__(self, obj, value), returns None\n",
    "* __delete__(self, obj), returns None\n",
    "\n",
    "Once you’ve defined at least one, you have created a descriptor. If you can you define both __get__ and __set__, you will have created a data descriptor. A descriptor with only __get__() defined are known as non-data descriptors and are usually used for methods. "
   ]
  },
  {
   "cell_type": "markdown",
   "metadata": {},
   "source": [
    "## Calling a Descriptor\n",
    "\n",
    "A Few key points to keep in mind when calling a descriptor:\n",
    "\n",
    "* The descriptor is invoked via the default implementation of the __getattribute__ method\n",
    "* If you override __getattribute__, this will prevent the descriptor from getting automatically called\n",
    "* object.__getattribute__() and type.__getattribute__() don’t call __get__() the same way\n",
    "* A data descriptor will always, ALWAYS override instance dictionaries\n",
    "* The non-data descriptor can be overridden by instance dictionaries."
   ]
  },
  {
   "cell_type": "markdown",
   "metadata": {},
   "source": [
    "## Descriptor Examples"
   ]
  },
  {
   "cell_type": "markdown",
   "metadata": {},
   "source": [
    "The main thing to remember is that descriptors are linked to classes and not to instances."
   ]
  },
  {
   "cell_type": "code",
   "execution_count": 4,
   "metadata": {},
   "outputs": [
    {
     "name": "stdout",
     "output_type": "stream",
     "text": [
      "Getting desc\n",
      "Mike\n",
      "\n",
      "\n",
      "Value for 'normal' attribute in MyClass\n",
      "10\n",
      "\n",
      "\n",
      "Setting desc to 100\n",
      "Getting desc\n",
      "100\n",
      "\n",
      "\n"
     ]
    }
   ],
   "source": [
    "# Descriptor Example based on one from Python's documentation\n",
    "\n",
    "class MyDescriptor():\n",
    "    \"\"\"\n",
    "    A simple demo descriptor\n",
    "    \"\"\"\n",
    "    # initialization to set class variables\n",
    "    def __init__(self, initial_value=None, name='my_var'):\n",
    "        self.var_name = name\n",
    "        self.value = initial_value\n",
    "\n",
    "    # Get descriptor method\n",
    "    def __get__(self, obj, objtype):\n",
    "        print('Getting', self.var_name)\n",
    "        return self.value\n",
    "\n",
    "    # Set descriptor method\n",
    "    def __set__(self, obj, value):\n",
    "        msg = 'Setting {name} to {value}'\n",
    "        print(msg.format(name=self.var_name, value=value))\n",
    "        self.value = value\n",
    "\n",
    "# Creating a class from my descriptor\n",
    "class MyClass():\n",
    "    desc = MyDescriptor(initial_value='Mike', name='desc')\n",
    "    normal = 10\n",
    "\n",
    "# Instnatiate our class\n",
    "c = MyClass()\n",
    "\n",
    "# print dsec value\n",
    "print(c.desc)\n",
    "print('\\n')\n",
    "\n",
    "# print normal value\n",
    "print(\"Value for 'normal' attribute in MyClass\")\n",
    "print(c.normal)\n",
    "print('\\n')\n",
    "\n",
    "# Set new desc value and print out new value\n",
    "c.desc = 100\n",
    "print(c.desc)\n",
    "print('\\n')"
   ]
  },
  {
   "cell_type": "code",
   "execution_count": 8,
   "metadata": {},
   "outputs": [
    {
     "name": "stdout",
     "output_type": "stream",
     "text": [
      "Jacob can legally drink in the USA\n"
     ]
    },
    {
     "ename": "Exception",
     "evalue": "Coco is too young to legally drink!",
     "output_type": "error",
     "traceback": [
      "\u001b[0;31m---------------------------------------------------------------------------\u001b[0m",
      "\u001b[0;31mException\u001b[0m                                 Traceback (most recent call last)",
      "\u001b[0;32m/var/folders/xh/fhzpv__n2mbg9shw10xrdnkm0000gn/T/ipykernel_14912/318272502.py\u001b[0m in \u001b[0;36m<module>\u001b[0;34m\u001b[0m\n\u001b[1;32m     32\u001b[0m \u001b[0;34m\u001b[0m\u001b[0m\n\u001b[1;32m     33\u001b[0m \u001b[0mp\u001b[0m \u001b[0;34m=\u001b[0m \u001b[0mPerson\u001b[0m\u001b[0;34m(\u001b[0m\u001b[0;34m'Jacob'\u001b[0m\u001b[0;34m,\u001b[0m \u001b[0;36m27\u001b[0m\u001b[0;34m)\u001b[0m\u001b[0;34m\u001b[0m\u001b[0;34m\u001b[0m\u001b[0m\n\u001b[0;32m---> 34\u001b[0;31m \u001b[0mp\u001b[0m \u001b[0;34m=\u001b[0m \u001b[0mPerson\u001b[0m\u001b[0;34m(\u001b[0m\u001b[0;34m'Coco'\u001b[0m\u001b[0;34m,\u001b[0m \u001b[0;36m4\u001b[0m\u001b[0;34m)\u001b[0m\u001b[0;34m\u001b[0m\u001b[0;34m\u001b[0m\u001b[0m\n\u001b[0m",
      "\u001b[0;32m/var/folders/xh/fhzpv__n2mbg9shw10xrdnkm0000gn/T/ipykernel_14912/318272502.py\u001b[0m in \u001b[0;36m__init__\u001b[0;34m(self, name, age)\u001b[0m\n\u001b[1;32m     28\u001b[0m     \u001b[0;32mdef\u001b[0m \u001b[0m__init__\u001b[0m\u001b[0;34m(\u001b[0m\u001b[0mself\u001b[0m\u001b[0;34m,\u001b[0m \u001b[0mname\u001b[0m\u001b[0;34m,\u001b[0m \u001b[0mage\u001b[0m\u001b[0;34m)\u001b[0m\u001b[0;34m:\u001b[0m\u001b[0;34m\u001b[0m\u001b[0;34m\u001b[0m\u001b[0m\n\u001b[1;32m     29\u001b[0m         \u001b[0mself\u001b[0m\u001b[0;34m.\u001b[0m\u001b[0mname\u001b[0m \u001b[0;34m=\u001b[0m \u001b[0mname\u001b[0m\u001b[0;34m\u001b[0m\u001b[0;34m\u001b[0m\u001b[0m\n\u001b[0;32m---> 30\u001b[0;31m         \u001b[0mself\u001b[0m\u001b[0;34m.\u001b[0m\u001b[0mdrinker_age\u001b[0m \u001b[0;34m=\u001b[0m \u001b[0mage\u001b[0m\u001b[0;34m\u001b[0m\u001b[0;34m\u001b[0m\u001b[0m\n\u001b[0m\u001b[1;32m     31\u001b[0m \u001b[0;34m\u001b[0m\u001b[0m\n\u001b[1;32m     32\u001b[0m \u001b[0;34m\u001b[0m\u001b[0m\n",
      "\u001b[0;32m/var/folders/xh/fhzpv__n2mbg9shw10xrdnkm0000gn/T/ipykernel_14912/318272502.py\u001b[0m in \u001b[0;36m__set__\u001b[0;34m(self, instance, new_age)\u001b[0m\n\u001b[1;32m     14\u001b[0m         \u001b[0;32mif\u001b[0m \u001b[0mnew_age\u001b[0m \u001b[0;34m<\u001b[0m \u001b[0;36m21\u001b[0m\u001b[0;34m:\u001b[0m\u001b[0;34m\u001b[0m\u001b[0;34m\u001b[0m\u001b[0m\n\u001b[1;32m     15\u001b[0m             \u001b[0mmsg\u001b[0m \u001b[0;34m=\u001b[0m \u001b[0;34m'{name} is too young to legally drink!'\u001b[0m\u001b[0;34m\u001b[0m\u001b[0;34m\u001b[0m\u001b[0m\n\u001b[0;32m---> 16\u001b[0;31m             \u001b[0;32mraise\u001b[0m \u001b[0mException\u001b[0m\u001b[0;34m(\u001b[0m\u001b[0mmsg\u001b[0m\u001b[0;34m.\u001b[0m\u001b[0mformat\u001b[0m\u001b[0;34m(\u001b[0m\u001b[0mname\u001b[0m\u001b[0;34m=\u001b[0m\u001b[0minstance\u001b[0m\u001b[0;34m.\u001b[0m\u001b[0mname\u001b[0m\u001b[0;34m)\u001b[0m\u001b[0;34m)\u001b[0m\u001b[0;34m\u001b[0m\u001b[0;34m\u001b[0m\u001b[0m\n\u001b[0m\u001b[1;32m     17\u001b[0m         \u001b[0mself\u001b[0m\u001b[0;34m.\u001b[0m\u001b[0mage\u001b[0m\u001b[0;34m[\u001b[0m\u001b[0minstance\u001b[0m\u001b[0;34m]\u001b[0m \u001b[0;34m=\u001b[0m \u001b[0mnew_age\u001b[0m\u001b[0;34m\u001b[0m\u001b[0;34m\u001b[0m\u001b[0m\n\u001b[1;32m     18\u001b[0m         print('{name} can legally drink in the USA'.format(\n",
      "\u001b[0;31mException\u001b[0m: Coco is too young to legally drink!"
     ]
    }
   ],
   "source": [
    "# Descriptor example including __delete__ method\n",
    "\n",
    "from weakref import WeakKeyDictionary\n",
    "\n",
    "class Drinker:\n",
    "    def __init__(self):\n",
    "        self.req_age = 21\n",
    "        self.age = WeakKeyDictionary()\n",
    "\n",
    "    def __get__(self, instance_obj, objtype):\n",
    "        return self.age.get(instance_obj, self.req_age)\n",
    "\n",
    "    def __set__(self, instance, new_ageb):\n",
    "        if new_age < 21:\n",
    "            msg = '{name} is too young to legally drink!'\n",
    "            raise Exception(msg.format(name=instance.name))\n",
    "        self.age[instance] = new_age\n",
    "        print('{name} can legally drink in the USA'.format(\n",
    "            name=instance.name))\n",
    "\n",
    "    def __delete__(self, instance):\n",
    "        del self.age[instance]\n",
    "\n",
    "\n",
    "class Person:\n",
    "    drinker_age = Drinker()\n",
    "\n",
    "    def __init__(self, name, age):\n",
    "        self.name = name\n",
    "        self.drinker_age = age\n",
    "\n",
    "\n",
    "p = Person('Jacob', 27)\n",
    "p = Person('Coco', 4)"
   ]
  }
 ],
 "metadata": {
  "kernelspec": {
   "display_name": "Python 3 (ipykernel)",
   "language": "python",
   "name": "python3"
  },
  "language_info": {
   "codemirror_mode": {
    "name": "ipython",
    "version": 3
   },
   "file_extension": ".py",
   "mimetype": "text/x-python",
   "name": "python",
   "nbconvert_exporter": "python",
   "pygments_lexer": "ipython3",
   "version": "3.8.6"
  },
  "toc": {
   "base_numbering": 1,
   "nav_menu": {},
   "number_sections": true,
   "sideBar": true,
   "skip_h1_title": false,
   "title_cell": "Table of Contents",
   "title_sidebar": "Contents",
   "toc_cell": false,
   "toc_position": {},
   "toc_section_display": true,
   "toc_window_display": false
  }
 },
 "nbformat": 4,
 "nbformat_minor": 4
}
