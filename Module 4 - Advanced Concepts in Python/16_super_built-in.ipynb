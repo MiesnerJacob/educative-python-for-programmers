{
 "cells": [
  {
   "cell_type": "markdown",
   "metadata": {},
   "source": [
    "# The super built-in"
   ]
  },
  {
   "cell_type": "markdown",
   "metadata": {},
   "source": [
    "## Introduction to the super built-ins\n",
    "\n",
    "The super built-in function allows you to access inherited methods that have been overridden in a class."
   ]
  },
  {
   "cell_type": "markdown",
   "metadata": {},
   "source": [
    "## Calling the super built-in in Python 3"
   ]
  },
  {
   "cell_type": "code",
   "execution_count": 1,
   "metadata": {},
   "outputs": [],
   "source": [
    "# Using super to inherit parent init\n",
    "class MyParentClass():\n",
    "    def __init__(self):\n",
    "        pass\n",
    "\n",
    "class SubClass(MyParentClass):\n",
    "    def __init__(self):\n",
    "        super().__init__()"
   ]
  },
  {
   "cell_type": "code",
   "execution_count": 2,
   "metadata": {},
   "outputs": [],
   "source": [
    "# Using super to inherit parent init with arguments\n",
    "class MyParentClass():\n",
    "    def __init__(self, x, y):\n",
    "        pass\n",
    "\n",
    "class SubClass(MyParentClass):\n",
    "    def __init__(self, x, y):\n",
    "        super().__init__(x, y)"
   ]
  },
  {
   "cell_type": "markdown",
   "metadata": {},
   "source": [
    "## Method Resolution Order (MRO)\n",
    "\n",
    "An MRO is just a list of types that a class is derived from."
   ]
  },
  {
   "cell_type": "code",
   "execution_count": 3,
   "metadata": {},
   "outputs": [
    {
     "name": "stdout",
     "output_type": "stream",
     "text": [
      "X\n",
      "Y\n",
      "(<class '__main__.Z'>, <class '__main__.X'>, <class '__main__.Y'>, <class 'object'>)\n"
     ]
    }
   ],
   "source": [
    "# MRO example\n",
    "# We can see the parents also inherit from Python’s base class: object. \n",
    "\n",
    "class X:\n",
    "    def __init__(self):\n",
    "        print('X')\n",
    "        super().__init__()\n",
    "\n",
    "class Y:\n",
    "    def __init__(self):\n",
    "        print('Y')\n",
    "        super().__init__()\n",
    "\n",
    "class Z(X, Y):\n",
    "    pass\n",
    "\n",
    "\n",
    "z = Z()\n",
    "print(Z.__mro__)"
   ]
  },
  {
   "cell_type": "code",
   "execution_count": 4,
   "metadata": {},
   "outputs": [
    {
     "name": "stdout",
     "output_type": "stream",
     "text": [
      "X\n",
      "Y\n",
      "(<class '__main__.Z'>, <class '__main__.X'>, <class '__main__.Y'>, <class '__main__.Base'>, <class 'object'>)\n",
      "10\n"
     ]
    }
   ],
   "source": [
    "# In this example we set a base class for X & Y to inherit from\n",
    "\n",
    "class Base:\n",
    "    var = 5\n",
    "    def __init__(self):\n",
    "        pass\n",
    "\n",
    "class X(Base):\n",
    "    def __init__(self):\n",
    "        print('X')\n",
    "        super().__init__()\n",
    "\n",
    "class Y(Base):\n",
    "    var = 10\n",
    "    def __init__(self):\n",
    "        print('Y')\n",
    "        super().__init__()\n",
    "\n",
    "class Z(X, Y):\n",
    "    pass\n",
    "\n",
    "\n",
    "z = Z()\n",
    "print(Z.__mro__)\n",
    "print(super(Z, z).var)"
   ]
  },
  {
   "cell_type": "code",
   "execution_count": 5,
   "metadata": {},
   "outputs": [
    {
     "name": "stdout",
     "output_type": "stream",
     "text": [
      "<class '__main__.Base'>\n",
      "<class '__main__.SubClass'>\n"
     ]
    }
   ],
   "source": [
    "# Because super knows how to interpret the MRO it stores the information in: __thisclass__ and __self_class__\n",
    "\n",
    "class Base():\n",
    "    def __init__(self):\n",
    "        s = super()\n",
    "        print(s.__thisclass__)\n",
    "        print(s.__self_class__)\n",
    "        s.__init__()\n",
    "\n",
    "class SubClass(Base):\n",
    "    pass\n",
    "\n",
    "sub = SubClass()"
   ]
  }
 ],
 "metadata": {
  "kernelspec": {
   "display_name": "Python 3 (ipykernel)",
   "language": "python",
   "name": "python3"
  },
  "language_info": {
   "codemirror_mode": {
    "name": "ipython",
    "version": 3
   },
   "file_extension": ".py",
   "mimetype": "text/x-python",
   "name": "python",
   "nbconvert_exporter": "python",
   "pygments_lexer": "ipython3",
   "version": "3.8.6"
  },
  "toc": {
   "base_numbering": 1,
   "nav_menu": {},
   "number_sections": true,
   "sideBar": true,
   "skip_h1_title": false,
   "title_cell": "Table of Contents",
   "title_sidebar": "Contents",
   "toc_cell": false,
   "toc_position": {},
   "toc_section_display": true,
   "toc_window_display": false
  }
 },
 "nbformat": 4,
 "nbformat_minor": 4
}
