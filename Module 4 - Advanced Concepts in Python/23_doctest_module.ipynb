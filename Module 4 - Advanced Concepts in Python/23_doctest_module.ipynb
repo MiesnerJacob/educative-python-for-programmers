{
 "cells": [
  {
   "cell_type": "markdown",
   "metadata": {},
   "source": [
    "# The doctest Module"
   ]
  },
  {
   "cell_type": "markdown",
   "metadata": {},
   "source": [
    "## Getting Started\n",
    "\n",
    "Doctest looks at your docstrings and identifies any code that looks like an interactive python session, it then executes those strings to verify they are working as written.\n",
    "\n",
    "According to the documentation, doctest has three primary uses:\n",
    "* Checking docstrings are up to date by validating they execute properly\n",
    "* Regression Testing using the interactive examples in the text\n",
    "* Write tutorial documentation for your package or module"
   ]
  },
  {
   "cell_type": "code",
   "execution_count": 3,
   "metadata": {
    "scrolled": true
   },
   "outputs": [
    {
     "name": "stdout",
     "output_type": "stream",
     "text": [
      "[Errno 2] No such file or directory: '23_doctest_demos'\n",
      "/Users/miesner.jacob/python-for-programmers-educative/Module 4 - Advanced Concepts in Python/23_doctest_demos\n",
      "Trying:\n",
      "    add(1, 2)\n",
      "Expecting:\n",
      "    3\n",
      "ok\n",
      "Trying:\n",
      "    add(-1, 10)\n",
      "Expecting:\n",
      "    9\n",
      "ok\n",
      "Trying:\n",
      "    add('a', 'b')\n",
      "Expecting:\n",
      "    'ab'\n",
      "ok\n",
      "Trying:\n",
      "    add(1, '2')\n",
      "Expecting:\n",
      "    Traceback (most recent call last):\n",
      "      File \"test.py\", line 17, in <module>\n",
      "        add(1, '2')\n",
      "      File \"test.py\", line 14, in add\n",
      "        return a + b\n",
      "    TypeError: unsupported operand type(s) for +: 'int' and 'str'\n",
      "ok\n",
      "1 items had no tests:\n",
      "    __main__\n",
      "1 items passed all tests:\n",
      "   4 tests in __main__.add\n",
      "4 tests in 2 items.\n",
      "4 passed and 0 failed.\n",
      "Test passed.\n",
      "1 items had no tests:\n",
      "    test\n",
      "0 tests in 1 items.\n",
      "0 passed and 0 failed.\n",
      "Test passed.\n"
     ]
    }
   ],
   "source": [
    "# Running example file\n",
    "# File contains an add method that takes two ints as input and returns their sum\n",
    "%cd 23_doctest_demos\n",
    "\n",
    "# Run Test\n",
    "!python add_test.py\n",
    "\n",
    "# Run Test with verbose results\n",
    "!python add_test.py -v\n",
    "\n",
    "# An alternative method for running doctest]\n",
    "!python -m doctest -v test.py"
   ]
  },
  {
   "cell_type": "markdown",
   "metadata": {},
   "source": [
    "## How it works\n",
    "\n",
    "Some things to watch out for:\n",
    "* If you continue a line using a backslash, then you will want to use a raw docstring (i.e. r\"\"“This is raw”\"\") to preserve the backslash.\n",
    "* You only need the Traceback line and the actual Exception line to make the test pass. Not entire file paths\n",
    "* If you need to use dicts in your docstring do a boolean compairson instead of printing out"
   ]
  },
  {
   "cell_type": "code",
   "execution_count": 5,
   "metadata": {},
   "outputs": [],
   "source": [
    "# Modified version of the test we ran above\n",
    "\n",
    "def add(a, b):\n",
    "    \"\"\"\n",
    "    Return the addition of the arguments: a + b\n",
    "\n",
    "    add(1, 2)\n",
    "    #3\n",
    "    add(-1, 10)\n",
    "    #9\n",
    "    add('a', 'b')\n",
    "    #'ab'\n",
    "    add(1, '2')\n",
    "    #Traceback (most recent call last):\n",
    "    #TypeError: unsupported operand type(s) for +: 'int' and 'str'\n",
    "    \"\"\"\n",
    "    return a + b"
   ]
  },
  {
   "cell_type": "markdown",
   "metadata": {},
   "source": [
    "## Check Your Test With a Text File\n",
    "\n",
    "Doctest also allows you to run ReStructuredText, a mark-up language, for testing in .txt files."
   ]
  },
  {
   "cell_type": "code",
   "execution_count": 7,
   "metadata": {},
   "outputs": [
    {
     "name": "stdout",
     "output_type": "stream",
     "text": [
      "\u001b[34m__pycache__\u001b[m\u001b[m  add_test.py  add_test.txt\r\n"
     ]
    }
   ],
   "source": [
    "!ls"
   ]
  },
  {
   "cell_type": "code",
   "execution_count": 12,
   "metadata": {
    "scrolled": true
   },
   "outputs": [
    {
     "name": "stdout",
     "output_type": "stream",
     "text": [
      "Trying:\r\n",
      "    from add_test import add\r\n",
      "Expecting nothing\r\n",
      "ok\r\n",
      "Trying:\r\n",
      "    add(1, 2)\r\n",
      "Expecting:\r\n",
      "    3\r\n",
      "ok\r\n",
      "1 items passed all tests:\r\n",
      "   2 tests in add_test.txt\r\n",
      "2 tests in 1 items.\r\n",
      "2 passed and 0 failed.\r\n",
      "Test passed.\r\n"
     ]
    }
   ],
   "source": [
    "# Running example test in a text file\n",
    "!python run_add_test_text.py -v"
   ]
  },
  {
   "cell_type": "markdown",
   "metadata": {},
   "source": [
    "## Option Flags and Directives\n",
    "\n",
    "A doctest directive is a special Python comment that follows an example’s source code, it serves the same function as a flag in a commandline command."
   ]
  },
  {
   "cell_type": "code",
   "execution_count": 17,
   "metadata": {},
   "outputs": [
    {
     "name": "stdout",
     "output_type": "stream",
     "text": [
      "Trying:\r\n",
      "    print(list(range(100))) # doctest: +ELLIPSIS\r\n",
      "Expecting:\r\n",
      "    [0, 1, ..., 98, 99]\r\n",
      "ok\r\n",
      "1 items passed all tests:\r\n",
      "   1 tests in __main__\r\n",
      "1 tests in 1 items.\r\n",
      "1 passed and 0 failed.\r\n",
      "Test passed.\r\n"
     ]
    }
   ],
   "source": [
    "# The ELLIPSIS flag allows us to cut out part of the output and still pass the test. \n",
    "# This allows us in the example python file we run below to not need to write all values for our integer list\n",
    "!python directive_test.py -v"
   ]
  }
 ],
 "metadata": {
  "kernelspec": {
   "display_name": "Python 3 (ipykernel)",
   "language": "python",
   "name": "python3"
  },
  "language_info": {
   "codemirror_mode": {
    "name": "ipython",
    "version": 3
   },
   "file_extension": ".py",
   "mimetype": "text/x-python",
   "name": "python",
   "nbconvert_exporter": "python",
   "pygments_lexer": "ipython3",
   "version": "3.8.6"
  },
  "toc": {
   "base_numbering": 1,
   "nav_menu": {},
   "number_sections": true,
   "sideBar": true,
   "skip_h1_title": false,
   "title_cell": "Table of Contents",
   "title_sidebar": "Contents",
   "toc_cell": false,
   "toc_position": {},
   "toc_section_display": true,
   "toc_window_display": false
  }
 },
 "nbformat": 4,
 "nbformat_minor": 4
}
