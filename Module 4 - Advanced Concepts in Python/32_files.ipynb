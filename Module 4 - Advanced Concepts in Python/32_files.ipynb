{
 "cells": [
  {
   "cell_type": "markdown",
   "metadata": {},
   "source": [
    "# Files"
   ]
  },
  {
   "cell_type": "markdown",
   "metadata": {},
   "source": [
    "## Reading from Text Files"
   ]
  },
  {
   "cell_type": "code",
   "execution_count": 2,
   "metadata": {},
   "outputs": [],
   "source": [
    "# Open an example test file\n",
    "# Python can open files from non-local directories!\n",
    "# Must specify encoding if you don;t want to use default for your machine\n",
    "\n",
    "a_file = open(file='32_files_demos/example.txt', encoding='utf-8', mode='r')"
   ]
  },
  {
   "cell_type": "code",
   "execution_count": 3,
   "metadata": {},
   "outputs": [
    {
     "name": "stdout",
     "output_type": "stream",
     "text": [
      "Stream Object: \n",
      "<_io.TextIOWrapper name='32_files_demos/example.txt' mode='r' encoding='utf-8'>\n",
      "\n",
      "\n",
      "Stream Object Encoding: \n",
      "utf-8\n",
      "\n",
      "\n",
      "Stream Object Mode: \n",
      "r\n",
      "\n",
      "\n"
     ]
    }
   ],
   "source": [
    "# a_file is a stream object\n",
    "print(\"Stream Object: \")\n",
    "print(a_file)\n",
    "print('\\n')\n",
    "\n",
    "# check stream object encoding\n",
    "print(\"Stream Object Encoding: \")\n",
    "print(a_file.encoding)\n",
    "print('\\n')\n",
    "\n",
    "# check stream object mode\n",
    "print(\"Stream Object Mode: \")\n",
    "print(a_file.mode)\n",
    "print('\\n')"
   ]
  },
  {
   "cell_type": "code",
   "execution_count": 4,
   "metadata": {
    "scrolled": true
   },
   "outputs": [
    {
     "name": "stdout",
     "output_type": "stream",
     "text": [
      "example text for opening files in Python! \n",
      "42\n",
      "\n",
      "0\n",
      "example text\n"
     ]
    }
   ],
   "source": [
    "# Reading data from a text file\n",
    "print(a_file.read())\n",
    "\n",
    "# You can use the tell method to figure out how many bytes contained in your file\n",
    "print(a_file.tell())\n",
    "\n",
    "# Can't call this multiple times or it will read off the end of the file and return ''\n",
    "print(a_file.read())\n",
    "\n",
    "# Re-read a text file! we pass the 0 byte position to the seek method\n",
    "# Read can also take number of chars to read as param\n",
    "print(a_file.seek(0))       \n",
    "print(a_file.read(12))"
   ]
  },
  {
   "cell_type": "code",
   "execution_count": 5,
   "metadata": {},
   "outputs": [
    {
     "data": {
      "text/plain": [
       "True"
      ]
     },
     "execution_count": 5,
     "metadata": {},
     "output_type": "execute_result"
    }
   ],
   "source": [
    "# Closing our file\n",
    "a_file.close()\n",
    "\n",
    "# Although this does not get rid of our stream object\n",
    "a_file.closed"
   ]
  },
  {
   "cell_type": "code",
   "execution_count": 6,
   "metadata": {},
   "outputs": [
    {
     "name": "stdout",
     "output_type": "stream",
     "text": [
      "t\n"
     ]
    }
   ],
   "source": [
    "# You can also open and close text files with a context manager!\n",
    "\n",
    "with open('32_files_demos/example.txt', encoding='utf-8') as a_file:\n",
    "    a_file.seek(11)\n",
    "    a_character = a_file.read(1)\n",
    "    print(a_character)"
   ]
  },
  {
   "cell_type": "code",
   "execution_count": 7,
   "metadata": {},
   "outputs": [
    {
     "name": "stdout",
     "output_type": "stream",
     "text": [
      "   1 This example\n",
      "   2 has multiple\n",
      "   3 lines of text\n",
      "   4 to show how to print\n",
      "   5 multiline text files\n",
      "   6 in Python!\n"
     ]
    }
   ],
   "source": [
    "# Printing a file one line at a time\n",
    "# Easy as looping and removing last char on each line (newline char)\n",
    "\n",
    "line_number = 0\n",
    "with open('32_files_demos/example-multiline.txt', encoding='utf-8') as a_file:\n",
    "    for a_line in a_file:\n",
    "        line_number += 1\n",
    "        print('{:>4} {}'.format(line_number, a_line.rstrip()))"
   ]
  },
  {
   "cell_type": "markdown",
   "metadata": {},
   "source": [
    "## Writing to Text Files"
   ]
  },
  {
   "cell_type": "code",
   "execution_count": 8,
   "metadata": {},
   "outputs": [
    {
     "name": "stdout",
     "output_type": "stream",
     "text": [
      "Test succeeded\n",
      "Test succeeded again!\n"
     ]
    }
   ],
   "source": [
    "# You can write to files that have yet to be created\n",
    "# 'w' is for write mode and overwrite the file in its entirety\n",
    "# 'a' is for append more which will add data to the end of the file\n",
    "\n",
    "# Using context manager to create and write to file then print our its contents\n",
    "with open('32_files_demos/test.log', mode='w', encoding='utf-8') as a_file:\n",
    "     a_file.write('Test succeeded')\n",
    "with open('32_files_demos/test.log', encoding='utf-8') as a_file:\n",
    "     print(a_file.read())     \n",
    "        \n",
    "# Using context manager to open and append to file then print our its contents        \n",
    "with open('32_files_demos/test.log', mode='a', encoding='utf-8') as a_file:\n",
    "     a_file.write(' again!')\n",
    "with open('32_files_demos/test.log', encoding='utf-8') as a_file:\n",
    "     print(a_file.read())      "
   ]
  },
  {
   "cell_type": "markdown",
   "metadata": {},
   "source": [
    "## Binary Files"
   ]
  },
  {
   "cell_type": "code",
   "execution_count": 9,
   "metadata": {},
   "outputs": [
    {
     "name": "stdout",
     "output_type": "stream",
     "text": [
      "rb\n",
      "32_files_demos/pfp.jpeg\n"
     ]
    },
    {
     "ename": "AttributeError",
     "evalue": "'_io.BufferedReader' object has no attribute 'encoding'",
     "output_type": "error",
     "traceback": [
      "\u001b[0;31m---------------------------------------------------------------------------\u001b[0m",
      "\u001b[0;31mAttributeError\u001b[0m                            Traceback (most recent call last)",
      "\u001b[0;32m/var/folders/xh/fhzpv__n2mbg9shw10xrdnkm0000gn/T/ipykernel_16567/2574113470.py\u001b[0m in \u001b[0;36m<module>\u001b[0;34m\u001b[0m\n\u001b[1;32m     10\u001b[0m \u001b[0;34m\u001b[0m\u001b[0m\n\u001b[1;32m     11\u001b[0m \u001b[0;31m# Binary objects don't have encoding attrbiutes!!!\u001b[0m\u001b[0;34m\u001b[0m\u001b[0;34m\u001b[0m\u001b[0;34m\u001b[0m\u001b[0m\n\u001b[0;32m---> 12\u001b[0;31m \u001b[0mprint\u001b[0m\u001b[0;34m(\u001b[0m\u001b[0man_image\u001b[0m\u001b[0;34m.\u001b[0m\u001b[0mencoding\u001b[0m\u001b[0;34m)\u001b[0m\u001b[0;34m\u001b[0m\u001b[0;34m\u001b[0m\u001b[0m\n\u001b[0m",
      "\u001b[0;31mAttributeError\u001b[0m: '_io.BufferedReader' object has no attribute 'encoding'"
     ]
    }
   ],
   "source": [
    "# To open a binary file we must use a 'b' at the end of our mode\n",
    "\n",
    "an_image = open('32_files_demos/pfp.jpeg', mode='rb') \n",
    "\n",
    "# Checking binary object mode\n",
    "print(an_image.mode) \n",
    "\n",
    "# Checking binary object name\n",
    "print(an_image.name)\n",
    "\n",
    "# Binary objects don't have encoding attrbiutes!!!\n",
    "print(an_image.encoding)"
   ]
  },
  {
   "cell_type": "code",
   "execution_count": 10,
   "metadata": {},
   "outputs": [
    {
     "name": "stdout",
     "output_type": "stream",
     "text": [
      "b'\\xff\\xd8\\xff'\n",
      "<class 'bytes'>\n",
      "3\n",
      "0\n",
      "8542\n"
     ]
    }
   ],
   "source": [
    "# We can print out the bytes objects and traverse them the same way as stream objects!\n",
    "\n",
    "# Print first couple bytes\n",
    "data = an_image.read(3)\n",
    "print(data)\n",
    "\n",
    "# print data type\n",
    "print(type(data))\n",
    "\n",
    "# byte count\n",
    "print(an_image.tell())\n",
    "\n",
    "# Go to first byte\n",
    "print(an_image.seek(0))\n",
    "\n",
    "# read entire file\n",
    "data = an_image.read()\n",
    "print(len(data))"
   ]
  },
  {
   "cell_type": "markdown",
   "metadata": {},
   "source": [
    "## Stream Objects from Non-File Sources"
   ]
  },
  {
   "cell_type": "code",
   "execution_count": 11,
   "metadata": {},
   "outputs": [
    {
     "name": "stdout",
     "output_type": "stream",
     "text": [
      "PapayaWhip is the new black.\n"
     ]
    }
   ],
   "source": [
    "# Creating a stream object from a string and then operating on it\n",
    "import io\n",
    "\n",
    "a_string = 'PapayaWhip is the new black.'\n",
    "\n",
    "a_file = io.StringIO(a_string)\n",
    "print (a_file.read())"
   ]
  },
  {
   "cell_type": "code",
   "execution_count": 12,
   "metadata": {},
   "outputs": [],
   "source": [
    "# Opening and writing to a gzip compressed file!\n",
    "\n",
    "import gzip\n",
    "with gzip.open('32_files_demos/out.log.gz', mode='wb') as z_file:\n",
    "    z_file.write('A nine mile walk is no joke, especially in the rain.'.encode('utf-8'))"
   ]
  },
  {
   "cell_type": "markdown",
   "metadata": {},
   "source": [
    "## Standard Input, Output, and Error\n",
    "\n",
    "Standard output and standard error (commonly abbreviated stdout and stderr) are pipes that are built into every UNIX-like system, including Mac OS X and Linux. When you call the print() function, the thing you’re printing is sent to the stdout pipe. When your program crashes and prints out a traceback, it goes to the stderr pipe. By default, both of these pipes are just connected to the terminal window where you are working; when your program prints something, you see the output in your terminal window, and when a program crashes, you see the traceback in your terminal window too. In the graphical Python Shell, the stdout and stderr pipes default to your “Interactive Window”:\n",
    "\n",
    "* sys.stdin\n",
    "* sys.stdout\n",
    "* sys.stderr\n",
    "\n",
    "sys.stdout and sys.stderr are stream objects but write-only, so a .read() method won't work on them! The are variables not constants meaning you can assign them new values."
   ]
  },
  {
   "cell_type": "code",
   "execution_count": 14,
   "metadata": {},
   "outputs": [
    {
     "name": "stdout",
     "output_type": "stream",
     "text": [
      "PapayaWhip\n",
      "PapayaWhip\n",
      "PapayaWhip\n",
      "is theis theis the"
     ]
    },
    {
     "name": "stderr",
     "output_type": "stream",
     "text": [
      "new blacknew blacknew black"
     ]
    }
   ],
   "source": [
    "# normal print\n",
    "for i in range(3):\n",
    "     print('PapayaWhip')\n",
    "        \n",
    "# write to stdout\n",
    "import sys\n",
    "for i in range(3):\n",
    "     l = sys.stdout.write('is the')\n",
    "\n",
    "# write to stderr\n",
    "for i in range(3):\n",
    "     l = sys.stderr.write('new black')"
   ]
  },
  {
   "cell_type": "code",
   "execution_count": 16,
   "metadata": {},
   "outputs": [
    {
     "name": "stdout",
     "output_type": "stream",
     "text": [
      "A\n",
      "C\n"
     ]
    }
   ],
   "source": [
    "# Assigning new values to sys.stdout\n",
    "\n",
    "import sys\n",
    "\n",
    "class RedirectStdoutTo:\n",
    "    def __init__(self, out_new):\n",
    "        self.out_new = out_new\n",
    "\n",
    "    def __enter__(self):\n",
    "        self.out_old = sys.stdout\n",
    "        sys.stdout = self.out_new\n",
    "\n",
    "    def __exit__(self, *args):\n",
    "        sys.stdout = self.out_old\n",
    "\n",
    "print('A')\n",
    "with open('32_files_demos/out.log', mode='w', encoding='utf-8') as a_file:\n",
    "    with RedirectStdoutTo(a_file):\n",
    "        print('B')\n",
    "print('C')"
   ]
  }
 ],
 "metadata": {
  "kernelspec": {
   "display_name": "Python 3 (ipykernel)",
   "language": "python",
   "name": "python3"
  },
  "language_info": {
   "codemirror_mode": {
    "name": "ipython",
    "version": 3
   },
   "file_extension": ".py",
   "mimetype": "text/x-python",
   "name": "python",
   "nbconvert_exporter": "python",
   "pygments_lexer": "ipython3",
   "version": "3.8.6"
  },
  "toc": {
   "base_numbering": 1,
   "nav_menu": {},
   "number_sections": true,
   "sideBar": true,
   "skip_h1_title": false,
   "title_cell": "Table of Contents",
   "title_sidebar": "Contents",
   "toc_cell": false,
   "toc_position": {},
   "toc_section_display": true,
   "toc_window_display": false
  }
 },
 "nbformat": 4,
 "nbformat_minor": 4
}
