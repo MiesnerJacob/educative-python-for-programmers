{
 "cells": [
  {
   "cell_type": "markdown",
   "metadata": {},
   "source": [
    "# All about Imports"
   ]
  },
  {
   "cell_type": "markdown",
   "metadata": {},
   "source": [
    "## Regular imports"
   ]
  },
  {
   "cell_type": "code",
   "execution_count": 2,
   "metadata": {},
   "outputs": [],
   "source": [
    "# Importing\n",
    "import sys\n",
    "\n",
    "# Importing multiple packages at one time\n",
    "import os, sys, time\n",
    "\n",
    "# Import using an alias\n",
    "import sys as system\n",
    "\n",
    "# Import sub-module using dot notation\n",
    "import urllib.error"
   ]
  },
  {
   "cell_type": "markdown",
   "metadata": {},
   "source": [
    "## Using \"from module import something\""
   ]
  },
  {
   "cell_type": "code",
   "execution_count": 8,
   "metadata": {},
   "outputs": [],
   "source": [
    "# Importing part of a module or library\n",
    "from functools import lru_cache\n",
    "\n",
    "# Using from to import everything\n",
    "from os import *\n",
    "\n",
    "# Importing multiple items from a package\n",
    "from os import path, walk, unlink\n",
    "from os import uname, remove\n",
    "\n",
    "# Using parenthesis to import lots of items\n",
    "from os import (path, walk, unlink, uname, \n",
    "                remove, rename)\n",
    "\n",
    "# Using backslash to import many items\n",
    "from os import path, walk, unlink, uname, \\\n",
    "remove,rename"
   ]
  },
  {
   "cell_type": "markdown",
   "metadata": {},
   "source": [
    "## Relative imports"
   ]
  },
  {
   "cell_type": "markdown",
   "metadata": {},
   "source": [
    "# Assuming we have the following package directory\n",
    "\n",
    "```\n",
    "my_package/\n",
    "    __init__.py\n",
    "    subpackage1/\n",
    "        __init__.py\n",
    "        module_x.py\n",
    "        module_y.py\n",
    "    subpackage2/\n",
    "        __init__.py\n",
    "        module_z.py\n",
    "    module_a.py\n",
    "```"
   ]
  },
  {
   "cell_type": "code",
   "execution_count": null,
   "metadata": {},
   "outputs": [],
   "source": [
    "# Importing subpackages\n",
    "\n",
    "from . import subpackage1\n",
    "from . import subpackage2\n",
    "\n",
    "# Navigate down to subpackage and edit its __init__.py to have the following\n",
    "\n",
    "from . import module_x\n",
    "from . import module_y\n",
    "\n",
    "# Now edit module x so it has the following code:\n",
    "\n",
    "from .module_y import spam as ham\n",
    "\n",
    "def main():\n",
    "    ham()"
   ]
  },
  {
   "cell_type": "code",
   "execution_count": null,
   "metadata": {},
   "outputs": [],
   "source": []
  },
  {
   "cell_type": "markdown",
   "metadata": {},
   "source": [
    "## Optional Imports"
   ]
  },
  {
   "cell_type": "code",
   "execution_count": null,
   "metadata": {},
   "outputs": [],
   "source": []
  },
  {
   "cell_type": "markdown",
   "metadata": {},
   "source": [
    "## Local Imports"
   ]
  },
  {
   "cell_type": "code",
   "execution_count": null,
   "metadata": {},
   "outputs": [],
   "source": []
  },
  {
   "cell_type": "markdown",
   "metadata": {},
   "source": [
    "## Import Pitfalls"
   ]
  },
  {
   "cell_type": "code",
   "execution_count": null,
   "metadata": {},
   "outputs": [],
   "source": []
  }
 ],
 "metadata": {
  "kernelspec": {
   "display_name": "Python 3",
   "language": "python",
   "name": "python3"
  },
  "language_info": {
   "codemirror_mode": {
    "name": "ipython",
    "version": 3
   },
   "file_extension": ".py",
   "mimetype": "text/x-python",
   "name": "python",
   "nbconvert_exporter": "python",
   "pygments_lexer": "ipython3",
   "version": "3.8.6"
  },
  "toc": {
   "base_numbering": 1,
   "nav_menu": {},
   "number_sections": true,
   "sideBar": true,
   "skip_h1_title": false,
   "title_cell": "Table of Contents",
   "title_sidebar": "Contents",
   "toc_cell": false,
   "toc_position": {},
   "toc_section_display": true,
   "toc_window_display": false
  }
 },
 "nbformat": 4,
 "nbformat_minor": 4
}
