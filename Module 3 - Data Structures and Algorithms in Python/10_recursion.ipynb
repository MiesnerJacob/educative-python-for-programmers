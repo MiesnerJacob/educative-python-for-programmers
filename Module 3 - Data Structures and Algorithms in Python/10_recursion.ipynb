{
 "cells": [
  {
   "cell_type": "markdown",
   "metadata": {},
   "source": [
    "# Recursion"
   ]
  },
  {
   "cell_type": "markdown",
   "metadata": {},
   "source": [
    "## Find Uppercase Letter in String\n",
    "\n",
    "In this lesson, given a string, we develop an algorithm to return the first occurring uppercase letter. We will solve this problem using an iterative and recursive approach:"
   ]
  },
  {
   "cell_type": "code",
   "execution_count": 5,
   "metadata": {},
   "outputs": [],
   "source": [
    "# Example strings\n",
    "str_1 = \"lucidProgramming\"\n",
    "str_2 = \"LucidProgramming\"\n",
    "str_3 = \"lucidprogramming\""
   ]
  },
  {
   "cell_type": "code",
   "execution_count": 6,
   "metadata": {},
   "outputs": [],
   "source": [
    "# Iterative Approach\n",
    "# Brute Force, O(n)\n",
    "\n",
    "def find_uppercase_iterative(input_str):\n",
    "    for i in range(len(input_str)):\n",
    "        if input_str[i].isupper():\n",
    "            return input_str[i]\n",
    "    return \"No uppercase character found\""
   ]
  },
  {
   "cell_type": "code",
   "execution_count": 10,
   "metadata": {},
   "outputs": [
    {
     "name": "stdout",
     "output_type": "stream",
     "text": [
      "P\n",
      "L\n",
      "No uppercase character found\n"
     ]
    }
   ],
   "source": [
    "print(find_uppercase_iterative(str_1))\n",
    "print(find_uppercase_iterative(str_2))\n",
    "print(find_uppercase_iterative(str_3))"
   ]
  },
  {
   "cell_type": "code",
   "execution_count": 11,
   "metadata": {},
   "outputs": [],
   "source": [
    "# Recursive Approach\n",
    "# O(n)\n",
    "\n",
    "def find_uppercase_recursive(input_str, idx=0):\n",
    "    if input_str[idx].isupper():\n",
    "        return input_str[idx]\n",
    "    if idx == len(input_str) - 1:\n",
    "        return \"No uppercase character found\"\n",
    "    return find_uppercase_recursive(input_str, idx+1)"
   ]
  },
  {
   "cell_type": "code",
   "execution_count": 13,
   "metadata": {},
   "outputs": [
    {
     "name": "stdout",
     "output_type": "stream",
     "text": [
      "P\n",
      "L\n",
      "No uppercase character found\n"
     ]
    }
   ],
   "source": [
    "print(find_uppercase_recursive(str_1))\n",
    "print(find_uppercase_recursive(str_2))\n",
    "print(find_uppercase_recursive(str_3))"
   ]
  },
  {
   "cell_type": "markdown",
   "metadata": {},
   "source": [
    "## Calculate String Length\n",
    "\n",
    "Given a string, calculate its length."
   ]
  },
  {
   "cell_type": "code",
   "execution_count": 15,
   "metadata": {},
   "outputs": [],
   "source": [
    "# Example strings\n",
    "str_1 = \"Teststringforcalculatinglength\""
   ]
  },
  {
   "cell_type": "code",
   "execution_count": 17,
   "metadata": {},
   "outputs": [
    {
     "name": "stdout",
     "output_type": "stream",
     "text": [
      "30\n"
     ]
    }
   ],
   "source": [
    "# Python built-in method\n",
    "# O(1)\n",
    "\n",
    "print(len(str_1))"
   ]
  },
  {
   "cell_type": "code",
   "execution_count": 18,
   "metadata": {},
   "outputs": [],
   "source": [
    "# Iterative Approach\n",
    "# Brute Force, O(n)\n",
    "\n",
    "def iterative_str_len(input_str):\n",
    "    input_str_len = 0\n",
    "    for i in range(len(input_str)):\n",
    "        input_str_len += 1\n",
    "    return input_str_len"
   ]
  },
  {
   "cell_type": "code",
   "execution_count": 20,
   "metadata": {},
   "outputs": [
    {
     "name": "stdout",
     "output_type": "stream",
     "text": [
      "30\n"
     ]
    }
   ],
   "source": [
    "print(iterative_str_len(str_1))"
   ]
  },
  {
   "cell_type": "code",
   "execution_count": 21,
   "metadata": {},
   "outputs": [],
   "source": [
    "# Recursive Approach\n",
    "# O(n)\n",
    "\n",
    "def recursive_str_len(input_str):\n",
    "    if input_str == '':\n",
    "        return 0\n",
    "    return 1 + recursive_srtr_len(input_str[1:])"
   ]
  },
  {
   "cell_type": "code",
   "execution_count": 22,
   "metadata": {},
   "outputs": [
    {
     "name": "stdout",
     "output_type": "stream",
     "text": [
      "30\n"
     ]
    }
   ],
   "source": [
    "print(iterative_str_len(str_1))"
   ]
  },
  {
   "cell_type": "markdown",
   "metadata": {},
   "source": [
    "## Count Consonants in String\n",
    "\n",
    "Given a string, calculate the number of consonants present.\n",
    "\n",
    "Before diving into the implementation, consider the edge cases such as spaces and exclamation marks. This implies that if a character is not a vowel, it has to be a letter to be considered a consonant."
   ]
  },
  {
   "cell_type": "code",
   "execution_count": 23,
   "metadata": {},
   "outputs": [],
   "source": [
    "vowels = 'aeiou'"
   ]
  },
  {
   "cell_type": "code",
   "execution_count": 24,
   "metadata": {},
   "outputs": [],
   "source": [
    "str_1 = \"Teststringforcalculatinglength\"\n",
    "str_2 = \"LucidProgramming\"\n",
    "str_3 = \"HowmanyConsonantsareinthisstring\""
   ]
  },
  {
   "cell_type": "code",
   "execution_count": 29,
   "metadata": {},
   "outputs": [],
   "source": [
    "# Iterative Approach\n",
    "# Brute Force, O(n)\n",
    "\n",
    "def iterative_count_consonants(input_str):\n",
    "    consonant_count = 0\n",
    "    for i in range(len(input_str)):\n",
    "        if input_str[i].lower() not in vowels and input_str[i].isalpha():\n",
    "            consonant_count += 1\n",
    "    return consonant_count"
   ]
  },
  {
   "cell_type": "code",
   "execution_count": 30,
   "metadata": {},
   "outputs": [
    {
     "name": "stdout",
     "output_type": "stream",
     "text": [
      "22\n",
      "11\n",
      "22\n"
     ]
    }
   ],
   "source": [
    "print(iterative_count_consonants(str_1))\n",
    "print(iterative_count_consonants(str_2))\n",
    "print(iterative_count_consonants(str_3))"
   ]
  },
  {
   "cell_type": "code",
   "execution_count": 33,
   "metadata": {},
   "outputs": [],
   "source": [
    "# Recursive Approach\n",
    "# O(n)\n",
    "\n",
    "def recursive_count_consonants(input_str):\n",
    "    if input_str == '':\n",
    "        return 0\n",
    "    \n",
    "    if input_str[0].lower() not in vowels and input_str[0].isalpha():\n",
    "        return 1 + recursive_count_consonants(input_str[1:])\n",
    "    else:\n",
    "        return recursive_count_consonants(input_str[1:])"
   ]
  },
  {
   "cell_type": "code",
   "execution_count": 34,
   "metadata": {},
   "outputs": [
    {
     "name": "stdout",
     "output_type": "stream",
     "text": [
      "22\n",
      "11\n",
      "22\n"
     ]
    }
   ],
   "source": [
    "print(recursive_count_consonants(str_1))\n",
    "print(recursive_count_consonants(str_2))\n",
    "print(recursive_count_consonants(str_3))"
   ]
  },
  {
   "cell_type": "markdown",
   "metadata": {},
   "source": [
    "## Exercise: Product of Two Positive Integers\n",
    "\n",
    "Given two numbers, find their product using recursion. In Python, we usually use the * operator to multiply two numbers, but you have to use recursion to solve this challenge. "
   ]
  },
  {
   "cell_type": "code",
   "execution_count": 35,
   "metadata": {},
   "outputs": [],
   "source": [
    "x, y = 10, 5"
   ]
  },
  {
   "cell_type": "code",
   "execution_count": 37,
   "metadata": {},
   "outputs": [
    {
     "name": "stdout",
     "output_type": "stream",
     "text": [
      "50\n"
     ]
    }
   ],
   "source": [
    "# Pythonic implementation\n",
    "\n",
    "print(x * y)"
   ]
  },
  {
   "cell_type": "code",
   "execution_count": 42,
   "metadata": {},
   "outputs": [],
   "source": [
    "# Recursive implementation\n",
    "\n",
    "def recursive_multiply(x, y):\n",
    "    if x < y:\n",
    "        return recursive_multiply(y, x)\n",
    "    if y == 0:\n",
    "        return 0\n",
    "    else:\n",
    "        return x + recursive_multiply(x, y-1)"
   ]
  },
  {
   "cell_type": "code",
   "execution_count": 43,
   "metadata": {},
   "outputs": [
    {
     "data": {
      "text/plain": [
       "50"
      ]
     },
     "execution_count": 43,
     "metadata": {},
     "output_type": "execute_result"
    }
   ],
   "source": [
    "recursive_multiply(x, y)"
   ]
  }
 ],
 "metadata": {
  "kernelspec": {
   "display_name": "Python 3",
   "language": "python",
   "name": "python3"
  },
  "language_info": {
   "codemirror_mode": {
    "name": "ipython",
    "version": 3
   },
   "file_extension": ".py",
   "mimetype": "text/x-python",
   "name": "python",
   "nbconvert_exporter": "python",
   "pygments_lexer": "ipython3",
   "version": "3.8.6"
  },
  "toc": {
   "base_numbering": 1,
   "nav_menu": {},
   "number_sections": true,
   "sideBar": true,
   "skip_h1_title": false,
   "title_cell": "Table of Contents",
   "title_sidebar": "Contents",
   "toc_cell": false,
   "toc_position": {},
   "toc_section_display": true,
   "toc_window_display": false
  }
 },
 "nbformat": 4,
 "nbformat_minor": 4
}
