{
 "cells": [
  {
   "cell_type": "markdown",
   "metadata": {},
   "source": [
    "# String Processing"
   ]
  },
  {
   "cell_type": "markdown",
   "metadata": {},
   "source": [
    "## Look-and-Say Sequence\n",
    "\n",
    "In this lesson, we will be considering the so-called “Look-and-Say” sequence. The first few terms of the sequence are:\n",
    "\n",
    "1, 11, 21, 1211, 111221, 312211, 13112221, 1113213211, ... "
   ]
  },
  {
   "cell_type": "code",
   "execution_count": 1,
   "metadata": {},
   "outputs": [],
   "source": [
    "# Function to get next number in a look-and-say sequence\n",
    "\n",
    "def next_number(s):\n",
    "    result = []\n",
    "    i = 0\n",
    "    while i < len(s):\n",
    "        count = 1\n",
    "        while i + 1 < len(s) and s[i] == s[i+1]:\n",
    "            i += 1\n",
    "            count += 1\n",
    "        result.append(str(count) + s[i])\n",
    "        i += 1\n",
    "    return ''.join(result)"
   ]
  },
  {
   "cell_type": "code",
   "execution_count": 2,
   "metadata": {
    "scrolled": true
   },
   "outputs": [
    {
     "name": "stdout",
     "output_type": "stream",
     "text": [
      "111221\n"
     ]
    }
   ],
   "source": [
    "print(next_number('1211'))"
   ]
  },
  {
   "cell_type": "code",
   "execution_count": 3,
   "metadata": {},
   "outputs": [
    {
     "name": "stdout",
     "output_type": "stream",
     "text": [
      "1\n",
      "11\n",
      "21\n",
      "1211\n",
      "111221\n",
      "312211\n"
     ]
    }
   ],
   "source": [
    "s = \"1\"\n",
    "print(s)\n",
    "n = 6\n",
    "for i in range(n-1):\n",
    "    s = next_number(s)\n",
    "    print(s)"
   ]
  },
  {
   "cell_type": "markdown",
   "metadata": {},
   "source": [
    "## Spreadsheet Encoding\n",
    "\n",
    "In this lesson, we will be considering how to solve the problem of implementing a function that converts a spreadsheet column ID (i.e., “A”, “B”, “C”, …, “Z”, “AA”, etc.) to the corresponding integer. For example, “A” equals 1 because it represents the first column, while “AA” equals 27 because it represents the 27th column."
   ]
  },
  {
   "cell_type": "code",
   "execution_count": 4,
   "metadata": {},
   "outputs": [],
   "source": [
    "def spreadsheet_encode_column(col_str):\n",
    "    num = 0\n",
    "    count = len(col_str)-1\n",
    "    for s in col_str:\n",
    "        num += 26**count * (ord(s) - ord('A') + 1)\n",
    "        count -= 1\n",
    "    return num"
   ]
  },
  {
   "cell_type": "code",
   "execution_count": 5,
   "metadata": {},
   "outputs": [
    {
     "name": "stdout",
     "output_type": "stream",
     "text": [
      "702\n"
     ]
    }
   ],
   "source": [
    "print(spreadsheet_encode_column(\"ZZ\"))"
   ]
  },
  {
   "cell_type": "markdown",
   "metadata": {},
   "source": [
    "## Is Palindrome\n",
    "\n",
    "In this lesson, we will be considering how to test whether a string is a palindrome in Python. At first, we’ll come up with a concise solution that takes extra space, but we’ll eventually code a solution that takes a linear amount of time and a constant amount of space."
   ]
  },
  {
   "cell_type": "code",
   "execution_count": 6,
   "metadata": {},
   "outputs": [],
   "source": [
    "s1 = \"Was it a cat I saw?\"\n",
    "s2 = \"Racecar\"\n",
    "s3 = \"Harry Potter\""
   ]
  },
  {
   "cell_type": "code",
   "execution_count": 7,
   "metadata": {},
   "outputs": [],
   "source": [
    "# Solution 1\n",
    "\n",
    "# Solution uses extra space proportional to size of string \"s\"\n",
    "def is_palindrome_pythonic(input_str):\n",
    "    s = ''.join([i for i in input_str if i.isalnum()]).replace(\" \", \"\").lower()\n",
    "    return (s == s[::-1])"
   ]
  },
  {
   "cell_type": "code",
   "execution_count": 8,
   "metadata": {},
   "outputs": [
    {
     "name": "stdout",
     "output_type": "stream",
     "text": [
      "True\n",
      "True\n",
      "False\n"
     ]
    }
   ],
   "source": [
    "print(is_palindrome_pythonic(s1))\n",
    "print(is_palindrome_pythonic(s2))\n",
    "print(is_palindrome_pythonic(s3))"
   ]
  },
  {
   "cell_type": "code",
   "execution_count": 9,
   "metadata": {},
   "outputs": [],
   "source": [
    "# Solution 2 (Better Solution)\n",
    "\n",
    "def is_palindrome_efficient(s):\n",
    "    i = 0\n",
    "    j = len(s) - 1\n",
    "    \n",
    "    while i<j:\n",
    "        while not s[i].isalnum() and i < j:\n",
    "            i += 1\n",
    "        while not s[j].isalnum() and i < j:\n",
    "            j -= 1\n",
    "            \n",
    "        if s[i].lower() != s[j].lower():\n",
    "            return False\n",
    "        i += 1\n",
    "        j -= 1\n",
    "    return True            "
   ]
  },
  {
   "cell_type": "code",
   "execution_count": 10,
   "metadata": {},
   "outputs": [
    {
     "name": "stdout",
     "output_type": "stream",
     "text": [
      "True\n",
      "True\n",
      "False\n"
     ]
    }
   ],
   "source": [
    "print(is_palindrome_efficient(s1))\n",
    "print(is_palindrome_efficient(s2))\n",
    "print(is_palindrome_efficient(s3))"
   ]
  },
  {
   "cell_type": "markdown",
   "metadata": {},
   "source": [
    "## Is Anagram\n",
    "\n",
    "In this lesson, we will determine whether two strings are anagrams of each other.\n",
    "\n",
    "Simply put, an anagram is when two strings can be written using the same letters."
   ]
  },
  {
   "cell_type": "code",
   "execution_count": 11,
   "metadata": {},
   "outputs": [],
   "source": [
    "s1a = 'fairy tales'\n",
    "s1b = 'rail safety'\n",
    "\n",
    "s2a = 'shrek drums'\n",
    "s2b = 'rum shreds'"
   ]
  },
  {
   "cell_type": "code",
   "execution_count": 12,
   "metadata": {},
   "outputs": [],
   "source": [
    "# Solution 1: Pythonic\n",
    "# O(nlogn)\n",
    "\n",
    "def is_anagram_pythonic(str1,str2):\n",
    "    str1 = str1.replace(\" \",\"\").lower()\n",
    "    str2 = str2.replace(\" \",\"\").lower()\n",
    "    \n",
    "    return (sorted(str1) == sorted(str2))"
   ]
  },
  {
   "cell_type": "code",
   "execution_count": 13,
   "metadata": {},
   "outputs": [
    {
     "name": "stdout",
     "output_type": "stream",
     "text": [
      "True\n",
      "False\n"
     ]
    }
   ],
   "source": [
    "print(is_anagram_pythonic(s1a,s1b))\n",
    "print(is_anagram_pythonic(s2a,s2b))"
   ]
  },
  {
   "cell_type": "code",
   "execution_count": 14,
   "metadata": {},
   "outputs": [],
   "source": [
    "# Solution 2: Efficient\n",
    "# This solution is of linear time complexity which is an improvement on O(nlogn).\n",
    "\n",
    "\n",
    "def is_anagram_linear(str1, str2):\n",
    "    str1 = str1.replace(\" \", \"\").lower()\n",
    "    str2 = str2.replace(\" \", \"\").lower()\n",
    "\n",
    "    ht = dict()\n",
    "\n",
    "    if len(str1) != len(str2):\n",
    "        return False\n",
    "\n",
    "    for i in str1:\n",
    "        if i in ht:\n",
    "            ht[i] += 1\n",
    "        else:\n",
    "            ht[i] = 1\n",
    "    for i in str2:\n",
    "        if i in ht:\n",
    "            ht[i] -= 1\n",
    "        else:\n",
    "            ht[i] = 1\n",
    "    for i in ht:\n",
    "        if ht[i] != 0:\n",
    "            return False\n",
    "    return True"
   ]
  },
  {
   "cell_type": "code",
   "execution_count": 15,
   "metadata": {},
   "outputs": [
    {
     "name": "stdout",
     "output_type": "stream",
     "text": [
      "True\n",
      "False\n"
     ]
    }
   ],
   "source": [
    "print(is_anagram_linear(s1a,s1b))\n",
    "print(is_anagram_linear(s2a,s2b))"
   ]
  },
  {
   "cell_type": "markdown",
   "metadata": {},
   "source": [
    "## Is Palindrome Permutation\n",
    "\n",
    "In this lesson, we will consider how to determine if a string is a palindrome permutation.\n",
    "\n",
    "Example: 'taco cat'"
   ]
  },
  {
   "cell_type": "code",
   "execution_count": 16,
   "metadata": {},
   "outputs": [],
   "source": [
    "palin_perm = \"Taco Cat\"\n",
    "not_palin_perm = \"This slime is green\""
   ]
  },
  {
   "cell_type": "code",
   "execution_count": 17,
   "metadata": {},
   "outputs": [],
   "source": [
    "def is_palin_perm(input_str):\n",
    "    input_str = input_str.replace(\" \", \"\")\n",
    "    input_str = input_str.lower()\n",
    "\n",
    "    d = dict()\n",
    "\n",
    "    for i in input_str:\n",
    "        if i in d:\n",
    "            d[i] += 1\n",
    "        else:\n",
    "            d[i] = 1\n",
    "\n",
    "    odd_count = 0\n",
    "    for k, v in d.items():\n",
    "        if v % 2 != 0 and odd_count == 0:\n",
    "            odd_count += 1\n",
    "        elif v % 2 != 0 and odd_count != 0:\n",
    "            return False\n",
    "    return True"
   ]
  },
  {
   "cell_type": "code",
   "execution_count": 18,
   "metadata": {},
   "outputs": [
    {
     "name": "stdout",
     "output_type": "stream",
     "text": [
      "True\n",
      "False\n"
     ]
    }
   ],
   "source": [
    "print(is_palin_perm(palin_perm))\n",
    "print(is_palin_perm(not_palin_perm))"
   ]
  },
  {
   "cell_type": "markdown",
   "metadata": {},
   "source": [
    "## Check Permutation\n",
    "\n",
    "Given two strings, write a function to determine if one is a permutation of the other."
   ]
  },
  {
   "cell_type": "code",
   "execution_count": 19,
   "metadata": {},
   "outputs": [],
   "source": [
    "is_permutation_1 = \"google\"\n",
    "is_permutation_2 = \"ooggle\"\n",
    "\n",
    "not_permutation_1 = \"not\"\n",
    "not_permutation_2 = \"top\""
   ]
  },
  {
   "cell_type": "code",
   "execution_count": 20,
   "metadata": {},
   "outputs": [],
   "source": [
    "# Approach 1: Sorting\n",
    "# Time Complexity: O(n log n)\n",
    "# Space Complexity: O(1)\n",
    "def is_perm_1(str_1, str_2):\n",
    "    str_1 = str_1.lower()\n",
    "    str_2 = str_2.lower()\n",
    "\n",
    "    if len(str_1) != len(str_2):\n",
    "        return False\n",
    "\n",
    "    str_1 = ''.join(sorted(str_1))\n",
    "    str_2 = ''.join(sorted(str_2))\n",
    "\n",
    "    n = len(str_1)\n",
    "\n",
    "    for i in range(n):\n",
    "        if str_1[i] != str_2[i]:\n",
    "            return False\n",
    "    return True"
   ]
  },
  {
   "cell_type": "code",
   "execution_count": 21,
   "metadata": {},
   "outputs": [
    {
     "name": "stdout",
     "output_type": "stream",
     "text": [
      "True\n",
      "False\n"
     ]
    }
   ],
   "source": [
    "print(is_perm_1(is_permutation_1, is_permutation_2))\n",
    "print(is_perm_1(not_permutation_1, not_permutation_2))"
   ]
  },
  {
   "cell_type": "code",
   "execution_count": 22,
   "metadata": {},
   "outputs": [],
   "source": [
    "# Approach 2: Hash Table\n",
    "# Time Complexity: O(n)\n",
    "# Space Complexity: O(n)\n",
    "def is_perm_2(str_1, str_2):\n",
    "    str_1 = str_1.lower()\n",
    "    str_2 = str_2.lower()\n",
    "\n",
    "    if len(str_1) != len(str_2):\n",
    "        return False\n",
    "\n",
    "    d = dict()\n",
    "    \n",
    "    for i in str_1:\n",
    "        if i in d:\n",
    "            d[i] += 1\n",
    "        else:\n",
    "            d[i] = 1\n",
    "    for i in str_2:\n",
    "        if i in d:\n",
    "            d[i] -= 1\n",
    "        else:\n",
    "            return False\n",
    "\n",
    "    return all(value == 0 for value in d.values())"
   ]
  },
  {
   "cell_type": "code",
   "execution_count": 23,
   "metadata": {},
   "outputs": [
    {
     "name": "stdout",
     "output_type": "stream",
     "text": [
      "True\n",
      "False\n"
     ]
    }
   ],
   "source": [
    "print(is_perm_2(is_permutation_1, is_permutation_2))\n",
    "print(is_perm_2(not_permutation_1, not_permutation_2))"
   ]
  },
  {
   "cell_type": "markdown",
   "metadata": {},
   "source": [
    "## Exercise: Is Unique\n",
    "\n",
    "Your task is to implement an algorithm to determine if a string has all unique characters.\n",
    "\n",
    "Assume that the input string will only contain alphabets or spaces."
   ]
  },
  {
   "cell_type": "code",
   "execution_count": 24,
   "metadata": {},
   "outputs": [],
   "source": [
    "s1 = \"I Am Not Unique\"\n",
    "s2 = \"heythere\"\n",
    "s3 = \"abCedFghI\"\n",
    "s4 = \"hi\""
   ]
  },
  {
   "cell_type": "code",
   "execution_count": 25,
   "metadata": {},
   "outputs": [],
   "source": [
    "# My Solution, Linear Time Complexity\n",
    "def is_unique(input_str):\n",
    "    d = {}\n",
    "    for i in input_str:\n",
    "        if i in d.keys():\n",
    "            return False\n",
    "        else:\n",
    "            d[i] = 1\n",
    "    return True"
   ]
  },
  {
   "cell_type": "code",
   "execution_count": 26,
   "metadata": {
    "scrolled": true
   },
   "outputs": [
    {
     "name": "stdout",
     "output_type": "stream",
     "text": [
      "False\n",
      "False\n",
      "True\n",
      "True\n"
     ]
    }
   ],
   "source": [
    "print(is_unique(s1))\n",
    "print(is_unique(s2))\n",
    "print(is_unique(s3))\n",
    "print(is_unique(s4))"
   ]
  },
  {
   "cell_type": "code",
   "execution_count": 27,
   "metadata": {},
   "outputs": [],
   "source": [
    "# Solution 2\n",
    "def is_unique_2(input_str):\n",
    "    return len(set(input_str)) == len(input_str)"
   ]
  },
  {
   "cell_type": "code",
   "execution_count": 28,
   "metadata": {},
   "outputs": [],
   "source": [
    "# Solution 3\n",
    "def is_unique_3(input_str):\n",
    "    alpha = \"ABCDEFGHIJKLMNOPQRSTUVWXYZabcdefghijklmnopqrstuvwxyz \"\n",
    "    for i in input_str:\n",
    "        if i in alpha:\n",
    "            alpha = alpha.replace(i, \"\")\n",
    "        else:\n",
    "            return False\n",
    "    return True"
   ]
  },
  {
   "cell_type": "markdown",
   "metadata": {},
   "source": [
    "## Integer to String\n",
    "\n",
    "In this lesson, we will solve the following problem:\n",
    "\n",
    "You are given some integer as input, (i.e. … -3, -2, -1, 0, 1, 2, 3 …) and you have to convert the integer you are given to a string. Examples:"
   ]
  },
  {
   "cell_type": "code",
   "execution_count": 29,
   "metadata": {},
   "outputs": [],
   "source": [
    "def int_to_str(input_int):\n",
    "    \n",
    "    if input_int < 0:\n",
    "        is_negative = True\n",
    "        input_int *= -1\n",
    "    else:\n",
    "        is_negative = False\n",
    "\n",
    "    output_str = []\n",
    "\n",
    "    if input_int == 0:\n",
    "        output_str.append('0')\n",
    "    else:   \n",
    "        while input_int > 0:\n",
    "            output_str.append(chr(ord('0') + input_int % 10))\n",
    "            input_int //= 10\n",
    "        output_str = output_str[::-1]\n",
    "\n",
    "    output_str = ''.join(output_str)\n",
    "\n",
    "    if is_negative:\n",
    "        return '-' + output_str\n",
    "    else:\n",
    "        return output_str"
   ]
  },
  {
   "cell_type": "code",
   "execution_count": 30,
   "metadata": {},
   "outputs": [
    {
     "name": "stdout",
     "output_type": "stream",
     "text": [
      "123\n",
      "<class 'int'>\n",
      "\n",
      "\n",
      "123\n",
      "<class 'str'>\n"
     ]
    }
   ],
   "source": [
    "input_int = 123\n",
    "print(input_int)\n",
    "print(type(input_int))\n",
    "\n",
    "print('\\n')\n",
    "\n",
    "output_str = int_to_str(input_int)\n",
    "print(output_str)\n",
    "print(type(output_str))"
   ]
  },
  {
   "cell_type": "markdown",
   "metadata": {},
   "source": [
    "## Excersise: String to Integer"
   ]
  },
  {
   "cell_type": "code",
   "execution_count": 31,
   "metadata": {},
   "outputs": [],
   "source": [
    "def str_to_int(input_str):\n",
    "\n",
    "    output_int = 0\n",
    "\n",
    "    if input_str[0] == '-':\n",
    "        start_idx = 1\n",
    "        is_negative = True\n",
    "    else:\n",
    "        start_idx = 0\n",
    "        is_negative = False\n",
    "\n",
    "    for i in range(start_idx, len(input_str)):\n",
    "        place = 10**(len(input_str) - (i+1))\n",
    "        digit = ord(input_str[i]) - ord('0')\n",
    "        output_int += place * digit\n",
    "\n",
    "    if is_negative:\n",
    "        return -1 * output_int\n",
    "    else:\n",
    "        return output_int"
   ]
  },
  {
   "cell_type": "code",
   "execution_count": 32,
   "metadata": {},
   "outputs": [
    {
     "name": "stdout",
     "output_type": "stream",
     "text": [
      "<class 'int'>\n",
      "123\n",
      "-123\n"
     ]
    }
   ],
   "source": [
    "s = \"554\"\n",
    "x = str_to_int(s)\n",
    "print(type(x))\n",
    "\n",
    "s = \"123\"\n",
    "print(str_to_int(s))\n",
    "\n",
    "s = \"-123\"\n",
    "print(str_to_int(s))"
   ]
  }
 ],
 "metadata": {
  "kernelspec": {
   "display_name": "Python 3",
   "language": "python",
   "name": "python3"
  },
  "language_info": {
   "codemirror_mode": {
    "name": "ipython",
    "version": 3
   },
   "file_extension": ".py",
   "mimetype": "text/x-python",
   "name": "python",
   "nbconvert_exporter": "python",
   "pygments_lexer": "ipython3",
   "version": "3.8.6"
  },
  "toc": {
   "base_numbering": 1,
   "nav_menu": {},
   "number_sections": true,
   "sideBar": true,
   "skip_h1_title": false,
   "title_cell": "Table of Contents",
   "title_sidebar": "Contents",
   "toc_cell": false,
   "toc_position": {},
   "toc_section_display": true,
   "toc_window_display": false
  }
 },
 "nbformat": 4,
 "nbformat_minor": 4
}
