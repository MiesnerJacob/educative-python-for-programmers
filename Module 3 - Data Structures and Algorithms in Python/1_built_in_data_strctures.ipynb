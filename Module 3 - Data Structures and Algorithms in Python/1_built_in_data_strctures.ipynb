{
 "cells": [
  {
   "cell_type": "markdown",
   "metadata": {},
   "source": [
    "# Built in Data Structures\n",
    "\n",
    "A data structure is a way of storing and organizing data according to a certain format or structure.\n",
    "\n",
    "The four primary built-in data structures offered in Python3 are:\n",
    "\n",
    "* List\n",
    "\n",
    "* Tuple\n",
    "\n",
    "* Dictionary\n",
    "\n",
    "* Set"
   ]
  },
  {
   "cell_type": "markdown",
   "metadata": {},
   "source": [
    "## Lists"
   ]
  },
  {
   "cell_type": "code",
   "execution_count": 1,
   "metadata": {},
   "outputs": [
    {
     "name": "stdout",
     "output_type": "stream",
     "text": [
      "['Jon Snow', 'Winterfell', 30]\n",
      "Jon Snow\n",
      "3\n"
     ]
    }
   ],
   "source": [
    "# Creating a list\n",
    "\n",
    "jon_snow = [\"Jon Snow\", \"Winterfell\", 30]\n",
    "print(jon_snow)\n",
    "\n",
    "# Indexing\n",
    "print(jon_snow[0])\n",
    "\n",
    "# Length\n",
    "print(len(jon_snow))"
   ]
  },
  {
   "cell_type": "code",
   "execution_count": 2,
   "metadata": {},
   "outputs": [
    {
     "name": "stdout",
     "output_type": "stream",
     "text": [
      "30\n",
      "33\n"
     ]
    }
   ],
   "source": [
    "# Mutable functionality\n",
    "\n",
    "jon_snow = [\"Jon Snow\", \"Winterfell\", 30]\n",
    "print(jon_snow[2])\n",
    "jon_snow[2] += 3\n",
    "print(jon_snow[2])"
   ]
  },
  {
   "cell_type": "code",
   "execution_count": 4,
   "metadata": {},
   "outputs": [
    {
     "name": "stdout",
     "output_type": "stream",
     "text": [
      "[0, 1, 2, 3, 4, 5, 6, 7, 8, 9]\n",
      "[3, 6, 9, 12, 15, 18]\n"
     ]
    }
   ],
   "source": [
    "# Converting a range to a list\n",
    "\n",
    "num_seq = range(0, 10)  # A sequence from 0 to 9\n",
    "num_list = list(num_seq)  # The list() method casts the sequence into a list\n",
    "print(num_list)\n",
    "\n",
    "num_seq = range(3, 20, 3)  # A sequence from 3 to 19 with a step of 3\n",
    "print(list(num_seq))"
   ]
  },
  {
   "cell_type": "code",
   "execution_count": 7,
   "metadata": {},
   "outputs": [
    {
     "name": "stdout",
     "output_type": "stream",
     "text": [
      "[[2006, 'Italy'], [2010, 'Spain'], [2014, 'Germany'], [2018, 'France']]\n",
      "\n",
      "\n",
      "[2010, 'Spain']\n",
      "Spain\n",
      "S\n"
     ]
    }
   ],
   "source": [
    "# Lists-ception! aka List of Lists\n",
    "\n",
    "world_cup_winners = [[2006, \"Italy\"], [2010, \"Spain\"],\n",
    "                     [2014, \"Germany\"], [2018, \"France\"]]\n",
    "print(world_cup_winners)\n",
    "print('\\n')\n",
    "\n",
    "# Nested Lists Indexing\n",
    "world_cup_winners = [[2006, \"Italy\"], [2010, \"Spain\"],\n",
    "                     [2014, \"Germany\"], [2018, \"France\"]]\n",
    "print(world_cup_winners[1])\n",
    "print(world_cup_winners[1][1])  # Accessing 'Spain'\n",
    "print(world_cup_winners[1][1][0])  # Accessing 'S'"
   ]
  },
  {
   "cell_type": "code",
   "execution_count": 9,
   "metadata": {},
   "outputs": [
    {
     "name": "stdout",
     "output_type": "stream",
     "text": [
      "[1, 2, 3, 4, 5, 6, 7, 8, 9, 10]\n",
      "\n",
      "\n",
      "[1, 2, 3, 4, 5, 6, 7, 8, 9, 10]\n"
     ]
    }
   ],
   "source": [
    "# Merging Lists\n",
    "# Addition\n",
    "\n",
    "part_A = [1, 2, 3, 4, 5]\n",
    "part_B = [6, 7, 8, 9, 10]\n",
    "merged_list = part_A + part_B\n",
    "print(merged_list)\n",
    "print('\\n')\n",
    "\n",
    "# Extending\n",
    "part_A = [1, 2, 3, 4, 5]\n",
    "part_B = [6, 7, 8, 9, 10]\n",
    "part_A.extend(part_B)\n",
    "print(part_A)"
   ]
  },
  {
   "cell_type": "markdown",
   "metadata": {},
   "source": [
    "## Common List Operations"
   ]
  },
  {
   "cell_type": "code",
   "execution_count": 10,
   "metadata": {},
   "outputs": [
    {
     "name": "stdout",
     "output_type": "stream",
     "text": [
      "[1, 2, 3]\n"
     ]
    }
   ],
   "source": [
    "# Adding elements to a list using append\n",
    "\n",
    "num_list = []  # Empty list\n",
    "num_list.append(1)\n",
    "num_list.append(2)\n",
    "num_list.append(3)\n",
    "print(num_list)"
   ]
  },
  {
   "cell_type": "code",
   "execution_count": 11,
   "metadata": {},
   "outputs": [
    {
     "name": "stdout",
     "output_type": "stream",
     "text": [
      "[1, 2, 3, 4, 5, 6]\n"
     ]
    }
   ],
   "source": [
    "# Inserting a value into a list with specified index\n",
    "\n",
    "num_list = [1, 2, 3, 5, 6]\n",
    "num_list.insert(3, 4)  # Inserting 4 at the 3rd index. 5 and 6 shifted ahead\n",
    "print(num_list)"
   ]
  },
  {
   "cell_type": "code",
   "execution_count": 16,
   "metadata": {},
   "outputs": [
    {
     "name": "stdout",
     "output_type": "stream",
     "text": [
      "Slytherin\n",
      "['Gryffindor', 'Hufflepuff', 'Ravenclaw']\n"
     ]
    }
   ],
   "source": [
    "# Removing elements from a list\n",
    "# Defaults to last element, but you can pass an index to .pop()\n",
    "\n",
    "houses = [\"Gryffindor\", \"Hufflepuff\", \"Ravenclaw\", \"Slytherin\"]\n",
    "last_house = houses.pop()\n",
    "print(last_house)\n",
    "print(houses)"
   ]
  },
  {
   "cell_type": "code",
   "execution_count": 18,
   "metadata": {},
   "outputs": [
    {
     "name": "stdout",
     "output_type": "stream",
     "text": [
      "['Gryffindor', 'Hufflepuff', 'Ravenclaw', 'Slytherin']\n",
      "['Gryffindor', 'Hufflepuff', 'Slytherin']\n",
      "[['Winterfell', 10000], [\"King's Landing\", 50000], ['Iron Islands', 5000]]\n",
      "[['Winterfell', 10000], ['Iron Islands', 5000]]\n"
     ]
    }
   ],
   "source": [
    "# Deleting an element from a list using .remove()\n",
    "\n",
    "houses = [\"Gryffindor\", \"Hufflepuff\", \"Ravenclaw\", \"Slytherin\"]\n",
    "print(houses)\n",
    "houses.remove(\"Ravenclaw\")\n",
    "print(houses)\n",
    "\n",
    "# For nested lists\n",
    "populations = [[\"Winterfell\", 10000], [\"King's Landing\", 50000],\n",
    "               [\"Iron Islands\", 5000]]\n",
    "print(populations)\n",
    "populations.remove([\"King's Landing\", 50000])\n",
    "print(populations)\n"
   ]
  },
  {
   "cell_type": "code",
   "execution_count": 24,
   "metadata": {},
   "outputs": [
    {
     "name": "stdout",
     "output_type": "stream",
     "text": [
      "[3, 4, 5]\n",
      "[1, 3, 5, 7]\n"
     ]
    }
   ],
   "source": [
    "# List slicing\n",
    "\n",
    "num_list = [1, 2, 3, 4, 5, 6, 7, 8]\n",
    "print(num_list[2:5])\n",
    "print(num_list[0::2])"
   ]
  },
  {
   "cell_type": "code",
   "execution_count": 25,
   "metadata": {},
   "outputs": [
    {
     "name": "stdout",
     "output_type": "stream",
     "text": [
      "2\n"
     ]
    }
   ],
   "source": [
    "# List index search\n",
    "\n",
    "cities = [\"London\", \"Paris\", \"Los Angeles\", \"Beirut\"]\n",
    "print(cities.index(\"Los Angeles\"))  # It is at the 2nd index"
   ]
  },
  {
   "cell_type": "code",
   "execution_count": 27,
   "metadata": {},
   "outputs": [
    {
     "name": "stdout",
     "output_type": "stream",
     "text": [
      "True\n",
      "True\n"
     ]
    }
   ],
   "source": [
    "# Using the in operator\n",
    "\n",
    "cities = [\"London\", \"Paris\", \"Los Angeles\", \"Beirut\"]\n",
    "print(\"London\" in cities)\n",
    "print(\"Moscow\" not in cities)"
   ]
  },
  {
   "cell_type": "code",
   "execution_count": 28,
   "metadata": {},
   "outputs": [
    {
     "name": "stdout",
     "output_type": "stream",
     "text": [
      "[5, 10, 20, 30, 40, 50.4, 100]\n"
     ]
    }
   ],
   "source": [
    "# Sorting a list \n",
    "\n",
    "num_list = [20, 40, 10, 50.4, 30, 100, 5]\n",
    "num_list.sort()\n",
    "print(num_list)"
   ]
  },
  {
   "cell_type": "markdown",
   "metadata": {},
   "source": [
    "## List Comprehensions"
   ]
  },
  {
   "cell_type": "code",
   "execution_count": 29,
   "metadata": {},
   "outputs": [
    {
     "name": "stdout",
     "output_type": "stream",
     "text": [
      "[10, 20, 30, 40, 50]\n",
      "[20, 40, 60, 80, 100]\n"
     ]
    }
   ],
   "source": [
    "# Creating a new list using an existing one\n",
    "\n",
    "nums = [10, 20, 30, 40, 50]\n",
    "\n",
    "# List comprehension\n",
    "nums_double = [n * 2 for n in nums]\n",
    "\n",
    "print(nums)\n",
    "print(nums_double)"
   ]
  },
  {
   "cell_type": "code",
   "execution_count": 31,
   "metadata": {},
   "outputs": [
    {
     "name": "stdout",
     "output_type": "stream",
     "text": [
      "[10, 20, 30, 40, 50]\n",
      "[40, 80]\n"
     ]
    }
   ],
   "source": [
    "# List comprehension with single condition\n",
    "\n",
    "nums = [10, 20, 30, 40, 50]\n",
    "\n",
    "# List comprehension\n",
    "nums_double = [n * 2 for n in nums if n % 4 == 0]\n",
    "\n",
    "print(nums)\n",
    "print(nums_double)"
   ]
  },
  {
   "cell_type": "code",
   "execution_count": 38,
   "metadata": {},
   "outputs": [
    {
     "name": "stdout",
     "output_type": "stream",
     "text": [
      "[(50, 60), (110, 10), (110, 60), (110, 20), (110, 50), (75, 60), (75, 50)]\n"
     ]
    }
   ],
   "source": [
    "# Using Mutliple Lists\n",
    "# List comprehensions like this will iterate through all combinations\n",
    "\n",
    "list1 = [30, 50, 110, 40, 15, 75]\n",
    "list2 = [10, 60, 20, 50]\n",
    "\n",
    "sum_list = [(n1, n2) for n1 in list1 for n2 in list2 if n1 + n2 > 100]\n",
    "\n",
    "print(sum_list)"
   ]
  },
  {
   "cell_type": "markdown",
   "metadata": {},
   "source": [
    "## Tuples\n",
    "\n",
    "The primary difference between tuples and lists is that tuples are immutable, meaning you cant make inplace changes such as appending or removing elements."
   ]
  },
  {
   "cell_type": "code",
   "execution_count": 40,
   "metadata": {},
   "outputs": [
    {
     "name": "stdout",
     "output_type": "stream",
     "text": [
      "('Ford', 'Raptor', 2019, 'Red')\n",
      "4\n",
      "Raptor\n",
      "(2019, 'Red')\n"
     ]
    }
   ],
   "source": [
    "# Creating a tuple\n",
    "# Indexing and slicing are the same as for lists\n",
    "\n",
    "car = (\"Ford\", \"Raptor\", 2019, \"Red\")\n",
    "print(car)\n",
    "\n",
    "# Length\n",
    "print(len(car))\n",
    "\n",
    "# Indexing\n",
    "print(car[1])\n",
    "\n",
    "# Slicing\n",
    "print(car[2:])"
   ]
  },
  {
   "cell_type": "code",
   "execution_count": 41,
   "metadata": {},
   "outputs": [
    {
     "name": "stdout",
     "output_type": "stream",
     "text": [
      "('Batman', 'Bruce Wayne', 'Wonder Woman', 'Diana Prince')\n"
     ]
    }
   ],
   "source": [
    "# Merging tuples is the same as for lists\n",
    "\n",
    "hero1 = (\"Batman\", \"Bruce Wayne\")\n",
    "hero2 = (\"Wonder Woman\", \"Diana Prince\")\n",
    "awesome_team = hero1 + hero2\n",
    "print(awesome_team)"
   ]
  },
  {
   "cell_type": "code",
   "execution_count": 42,
   "metadata": {},
   "outputs": [
    {
     "name": "stdout",
     "output_type": "stream",
     "text": [
      "(('Batman', 'Bruce Wayne'), ('Wonder Woman', 'Diana Prince'))\n"
     ]
    }
   ],
   "source": [
    "# Nested tuples\n",
    "\n",
    "hero1 = (\"Batman\", \"Bruce Wayne\")\n",
    "hero2 = (\"Wonder Woman\", \"Diana Prince\")\n",
    "awesome_team = (hero1, hero2)\n",
    "print(awesome_team)"
   ]
  },
  {
   "cell_type": "code",
   "execution_count": 43,
   "metadata": {},
   "outputs": [
    {
     "name": "stdout",
     "output_type": "stream",
     "text": [
      "False\n"
     ]
    }
   ],
   "source": [
    "# Tuple Search\n",
    "\n",
    "cities = (\"London\", \"Paris\", \"Los Angeles\", \"Tokyo\")\n",
    "print(\"Moscow\" in cities)"
   ]
  },
  {
   "cell_type": "code",
   "execution_count": 44,
   "metadata": {},
   "outputs": [
    {
     "name": "stdout",
     "output_type": "stream",
     "text": [
      "3\n"
     ]
    }
   ],
   "source": [
    "# Tuple indexing\n",
    "\n",
    "cities = (\"London\", \"Paris\", \"Los Angeles\", \"Tokyo\")\n",
    "print(cities.index(\"Tokyo\"))"
   ]
  },
  {
   "cell_type": "markdown",
   "metadata": {},
   "source": [
    "## Dictionaries\n",
    "\n",
    "A dictionary stores key-value pairs, where each unique key is an index which holds the value associated with it. Dictionaries have no explicit order of the key-value pairs."
   ]
  },
  {
   "cell_type": "code",
   "execution_count": 45,
   "metadata": {},
   "outputs": [
    {
     "name": "stdout",
     "output_type": "stream",
     "text": [
      "{}\n",
      "{'Batman': 468426, 'Cersei': 237734, 'Ghostbusters': 44678}\n"
     ]
    }
   ],
   "source": [
    "# Creating a dictionary\n",
    "\n",
    "empty_dict = {}  # Empty dictionary\n",
    "print(empty_dict)\n",
    "\n",
    "phone_book = {\"Batman\": 468426,\n",
    "              \"Cersei\": 237734,\n",
    "              \"Ghostbusters\": 44678}\n",
    "print(phone_book)"
   ]
  },
  {
   "cell_type": "code",
   "execution_count": 46,
   "metadata": {},
   "outputs": [
    {
     "name": "stdout",
     "output_type": "stream",
     "text": [
      "{}\n",
      "{'Batman': 468426, 'Cersei': 237734, 'Ghostbusters': 44678}\n",
      "{'Batman': 468426, 'Cersei': 237734, 'Ghostbusters': 44678}\n"
     ]
    }
   ],
   "source": [
    "# Using the dict() constructor\n",
    "\n",
    "empty_dict = dict()  # Empty dictionary\n",
    "print(empty_dict)\n",
    "\n",
    "phone_book = dict(Batman=468426, Cersei=237734, Ghostbusters=44678)\n",
    "# Keys will automatically be converted to strings\n",
    "print(phone_book)\n",
    "\n",
    "# Alternative approach\n",
    "phone_book = dict([('Batman', 468426),\n",
    "                   ('Cersei', 237734),\n",
    "                   ('Ghostbusters', 44678)])\n",
    "print(phone_book)"
   ]
  },
  {
   "cell_type": "code",
   "execution_count": 47,
   "metadata": {},
   "outputs": [
    {
     "name": "stdout",
     "output_type": "stream",
     "text": [
      "237734\n",
      "44678\n"
     ]
    }
   ],
   "source": [
    "# Accessing key-value pairs\n",
    "\n",
    "phone_book = {\"Batman\": 468426,\n",
    "              \"Cersei\": 237734,\n",
    "              \"Ghostbusters\": 44678}\n",
    "print(phone_book[\"Cersei\"])\n",
    "print(phone_book.get(\"Ghostbusters\"))"
   ]
  },
  {
   "cell_type": "markdown",
   "metadata": {},
   "source": [
    "## Dictionary Operators"
   ]
  },
  {
   "cell_type": "code",
   "execution_count": 48,
   "metadata": {},
   "outputs": [
    {
     "name": "stdout",
     "output_type": "stream",
     "text": [
      "{'Batman': 468426, 'Cersei': 237734, 'Ghostbusters': 44678}\n",
      "{'Batman': 468426, 'Cersei': 237734, 'Ghostbusters': 44678, 'Godzilla': 46394}\n",
      "{'Batman': 468426, 'Cersei': 237734, 'Ghostbusters': 44678, 'Godzilla': 9000}\n"
     ]
    }
   ],
   "source": [
    "# Updating values\n",
    "\n",
    "phone_book = {\"Batman\": 468426,\n",
    "              \"Cersei\": 237734,\n",
    "              \"Ghostbusters\": 44678}\n",
    "print(phone_book)\n",
    "\n",
    "phone_book[\"Godzilla\"] = 46394  # New entry\n",
    "print(phone_book)\n",
    "\n",
    "phone_book[\"Godzilla\"] = 9000  # Updating entry\n",
    "print(phone_book)"
   ]
  },
  {
   "cell_type": "code",
   "execution_count": 51,
   "metadata": {},
   "outputs": [
    {
     "name": "stdout",
     "output_type": "stream",
     "text": [
      "{'Batman': 468426, 'Cersei': 237734, 'Ghostbusters': 44678}\n",
      "{'Cersei': 237734, 'Ghostbusters': 44678}\n",
      "\n",
      "\n",
      "{'Batman': 468426, 'Cersei': 237734, 'Ghostbusters': 44678}\n",
      "{'Batman': 468426, 'Ghostbusters': 44678}\n",
      "237734\n",
      "('Ghostbusters', 44678)\n"
     ]
    }
   ],
   "source": [
    "# Deleting key-value pairs\n",
    "\n",
    "phone_book = {\"Batman\": 468426,\n",
    "              \"Cersei\": 237734,\n",
    "              \"Ghostbusters\": 44678}\n",
    "print(phone_book)\n",
    "\n",
    "del phone_book[\"Batman\"]\n",
    "print(phone_book)\n",
    "print('\\n')\n",
    "\n",
    "# Alternative methods\n",
    "phone_book = {\"Batman\": 468426,\n",
    "              \"Cersei\": 237734,\n",
    "              \"Ghostbusters\": 44678}\n",
    "print(phone_book)\n",
    "\n",
    "cersei = phone_book.pop(\"Cersei\")\n",
    "print(phone_book)\n",
    "print(cersei)\n",
    "\n",
    "# Removes and returns the last inserted pair, as a tuple\n",
    "# In Python versions before 3.7, popitem() removes and returns the random item\n",
    "lastAdded = phone_book.popitem()\n",
    "print(lastAdded)"
   ]
  },
  {
   "cell_type": "code",
   "execution_count": 54,
   "metadata": {},
   "outputs": [
    {
     "name": "stdout",
     "output_type": "stream",
     "text": [
      "True\n",
      "False\n"
     ]
    }
   ],
   "source": [
    "# Checking key existence\n",
    "\n",
    "phone_book = {\"Batman\": 468426,\n",
    "              \"Cersei\": 237734,\n",
    "              \"Ghostbusters\": 44678}\n",
    "\n",
    "print(\"Batman\" in phone_book)\n",
    "print(\"Godzilla\" in phone_book)"
   ]
  },
  {
   "cell_type": "code",
   "execution_count": 55,
   "metadata": {},
   "outputs": [
    {
     "name": "stdout",
     "output_type": "stream",
     "text": [
      "{'Batman': 468426, 'Cersei': 237734, 'Ghostbusters': 44678, 'Catwoman': 67423, 'Jaime': 237734, 'Godzilla': 37623}\n"
     ]
    }
   ],
   "source": [
    "# Combining dictionaries\n",
    "\n",
    "phone_book = {\"Batman\": 468426,\n",
    "              \"Cersei\": 237734,\n",
    "              \"Ghostbusters\": 44678}\n",
    "\n",
    "second_phone_book = {\"Catwoman\": 67423, \"Jaime\": 237734, \"Godzilla\": 37623}\n",
    "\n",
    "# Add secondphone_book to phone_book\n",
    "phone_book.update(second_phone_book)\n",
    "print(phone_book)"
   ]
  },
  {
   "cell_type": "code",
   "execution_count": 57,
   "metadata": {},
   "outputs": [
    {
     "name": "stdout",
     "output_type": "stream",
     "text": [
      "{1: 'Gryffindor', 2: 'Slytherin', 3: 'Hufflepuff', 4: 'Ravenclaw'}\n",
      "{1: 'Gryffindor!!!', 8: 'Slytherin!!!', 27: 'Hufflepuff!!!', 64: 'Ravenclaw!!!'}\n"
     ]
    }
   ],
   "source": [
    "# Dictionary comprehension\n",
    "\n",
    "houses = {1: \"Gryffindor\", 2: \"Slytherin\", 3: \"Hufflepuff\", 4: \"Ravenclaw\"}\n",
    "new_houses = {n**3: house + \"!!!\" for (n, house) in houses.items()}\n",
    "print(houses)\n",
    "print(new_houses)"
   ]
  },
  {
   "cell_type": "markdown",
   "metadata": {},
   "source": [
    "## Sets\n",
    "\n",
    "A set is an unordered collection of data items. This is perhaps the simplest data structure in Python. We can think of it as a bag containing random items."
   ]
  },
  {
   "cell_type": "code",
   "execution_count": 58,
   "metadata": {},
   "outputs": [
    {
     "name": "stdout",
     "output_type": "stream",
     "text": [
      "{1408, (True, False), 3.142, 'Educative'}\n",
      "4\n"
     ]
    }
   ],
   "source": [
    "# Creating a set\n",
    "\n",
    "random_set = {\"Educative\", 1408, 3.142,\n",
    "              (True, False)}\n",
    "print(random_set)\n",
    "print(len(random_set))  # Length of the set"
   ]
  },
  {
   "cell_type": "code",
   "execution_count": 59,
   "metadata": {},
   "outputs": [
    {
     "name": "stdout",
     "output_type": "stream",
     "text": [
      "set()\n",
      "{1408, (True, False), 3.142, 'Educative'}\n"
     ]
    }
   ],
   "source": [
    "# Using the set() constructor\n",
    "\n",
    "empty_set = set()\n",
    "print(empty_set)\n",
    "\n",
    "random_set = set({\"Educative\", 1408, 3.142, (True, False)})\n",
    "print(random_set)"
   ]
  },
  {
   "cell_type": "code",
   "execution_count": 60,
   "metadata": {},
   "outputs": [
    {
     "name": "stdout",
     "output_type": "stream",
     "text": [
      "set()\n",
      "{1}\n",
      "{1, 2, 3, 4, 5, 6}\n"
     ]
    }
   ],
   "source": [
    "# Adding elements to a set\n",
    "\n",
    "empty_set = set()\n",
    "print(empty_set)\n",
    "\n",
    "empty_set.add(1)\n",
    "print(empty_set)\n",
    "\n",
    "empty_set.update([2, 3, 4, 5, 6])\n",
    "print(empty_set)"
   ]
  },
  {
   "cell_type": "code",
   "execution_count": 61,
   "metadata": {},
   "outputs": [
    {
     "name": "stdout",
     "output_type": "stream",
     "text": [
      "{1408, (True, False), 3.142, 'Educative'}\n",
      "{(True, False), 3.142, 'Educative'}\n",
      "{3.142, 'Educative'}\n"
     ]
    }
   ],
   "source": [
    "# Deleting elements from a set using .discard() and .remove()\n",
    "\n",
    "random_set = set({\"Educative\", 1408, 3.142, (True, False)})\n",
    "print(random_set)\n",
    "\n",
    "random_set.discard(1408)\n",
    "print(random_set)\n",
    "\n",
    "random_set.remove((True, False))\n",
    "print(random_set)"
   ]
  },
  {
   "cell_type": "code",
   "execution_count": 62,
   "metadata": {},
   "outputs": [
    {
     "name": "stdout",
     "output_type": "stream",
     "text": [
      "{9, 10, 11, 12, 13, 14, 15, 16, 17}\n",
      "[1, 3, 5, 7, 9, 11, 13, 15, 17]\n"
     ]
    }
   ],
   "source": [
    "# Looping through a set\n",
    "\n",
    "odd_list = [1, 3, 5, 7]\n",
    "unordered_set = {9, 10, 11, 12, 13, 14, 15, 16, 17}\n",
    "\n",
    "print(unordered_set)\n",
    "\n",
    "for num in unordered_set:\n",
    "    if(not num % 2 == 0):\n",
    "        odd_list.append(num)\n",
    "\n",
    "print(odd_list)"
   ]
  },
  {
   "cell_type": "markdown",
   "metadata": {},
   "source": [
    "## Set Theory Operations\n",
    "\n",
    "Folks familiar with mathematics will know that sets have three main operations, union, intersection, and difference.\n",
    "\n",
    "The set data structure in Python supports all three."
   ]
  },
  {
   "cell_type": "code",
   "execution_count": 65,
   "metadata": {},
   "outputs": [
    {
     "name": "stdout",
     "output_type": "stream",
     "text": [
      "{1, 2, 3, 4, 'a', 'd', 'b', 'c'}\n",
      "{1, 2, 3, 4, 'a', 'd', 'b', 'c'}\n",
      "{1, 2, 3, 4, 'a', 'd', 'b', 'c'}\n"
     ]
    }
   ],
   "source": [
    "# Union\n",
    "\n",
    "set_A = {1, 2, 3, 4, 'a'}\n",
    "set_B = {'a', 'b', 'c', 'd'}\n",
    "\n",
    "print(set_A | set_B)\n",
    "print(set_A.union(set_B))\n",
    "print(set_B.union(set_A))"
   ]
  },
  {
   "cell_type": "code",
   "execution_count": 66,
   "metadata": {},
   "outputs": [
    {
     "name": "stdout",
     "output_type": "stream",
     "text": [
      "{2, 4}\n",
      "{2, 4}\n",
      "{2, 4}\n"
     ]
    }
   ],
   "source": [
    "# Intersection\n",
    "\n",
    "set_A = {1, 2, 3, 4}\n",
    "set_B = {2, 8, 4, 16}\n",
    "\n",
    "print(set_A & set_B)\n",
    "print(set_A.intersection(set_B))\n",
    "print(set_B.intersection(set_A))"
   ]
  },
  {
   "cell_type": "code",
   "execution_count": 67,
   "metadata": {},
   "outputs": [
    {
     "name": "stdout",
     "output_type": "stream",
     "text": [
      "{1, 3}\n",
      "{1, 3}\n",
      "{8, 16}\n",
      "{8, 16}\n"
     ]
    }
   ],
   "source": [
    "# Difference\n",
    "\n",
    "set_A = {1, 2, 3, 4}\n",
    "set_B = {2, 8, 4, 16}\n",
    "\n",
    "\n",
    "print(set_A - set_B)\n",
    "print(set_A.difference(set_B))\n",
    "\n",
    "print(set_B - set_A)\n",
    "print(set_B.difference(set_A))"
   ]
  },
  {
   "cell_type": "markdown",
   "metadata": {},
   "source": [
    "## Data Structure Conversions\n",
    "\n",
    "The template for explicitly converting from one data structure to another is as follows:\n",
    "\n",
    "destination_structure_name(source_structure_object)"
   ]
  },
  {
   "cell_type": "code",
   "execution_count": 72,
   "metadata": {},
   "outputs": [
    {
     "name": "stdout",
     "output_type": "stream",
     "text": [
      "['Anakin', 'Darth Vader', 1000]\n",
      "['Darth Vader', 1000, 'Anakin']\n",
      "[1, 2, 3]\n",
      "[(1, 'Anakin'), (2, 'Darth Vader'), (3, 1000)]\n"
     ]
    }
   ],
   "source": [
    "# Converting to a list\n",
    "\n",
    "star_wars_tup = (\"Anakin\", \"Darth Vader\", 1000)\n",
    "star_wars_set = {\"Anakin\", \"Darth Vader\", 1000}\n",
    "star_wars_dict = {1: \"Anakin\", 2: \"Darth Vader\", 3: 1000}\n",
    "\n",
    "star_wars_list = list(star_wars_tup)  # Converting from tuple\n",
    "print(star_wars_list)\n",
    "\n",
    "star_wars_list = list(star_wars_set)  # Converting from set\n",
    "print(star_wars_list)\n",
    "\n",
    "star_wars_list = list(star_wars_dict)  # Converting from dictionary\n",
    "print(star_wars_list)\n",
    "\n",
    "# Converting dict to list of tuples\n",
    "star_wars_dict = {1: \"Anakin\", 2: \"Darth Vader\", 3: 1000}\n",
    "\n",
    "star_wars_list = list(star_wars_dict.items())\n",
    "print(star_wars_list)"
   ]
  },
  {
   "cell_type": "code",
   "execution_count": 75,
   "metadata": {},
   "outputs": [
    {
     "name": "stdout",
     "output_type": "stream",
     "text": [
      "('Anakin', 'Darth Vader', 1000)\n",
      "('Darth Vader', 1000, 'Anakin')\n",
      "(1, 2, 3)\n"
     ]
    }
   ],
   "source": [
    "# Converting to a tuple\n",
    "\n",
    "star_wars_list = [\"Anakin\", \"Darth Vader\", 1000]\n",
    "star_wars_set = {\"Anakin\", \"Darth Vader\", 1000}\n",
    "star_wars_dict = {1: \"Anakin\", 2: \"Darth Vader\", 3: 1000}\n",
    "\n",
    "star_wars_tup = tuple(star_wars_list)  # Converting from list\n",
    "print(star_wars_tup)\n",
    "\n",
    "star_wars_tup = tuple(star_wars_set)  # Converting from set\n",
    "print(star_wars_tup)\n",
    "\n",
    "star_wars_tup = tuple(star_wars_dict)  # Converting from dictionary\n",
    "print(star_wars_tup)"
   ]
  },
  {
   "cell_type": "code",
   "execution_count": 77,
   "metadata": {},
   "outputs": [
    {
     "name": "stdout",
     "output_type": "stream",
     "text": [
      "{'Darth Vader', 1000, 'Anakin'}\n",
      "{'Darth Vader', 1000, 'Anakin'}\n",
      "{1, 2, 3}\n"
     ]
    }
   ],
   "source": [
    "# Converting to a set\n",
    "\n",
    "star_wars_list = [\"Anakin\", \"Darth Vader\", 1000, \"Anakin\"]\n",
    "star_wars_tup = (\"Anakin\", \"Darth Vader\", 1000, 1000)\n",
    "star_wars_dict = {1: \"Anakin\", 2: \"Darth Vader\", 3: 1000}\n",
    "\n",
    "star_wars_set = set(star_wars_list)  # Converting from list\n",
    "print(star_wars_set)\n",
    "\n",
    "star_wars_set = set(star_wars_tup)  # Converting from tuple\n",
    "print(star_wars_set)\n",
    "\n",
    "star_wars_set = set(star_wars_dict)  # Converting from dictionary\n",
    "print(star_wars_set)"
   ]
  },
  {
   "cell_type": "code",
   "execution_count": 78,
   "metadata": {},
   "outputs": [
    {
     "name": "stdout",
     "output_type": "stream",
     "text": [
      "{1: 'Anakin', 2: 'Darth Vader', 3: 1000}\n",
      "{1: 'Anakin', 2: 'Darth Vader', 3: 1000}\n",
      "{1: 'Anakin', 2: 'Darth Vader', 3: 1000}\n"
     ]
    }
   ],
   "source": [
    "# Convering to a dictionary\n",
    "\n",
    "star_wars_list = [[1,\"Anakin\"], [2,\"Darth Vader\"], [3, 1000]]\n",
    "star_wars_tup = ((1, \"Anakin\"), (2, \"Darth Vader\"), (3, 1000))\n",
    "star_wars_set = {(1, \"Anakin\"), (2, \"Darth Vader\"), (3, 1000)}\n",
    "\n",
    "star_wars_dict = dict(star_wars_list) # Converting from list\n",
    "print(star_wars_dict)\n",
    "\n",
    "star_wars_dict = dict(star_wars_tup) # Converting from tuple\n",
    "print(star_wars_dict)\n",
    "\n",
    "star_wars_dict = dict(star_wars_set) # Converting from set\n",
    "print(star_wars_dict)"
   ]
  },
  {
   "cell_type": "markdown",
   "metadata": {},
   "source": [
    "## Exercise: From List to Tuple\n",
    "\n",
    "You are given a list called my_list. Using this list, you must create a tuple called my_tuple. The tuple will contain the list’s first element, last element, and the length of the list, in that same order."
   ]
  },
  {
   "cell_type": "code",
   "execution_count": 80,
   "metadata": {},
   "outputs": [
    {
     "name": "stdout",
     "output_type": "stream",
     "text": [
      "(34, 'Hannibal', 5)\n"
     ]
    }
   ],
   "source": [
    "my_list = [34, 82.6, \"Darth Vader\", 17, \"Hannibal\"]\n",
    "\n",
    "my_tuple = tuple([my_list[0], my_list[-1], len(my_list)])\n",
    "\n",
    "print(my_tuple)"
   ]
  },
  {
   "cell_type": "markdown",
   "metadata": {},
   "source": [
    "## Exercise: Kth Maximum Integer in a List\n",
    "\n",
    "Given a list of integers and a number k, find the kth largest integer in the list. The integer will be stored in the kth_max variable.\n",
    "\n",
    "For example, with a list of 7 integers, if k = 2, then kth_max will be equal to the second-largest integer in the list. If k = 6, kth_max will equal the 6th largest integer."
   ]
  },
  {
   "cell_type": "code",
   "execution_count": 82,
   "metadata": {},
   "outputs": [
    {
     "name": "stdout",
     "output_type": "stream",
     "text": [
      "235\n"
     ]
    }
   ],
   "source": [
    "test_list = [5,53,235,6345,23,3,21,34,4]\n",
    "k=2\n",
    "\n",
    "test_list.sort(reverse=True)\n",
    "kth_max = test_list[k-1]\n",
    "print(kth_max)"
   ]
  },
  {
   "cell_type": "markdown",
   "metadata": {},
   "source": [
    "## Exercise: Highs and Lows\n",
    "\n",
    "You must implement the count_low_high() function. Its parameter is a list of numbers.\n",
    "\n",
    "If a number is greater than 50 or divisible by 3, it will count as a high. If these conditions are not met, the number is considered a low.\n",
    "\n",
    "At the end of the function, you must return a list that contains the number of lows and highs, in that order.\n",
    "\n",
    "In case the list is empty, you may return None."
   ]
  },
  {
   "cell_type": "code",
   "execution_count": 94,
   "metadata": {},
   "outputs": [],
   "source": [
    "num_list = [20, 9, 51, 81, 50, 42, 77]\n",
    "\n",
    "def count_low_high(num_list):\n",
    "    highs = [i for i in num_list if i > 50 or i %3 == 0]\n",
    "    return [len([i for i in num_list if i not in highs]), len(highs)]"
   ]
  },
  {
   "cell_type": "code",
   "execution_count": 95,
   "metadata": {},
   "outputs": [
    {
     "data": {
      "text/plain": [
       "[2, 5]"
      ]
     },
     "execution_count": 95,
     "metadata": {},
     "output_type": "execute_result"
    }
   ],
   "source": [
    "count_low_high(num_list)"
   ]
  }
 ],
 "metadata": {
  "kernelspec": {
   "display_name": "Python 3",
   "language": "python",
   "name": "python3"
  },
  "language_info": {
   "codemirror_mode": {
    "name": "ipython",
    "version": 3
   },
   "file_extension": ".py",
   "mimetype": "text/x-python",
   "name": "python",
   "nbconvert_exporter": "python",
   "pygments_lexer": "ipython3",
   "version": "3.8.6"
  },
  "toc": {
   "base_numbering": 1,
   "nav_menu": {},
   "number_sections": true,
   "sideBar": true,
   "skip_h1_title": false,
   "title_cell": "Table of Contents",
   "title_sidebar": "Contents",
   "toc_cell": false,
   "toc_position": {},
   "toc_section_display": true,
   "toc_window_display": false
  }
 },
 "nbformat": 4,
 "nbformat_minor": 4
}
