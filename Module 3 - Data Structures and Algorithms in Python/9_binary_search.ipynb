{
 "cells": [
  {
   "cell_type": "markdown",
   "metadata": {},
   "source": [
    "# Binary Search\n",
    "\n",
    "Binary Search is a technique that allows you to search an ordered list of elements using a divide-and-conquer strategy."
   ]
  },
  {
   "cell_type": "markdown",
   "metadata": {},
   "source": [
    "## Introduction"
   ]
  },
  {
   "cell_type": "markdown",
   "metadata": {},
   "source": [
    "### Linear Search\n",
    "\n",
    "Linear search is when you iterate through an array looking for your target element. Essentially, it means sequentially scanning all the elements in the array one by one until you find your target element."
   ]
  },
  {
   "cell_type": "code",
   "execution_count": 2,
   "metadata": {},
   "outputs": [],
   "source": [
    "# Linear Search Algo\n",
    "\n",
    "def linear_search(data, target):\n",
    "    for i in range(len(data)):\n",
    "        if data[i] == target:\n",
    "            return True\n",
    "    return False"
   ]
  },
  {
   "cell_type": "markdown",
   "metadata": {},
   "source": [
    "### Binary Search (Iterative)\n",
    "\n",
    "Binary search assumes that the array on which the search will take place is sorted in ascending order. In binary search, the target element is compared with the middle element of the array following which the next chunk of the array to be searched is decided."
   ]
  },
  {
   "cell_type": "code",
   "execution_count": 3,
   "metadata": {},
   "outputs": [],
   "source": [
    "def binary_search_iterative(data, target):\n",
    "    low = 0\n",
    "    high = len(data) - 1\n",
    "\n",
    "    while low <= high:\n",
    "        mid = (low + high) // 2\n",
    "        if target == data[mid]:\n",
    "            return True\n",
    "        elif target < data[mid]:\n",
    "            high = mid - 1\n",
    "        else:\n",
    "            low = mid + 1\n",
    "    return False "
   ]
  },
  {
   "cell_type": "markdown",
   "metadata": {},
   "source": [
    "### Binary Search (Recursive)\n",
    "\n",
    "In the recursive approach, in addition to data and target, low and high are also passed as input parameters to binary_search_recursive. This is to help us code our base case."
   ]
  },
  {
   "cell_type": "code",
   "execution_count": 4,
   "metadata": {},
   "outputs": [],
   "source": [
    "def binary_search_recursive(data, target, low, high):\n",
    "    if low > high:\n",
    "        return False\n",
    "    else:\n",
    "        mid = (low + high) // 2\n",
    "        if target == data[mid]:\n",
    "            return True\n",
    "        elif target < data[mid]:\n",
    "            return binary_search_recursive(data, target, low, mid-1)\n",
    "        else:\n",
    "            return binary_search_recursive(data, target, mid+1, high)"
   ]
  },
  {
   "cell_type": "markdown",
   "metadata": {},
   "source": [
    "### Testing it all out"
   ]
  },
  {
   "cell_type": "code",
   "execution_count": 12,
   "metadata": {},
   "outputs": [
    {
     "name": "stdout",
     "output_type": "stream",
     "text": [
      "Target = 37:\n",
      "Linear Search Iterative: True\n",
      "Binary Search Iterative: True\n",
      "Binary Search Recursive: True\n",
      "\n",
      "\n",
      "Target = 15:\n",
      "Linear Search Iterative: False\n",
      "Binary Search Iterative: False\n",
      "Binary Search Recursive: False\n"
     ]
    }
   ],
   "source": [
    "data = [2,4,5,7,8,9,12,14,17,19,22,25,27,28,33,37]\n",
    "target = 37\n",
    "\n",
    "print('Target = {}:'.format(target))\n",
    "print(\"Linear Search Iterative: \" + str(linear_search(data, target)))\n",
    "print(\"Binary Search Iterative: \" + str(binary_search_iterative(data, target)))\n",
    "print(\"Binary Search Recursive: \" + str(binary_search_recursive(data, target, 0, len(data)-1)))\n",
    "print('\\n')\n",
    "\n",
    "\n",
    "target = 15\n",
    "\n",
    "print('Target = {}:'.format(target))\n",
    "print(\"Linear Search Iterative: \" + str(linear_search(data, target)))\n",
    "print(\"Binary Search Iterative: \" + str(binary_search_iterative(data, target)))\n",
    "print(\"Binary Search Recursive: \" + str(binary_search_recursive(data, target, 0, len(data)-1)))"
   ]
  },
  {
   "cell_type": "markdown",
   "metadata": {},
   "source": [
    "## Finding the closest number in an array"
   ]
  },
  {
   "cell_type": "code",
   "execution_count": 13,
   "metadata": {},
   "outputs": [
    {
     "name": "stdout",
     "output_type": "stream",
     "text": [
      "9\n",
      "5\n"
     ]
    }
   ],
   "source": [
    "A1 = [1, 2, 4, 5, 6, 6, 8, 9]\n",
    "A2 = [2, 5, 6, 7, 8, 8, 9]\n",
    "\n",
    "\n",
    "def find_closest_num(A, target):\n",
    "    min_diff = min_diff_left = min_diff_right = float(\"inf\")\n",
    "    low = 0\n",
    "    high = len(A) - 1\n",
    "    closest_num = None\n",
    "\n",
    "    # Edge cases for empty list of list\n",
    "    # with only one element:\n",
    "    if len(A) == 0:\n",
    "        return None\n",
    "    if len(A) == 1:\n",
    "        return A[0]\n",
    "\n",
    "    while low <= high:\n",
    "        mid = (low + high)//2\n",
    "\n",
    "        # Ensure you do not read beyond the bounds\n",
    "        # of the list.\n",
    "        if mid+1 < len(A):\n",
    "            min_diff_right = abs(A[mid + 1] - target)\n",
    "        if mid > 0:\n",
    "            min_diff_left = abs(A[mid - 1] - target)\n",
    "\n",
    "        # Check if the absolute value between left\n",
    "        # and right elements are smaller than any\n",
    "        # seen prior.\n",
    "        if min_diff_left < min_diff:\n",
    "            min_diff = min_diff_left\n",
    "            closest_num = A[mid - 1]\n",
    "\n",
    "        if min_diff_right < min_diff:\n",
    "            min_diff = min_diff_right\n",
    "            closest_num = A[mid + 1]\n",
    "\n",
    "        # Move the mid-point appropriately as is done\n",
    "        # via binary search.\n",
    "        if A[mid] < target:\n",
    "            low = mid + 1\n",
    "        elif A[mid] > target:\n",
    "            high = mid - 1\n",
    "            if high < 0:\n",
    "                return A[mid]\n",
    "        # If the element itself is the target, the closest\n",
    "        # number to it is itself. Return the number.\n",
    "        else:\n",
    "            return A[mid]\n",
    "    return closest_num\n",
    "\n",
    "\n",
    "print(find_closest_num(A1, 11))\n",
    "print(find_closest_num(A2, 4))"
   ]
  },
  {
   "cell_type": "markdown",
   "metadata": {},
   "source": [
    "## Find Fixed Number\n",
    "\n",
    "Given an array of n distinct integers sorted in ascending order, write a function that returns a fixed point in the array. If there is not a fixed point, return None.\n",
    "\n",
    "A fixed point in an array A is an index i such that A[i] is equal to i."
   ]
  },
  {
   "cell_type": "code",
   "execution_count": 17,
   "metadata": {},
   "outputs": [],
   "source": [
    "# Brute Force Naive Linear Approach\n",
    "# Time Complexity: O(n)\n",
    "# Space Complexity: O(1)\n",
    "def find_fixed_point_linear(A):\n",
    "    for i in range(len(A)):\n",
    "        if A[i] == i:\n",
    "            return A[i]\n",
    "    return None"
   ]
  },
  {
   "cell_type": "code",
   "execution_count": 18,
   "metadata": {},
   "outputs": [],
   "source": [
    "# Better more efficient solution\n",
    "# Time Complexity: O(log n)\n",
    "# Space Complexity: O(1)\n",
    "def find_fixed_point(A):\n",
    "    low = 0\n",
    "    high = len(A) - 1\n",
    "\n",
    "    while low <= high:\n",
    "        mid = (low + high)//2\n",
    "\n",
    "        if A[mid] < mid:\n",
    "            low = mid + 1\n",
    "        elif A[mid] > mid:\n",
    "            high = mid - 1\n",
    "        else:\n",
    "            return A[mid]\n",
    "    return None"
   ]
  },
  {
   "cell_type": "code",
   "execution_count": 20,
   "metadata": {},
   "outputs": [
    {
     "name": "stdout",
     "output_type": "stream",
     "text": [
      "Linear Approach\n",
      "[-10, -5, 0, 3, 7]\n",
      "3\n",
      "\n",
      "\n",
      "[0, 2, 5, 8, 17]\n",
      "0\n",
      "\n",
      "\n",
      "[-10, -5, 3, 4, 7, 9]\n",
      "None\n",
      "\n",
      "\n",
      "Binary Search Approach\n",
      "[-10, -5, 0, 3, 7]\n",
      "3\n",
      "\n",
      "\n",
      "[0, 2, 5, 8, 17]\n",
      "0\n",
      "\n",
      "\n",
      "[-10, -5, 3, 4, 7, 9]\n",
      "None\n",
      "\n",
      "\n"
     ]
    }
   ],
   "source": [
    "# Fixed point is 3:\n",
    "A1 = [-10, -5, 0, 3, 7]\n",
    "\n",
    "# Fixed point is 0:\n",
    "A2 = [0, 2, 5, 8, 17]\n",
    "\n",
    "# No fixed point. Return \"None\":\n",
    "A3 = [-10, -5, 3, 4, 7, 9]\n",
    "\n",
    "print(\"Linear Approach\")\n",
    "print(A1)\n",
    "print(find_fixed_point_linear(A1))\n",
    "print('\\n')\n",
    "print(A2)\n",
    "print(find_fixed_point_linear(A2))\n",
    "print('\\n')\n",
    "print(A3)\n",
    "print(find_fixed_point_linear(A3))\n",
    "print('\\n')\n",
    "print(\"Binary Search Approach\")\n",
    "print(A1)\n",
    "print(find_fixed_point(A1))\n",
    "print('\\n')\n",
    "print(A2)\n",
    "print(find_fixed_point(A2))\n",
    "print('\\n')\n",
    "print(A3)\n",
    "print(find_fixed_point(A3))\n",
    "print('\\n')"
   ]
  },
  {
   "cell_type": "markdown",
   "metadata": {},
   "source": [
    "## Find Bitonic Peak\n",
    "\n",
    "In this lesson, we will be given an array that is bitonically sorted, an array that starts off with increasing terms and then concludes with decreasing terms. In any such sequence, there is a “peak” element which is the largest element in the sequence. We will be writing a solution to help us find the peak element of a bitonic sequence."
   ]
  },
  {
   "cell_type": "code",
   "execution_count": 42,
   "metadata": {},
   "outputs": [],
   "source": [
    "# Linear Search method\n",
    "\n",
    "def find_highest_number_linear_search(A):\n",
    "    for i in range(len(A[:-1])):\n",
    "        if A[i + 1] < A[i]:\n",
    "            return A[i]\n",
    "    return False"
   ]
  },
  {
   "cell_type": "code",
   "execution_count": 43,
   "metadata": {},
   "outputs": [
    {
     "name": "stdout",
     "output_type": "stream",
     "text": [
      "5\n",
      "6\n",
      "False\n",
      "5\n"
     ]
    }
   ],
   "source": [
    "# Peak element is \"5\".\n",
    "A = [1, 2, 3, 4, 5, 4, 3, 2, 1]\n",
    "print(find_highest_number_linear_search(A))\n",
    "A = [1, 6, 5, 4, 3, 2, 1]\n",
    "print(find_highest_number_linear_search(A))\n",
    "A = [1, 2, 3, 4, 5]\n",
    "print(find_highest_number_linear_search(A))\n",
    "A = [5, 4, 3, 2, 1]\n",
    "print(find_highest_number_linear_search(A))"
   ]
  },
  {
   "cell_type": "code",
   "execution_count": 44,
   "metadata": {},
   "outputs": [],
   "source": [
    "# Binary Search Method\n",
    "\n",
    "def find_highest_number_binary_search(A):\n",
    "    low = 0\n",
    "    high = len(A) - 1\n",
    "\n",
    "    # Require at least 3 elements for a bitonic sequence.\n",
    "    if len(A) < 3:\n",
    "        return None\n",
    "\n",
    "    while low <= high:\n",
    "        mid = (low + high)//2\n",
    "\n",
    "        mid_left = A[mid - 1] if mid - 1 >=0 else float(\"-inf\")\n",
    "        mid_right = A[mid + 1] if mid + 1 < len(A) else float(\"inf\")\n",
    "\n",
    "        if mid_left < A[mid] and mid_right > A[mid]:\n",
    "            low = mid + 1\n",
    "        elif mid_left > A[mid] and mid_right < A[mid]:\n",
    "            high = mid - 1\n",
    "        elif mid_left < A[mid] and mid_right < A[mid]:\n",
    "            return A[mid]\n",
    "    return None"
   ]
  },
  {
   "cell_type": "code",
   "execution_count": 45,
   "metadata": {},
   "outputs": [
    {
     "name": "stdout",
     "output_type": "stream",
     "text": [
      "5\n",
      "6\n",
      "None\n",
      "5\n"
     ]
    }
   ],
   "source": [
    "# Peak element is \"5\".\n",
    "A = [1, 2, 3, 4, 5, 4, 3, 2, 1]\n",
    "print(find_highest_number_binary_search(A))\n",
    "A = [1, 6, 5, 4, 3, 2, 1]\n",
    "print(find_highest_number_binary_search(A))\n",
    "A = [1, 2, 3, 4, 5]\n",
    "print(find_highest_number_binary_search(A))\n",
    "A = [5, 4, 3, 2, 1]\n",
    "print(find_highest_number_binary_search(A))"
   ]
  },
  {
   "cell_type": "markdown",
   "metadata": {},
   "source": [
    "## Find First Matching Entry\n",
    "\n",
    "In this lesson, we will be writing a function that takes an array of sorted integers and a target and returns the index of the first occurrence of that target from the array."
   ]
  },
  {
   "cell_type": "code",
   "execution_count": 51,
   "metadata": {},
   "outputs": [],
   "source": [
    "# Linear Method\n",
    "\n",
    "def find(A,target):\n",
    "    for i in range(len(A)):\n",
    "        if A[i] == target:\n",
    "            return i\n",
    "        return None"
   ]
  },
  {
   "cell_type": "code",
   "execution_count": 52,
   "metadata": {},
   "outputs": [
    {
     "name": "stdout",
     "output_type": "stream",
     "text": [
      "3\n"
     ]
    }
   ],
   "source": [
    "# Binary Search Method\n",
    "\n",
    "def find(A, target):\n",
    "    low = 0\n",
    "    high = len(A) - 1\n",
    "\n",
    "    while low <= high:\n",
    "        mid = (low + high) // 2\n",
    "\n",
    "        if A[mid] < target:\n",
    "            low = mid + 1\n",
    "        elif A[mid] > target:\n",
    "            high = mid - 1\n",
    "        else:\n",
    "            if mid - 1 < 0:\n",
    "                return mid\n",
    "            if A[mid - 1] != target:\n",
    "                return mid\n",
    "            high = mid - 1\n",
    "\n",
    "A = [-14, -10, 2, 108, 108, 243, 285, 285, 285, 401]\n",
    "target = 108\n",
    "x = find(A, target)\n",
    "print(x)"
   ]
  },
  {
   "cell_type": "markdown",
   "metadata": {},
   "source": [
    "## Python's Bisect Method\n",
    "\n",
    "In this lesson, we will be writing a function that takes an array of sorted integers and a key and returns the index of the first occurrence of that key from the array.\n",
    "\n",
    "We introduce to you: the bisect module in Python! Bisect is a built-in binary search method in Python. It can be used to search for an element in a sorted list. Let’s see how we make use of different methods provided by the bisect module."
   ]
  },
  {
   "cell_type": "code",
   "execution_count": 54,
   "metadata": {},
   "outputs": [
    {
     "name": "stdout",
     "output_type": "stream",
     "text": [
      "1\n",
      "6\n"
     ]
    }
   ],
   "source": [
    "# Bisect Left\n",
    "# In the event where duplicate entries are satisfying the target element, \n",
    "# the bisect_left function returns the left-most occurrence.\n",
    "\n",
    "import bisect\n",
    "\n",
    "A = [-14, -10, 2, 108, 108, 243, 285, 285, 285, 401]\n",
    "\n",
    "print(bisect.bisect_left(A, -10))\n",
    "print(bisect.bisect_left(A, 285))"
   ]
  },
  {
   "cell_type": "code",
   "execution_count": 55,
   "metadata": {},
   "outputs": [
    {
     "name": "stdout",
     "output_type": "stream",
     "text": [
      "2\n",
      "9\n"
     ]
    }
   ],
   "source": [
    "# Bisect Right\n",
    "# Return the insertion point which comes after, or to the right of, \n",
    "# any existing entries of the target element in the list.\n",
    "\n",
    "import bisect\n",
    "\n",
    "A = [-14, -10, 2, 108, 108, 243, 285, 285, 285, 401]\n",
    "\n",
    "print(bisect.bisect_right(A, -10))\n",
    "print(bisect.bisect_right(A, 285))"
   ]
  },
  {
   "cell_type": "code",
   "execution_count": 57,
   "metadata": {},
   "outputs": [
    {
     "name": "stdout",
     "output_type": "stream",
     "text": [
      "2\n",
      "9\n"
     ]
    }
   ],
   "source": [
    "# Bisect\n",
    "# This function is equivalent to bisect_right\n",
    "\n",
    "import bisect\n",
    "\n",
    "A = [-14, -10, 2, 108, 108, 243, 285, 285, 285, 401]\n",
    "\n",
    "print(bisect.bisect(A, -10))\n",
    "print(bisect.bisect(A, 285))"
   ]
  },
  {
   "cell_type": "code",
   "execution_count": 60,
   "metadata": {},
   "outputs": [
    {
     "name": "stdout",
     "output_type": "stream",
     "text": [
      "[-14, -10, 2, 108, 108, 243, 285, 285, 285, 401]\n",
      "[-14, -10, 2, 108, 108, 108, 243, 285, 285, 285, 401]\n",
      "[-14, -10, 2, 108, 108, 108, 108, 243, 285, 285, 285, 401]\n"
     ]
    }
   ],
   "source": [
    "# Insort Left & Insort Right\n",
    "import bisect\n",
    "\n",
    "A = [-14, -10, 2, 108, 108, 243, 285, 285, 285, 401]\n",
    "\n",
    "\n",
    "# These behave the same ans bisect_left and bisect_right but insert instead\n",
    "print(A)\n",
    "bisect.insort_left(A, 108)\n",
    "print(A)\n",
    "\n",
    "bisect.insort_right(A, 108)\n",
    "print(A)"
   ]
  },
  {
   "cell_type": "markdown",
   "metadata": {},
   "source": [
    "## Exercise: Integer Square Root\n",
    "\n",
    "You are required to write a function that takes a non-negative integer, k, and returns the largest integer whose square is less than or equal to the specified integer k."
   ]
  },
  {
   "cell_type": "code",
   "execution_count": null,
   "metadata": {},
   "outputs": [],
   "source": [
    "def integer_square_root(k):\n",
    "    \n",
    "    # Get min and max values for range\n",
    "    low = 0\n",
    "    high = k \n",
    "\n",
    "    # While anything to search\n",
    "    while low <= high:\n",
    "        # Calc midpoint\n",
    "        mid = (low + high) // 2\n",
    "        mid_squared = mid * mid\n",
    "\n",
    "        # Change search range according to mid ^ 2\n",
    "        if mid_squared <= k:\n",
    "            low = mid + 1\n",
    "        else:\n",
    "            high = mid - 1\n",
    "    # Answer is the last low index - 1\n",
    "    return low - 1"
   ]
  },
  {
   "cell_type": "markdown",
   "metadata": {},
   "source": [
    "## Exercise: Cyclically Shifted Array\n",
    "\n",
    "You are required to write a function that determines the index of the smallest element of the cyclically shifted array.\n",
    "\n",
    "An array is “cyclically shifted” if it is possible to shift its entries cyclically so that it becomes sorted."
   ]
  },
  {
   "cell_type": "code",
   "execution_count": null,
   "metadata": {},
   "outputs": [],
   "source": [
    "# Kinda cheating way utilizing Built-in python methods\n",
    "\n",
    "def find(A):\n",
    "    min_value = min(A)\n",
    "    return A.index(min_value)"
   ]
  },
  {
   "cell_type": "code",
   "execution_count": 61,
   "metadata": {},
   "outputs": [],
   "source": [
    "# Linear Search Method\n",
    "\n",
    "def find(A):\n",
    "    min_index = 0\n",
    "    for i in range(len(A)):\n",
    "        if A[i] < A[i-1]:\n",
    "            min_index = i\n",
    "    return min_index"
   ]
  },
  {
   "cell_type": "code",
   "execution_count": null,
   "metadata": {},
   "outputs": [],
   "source": [
    "# Binary Search Method\n",
    "\n",
    "def find(A):\n",
    "    low = 0\n",
    "    high = len(A) - 1\n",
    "\n",
    "    while low < high:\n",
    "        mid = (low + high) // 2\n",
    "\n",
    "        if A[mid] > A[high]:\n",
    "            low = mid + 1\n",
    "        elif A[mid] <= A[high]:\n",
    "            high = mid\n",
    "\n",
    "    return low"
   ]
  }
 ],
 "metadata": {
  "kernelspec": {
   "display_name": "Python 3",
   "language": "python",
   "name": "python3"
  },
  "language_info": {
   "codemirror_mode": {
    "name": "ipython",
    "version": 3
   },
   "file_extension": ".py",
   "mimetype": "text/x-python",
   "name": "python",
   "nbconvert_exporter": "python",
   "pygments_lexer": "ipython3",
   "version": "3.8.6"
  },
  "toc": {
   "base_numbering": 1,
   "nav_menu": {},
   "number_sections": true,
   "sideBar": true,
   "skip_h1_title": false,
   "title_cell": "Table of Contents",
   "title_sidebar": "Contents",
   "toc_cell": false,
   "toc_position": {},
   "toc_section_display": true,
   "toc_window_display": false
  }
 },
 "nbformat": 4,
 "nbformat_minor": 4
}
