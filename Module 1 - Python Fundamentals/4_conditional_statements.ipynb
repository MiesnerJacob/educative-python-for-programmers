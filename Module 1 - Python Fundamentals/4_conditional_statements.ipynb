{
 "cells": [
  {
   "cell_type": "markdown",
   "metadata": {},
   "source": [
    "# Conditional Statements"
   ]
  },
  {
   "cell_type": "code",
   "execution_count": 2,
   "metadata": {},
   "outputs": [],
   "source": [
    "# if condtional statement is True:\n",
    "#     # execute expression1\n",
    "#     pass\n",
    "# else:\n",
    "#     # execute expression2\n",
    "#     pass"
   ]
  },
  {
   "cell_type": "markdown",
   "metadata": {},
   "source": [
    "## The if Statement"
   ]
  },
  {
   "cell_type": "code",
   "execution_count": 4,
   "metadata": {},
   "outputs": [
    {
     "name": "stdout",
     "output_type": "stream",
     "text": [
      "The number is equal to 5\n"
     ]
    }
   ],
   "source": [
    "# The flow of an if statement\n",
    "\n",
    "num = 5\n",
    "\n",
    "if (num == 5):  # The condition is true\n",
    "    print(\"The number is equal to 5\")  # The code is executed\n",
    "\n",
    "if num > 5:  # The condtion is false\n",
    "    print(\"The number is greater than 5\")  # The code is not executed"
   ]
  },
  {
   "cell_type": "code",
   "execution_count": 5,
   "metadata": {},
   "outputs": [
    {
     "name": "stdout",
     "output_type": "stream",
     "text": [
      "The number is a multiple of 2, 3, and 4\n",
      "The number is a multiple of 5 and/or 6\n"
     ]
    }
   ],
   "source": [
    "# Conditions with logical operators\n",
    "\n",
    "num = 12\n",
    "\n",
    "if num % 2 == 0 and num % 3 == 0 and num % 4 == 0:\n",
    "    # Only works when num is a multiple of 2, 3, and 4\n",
    "    print(\"The number is a multiple of 2, 3, and 4\")\n",
    "\n",
    "if (num % 5 == 0 or num % 6 == 0):\n",
    "    # Only works when num is either a multiple of 5 or 6\n",
    "    print(\"The number is a multiple of 5 and/or 6\")"
   ]
  },
  {
   "cell_type": "code",
   "execution_count": 6,
   "metadata": {},
   "outputs": [
    {
     "name": "stdout",
     "output_type": "stream",
     "text": [
      "The number is in the 60-70 range\n"
     ]
    }
   ],
   "source": [
    "# Nested if Statements\n",
    "\n",
    "num = 63\n",
    "\n",
    "if num >= 0 and num <= 100:\n",
    "    if num >= 50 and num <= 75:\n",
    "        if num >= 60 and num <= 70:\n",
    "            print(\"The number is in the 60-70 range\")"
   ]
  },
  {
   "cell_type": "code",
   "execution_count": 7,
   "metadata": {},
   "outputs": [
    {
     "name": "stdout",
     "output_type": "stream",
     "text": [
      "20\n",
      "100\n"
     ]
    }
   ],
   "source": [
    "# Creating and editing values\n",
    "\n",
    "num = 10\n",
    "if num > 5:\n",
    "    num = 20  # Assigning a new value to num\n",
    "    new_num = num * 5  # Creating a new value called newNum\n",
    "\n",
    "# The if condition ends, but the changes made inside it remain\n",
    "print(num)\n",
    "print(new_num)"
   ]
  },
  {
   "cell_type": "markdown",
   "metadata": {},
   "source": [
    "## The if-else Statement"
   ]
  },
  {
   "cell_type": "code",
   "execution_count": 8,
   "metadata": {},
   "outputs": [
    {
     "name": "stdout",
     "output_type": "stream",
     "text": [
      "The number is greater than 50\n"
     ]
    }
   ],
   "source": [
    "# The flow of an if-else statement\n",
    "\n",
    "num = 60\n",
    "\n",
    "if num <= 50:\n",
    "    print(\"The number is less than or equal to 50\")\n",
    "else:\n",
    "    print(\"The number is greater than 50\")"
   ]
  },
  {
   "cell_type": "code",
   "execution_count": 9,
   "metadata": {},
   "outputs": [
    {
     "name": "stdout",
     "output_type": "stream",
     "text": [
      "The number is greater than 50\n"
     ]
    }
   ],
   "source": [
    "# Benefits of if-else\n",
    "\n",
    "num = 60\n",
    "\n",
    "if num <= 50:\n",
    "    print(\"The number is less than or equal to 50\")\n",
    "\n",
    "if num > 50:\n",
    "    print(\"The number is greater than 50\")"
   ]
  },
  {
   "cell_type": "code",
   "execution_count": 10,
   "metadata": {},
   "outputs": [
    {
     "ename": "SyntaxError",
     "evalue": "unexpected character after line continuation character (<ipython-input-10-21994f00cb45>, line 5)",
     "output_type": "error",
     "traceback": [
      "\u001b[0;36m  File \u001b[0;32m\"<ipython-input-10-21994f00cb45>\"\u001b[0;36m, line \u001b[0;32m5\u001b[0m\n\u001b[0;31m    output = \"The number is less than or equal to 50\" \\ # using backslash for line continuation\u001b[0m\n\u001b[0m                                                                                                ^\u001b[0m\n\u001b[0;31mSyntaxError\u001b[0m\u001b[0;31m:\u001b[0m unexpected character after line continuation character\n"
     ]
    }
   ],
   "source": [
    "# Conditional Expressions\n",
    "\n",
    "num = 60\n",
    "\n",
    "output = \"The number is less than or equal to 50\" \\ # using backslash for line continuation \n",
    "    if num <= 50 else \"The number is greater than 50\"\n",
    "\n",
    "print(output)"
   ]
  },
  {
   "cell_type": "markdown",
   "metadata": {},
   "source": [
    "## The if-elif-else Statement"
   ]
  },
  {
   "cell_type": "code",
   "execution_count": 11,
   "metadata": {},
   "outputs": [
    {
     "name": "stdout",
     "output_type": "stream",
     "text": [
      "Stop\n"
     ]
    }
   ],
   "source": [
    "# The flow of an if-elif-else statement\n",
    "\n",
    "light = \"Red\"\n",
    "\n",
    "if light == \"Green\":\n",
    "    print(\"Go\")\n",
    "\n",
    "elif light == \"Yellow\":\n",
    "    print(\"Caution\")\n",
    "\n",
    "elif light == \"Red\":\n",
    "    print(\"Stop\")\n",
    "\n",
    "else:\n",
    "    print(\"Incorrect light signal\")"
   ]
  },
  {
   "cell_type": "code",
   "execution_count": 12,
   "metadata": {},
   "outputs": [
    {
     "name": "stdout",
     "output_type": "stream",
     "text": [
      "Five\n"
     ]
    }
   ],
   "source": [
    "# Multiple elifs\n",
    "\n",
    "num = 5\n",
    "\n",
    "if num == 0:\n",
    "    print(\"Zero\")\n",
    "elif num == 1:\n",
    "    print(\"One\")\n",
    "elif num == 2:\n",
    "    print(\"Two\")\n",
    "elif num == 3:\n",
    "    print(\"Three\")\n",
    "elif num == 4:\n",
    "    print(\"Four\")\n",
    "elif num == 5:\n",
    "    print(\"Five\")\n",
    "elif num == 6:\n",
    "    print(\"Six\")\n",
    "elif num == 7:\n",
    "    print(\"Seven\")\n",
    "elif num == 8:\n",
    "    print(\"Eight\")\n",
    "elif num == 9:\n",
    "    print(\"Nine\")"
   ]
  },
  {
   "cell_type": "markdown",
   "metadata": {},
   "source": [
    "## Exercise: Discounted Price\n",
    "\n",
    "In this challenge, you must discount a price according to its value.\n",
    "\n",
    "* If the price is 300 or above, there will be a 30% discount.\n",
    "\n",
    "* If the price is between 200 and 300 (200 inclusive), there will be a 20% discount.\n",
    "\n",
    "* If the price is between 100 and 200 (100 inclusive), there will be a 10% discount.\n",
    "\n",
    "* If the price is less than 100, there will be a 5% discount.\n",
    "\n",
    "* If the price is negative, there will be no discount."
   ]
  },
  {
   "cell_type": "code",
   "execution_count": 14,
   "metadata": {},
   "outputs": [
    {
     "name": "stdout",
     "output_type": "stream",
     "text": [
      "200.0\n"
     ]
    }
   ],
   "source": [
    "price = 250\n",
    "\n",
    "if price >= 300:\n",
    "    price *= 0.7  # (1 - 0.3)\n",
    "elif price >= 200:\n",
    "    price *= 0.8  # (1 - 0.2)\n",
    "elif price >= 100:\n",
    "    price *= 0.9  # (1 - 0.1)\n",
    "elif price < 100 and price >= 0:\n",
    "    price *= 0.95  # (1 - 0.05)\n",
    "\n",
    "print(price)"
   ]
  }
 ],
 "metadata": {
  "kernelspec": {
   "display_name": "Python 3",
   "language": "python",
   "name": "python3"
  },
  "language_info": {
   "codemirror_mode": {
    "name": "ipython",
    "version": 3
   },
   "file_extension": ".py",
   "mimetype": "text/x-python",
   "name": "python",
   "nbconvert_exporter": "python",
   "pygments_lexer": "ipython3",
   "version": "3.8.6"
  },
  "toc": {
   "base_numbering": 1,
   "nav_menu": {},
   "number_sections": true,
   "sideBar": true,
   "skip_h1_title": false,
   "title_cell": "Table of Contents",
   "title_sidebar": "Contents",
   "toc_cell": false,
   "toc_position": {},
   "toc_section_display": true,
   "toc_window_display": false
  }
 },
 "nbformat": 4,
 "nbformat_minor": 4
}
