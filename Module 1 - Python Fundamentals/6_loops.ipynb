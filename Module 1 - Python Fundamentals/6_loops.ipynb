{
 "cells": [
  {
   "cell_type": "markdown",
   "metadata": {},
   "source": [
    "# Loops"
   ]
  },
  {
   "cell_type": "markdown",
   "metadata": {},
   "source": [
    "## The for Loops"
   ]
  },
  {
   "cell_type": "code",
   "execution_count": 2,
   "metadata": {},
   "outputs": [
    {
     "name": "stdout",
     "output_type": "stream",
     "text": [
      "1  is odd\n",
      "2  is even\n",
      "3  is odd\n",
      "4  is even\n",
      "5  is odd\n",
      "6  is even\n",
      "7  is odd\n",
      "8  is even\n",
      "9  is odd\n",
      "10  is even\n"
     ]
    }
   ],
   "source": [
    "# Looping through a range\n",
    "\n",
    "for i in range(1, 11):  # A sequence from 1 to 10\n",
    "    if i % 2 == 0:\n",
    "        print(i, \" is even\")\n",
    "    else:\n",
    "        print(i, \" is odd\")"
   ]
  },
  {
   "cell_type": "code",
   "execution_count": 3,
   "metadata": {},
   "outputs": [
    {
     "name": "stdout",
     "output_type": "stream",
     "text": [
      "[2.5, 16.42, 10.77, 8.3, 34.21]\n",
      "[5.0, 32.84, 21.54, 16.6, 68.42]\n"
     ]
    }
   ],
   "source": [
    "# Looping through a list/string\n",
    "\n",
    "float_list = [2.5, 16.42, 10.77, 8.3, 34.21]\n",
    "print(float_list)\n",
    "\n",
    "for i in range(0, len(float_list)):  # Iterator traverses to the last index of the list\n",
    "    float_list[i] = float_list[i] * 2\n",
    "\n",
    "print(float_list)"
   ]
  },
  {
   "cell_type": "markdown",
   "metadata": {},
   "source": [
    "## Nested for Loops"
   ]
  },
  {
   "cell_type": "code",
   "execution_count": 4,
   "metadata": {},
   "outputs": [
    {
     "name": "stdout",
     "output_type": "stream",
     "text": [
      "23 27\n",
      "27 23\n"
     ]
    }
   ],
   "source": [
    "# Using a nested for loop\n",
    "\n",
    "n = 50\n",
    "num_list = [10, 4, 23, 6, 18, 27, 47]\n",
    "\n",
    "for n1 in num_list:\n",
    "    for n2 in num_list:  # Now we have two iterators\n",
    "        if(n1 + n2 == n):\n",
    "            print(n1, n2)"
   ]
  },
  {
   "cell_type": "code",
   "execution_count": 6,
   "metadata": {},
   "outputs": [
    {
     "name": "stdout",
     "output_type": "stream",
     "text": [
      "23 27\n"
     ]
    }
   ],
   "source": [
    "# Using the break keyword\n",
    "\n",
    "n = 50\n",
    "num_list = [10, 4, 23, 6, 18, 27, 47]\n",
    "found = False  # This bool will become true once a pair is found\n",
    "\n",
    "for n1 in num_list:\n",
    "    for n2 in num_list:\n",
    "        if(n1 + n2 == n):\n",
    "            found = True  # Set found to True\n",
    "            break  # Break inner loop if a pair is found\n",
    "    if found:\n",
    "        print(n1, n2) # Print the pair\n",
    "        break  # Break outer loop if a pair is found"
   ]
  },
  {
   "cell_type": "code",
   "execution_count": 7,
   "metadata": {},
   "outputs": [
    {
     "name": "stdout",
     "output_type": "stream",
     "text": [
      "0\n",
      "1\n",
      "2\n",
      "4\n",
      "5\n",
      "7\n",
      "9\n"
     ]
    }
   ],
   "source": [
    "# Using the continue keyword\n",
    "\n",
    "num_list = list(range(0, 10))\n",
    "\n",
    "for num in num_list:\n",
    "    if num == 3 or num == 6 or num == 8:\n",
    "        continue\n",
    "    print(num)"
   ]
  },
  {
   "cell_type": "code",
   "execution_count": 8,
   "metadata": {},
   "outputs": [
    {
     "name": "stdout",
     "output_type": "stream",
     "text": [
      "20\n"
     ]
    }
   ],
   "source": [
    "# Using the pass keyword\n",
    "\n",
    "num_list = list(range(20))\n",
    "\n",
    "for num in num_list:\n",
    "    pass # You can write code here later on\n",
    "\n",
    "print(len(num_list)) "
   ]
  },
  {
   "cell_type": "markdown",
   "metadata": {},
   "source": [
    "## The while Loop"
   ]
  },
  {
   "cell_type": "code",
   "execution_count": 9,
   "metadata": {},
   "outputs": [
    {
     "name": "stdout",
     "output_type": "stream",
     "text": [
      "9\n"
     ]
    }
   ],
   "source": [
    "# while loop\n",
    "\n",
    "n = 2  # Could be any number\n",
    "power = 0\n",
    "val = n\n",
    "while val < 1000:\n",
    "    power += 1\n",
    "    val *= n\n",
    "print(power)"
   ]
  },
  {
   "cell_type": "markdown",
   "metadata": {},
   "source": [
    "## Exercise: Balanced Brackets\n",
    "\n",
    "Given a string containing only square brackets, [], you must check whether the brackets are balanced or not. The brackets are said to be balanced if, for every opening bracket, there is a closing bracket.\n",
    "\n",
    "You will write your code in the check_balance() function, which returns True if the brackets are balanced and False if they are not.\n",
    "\n",
    "For an empty string, the function will return True.\n",
    "\n",
    "For the sake of simplicity, you can assume that the string will not contain any other characters.\n",
    "\n",
    "Take some time to figure out how this problem can be solved using loops. While this problem can be solved in other ways, you should try to use the loop properties we have learned so far."
   ]
  },
  {
   "cell_type": "code",
   "execution_count": 10,
   "metadata": {},
   "outputs": [],
   "source": [
    "def check_balance(brackets):\n",
    "    left = 0\n",
    "    right = 0\n",
    "    for i in brackets:\n",
    "        if i == \"[\":\n",
    "            left += 1\n",
    "        elif i == \"]\":\n",
    "            right += 1\n",
    "    if left == right:\n",
    "        return True\n",
    "    else:\n",
    "        return False"
   ]
  },
  {
   "cell_type": "code",
   "execution_count": 11,
   "metadata": {},
   "outputs": [
    {
     "name": "stdout",
     "output_type": "stream",
     "text": [
      "False\n"
     ]
    }
   ],
   "source": [
    "bracket_string = '[[[[]]'\n",
    "\n",
    "print(check_balance(bracket_string))"
   ]
  },
  {
   "cell_type": "code",
   "execution_count": 12,
   "metadata": {},
   "outputs": [
    {
     "name": "stdout",
     "output_type": "stream",
     "text": [
      "True\n"
     ]
    }
   ],
   "source": [
    "bracket_string = '[[]]'\n",
    "\n",
    "print(check_balance(bracket_string))"
   ]
  },
  {
   "cell_type": "markdown",
   "metadata": {},
   "source": [
    "## Exercise: A Sum of Zero\n",
    "\n",
    "You must implement the check_sum() function which takes in a list and returns True if the sum of two numbers in the list is zero. If no such pair exists, return False.\n",
    "\n",
    "We’ll see in the future that there are several ways of approaching this problem. However, we urge you to try it with loops for now."
   ]
  },
  {
   "cell_type": "code",
   "execution_count": 15,
   "metadata": {},
   "outputs": [],
   "source": [
    "def check_sum(num_list):\n",
    "    for first_num in range(len(num_list)):\n",
    "        for second_num in range(first_num + 1, len(num_list)):\n",
    "            if num_list[first_num] + num_list[second_num] == 0:\n",
    "                return True\n",
    "    return False"
   ]
  },
  {
   "cell_type": "code",
   "execution_count": 16,
   "metadata": {},
   "outputs": [
    {
     "name": "stdout",
     "output_type": "stream",
     "text": [
      "True\n"
     ]
    }
   ],
   "source": [
    "num_list = [10, -14, 26, 5, -3, 13, -5]\n",
    "print(check_sum(num_list))"
   ]
  },
  {
   "cell_type": "markdown",
   "metadata": {},
   "source": [
    "## Exercise: Fibonacci Series\n",
    "\n",
    "As we saw earlier, the Fibonacci sequence is a series of numbers where every number is the sum of the two numbers before it. The first two numbers are 0 and 1. You must write the fib() function which takes in a positive integer, n, and returns the n-th Fibonacci number. However, instead of using recursion, your function must use any of the loops.\n",
    "\n",
    "Take some time to figure out how the recursive approach can be translated into an iterative one. Consider all edge cases that could occur.\n",
    "\n",
    "If n is negative or zero, return -1."
   ]
  },
  {
   "cell_type": "code",
   "execution_count": 17,
   "metadata": {},
   "outputs": [
    {
     "name": "stdout",
     "output_type": "stream",
     "text": [
      "8\n"
     ]
    }
   ],
   "source": [
    "def fib(n):\n",
    "    # The first and second values will always be fixed\n",
    "    first = 0\n",
    "    second = 1\n",
    "\n",
    "    if n < 1:\n",
    "        return -1\n",
    "\n",
    "    if n == 1:\n",
    "        return first\n",
    "\n",
    "    if n == 2:\n",
    "        return second\n",
    "\n",
    "    count = 3  # Starting from 3 because we already know the first two values\n",
    "    while count <= n:\n",
    "        fib_n = first + second\n",
    "        first = second\n",
    "        second = fib_n\n",
    "        count += 1  # Increment count in each iteration\n",
    "    return fib_n\n",
    "\n",
    "\n",
    "n = 7\n",
    "print(fib(n))"
   ]
  }
 ],
 "metadata": {
  "kernelspec": {
   "display_name": "Python 3",
   "language": "python",
   "name": "python3"
  },
  "language_info": {
   "codemirror_mode": {
    "name": "ipython",
    "version": 3
   },
   "file_extension": ".py",
   "mimetype": "text/x-python",
   "name": "python",
   "nbconvert_exporter": "python",
   "pygments_lexer": "ipython3",
   "version": "3.8.6"
  },
  "toc": {
   "base_numbering": 1,
   "nav_menu": {},
   "number_sections": true,
   "sideBar": true,
   "skip_h1_title": false,
   "title_cell": "Table of Contents",
   "title_sidebar": "Contents",
   "toc_cell": false,
   "toc_position": {},
   "toc_section_display": true,
   "toc_window_display": false
  }
 },
 "nbformat": 4,
 "nbformat_minor": 4
}
