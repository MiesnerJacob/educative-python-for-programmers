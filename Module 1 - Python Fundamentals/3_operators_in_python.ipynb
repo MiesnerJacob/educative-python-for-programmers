{
 "cells": [
  {
   "cell_type": "markdown",
   "metadata": {},
   "source": [
    "# Operators in Python"
   ]
  },
  {
   "cell_type": "markdown",
   "metadata": {},
   "source": [
    "The 5 main operator types in Python are:\n",
    "\n",
    "* arithmetic operators\n",
    "\n",
    "* comparison operators\n",
    "\n",
    "* assignment operators\n",
    "\n",
    "* logical operators\n",
    "\n",
    "* bitwise operators"
   ]
  },
  {
   "cell_type": "markdown",
   "metadata": {},
   "source": [
    "## Arithmetic Operators"
   ]
  },
  {
   "cell_type": "code",
   "execution_count": 3,
   "metadata": {},
   "outputs": [
    {
     "name": "stdout",
     "output_type": "stream",
     "text": [
      "15\n",
      "17.05\n",
      "30.5\n"
     ]
    }
   ],
   "source": [
    "# Addition\n",
    "\n",
    "print(10 + 5)\n",
    "\n",
    "float1 = 13.65\n",
    "float2 = 3.40\n",
    "print(float1 + float2)\n",
    "\n",
    "num = 20\n",
    "flt = 10.5\n",
    "print(num + flt)"
   ]
  },
  {
   "cell_type": "code",
   "execution_count": 4,
   "metadata": {},
   "outputs": [
    {
     "name": "stdout",
     "output_type": "stream",
     "text": [
      "5\n",
      "-22.228\n",
      "9.5\n"
     ]
    }
   ],
   "source": [
    "# Subtraction\n",
    "\n",
    "print(10 - 5)\n",
    "\n",
    "float1 = -18.678\n",
    "float2 = 3.55\n",
    "print(float1 - float2)\n",
    "\n",
    "num = 20\n",
    "flt = 10.5\n",
    "print(num - flt)"
   ]
  },
  {
   "cell_type": "code",
   "execution_count": 5,
   "metadata": {},
   "outputs": [
    {
     "name": "stdout",
     "output_type": "stream",
     "text": [
      "400\n",
      "24.75\n",
      "30.599999999999998\n"
     ]
    }
   ],
   "source": [
    "# Multiplication\n",
    "\n",
    "print(40 * 10)\n",
    "\n",
    "float1 = 5.5\n",
    "float2 = 4.5\n",
    "print(float1 * float2)\n",
    "\n",
    "print(10.2 * 3)"
   ]
  },
  {
   "cell_type": "code",
   "execution_count": 6,
   "metadata": {},
   "outputs": [
    {
     "name": "stdout",
     "output_type": "stream",
     "text": [
      "4.0\n",
      "1.2222222222222223\n",
      "6.2\n"
     ]
    }
   ],
   "source": [
    "# Division\n",
    "\n",
    "print(40 / 10)\n",
    "\n",
    "float1 = 5.5\n",
    "float2 = 4.5\n",
    "print(float1 / float2)\n",
    "print(12.4 / 2)"
   ]
  },
  {
   "cell_type": "code",
   "execution_count": 7,
   "metadata": {},
   "outputs": [
    {
     "name": "stdout",
     "output_type": "stream",
     "text": [
      "4\n",
      "1.0\n",
      "6.0\n"
     ]
    }
   ],
   "source": [
    "# Floor Division\n",
    "\n",
    "print(43 // 10)\n",
    "\n",
    "float1 = 5.5\n",
    "float2 = 4.5\n",
    "print(5.5 // 4.5)\n",
    "print(12.4 // 2)"
   ]
  },
  {
   "cell_type": "code",
   "execution_count": 8,
   "metadata": {},
   "outputs": [
    {
     "name": "stdout",
     "output_type": "stream",
     "text": [
      "0\n",
      "8\n",
      "2\n",
      "-2\n",
      "1.8999999999999986\n"
     ]
    }
   ],
   "source": [
    "# Modulo\n",
    "\n",
    "print(10 % 2)\n",
    "\n",
    "twenty_eight = 28\n",
    "print(twenty_eight % 10)\n",
    "\n",
    "print(-28 % 10)  # The remainder is positive if the right-hand operand is positive\n",
    "print(28 % -10)  # The remainder is negative if the right-hand operand is negative\n",
    "print(34.4 % 2.5)  # The remainder can be a float"
   ]
  },
  {
   "cell_type": "code",
   "execution_count": 9,
   "metadata": {},
   "outputs": [
    {
     "name": "stdout",
     "output_type": "stream",
     "text": [
      "4\n",
      "12.0\n",
      "0.75\n"
     ]
    }
   ],
   "source": [
    "# Precedence\n",
    "\n",
    "# Different precedence\n",
    "print(10 - 3 * 2)  # Multiplication computed first, followed by subtraction\n",
    "\n",
    "# Same precedence\n",
    "print(3 * 20 / 5)  # Multiplication computed first, followed by division\n",
    "print(3 / 20 * 5)  # Division computed first, followed by multiplication"
   ]
  },
  {
   "cell_type": "code",
   "execution_count": 10,
   "metadata": {},
   "outputs": [
    {
     "name": "stdout",
     "output_type": "stream",
     "text": [
      "14\n",
      "10.0\n"
     ]
    }
   ],
   "source": [
    "# Parenthesis\n",
    "\n",
    "print((10 - 3) * 2)  # Subtraction occurs first\n",
    "print((18 + 2) / (10 % 8))"
   ]
  },
  {
   "cell_type": "markdown",
   "metadata": {},
   "source": [
    "## Comparisons"
   ]
  },
  {
   "cell_type": "code",
   "execution_count": 12,
   "metadata": {},
   "outputs": [
    {
     "name": "stdout",
     "output_type": "stream",
     "text": [
      "True\n",
      "False\n",
      "True\n",
      "True\n",
      "False\n",
      "False\n"
     ]
    }
   ],
   "source": [
    "num1 = 5\n",
    "num2 = 10\n",
    "num3 = 10\n",
    "print(num2 > num1)  # 10 is greater than 5\n",
    "print(num1 > num2)  # 5 is not greater than 10\n",
    "\n",
    "print(num2 == num3)  # Both have the same value\n",
    "print(num3 != num1)  # Both have different values\n",
    "\n",
    "print(3 + 10 == 5 + 5)  # Both are not equal\n",
    "print(3 <= 2)  # 3 is not less than or equal to 2"
   ]
  },
  {
   "cell_type": "markdown",
   "metadata": {},
   "source": [
    "## Assignment Operators"
   ]
  },
  {
   "cell_type": "code",
   "execution_count": 15,
   "metadata": {},
   "outputs": [
    {
     "name": "stdout",
     "output_type": "stream",
     "text": [
      "2019\n",
      "2020\n",
      "2021\n",
      "35 20\n"
     ]
    }
   ],
   "source": [
    "# Assigning Values\n",
    "\n",
    "year = 2019\n",
    "print(year)\n",
    "\n",
    "year = 2020\n",
    "print(year)\n",
    "\n",
    "year = year + 1  # Using the existing value to create a new one\n",
    "print(year)\n",
    "\n",
    "first = 20\n",
    "second = first\n",
    "first = 35  # Updating 'first'\n",
    "\n",
    "print(first, second)  # 'second' remains unchanged"
   ]
  },
  {
   "cell_type": "code",
   "execution_count": 16,
   "metadata": {},
   "outputs": [
    {
     "name": "stdout",
     "output_type": "stream",
     "text": [
      "10\n",
      "15\n",
      "10\n",
      "20\n",
      "10.0\n",
      "100.0\n"
     ]
    }
   ],
   "source": [
    "# The Other Operators\n",
    "\n",
    "num = 10\n",
    "print(num)\n",
    "\n",
    "num += 5\n",
    "print(num)\n",
    "\n",
    "num -= 5\n",
    "print(num)\n",
    "\n",
    "num *= 2\n",
    "print(num)\n",
    "\n",
    "num /= 2\n",
    "print(num)\n",
    "\n",
    "num **= 2\n",
    "print(num)\n",
    "\n",
    "# Try all the others here!"
   ]
  },
  {
   "cell_type": "markdown",
   "metadata": {},
   "source": [
    "## Logical Operators"
   ]
  },
  {
   "cell_type": "code",
   "execution_count": 17,
   "metadata": {},
   "outputs": [
    {
     "name": "stdout",
     "output_type": "stream",
     "text": [
      "True\n",
      "False\n",
      "True\n"
     ]
    }
   ],
   "source": [
    "# Logical Expressions\n",
    "\n",
    "# OR Expression\n",
    "my_bool = True or False\n",
    "print(my_bool)\n",
    "\n",
    "# AND Expression\n",
    "my_bool = True and False\n",
    "print(my_bool)\n",
    "\n",
    "# NOT expression\n",
    "my_bool = False\n",
    "print(not my_bool)"
   ]
  },
  {
   "cell_type": "code",
   "execution_count": 18,
   "metadata": {},
   "outputs": [
    {
     "name": "stdout",
     "output_type": "stream",
     "text": [
      "10\n",
      "0\n"
     ]
    }
   ],
   "source": [
    "# Bit value \n",
    "\n",
    "print(10 * True)\n",
    "print(10 * False)"
   ]
  },
  {
   "cell_type": "markdown",
   "metadata": {},
   "source": [
    "## Bitwise Operators"
   ]
  },
  {
   "cell_type": "code",
   "execution_count": 19,
   "metadata": {},
   "outputs": [
    {
     "name": "stdout",
     "output_type": "stream",
     "text": [
      "0\n",
      "30\n",
      "30\n",
      "-11\n",
      "80\n",
      "2\n"
     ]
    }
   ],
   "source": [
    "num1 = 10  # Binary value = 01010\n",
    "num2 = 20  # Binary Value = 10100\n",
    "\n",
    "print(num1 & num2)   # 0   -> Binary value = 00000\n",
    "print(num1 | num2)   # 30  -> Binary value = 11110\n",
    "print(num1 ^ num2)   # 30  -> Binary value = 11110\n",
    "print(~num1)         # -11 -> Binary value = 1111 0101\n",
    "print(num1 << 3)     # 80  -> Binary value = 0101 0000\n",
    "print(num2 >> 3)     # 2   -> Binary value = 0010"
   ]
  },
  {
   "cell_type": "markdown",
   "metadata": {},
   "source": [
    "## String Operators"
   ]
  },
  {
   "cell_type": "code",
   "execution_count": 20,
   "metadata": {},
   "outputs": [
    {
     "name": "stdout",
     "output_type": "stream",
     "text": [
      "True\n",
      "True\n",
      "False\n",
      "False\n",
      "True\n"
     ]
    }
   ],
   "source": [
    "# Comparison Operators\n",
    "\n",
    "print('a' < 'b')  # 'a' has a smaller Unicode value\n",
    "\n",
    "house = \"Gryffindor\"\n",
    "house_copy = \"Gryffindor\"\n",
    "\n",
    "print(house == house_copy)\n",
    "\n",
    "new_house = \"Slytherin\"\n",
    "\n",
    "print(house == new_house)\n",
    "\n",
    "print(new_house <= house)\n",
    "\n",
    "print(new_house >= house)"
   ]
  },
  {
   "cell_type": "code",
   "execution_count": null,
   "metadata": {},
   "outputs": [],
   "source": [
    "# Concatenation\n",
    "\n",
    "first_half = \"Bat\"\n",
    "second_half = \"man\"\n",
    "\n",
    "full_name = first_half + second_half\n",
    "print(full_name)\n",
    "\n",
    "print(\"ha\" * 3)"
   ]
  },
  {
   "cell_type": "code",
   "execution_count": null,
   "metadata": {},
   "outputs": [],
   "source": [
    "# Search \n",
    "\n",
    "random_string = \"This is a random string\"\n",
    "\n",
    "print('of' in random_string)  # Check whether 'of' exists in randomString\n",
    "print('random' in random_string)  # 'random' exists!"
   ]
  },
  {
   "cell_type": "markdown",
   "metadata": {},
   "source": [
    "## Grouping Values"
   ]
  },
  {
   "cell_type": "code",
   "execution_count": 21,
   "metadata": {},
   "outputs": [
    {
     "name": "stdout",
     "output_type": "stream",
     "text": [
      "[1, 2.5, 'A string', True]\n",
      "A string\n",
      "4\n"
     ]
    }
   ],
   "source": [
    "my_list = [1, 2.5, \"A string\", True]\n",
    "print(my_list)\n",
    "\n",
    "my_list = [1, 2.5, \"A string\", True]\n",
    "print(my_list[2])\n",
    "print(len(my_list))"
   ]
  },
  {
   "cell_type": "markdown",
   "metadata": {},
   "source": [
    "## Exercise: Gravitational Force\n",
    "\n",
    "Problem Statement\n",
    "Gravitational force is the attractive force that exists between two masses. It can be calculated by using the following formula:\n",
    "\n",
    "GMm/r^2\n",
    "\n",
    "where G is the gravitational constant, M and m are the two masses, and r is the distance between them.\n",
    "\n",
    "You must implement this equation in Python to calculate the gravitational force between Earth and the moon.\n",
    "\n",
    "Sample Input\n",
    "G = 6.67 * 10-11\n",
    "MEarth = 6.0 * 1024\n",
    "mMoon = 7.34 * 1022\n",
    "r = 3.84 * 108\n",
    "\n",
    "Sample Output\n",
    "FG = 1.99 * 1020\n",
    "\n",
    "Coding Challenge\n",
    "All the values have already been given to you. You must write the formula in Pythonic syntax and store the answer in the grav_force variable."
   ]
  },
  {
   "cell_type": "code",
   "execution_count": 22,
   "metadata": {},
   "outputs": [
    {
     "name": "stdout",
     "output_type": "stream",
     "text": [
      "1.9920979817708333e+20\n"
     ]
    }
   ],
   "source": [
    "G = 6.67 * (10 ** -11)\n",
    "M = 6.0 * (10 ** 24)  # Mass of Earth\n",
    "m = 7.34 * (10 ** 22)  # Mass of the moon\n",
    "r = 3.84 * (10 ** 8)\n",
    "\n",
    "grav_force = G * M * m / (r ** 2)\n",
    "print(grav_force)"
   ]
  }
 ],
 "metadata": {
  "kernelspec": {
   "display_name": "Python 3",
   "language": "python",
   "name": "python3"
  },
  "language_info": {
   "codemirror_mode": {
    "name": "ipython",
    "version": 3
   },
   "file_extension": ".py",
   "mimetype": "text/x-python",
   "name": "python",
   "nbconvert_exporter": "python",
   "pygments_lexer": "ipython3",
   "version": "3.8.6"
  },
  "toc": {
   "base_numbering": 1,
   "nav_menu": {},
   "number_sections": true,
   "sideBar": true,
   "skip_h1_title": false,
   "title_cell": "Table of Contents",
   "title_sidebar": "Contents",
   "toc_cell": false,
   "toc_position": {},
   "toc_section_display": true,
   "toc_window_display": false
  }
 },
 "nbformat": 4,
 "nbformat_minor": 4
}
