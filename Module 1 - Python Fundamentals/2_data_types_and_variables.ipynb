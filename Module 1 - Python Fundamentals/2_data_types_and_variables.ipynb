{
 "cells": [
  {
   "cell_type": "markdown",
   "metadata": {},
   "source": [
    "# Data Types and Variables"
   ]
  },
  {
   "cell_type": "markdown",
   "metadata": {},
   "source": [
    "## Numbers"
   ]
  },
  {
   "cell_type": "code",
   "execution_count": 1,
   "metadata": {},
   "outputs": [
    {
     "name": "stdout",
     "output_type": "stream",
     "text": [
      "10\n",
      "-3000\n",
      "123456789\n",
      "-16000\n"
     ]
    }
   ],
   "source": [
    "# Integers\n",
    "\n",
    "print(10)  # A positive integer\n",
    "print(-3000)  # A negative integer\n",
    "\n",
    "num = 123456789  # Assigning an integer to a variable\n",
    "print(num)\n",
    "num = -16000  # Assigning a new integer\n",
    "print(num)"
   ]
  },
  {
   "cell_type": "code",
   "execution_count": 2,
   "metadata": {},
   "outputs": [
    {
     "name": "stdout",
     "output_type": "stream",
     "text": [
      "1.00000000005\n",
      "-85.6701\n",
      "1.23456789\n"
     ]
    }
   ],
   "source": [
    "# Floats (Floating Point Numbers)\n",
    "\n",
    "print(1.00000000005)  # A positive float\n",
    "print(-85.6701)  # A negative float\n",
    "\n",
    "flt_pt = 1.23456789\n",
    "print(flt_pt)"
   ]
  },
  {
   "cell_type": "code",
   "execution_count": 3,
   "metadata": {},
   "outputs": [
    {
     "name": "stdout",
     "output_type": "stream",
     "text": [
      "(10+20j)\n",
      "(2.5-18.2j)\n",
      "2j\n",
      "(2+0j)\n"
     ]
    }
   ],
   "source": [
    "# Complex Numbers\n",
    "# complex(real, imaginary)\n",
    "\n",
    "print(complex(10, 20))  # Represents the complex number (10 + 20j)\n",
    "print(complex(2.5, -18.2))  # Represents the complex number (2.5 - 18.2j)\n",
    "\n",
    "complex_1 = complex(0, 2)\n",
    "complex_2 = complex(2, 0)\n",
    "print(complex_1)\n",
    "print(complex_2)"
   ]
  },
  {
   "cell_type": "markdown",
   "metadata": {},
   "source": [
    "## Booleans"
   ]
  },
  {
   "cell_type": "code",
   "execution_count": 4,
   "metadata": {},
   "outputs": [
    {
     "name": "stdout",
     "output_type": "stream",
     "text": [
      "True\n",
      "False\n"
     ]
    }
   ],
   "source": [
    "print(True)\n",
    "\n",
    "f_bool = False\n",
    "print(f_bool)"
   ]
  },
  {
   "cell_type": "markdown",
   "metadata": {},
   "source": [
    "## Strings"
   ]
  },
  {
   "cell_type": "code",
   "execution_count": 5,
   "metadata": {},
   "outputs": [
    {
     "name": "stdout",
     "output_type": "stream",
     "text": [
      "Harry Potter!\n",
      "Game of Thrones...\n",
      "$\n",
      "\n"
     ]
    }
   ],
   "source": [
    "print(\"Harry Potter!\")  # Double quotation marks\n",
    "\n",
    "got = 'Game of Thrones...'  # Single quotation marks\n",
    "print(got)\n",
    "print(\"$\")  # Single character\n",
    "\n",
    "empty = \"\"\n",
    "print(empty)  # Just prints an empty line"
   ]
  },
  {
   "cell_type": "code",
   "execution_count": 6,
   "metadata": {},
   "outputs": [
    {
     "name": "stdout",
     "output_type": "stream",
     "text": [
      "11\n"
     ]
    }
   ],
   "source": [
    "# string length\n",
    "\n",
    "random_string = \"I am Batman\"  # 11 characters\n",
    "print(len(random_string))"
   ]
  },
  {
   "cell_type": "code",
   "execution_count": 8,
   "metadata": {},
   "outputs": [
    {
     "name": "stdout",
     "output_type": "stream",
     "text": [
      "B\n",
      " \n",
      "e\n"
     ]
    }
   ],
   "source": [
    "# indexing strings and accessing chars\n",
    "\n",
    "batman = \"Bruce Wayne\"\n",
    "\n",
    "first = batman[0]  # Accessing the first character\n",
    "print(first)\n",
    "\n",
    "space = batman[5]  # Accessing the empty space in the string\n",
    "print(space)\n",
    "\n",
    "last = batman[len(batman) - 1]\n",
    "print(last)\n",
    "# The following will produce an error since the index is out of bounds\n",
    "# err = batman[len(batman)]"
   ]
  },
  {
   "cell_type": "code",
   "execution_count": 9,
   "metadata": {},
   "outputs": [
    {
     "name": "stdout",
     "output_type": "stream",
     "text": [
      "e\n",
      "W\n"
     ]
    }
   ],
   "source": [
    "# reversing the index \n",
    "\n",
    "batman = \"Bruce Wayne\"\n",
    "print(batman[-1])  # Corresponds to batman[10]\n",
    "print(batman[-5])  # Corresponds to batman[6]"
   ]
  },
  {
   "cell_type": "code",
   "execution_count": 10,
   "metadata": {},
   "outputs": [
    {
     "name": "stdout",
     "output_type": "stream",
     "text": [
      "This\n",
      "his is\n",
      "MY string!\n"
     ]
    }
   ],
   "source": [
    "# string slicing\n",
    "\n",
    "my_string = \"This is MY string!\"\n",
    "print(my_string[0:4]) # From the start till before the 4th index\n",
    "print(my_string[1:7])\n",
    "print(my_string[8:len(my_string)]) # From the 8th index till the end"
   ]
  },
  {
   "cell_type": "code",
   "execution_count": 12,
   "metadata": {},
   "outputs": [
    {
     "name": "stdout",
     "output_type": "stream",
     "text": [
      "This is\n",
      "Ti s\n",
      "Ti\n"
     ]
    }
   ],
   "source": [
    "# string slicing with step\n",
    "\n",
    "my_string = \"This is MY string!\"\n",
    "print(my_string[0:7])  # A step of 1\n",
    "print(my_string[0:7:2])  # A step of 2\n",
    "print(my_string[0:7:5])  # A step of 5"
   ]
  },
  {
   "cell_type": "code",
   "execution_count": 13,
   "metadata": {},
   "outputs": [
    {
     "name": "stdout",
     "output_type": "stream",
     "text": [
      "rts YM si s\n",
      "!nrsY ish\n"
     ]
    }
   ],
   "source": [
    "# reverse slicing a string \n",
    "\n",
    "my_string = \"This is MY string!\"\n",
    "print(my_string[13:2:-1]) # Take 1 step back each time\n",
    "print(my_string[17:0:-2]) # Take 2 steps back. The opposite of what happens in the slide above"
   ]
  },
  {
   "cell_type": "code",
   "execution_count": 14,
   "metadata": {},
   "outputs": [
    {
     "name": "stdout",
     "output_type": "stream",
     "text": [
      "This is \n",
      "MY string!\n",
      "This is MY string!\n",
      "!gnirts YM si sihT\n"
     ]
    }
   ],
   "source": [
    "# partial slicing a string\n",
    "\n",
    "my_string = \"This is MY string!\"\n",
    "print(my_string[:8])  # All the characters before 'M'\n",
    "print(my_string[8:])  # All the characters starting from 'M'\n",
    "print(my_string[:])  # The whole string\n",
    "print(my_string[::-1])  # The whole string in reverse (step is -1)"
   ]
  }
 ],
 "metadata": {
  "kernelspec": {
   "display_name": "Python 3",
   "language": "python",
   "name": "python3"
  },
  "language_info": {
   "codemirror_mode": {
    "name": "ipython",
    "version": 3
   },
   "file_extension": ".py",
   "mimetype": "text/x-python",
   "name": "python",
   "nbconvert_exporter": "python",
   "pygments_lexer": "ipython3",
   "version": "3.8.6"
  },
  "toc": {
   "base_numbering": 1,
   "nav_menu": {},
   "number_sections": true,
   "sideBar": true,
   "skip_h1_title": false,
   "title_cell": "Table of Contents",
   "title_sidebar": "Contents",
   "toc_cell": false,
   "toc_position": {},
   "toc_section_display": true,
   "toc_window_display": false
  }
 },
 "nbformat": 4,
 "nbformat_minor": 4
}
