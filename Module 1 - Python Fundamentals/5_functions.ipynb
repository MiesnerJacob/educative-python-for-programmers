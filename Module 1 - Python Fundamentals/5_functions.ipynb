{
 "cells": [
  {
   "cell_type": "markdown",
   "metadata": {},
   "source": [
    "# Functions"
   ]
  },
  {
   "cell_type": "markdown",
   "metadata": {},
   "source": [
    "## What are Functions?\n",
    "\n",
    "Think of a function as a box which performs a task. We give it an input and it returns an output.\n",
    "\n",
    "We don’t need to write the set of instructions again for a different input, we could just call the function again.\n",
    "\n",
    "Functions are useful because they make the code concise and simple. The primary benefits of using functions are:\n",
    "\n",
    "* Reusability: A function can be used over and over again. You do not have to write redundant code. For example, a sum() function could compute the sum of all the integers we provide it. We won’t have to write the summing operation ourselves each time.\n",
    "\n",
    "* Simplicity: Functions are easy to use and make the code readable. We only need to know the inputs and the purpose of the function without focusing on the inner workings. This abstraction allows us to focus more on gaining the output instead of figuring out how it was computed.\n",
    "\n",
    "Functions are perhaps the most commonly used feature of Python. There are two basic types of functions in Python:\n",
    "\n",
    "* Built-in functions\n",
    "* User-defined functions"
   ]
  },
  {
   "cell_type": "markdown",
   "metadata": {},
   "source": [
    "## Fuction Creation"
   ]
  },
  {
   "cell_type": "code",
   "execution_count": 2,
   "metadata": {},
   "outputs": [
    {
     "name": "stdout",
     "output_type": "stream",
     "text": [
      "This\n",
      "is\n",
      "A\n",
      "function\n",
      "This\n",
      "is\n",
      "A\n",
      "function\n"
     ]
    }
   ],
   "source": [
    "# Implementation\n",
    "\n",
    "def my_print_function():  # No parameters\n",
    "    print(\"This\")\n",
    "    print(\"is\")\n",
    "    print(\"A\")\n",
    "    print(\"function\")\n",
    "# Function ended\n",
    "\n",
    "\n",
    "# Calling the function in the program multiple times\n",
    "my_print_function()\n",
    "my_print_function()"
   ]
  },
  {
   "cell_type": "code",
   "execution_count": 3,
   "metadata": {},
   "outputs": [
    {
     "name": "stdout",
     "output_type": "stream",
     "text": [
      "10\n"
     ]
    }
   ],
   "source": [
    "# Function Parameters\n",
    "\n",
    "def minimum(first, second):\n",
    "    if (first < second):\n",
    "        print(first)\n",
    "    else:\n",
    "        print(second)\n",
    "\n",
    "\n",
    "num1 = 10\n",
    "num2 = 20\n",
    "\n",
    "minimum(num1, num2)"
   ]
  },
  {
   "cell_type": "code",
   "execution_count": 4,
   "metadata": {},
   "outputs": [
    {
     "name": "stdout",
     "output_type": "stream",
     "text": [
      "10\n"
     ]
    }
   ],
   "source": [
    "# Using the return statement\n",
    "\n",
    "def minimum(first, second):\n",
    "    if (first < second):\n",
    "        return first\n",
    "    return second\n",
    "\n",
    "\n",
    "num1 = 10\n",
    "num2 = 20\n",
    "\n",
    "result = minimum(num1, num2)  # Storing the value returned by the function\n",
    "print(result)"
   ]
  },
  {
   "cell_type": "markdown",
   "metadata": {},
   "source": [
    "## Function Scope"
   ]
  },
  {
   "cell_type": "code",
   "execution_count": 5,
   "metadata": {},
   "outputs": [
    {
     "ename": "NameError",
     "evalue": "name 'name' is not defined",
     "output_type": "error",
     "traceback": [
      "\u001b[0;31m---------------------------------------------------------------------------\u001b[0m",
      "\u001b[0;31mNameError\u001b[0m                                 Traceback (most recent call last)",
      "\u001b[0;32m<ipython-input-5-3322010d979d>\u001b[0m in \u001b[0;36m<module>\u001b[0;34m\u001b[0m\n\u001b[1;32m      6\u001b[0m \u001b[0;34m\u001b[0m\u001b[0m\n\u001b[1;32m      7\u001b[0m \u001b[0mfunc\u001b[0m\u001b[0;34m(\u001b[0m\u001b[0;34m)\u001b[0m\u001b[0;34m\u001b[0m\u001b[0;34m\u001b[0m\u001b[0m\n\u001b[0;32m----> 8\u001b[0;31m \u001b[0mprint\u001b[0m\u001b[0;34m(\u001b[0m\u001b[0mname\u001b[0m\u001b[0;34m)\u001b[0m  \u001b[0;31m# Accessing 'name' outside the function\u001b[0m\u001b[0;34m\u001b[0m\u001b[0;34m\u001b[0m\u001b[0m\n\u001b[0m",
      "\u001b[0;31mNameError\u001b[0m: name 'name' is not defined"
     ]
    }
   ],
   "source": [
    "# Data Lifecycle\n",
    "\n",
    "def func():\n",
    "    name = \"Stark\"\n",
    "\n",
    "\n",
    "func()\n",
    "print(name)  # Accessing 'name' outside the function"
   ]
  },
  {
   "cell_type": "code",
   "execution_count": 6,
   "metadata": {},
   "outputs": [
    {
     "name": "stdout",
     "output_type": "stream",
     "text": [
      "Ned\n"
     ]
    }
   ],
   "source": [
    "name = \"Ned\"\n",
    "\n",
    "\n",
    "def func():\n",
    "    name = \"Stark\"\n",
    "\n",
    "\n",
    "func()\n",
    "print(name)  # The value of 'name' remains unchanged."
   ]
  },
  {
   "cell_type": "code",
   "execution_count": 7,
   "metadata": {},
   "outputs": [
    {
     "name": "stdout",
     "output_type": "stream",
     "text": [
      "Value of num inside function: 200\n",
      "Value of num outside function: 20\n"
     ]
    }
   ],
   "source": [
    "# Altering Data\n",
    "\n",
    "num = 20\n",
    "\n",
    "\n",
    "def multiply_by_10(n):\n",
    "    n *= 10\n",
    "    num = n  # Changing the value inside the function\n",
    "    print(\"Value of num inside function:\", num)\n",
    "    return n\n",
    "\n",
    "\n",
    "multiply_by_10(num)\n",
    "print(\"Value of num outside function:\", num)  # The original value remains unchanged"
   ]
  },
  {
   "cell_type": "code",
   "execution_count": 8,
   "metadata": {},
   "outputs": [
    {
     "name": "stdout",
     "output_type": "stream",
     "text": [
      "[10, 20, 30, 40]\n",
      "[100, 200, 300, 400]\n"
     ]
    }
   ],
   "source": [
    "# Update Mutable Object through a function\n",
    "\n",
    "num_list = [10, 20, 30, 40]\n",
    "print(num_list)\n",
    "\n",
    "\n",
    "def multiply_by_10(my_list):\n",
    "    my_list[0] *= 10\n",
    "    my_list[1] *= 10\n",
    "    my_list[2] *= 10\n",
    "    my_list[3] *= 10\n",
    "\n",
    "\n",
    "multiply_by_10(num_list)\n",
    "print(num_list)  # The contents of the list have been changed"
   ]
  },
  {
   "cell_type": "markdown",
   "metadata": {},
   "source": [
    "## Built-in Functions"
   ]
  },
  {
   "cell_type": "code",
   "execution_count": 9,
   "metadata": {},
   "outputs": [
    {
     "name": "stdout",
     "output_type": "stream",
     "text": [
      "2\n",
      "-1\n"
     ]
    }
   ],
   "source": [
    "# Find \n",
    "\n",
    "random_string = \"This is a string\"\n",
    "print(random_string.find(\"is\"))  # First instance of 'is' occurs at index 2\n",
    "print(random_string.find(\"is\", 9, 13))  # No instance of 'is' in this range"
   ]
  },
  {
   "cell_type": "code",
   "execution_count": 10,
   "metadata": {},
   "outputs": [
    {
     "name": "stdout",
     "output_type": "stream",
     "text": [
      "Welcome to Educative!\n",
      "Greetings from Educative!\n"
     ]
    }
   ],
   "source": [
    "# Replace\n",
    "\n",
    "a_string = \"Welcome to Educative!\"\n",
    "new_string = a_string.replace(\"Welcome to\", \"Greetings from\")\n",
    "print(a_string)\n",
    "print(new_string)"
   ]
  },
  {
   "cell_type": "code",
   "execution_count": 11,
   "metadata": {},
   "outputs": [
    {
     "name": "stdout",
     "output_type": "stream",
     "text": [
      "UPPERCASE\n",
      "lowercase\n"
     ]
    }
   ],
   "source": [
    "# Casing \n",
    "\n",
    "print(\"UpperCase\".upper())\n",
    "print(\"LowerCase\".lower())"
   ]
  },
  {
   "cell_type": "code",
   "execution_count": 12,
   "metadata": {},
   "outputs": [
    {
     "name": "stdout",
     "output_type": "stream",
     "text": [
      "120\n",
      "20\n",
      "0\n"
     ]
    }
   ],
   "source": [
    "# Type Conversions\n",
    "## Integer\n",
    "\n",
    "print(int(\"12\") * 10)  # String to integer\n",
    "print(int(20.5))  # Float to integer\n",
    "print(int(False))  # Bool to integer\n",
    "\n",
    "# print (int(\"Hello\")) # This wouldn't work!"
   ]
  },
  {
   "cell_type": "code",
   "execution_count": 13,
   "metadata": {},
   "outputs": [
    {
     "name": "stdout",
     "output_type": "stream",
     "text": [
      "97\n",
      "48\n"
     ]
    }
   ],
   "source": [
    "# Type Conversions\n",
    "## Ord\n",
    "\n",
    "print(ord('a'))\n",
    "print(ord('0'))"
   ]
  },
  {
   "cell_type": "code",
   "execution_count": 15,
   "metadata": {},
   "outputs": [
    {
     "name": "stdout",
     "output_type": "stream",
     "text": [
      "24.0\n",
      "24.5\n",
      "1.0\n"
     ]
    }
   ],
   "source": [
    "# Type Conversions\n",
    "## Float\n",
    "\n",
    "print(float(24))\n",
    "print(float('24.5'))\n",
    "print(float(True))"
   ]
  },
  {
   "cell_type": "code",
   "execution_count": 16,
   "metadata": {},
   "outputs": [
    {
     "name": "stdout",
     "output_type": "stream",
     "text": [
      "12.345\n",
      "False\n",
      "12.345 is a string\n"
     ]
    }
   ],
   "source": [
    "# Type Conversions\n",
    "## String\n",
    "\n",
    "print(str(12) + '.345')\n",
    "print(str(False))\n",
    "print(str(12.345) + ' is a string')"
   ]
  },
  {
   "cell_type": "code",
   "execution_count": 17,
   "metadata": {},
   "outputs": [
    {
     "name": "stdout",
     "output_type": "stream",
     "text": [
      "True\n",
      "False\n",
      "True\n",
      "False\n"
     ]
    }
   ],
   "source": [
    "# Type Conversions\n",
    "## Boolean\n",
    "\n",
    "print(bool(10))\n",
    "print(bool(0.0))\n",
    "print(bool(\"Hello\"))\n",
    "print(bool(\"\"))"
   ]
  },
  {
   "cell_type": "markdown",
   "metadata": {},
   "source": [
    "## Lambdas"
   ]
  },
  {
   "cell_type": "code",
   "execution_count": 20,
   "metadata": {},
   "outputs": [
    {
     "name": "stdout",
     "output_type": "stream",
     "text": [
      "30\n"
     ]
    }
   ],
   "source": [
    "triple = lambda num : num * 3  # Assigning the lambda to a variable\n",
    "\n",
    "print(triple(10))  # Calling the lambda and giving it a parameter"
   ]
  },
  {
   "cell_type": "code",
   "execution_count": 21,
   "metadata": {},
   "outputs": [
    {
     "name": "stdout",
     "output_type": "stream",
     "text": [
      "WWW\n"
     ]
    }
   ],
   "source": [
    "# Concat strings with lambda \n",
    "\n",
    "concat_strings = lambda a, b, c: a[0] + b[0] + c[0]\n",
    "\n",
    "print(concat_strings(\"World\", \"Wide\", \"Web\"))"
   ]
  },
  {
   "cell_type": "code",
   "execution_count": 22,
   "metadata": {},
   "outputs": [
    {
     "name": "stdout",
     "output_type": "stream",
     "text": [
      "High\n"
     ]
    }
   ],
   "source": [
    "# Conditional Lambda\n",
    "\n",
    "my_func = lambda num: \"High\" if num > 50 else \"Low\"\n",
    "\n",
    "print(my_func(60))"
   ]
  },
  {
   "cell_type": "markdown",
   "metadata": {},
   "source": [
    "## Functions as Arguments"
   ]
  },
  {
   "cell_type": "code",
   "execution_count": 23,
   "metadata": {},
   "outputs": [
    {
     "name": "stdout",
     "output_type": "stream",
     "text": [
      "200\n",
      "30\n"
     ]
    }
   ],
   "source": [
    "# Using Simple Functions\n",
    "\n",
    "def add(n1, n2):\n",
    "    return n1 + n2\n",
    "\n",
    "\n",
    "def subtract(n1, n2):\n",
    "    return n1 - n2\n",
    "\n",
    "\n",
    "def multiply(n1, n2):\n",
    "    return n1 * n2\n",
    "\n",
    "\n",
    "def divide(n1, n2):\n",
    "    return n1 / n2\n",
    "\n",
    "\n",
    "def calculator(operation, n1, n2):\n",
    "    return operation(n1, n2)  # Using the 'operation' argument as a function\n",
    "\n",
    "\n",
    "result = calculator(multiply, 10, 20)\n",
    "print(result)\n",
    "print(calculator(add, 10, 20))"
   ]
  },
  {
   "cell_type": "code",
   "execution_count": 24,
   "metadata": {},
   "outputs": [
    {
     "name": "stdout",
     "output_type": "stream",
     "text": [
      "200\n",
      "30\n"
     ]
    }
   ],
   "source": [
    "# Using Lambdas \n",
    "\n",
    "def calculator(operation, n1, n2):\n",
    "    return operation(n1, n2)  # Using the 'operation' argument as a function\n",
    "\n",
    "\n",
    "# 10 and 20 are the arguments.\n",
    "result = calculator(lambda n1, n2: n1 * n2, 10, 20)\n",
    "# The lambda multiplies them.\n",
    "print(result)\n",
    "\n",
    "print(calculator(lambda n1, n2: n1 + n2, 10, 20))"
   ]
  },
  {
   "cell_type": "code",
   "execution_count": 25,
   "metadata": {},
   "outputs": [
    {
     "name": "stdout",
     "output_type": "stream",
     "text": [
      "[0, 2, 4, 6, 8, 10]\n"
     ]
    }
   ],
   "source": [
    "# More Examples\n",
    "## Using Map\n",
    "\n",
    "num_list = [0, 1, 2, 3, 4, 5]\n",
    "\n",
    "double_list = map(lambda n: n * 2, num_list)\n",
    "\n",
    "print(list(double_list))"
   ]
  },
  {
   "cell_type": "code",
   "execution_count": 26,
   "metadata": {},
   "outputs": [
    {
     "name": "stdout",
     "output_type": "stream",
     "text": [
      "[30, 17, 100]\n"
     ]
    }
   ],
   "source": [
    "# More Examples\n",
    "## Using Filter\n",
    "\n",
    "numList = [30, 2, -15, 17, 9, 100]\n",
    "\n",
    "greater_than_10 = list(filter(lambda n: n > 10, numList))\n",
    "print(greater_than_10)"
   ]
  },
  {
   "cell_type": "markdown",
   "metadata": {},
   "source": [
    "## Recursion"
   ]
  },
  {
   "cell_type": "code",
   "execution_count": 27,
   "metadata": {
    "scrolled": true
   },
   "outputs": [
    {
     "name": "stdout",
     "output_type": "stream",
     "text": [
      "5\n",
      "4\n",
      "3\n",
      "2\n",
      "1\n",
      "0\n",
      "1\n",
      "2\n",
      "3\n",
      "4\n",
      "5\n"
     ]
    }
   ],
   "source": [
    "def rec_count(number):\n",
    "    print(number)\n",
    "    # Base case\n",
    "    if number == 0:\n",
    "        return 0\n",
    "    rec_count(number - 1)  # A recursive call with a different argument\n",
    "    print(number)\n",
    "\n",
    "\n",
    "rec_count(5)"
   ]
  },
  {
   "cell_type": "code",
   "execution_count": 29,
   "metadata": {},
   "outputs": [
    {
     "name": "stdout",
     "output_type": "stream",
     "text": [
      "5\n"
     ]
    }
   ],
   "source": [
    "# Fibonacci using recursion\n",
    "\n",
    "def fib(n):\n",
    "    # The base cases\n",
    "    if n <= 1:  # First number in the sequence\n",
    "        return 0\n",
    "    elif n == 2:  # Second number in the sequence\n",
    "        return 1\n",
    "    else:\n",
    "        # Recursive call\n",
    "        return fib(n - 1) + fib(n - 2)\n",
    "\n",
    "\n",
    "print(fib(6))"
   ]
  },
  {
   "cell_type": "markdown",
   "metadata": {},
   "source": [
    "## Exercise: Repetition and Concatenation\n",
    "\n",
    "In this exercise, you must implement the rep_cat function. You are given two integers, x and y, as arguments. You must convert them into strings. The string value of x must be repeated 10 times and the string value of y must be repeated 5 times.\n",
    "\n",
    "At the end, y will be concatenated to x and the resulting string must returned.\n",
    "\n",
    "Take some time to figure out the logic behind this problem before jumping to the implementation. The function skeleton has been created. You only need to write code in its body.\n",
    "\n",
    "The pass statement can be erased and replaced with your return statement."
   ]
  },
  {
   "cell_type": "code",
   "execution_count": 31,
   "metadata": {},
   "outputs": [
    {
     "name": "stdout",
     "output_type": "stream",
     "text": [
      "333333333344444\n"
     ]
    }
   ],
   "source": [
    "def repetition_concat(x, y):\n",
    "    return str(x) * 10 + str(y) * 5\n",
    "\n",
    "\n",
    "print(repetition_concat(3, 4))"
   ]
  },
  {
   "cell_type": "markdown",
   "metadata": {},
   "source": [
    "## Exercise: The Factorial!\n",
    "\n",
    "In this challenge, you must implement the factorial() function. It takes an integer as a parameter and calculates its factorial. Python does have a built-in factorial function but you’ll be creating your own for practice.\n",
    "\n",
    "The factorial of a number, n, is its product with all the integers between 0 and n.\n",
    "\n",
    "Take some time to understand the logic behind this problem before moving to the implementation. Think about the different concepts we’ve learned so far and write an algorithm that handles all cases.\n",
    "\n",
    "The input will always be an integer, so you don’t need to worry about that. If the integer is negative, the function always returns -1."
   ]
  },
  {
   "cell_type": "code",
   "execution_count": 33,
   "metadata": {},
   "outputs": [
    {
     "name": "stdout",
     "output_type": "stream",
     "text": [
      "120\n"
     ]
    }
   ],
   "source": [
    "def factorial(n):\n",
    "    # Base case\n",
    "    if n == 0 or n == 1:\n",
    "        return 1\n",
    "\n",
    "    if n < 0:\n",
    "        return -1\n",
    "    # Recursive call\n",
    "    return n * factorial(n - 1)\n",
    "\n",
    "\n",
    "print(factorial(5))"
   ]
  }
 ],
 "metadata": {
  "kernelspec": {
   "display_name": "Python 3",
   "language": "python",
   "name": "python3"
  },
  "language_info": {
   "codemirror_mode": {
    "name": "ipython",
    "version": 3
   },
   "file_extension": ".py",
   "mimetype": "text/x-python",
   "name": "python",
   "nbconvert_exporter": "python",
   "pygments_lexer": "ipython3",
   "version": "3.8.6"
  },
  "toc": {
   "base_numbering": 1,
   "nav_menu": {},
   "number_sections": true,
   "sideBar": true,
   "skip_h1_title": false,
   "title_cell": "Table of Contents",
   "title_sidebar": "Contents",
   "toc_cell": false,
   "toc_position": {},
   "toc_section_display": true,
   "toc_window_display": false
  }
 },
 "nbformat": 4,
 "nbformat_minor": 4
}
